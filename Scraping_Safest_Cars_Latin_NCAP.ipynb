{
 "cells": [
  {
   "cell_type": "markdown",
   "id": "209f0334",
   "metadata": {},
   "source": [
    "# Scraping_Safest_Cars_Latin_NCAP"
   ]
  },
  {
   "cell_type": "code",
   "execution_count": 1,
   "id": "5f90bd70",
   "metadata": {},
   "outputs": [],
   "source": [
    "!pip install requests --upgrade --quiet\n"
   ]
  },
  {
   "cell_type": "code",
   "execution_count": 2,
   "id": "6dec21dc",
   "metadata": {},
   "outputs": [],
   "source": [
    "import requests"
   ]
  },
  {
   "cell_type": "code",
   "execution_count": 3,
   "id": "21257485",
   "metadata": {},
   "outputs": [],
   "source": [
    "Latin_NCAP_url = 'https://www.latinncap.com/en/results'"
   ]
  },
  {
   "cell_type": "code",
   "execution_count": 4,
   "id": "f702ee32",
   "metadata": {},
   "outputs": [],
   "source": [
    "response = requests.get(Latin_NCAP_url)"
   ]
  },
  {
   "cell_type": "code",
   "execution_count": 5,
   "id": "ace9c287",
   "metadata": {},
   "outputs": [
    {
     "data": {
      "text/plain": [
       "200"
      ]
     },
     "execution_count": 5,
     "metadata": {},
     "output_type": "execute_result"
    }
   ],
   "source": [
    "response.status_code"
   ]
  },
  {
   "cell_type": "code",
   "execution_count": 6,
   "id": "e1909df2",
   "metadata": {},
   "outputs": [
    {
     "data": {
      "text/plain": [
       "236875"
      ]
     },
     "execution_count": 6,
     "metadata": {},
     "output_type": "execute_result"
    }
   ],
   "source": [
    "len(response.text)"
   ]
  },
  {
   "cell_type": "code",
   "execution_count": 7,
   "id": "c2244236",
   "metadata": {},
   "outputs": [],
   "source": [
    "Webpage_contents = response.text"
   ]
  },
  {
   "cell_type": "code",
   "execution_count": 8,
   "id": "9038e01c",
   "metadata": {},
   "outputs": [
    {
     "data": {
      "text/plain": [
       "'\\r\\n<!DOCTYPE html PUBLIC \"-//W3C//DTD XHTML 1.0 Transitional//EN\" \"http://www.w3.org/TR/xhtml1/DTD/xhtml1-transitional.dtd\">\\r\\n<html xmlns=\"http://www.w3.org/1999/xhtml\">\\r\\n\\r\\n<head>\\r\\n    <meta http-equiv=\"Content-Type\" content=\"text/html; charset=utf-8\" />\\n<title>LATIN NCAP</title>\\n<base href=\"https://www.latinncap.com/\"/>\\n<link rel=\"shortcut icon\" href=\"favicon.png?1101\">\\n<link rel=\"apple-touch-icon\" href=\"apple-touch-icon-76x76.png?2581\" />\\n<link rel=\"apple-touch-icon\" href=\"apple-touch-icon-120x120.png?4543\" />\\n<link rel=\"apple-touch-icon\" href=\"apple-touch-icon-152x152.png?6276\" />\\n\\n<meta name=\"Description\" content=\"Latin NCAP is an independent assessment program for new vehicles in Latin America and the Caribbean\"> \\n<meta name=\"Keywords\" content=\"Latin NCAP, Latinncap, NCAP,New Car Assessment Programme for Latin America and the Caribbean, car safety ratings, car star rating, safety assessment for cars, crash test dummy,  crash test dummies, new car, new safe car, new vehicle, new safe vehicle, vehicle safety, ISOFIX, child safetyn\">\\n<meta name=\"viewport\" content=\"width=device-width, initial-scale=1\">\\n\\n\\n\\n<link href=\\'https://fonts.googleapis.com/css?family=Open+Sans:400,700,600,800\\' rel=\\'stylesheet\\' type=\\'text/css\\'>\\n\\n<link href=\"css/reset.css\" rel=\"stylesheet\" type=\"text/css\"/>\\n<link href=\"css/estilos.min.css?105854\" rel=\"stylesheet\" type=\"text/css\"/>\\n<link href=\"css/movil.min.css?26034\" rel=\"stylesheet\" type=\"text/css\"/>\\n<link href=\"js/owl-carousel/owl.carousel.min.css?2936\" rel=\"stylesheet\" type=\"text/css\"/>\\n<link href=\"js/owl-carousel/owl.theme.default.min.css?936\" rel=\"stylesheet\" type=\"text/css\"/>\\n<link href=\"js/owl-carousel/animate.min.css?55205\" rel=\"stylesheet\" type=\"text/css\"/>\\n\\n<link href=\"css/jquery.fancybox.css\" rel=\"stylesheet\" type=\"text/css\"/>\\n<link href=\"css/lightslider.css\" rel=\"stylesheet\" type=\"text/css\"/>\\n\\n\\n<script src=\"js/jquery-1.10.2.min.js\" type=\"text/javascript\"></script>\\n<script src=\"js/whatsapp-button.js\"></script>\\n<script src=\"js/owl-carousel/owl.carousel.min.js\" type=\"text/javascript\"></script>\\n<script src=\"js/jquery.fancybox.js\" type=\"text/javascript\"></script>\\n<script src=\"js/jquery.fancybox-media.js\" type=\"text/javascript\"></script>\\n<script src=\"js/lightslider.js\"></script>\\n\\n<link rel=\"stylesheet\" type=\"text/css\" href=\"js/transition.min.css\">\\n<script src=\"js/transition.min.js\"></script>\\n\\n<link rel=\"stylesheet\" type=\"text/css\" href=\"js/rating.min.css\">\\n<script src=\"js/rating.min.js\"></script>\\n\\n<link rel=\"stylesheet\" type=\"text/css\" href=\"js/dropdown.min.css\">\\n<script src=\"js/dropdown.min.js\"></script>\\n\\n<link rel=\"stylesheet\" type=\"text/css\" href=\"js/popup.min.css\">\\n<script src=\"js/popup.min.js\"></script>\\n\\n<script type=\"text/javascript\">\\n\\nfunction resolution(){\\n\\treturn $(window).width();\\n}\\n\\nfunction parseURL(url){\\n\\tvar a = $(\\'<a>\\', { href: url});\\n\\tvar sResult = a.prop(\\'search\\');\\n\\treturn sResult;\\n}\\n\\n\\n/* tabs */\\nfunction pestanas(){ \\n\\n\\tvar tab_id = $(this).attr(\\'data-pestana\\');\\n\\n\\t$(\\'.pestana-link\\').removeClass(\\'activo\\');\\n\\t$(\\'.pestana-content\\').removeClass(\\'activo\\');\\n\\n\\t$(this).addClass(\\'activo\\');\\n\\t$(\"#\"+tab_id).addClass(\\'activo\\');\\n}\\n\\n/* acordeon */\\nfunction acordeon(){\\n\\n\\tvar id = $(this).parent(\\'.acordeon\\').attr(\\'id\\');\\n\\n\\tif ($(this).hasClass(\\'activo\\')) {\\n\\t   $(this).removeClass(\\'activo\\');\\n\\t   $(this).next().slideUp();\\n\\t   $(this).next(\\'.content\\').removeClass(\\'activo\\');\\n\\t} else {\\n\\t\\t$(\\'.item-acordeon\\').removeClass(\\'activo\\');\\n\\t\\t$(\\'.content\\').removeClass(\\'activo\\').slideUp();\\n\\t\\t$(\\'#\\'+id + \\' .item-acordeon\\').removeClass(\\'activo\\');\\n\\t   \\t$(acor).addClass(\\'activo\\');\\n\\t   \\t$(\\'#\\'+id + \\' .content\\').slideUp();\\n\\t   \\t$(acor).next().slideDown();\\n\\t   \\t$(acor).next().addClass(\\'activo\\');  \\n\\t}\\n}\\n\\nfunction acordeon_movil(){\\n\\n\\tvar id = $(this).parent(\\'.pestana-content\\').attr(\\'id\\');\\n\\n\\tif ($(this).hasClass(\\'activo\\')) {\\n\\t   $(this).removeClass(\\'activo\\');\\n\\t   $(this).next().slideUp();\\n\\t   $(this).next(\\'.cont-aco-movil\\').removeClass(\\'activo\\');\\n\\t} else {\\n\\t   $(\\'#\\'+id + \\' .puntaje-aco\\').removeClass(\\'activo\\');\\n\\t   $(this).addClass(\\'activo\\');\\n\\t   $(\\'#\\'+id + \\' .cont-aco-movil\\').slideUp();\\n\\t   $(this).next().slideDown();\\n\\t   $(this).next().addClass(\\'activo\\');   \\n\\t}\\n}\\n\\t\\t\\t\\t\\t\\n$(document).ready(function() {\\n\\t\\n\\t// MEDIDAS DIVs\\t\\t\\n\\tvar ancho_caja = $(\\'.caja-ensayos\\').width();\\n\\t$(\\'.caja-ensayos\\').css(\\'height\\', ancho_caja * 0.48);\\n\\t\\n\\tvar h_video = $(\\'.videoWrapper\\').innerHeight();\\n\\t//console.log(h_video);\\n\\t$(\\'.cont-foto-video\\').css(\\'height\\', h_video + 80);\\n\\t$(\\'.btn-fv\\').css(\\'height\\', h_video + 80);\\n\\t$(\\'.caja-x\\').css(\\'height\\', h_video + 80);\\n\\t\\n\\t// MENÃ\\x9a\\n\\t $(\\'body\\').click(function(){\\n\\t\\tif (resolution() < 1120) {\\t\\n\\t\\t\\tif($(\\'.menu\\').css(\\'display\\')==\\'block\\'){\\n\\t\\t\\t\\t$(\\'.menu\\').toggle();\\n\\t\\t\\t}\\n\\t\\t}\\n\\t});\\n\\t\\t\\t\\n\\t$(\\'.btn-menu\\').click(function(e) {\\n\\t\\te.stopPropagation();\\n\\t\\tif (resolution() < 1120) {\\t\\n\\t\\t\\t$(this).next(\\'.menu\\').slideToggle(\\'slow\\');\\n\\t\\t\\t$(this).toggleClass(\\'open\\');\\n\\t\\t}\\n\\t});\\n\\t\\n\\t//$(\\'select#anos\\').parent(\\'.ui.dropdown.selection\\').css(\\'min-width\\',\\'75px\\');\\n\\n\\n\\n\\n\\t$(\\'.pestana-link\\').click(function(){\\n\\t\\t$(\\'.pestana-link\\').removeClass(\\'activo\\');\\n\\t\\t$(this).addClass(\\'activo\\');;\\n\\t});\\n\\n\\n\\n\\n\\n\\n\\t\\n\\t\\n\\t\\t\\t\\n\\t\\n\\t/* tabs */\\n\\t$(\\'.pestana-link\\').click(pestanas);\\n\\n\\n\\n\\t\\t\\n\\n\\n\\n\\t\\t\\n\\t\\t\\n\\t// HEADER\\n\\t$(window).scroll(function(){\\n\\t\\tif($(window).scrollTop()>20){\\n\\t\\t\\t$(\\'.header\\').css({\\'border-bottom\\':\\'1px solid #eee\\'});\\n\\t\\t\\t$(\\'#logo\\').css({\\'height\\':\\'47px\\',\\'width\\':\\'147px\\'});\\n\\t\\t\\t$(\\'.contenido\\').css({\\'margin-top\\': \\'88px\\'});\\n\\t\\t\\t$(\\'.menu li a\\').css({\\'padding\\': \\'20px 18px\\'});\\n\\t\\t}else{\\n\\t\\t\\t$(\\'.header\\').css({\\'border-bottom\\':\\'none\\'});\\n\\t\\t\\t$(\\'#logo\\').css({\\'height\\':\\'71px\\',\\'width\\':\\'235px\\'});\\n\\t\\t\\t$(\\'.contenido\\').css({\\'margin-top\\': \\'115px\\'});\\n\\t\\t\\t$(\\'.menu li a\\').css({\\'padding\\': \\'34px 18px\\'});\\n\\t\\t}\\n\\t});\\n\\t\\n\\t// FANCYBOX\\n\\t$(\\'.fancybox-media\\')\\n\\t.attr(\\'rel\\', \\'media-gallery\\')\\n\\t.fancybox({\\n\\t\\topenEffect : \\'none\\',\\n\\t\\tcloseEffect : \\'none\\',\\n\\t\\tprevEffect : \\'none\\',\\n\\t\\tnextEffect : \\'none\\',\\n\\n\\t\\tarrows : false,\\n\\t\\thelpers : {\\n\\t\\t\\tmedia : {},\\n\\t\\t\\tbuttons : {}\\n\\t\\t}\\n\\t});\\n\\t\\n\\t$(\\'.fbx\\').fancybox({\\n\\t\\tmaxWidth: \\'75%\\',\\n\\t\\tmaxHeight: \\'75%\\',\\n\\t\\topenEffect  : \\'none\\',\\n\\t\\tcloseEffect : \\'none\\',\\n\\t\\tprevEffect : \\'fade\\',\\n\\t\\tnextEffect : \\'fade\\',\\n\\t\\tcloseBtn  : true,\\n\\t\\ttype: \\'iframe\\'\\n\\t});\\n\\t\\n\\t$(\\'.fbx-vid\\').fancybox({\\n\\t\\twrapCSS: \\'video-iframe\\',\\n\\t\\ttype: \\'iframe\\'\\n\\t});\\n\\t\\n\\t$(\\'.fbx-gal\\').fancybox();\\n\\n\\n\\n\\n\\n\\n\\t/* POPUP APP */\\n\\t\\n\\t\\n\\n\\t\\n\\t\\n\\t\\n\\t\\n\\t\\t\\n\\t \\n\\t/* acordeones */\\n\\t$(\\'.item-acordeon\\').click(acordeon);\\n\\t$(\\'.puntaje-tit\\').click(acordeon_movil);\\n\\n\\t// ACORDION\\n\\t$(\\'.acordion .titulo\\').click(function(){\\n\\t\\t  if ($(this).hasClass(\\'activo\\')) {\\n\\t\\t\\t   $(this).removeClass(\\'activo\\');\\n\\t\\t\\t   $(this).next().slideUp();\\n\\t\\t  } else {\\n\\t\\t\\t   $(\\'.acordion .titulo\\').removeClass(\\'activo\\');\\n\\t\\t\\t   $(this).addClass(\\'activo\\');\\n\\t\\t\\t   $(\\'.acordion .info\\').slideUp();\\n\\t\\t\\t   $(this).next().slideDown();\\n\\t\\t  }\\n\\t});\\n\\t\\n\\t\\n\\t // SOLAPAS\\n\\t $(\"ul.tabs li\").click(function(){\\n\\t\\t$(\"ul.tabs li\").removeClass(\"select\"); \\n\\t\\t$(this).addClass(\"select\");\\n\\t\\t$(\".caja-tab\").hide(); \\n \\n\\t\\tvar content = $(this).find(\"a\").attr(\"href\"); \\n\\t\\t$(content).fadeIn(); \\n\\t\\treturn false;\\n\\t});\\n\\t  \\n\\t  var contar = $(\".solapa\").length;\\n\\t  //console.log(contar);\\n\\t  if (contar == 2){\\n\\t\\t  $(\\'.solapa\\').css({\\'width\\':\\'49.5%\\',\\'margin-right\\':\\'0.5%\\'});\\n\\t\\t  $(\\'.solapa:nth-of-type(2)\\').css(\\'margin-right\\',\\'0\\');\\n\\t\\t  if (resolution() < 490) {\\t\\n\\t\\t\\t  $(\\'.solapa\\').css({\\'width\\':\\'100%\\',\\'margin-right\\':\\'0\\'});\\n\\t\\t\\t  $(\\'.solapa:nth-of-type(2)\\').css(\\'margin-right\\',\\'0\\');\\n\\t\\t\\t  $(\\'.texto\\').css({\\'margin-top\\':\\'200px\\'});\\n\\t\\t  }\\n\\t  }\\n\\t  \\n\\t  if (contar == 3){\\n\\t\\t  $(\\'.solapa\\').css({\\'width\\':\\'33%\\',\\'margin-right\\':\\'0.5%\\'});\\n\\t\\t  $(\\'.solapa:nth-of-type(3)\\').css(\\'margin-right\\',\\'0\\');\\n\\t\\t  if (resolution() < 490) {\\t\\n\\t\\t\\t  $(\\'.solapa\\').css({\\'width\\':\\'100%\\',\\'margin-right\\':\\'0\\'});\\n\\t\\t\\t  $(\\'.solapa:nth-of-type(2)\\').css(\\'margin-right\\',\\'0\\');\\n\\t\\t\\t  $(\\'.solapa:nth-of-type(3)\\').css(\\'margin-right\\',\\'0\\');\\n\\t\\t\\t  $(\\'.solapa:nth-of-type(4)\\').css(\\'margin-right\\',\\'0\\');\\n\\t\\t\\t  $(\\'.texto\\').css({\\'margin-top\\':\\'200px\\'});\\n\\t\\t  }\\n\\t  }\\n\\n\\t  if (contar == 4){\\n\\t\\t  $(\\'.solapa\\').css({\\'width\\':\\'24.45%\\',\\'margin-right\\':\\'0.7%\\'});\\n\\t      $(\\'.solapa:nth-of-type(3)\\').css(\\'margin-right\\',\\'0.7%\\');\\n\\t      $(\\'.solapa:nth-of-type(4)\\').css(\\'margin-right\\',\\'0\\');\\n\\t\\t  if (resolution() < 960) {\\t\\n\\t\\t\\t  $(\\'.solapa\\').css({\\'width\\':\\'49.5%\\',\\'margin-right\\':\\'0.7%\\'});\\n\\t\\t\\t  $(\\'.solapa:nth-of-type(2)\\').css(\\'margin-right\\',\\'0\\');\\n\\t\\t\\t  $(\\'.solapa:nth-of-type(3)\\').css(\\'margin-right\\',\\'0.7%\\');\\n\\t\\t\\t  $(\\'.solapa:nth-of-type(4)\\').css(\\'margin-right\\',\\'0\\');\\n\\t\\t  }\\n\\t\\t  if (resolution() < 490) {\\t\\n\\t\\t\\t  $(\\'.solapa\\').css({\\'width\\':\\'100%\\',\\'margin-right\\':\\'0\\'});\\n\\t\\t\\t  $(\\'.solapa:nth-of-type(2)\\').css(\\'margin-right\\',\\'0\\');\\n\\t\\t\\t  $(\\'.solapa:nth-of-type(3)\\').css(\\'margin-right\\',\\'0\\');\\n\\t\\t\\t  $(\\'.solapa:nth-of-type(4)\\').css(\\'margin-right\\',\\'0\\');\\n\\t\\t  }\\n\\t  }\\n\\t  \\n\\t \\n\\t\\n\\t$(\\'#anos\\').dropdown({placeholder:false});\\n\\t\\n\\t\\n\\t\\n\\t// VIDEOS\\n\\tvar $allVideos = $(\"iframe[src^=\\'//player.vimeo.com\\'], iframe[src^=\\'//www.youtube.com\\']\"),\\n\\t\\n\\t\\t// The element that is fluid width\\n\\t\\t$fluidEl = $(\"body\");\\n\\t\\n\\t// Figure out and save aspect ratio for each video\\n\\t$allVideos.each(function() {\\n\\t\\n\\t  $(this)\\n\\t\\t.data(\\'aspectRatio\\', this.height / this.width)\\n\\t\\n\\t\\t// and remove the hard coded width/height\\n\\t\\t.removeAttr(\\'height\\')\\n\\t\\t.removeAttr(\\'width\\');\\n\\t\\n\\t});\\n\\t\\n\\t// When the window is resized\\n\\t$(window).resize(function() {\\n\\t\\n\\t  var newWidth = $fluidEl.width();\\n\\t\\n\\t  // Resize all videos according to their own aspect ratio\\n\\t  $allVideos.each(function() { \\n\\t\\n\\t\\tvar $el = $(this);\\n\\t\\t$el\\n\\t\\t  .width(newWidth)\\n\\t\\t  .height(newWidth * $el.data(\\'aspectRatio\\'));\\n\\t\\n\\t  });\\n\\t\\n\\t// Kick off one resize to fix all videos on page load\\n\\t}).resize();\\t\\n\\n\\n\\n\\n\\t/* resultados ordenar */\\n\\t$(\\'.ul-filtro li\\').click(function(){\\n\\t\\t$(this).children(\\'ul\\').slideToggle();\\n\\t\\t\\n\\t});\\n\\n\\n\\n\\n\\n\\n\\n\\n\\t\\n\\n\\t\\n\\t\\n\\n});\\n\\n</script>\\n\\n\\n\\n<!--[if lt IE 9]>\\n<script src=\"http://html5shim.googlecode.com/svn/trunk/html5.js\"></script>\\n<![endif]-->\\n\\n\\n\\n\\n<!-- Global site tag (gtag.js) - Google Ads: 710815265 -->\\n<script async src=\"https://www.googletagmanager.com/gtag/js?id=AW-710815265\"></script>\\n<script> window.dataLayer = window.dataLayer || []; function gtag(){dataLayer.push(arguments);} gtag(\\'js\\', new Date()); gtag(\\'config\\', \\'AW-710815265\\'); </script> \\n\\r\\n</head>\\r\\n\\r\\n<body class=\"resultados lg-en\">\\r\\n\\r\\n          \\n\\r\\n\\r\\n    <div id=\"fb-root\"></div>\\r\\n    <script>(function(d, s, id) {\\n  var js, fjs = d.getElementsByTagName(s)[0];\\n  if (d.getElementById(id)) return;\\n  js = d.createElement(s); js.id = id;\\n  js.src = \"//connect.facebook.net/es_ES/sdk.js#xfbml=1&version=v2.6\";\\n  fjs.parentNode.insertBefore(js, fjs);\\n}(document, \\'script\\', \\'facebook-jssdk\\'));</script>\\n\\n\\n<!-- Google Tag Manager -->\\n\\n<noscript><iframe src=\"//www.googletagmanager.com/ns.html?id=GTM-WPVKX2\"\\n\\nheight=\"0\" width=\"0\" style=\"display:none;visibility:hidden\"></iframe></noscript>\\n\\n<script>(function(w,d,s,l,i){w[l]=w[l]||[];w[l].push({\\'gtm.start\\':\\n\\nnew Date().getTime(),event:\\'gtm.js\\'});var f=d.getElementsByTagName(s)[0],\\n\\nj=d.createElement(s),dl=l!=\\'dataLayer\\'?\\'&l=\\'+l:\\'\\';j.async=true;j.src=\\n\\n\\'//www.googletagmanager.com/gtm.js?id=\\'+i+dl;f.parentNode.insertBefore(j,f);\\n\\n})(window,document,\\'script\\',\\'dataLayer\\',\\'GTM-WPVKX2\\');</script>\\n\\n<!-- End Google Tag Manager -->\\n\\n<script type=\"text/javascript\">\\n\\n  var _gaq = _gaq || [];\\n  _gaq.push([\\'_setAccount\\', \\'UA-7227967-44\\']);\\n  _gaq.push([\\'_trackPageview\\']);\\n\\n  (function() {\\n    var ga = document.createElement(\\'script\\'); ga.type = \\'text/javascript\\'; ga.async = true;\\n    ga.src = (\\'https:\\' == document.location.protocol ? \\'https://ssl\\' : \\'http://www\\') + \\'.google-analytics.com/ga.js\\';\\n    var s = document.getElementsByTagName(\\'script\\')[0]; s.parentNode.insertBefore(ga, s);\\n  })();\\n\\n</script>\\n\\n\\r\\n    <!-- popup app -->\\r\\n    <a id=\"btn-popup-app\" href=\"#popup-app\" class=\"fbx-popup-app\" style=\"display: none\"></a>\\r\\n    <div id=\"popup-app\">\\r\\n        <div class=\"botones\">\\r\\n            <a href=\"https://play.google.com/store/apps/details?id=com.solcre.latinncap\" target=\"_blank\"><img src=\"img/btn-play.png\" alt=\"\" /></a>\\r\\n            <a href=\"https://itunes.apple.com/uy/app/latin-ncap/id1334842397?l=es&mt=8\" target=\"_blank\"><img src=\"img/btn-app.png\" alt=\"\" /></a>\\r\\n        </div>\\r\\n        <img src=\"img/popup-app-en.jpg\" alt=\"Imagen App\" />\\r\\n    </div>\\r\\n\\r\\n\\r\\n\\r\\n\\r\\n\\r\\n\\r\\n\\r\\n\\r\\n\\r\\n\\r\\n\\r\\n\\r\\n\\r\\n\\r\\n\\r\\n    <!--www.latinncap.com/en/results -->\\r\\n    <!-- HEADER -->\\r\\n    <header class=\"header\">\\r\\n        \\r\\n        <div class=\"caja-redes\">\\r\\n            <div class=\"center\">\\r\\n\\r\\n                <div class=\"redes\">\\r\\n                    <a class=\"fb\" href=\"https://www.facebook.com/vehiculosmasseguros\" target=\"_blank\"></a>\\r\\n                    <a class=\"tw\" href=\"https://twitter.com/@LatinNCAP\" target=\"_blank\"></a>\\r\\n                    <a class=\"yt\" href=\"https://www.youtube.com/user/latinncap\" target=\"_blank\"></a>\\r\\n                    <a class=\"fl\" href=\"https://www.flickr.com/photos/latinncap\" target=\"_blank\"></a>\\r\\n                    <a class=\"ins\" href=\"https://www.instagram.com/latinncap/\" target=\"_blank\"></a>\\r\\n                </div>\\r\\n\\r\\n                <div class=\"idioma idioma-pc\">\\r\\n                    <a href=\"en/\" class=\"lg-act\">english</a>\\r\\n                    <a href=\"es/\" >espaÃ±ol</a>\\r\\n                    <a style=\"margin-right:0;\" href=\"po/\" >portuguÃªs</a>\\r\\n                </div>\\r\\n\\r\\n                <div class=\"idioma idioma-movil\">\\r\\n                    <a href=\"en/\" class=\"lg-act\">EN</a>\\r\\n                    <a href=\"es/\" >ES</a>\\r\\n                    <a style=\"margin-right:0;\" href=\"po/\" >PO</a>\\r\\n                </div>\\r\\n\\r\\n            </div>\\r\\n        </div>\\r\\n\\r\\n        <div class=\"caja-menu\">\\r\\n            <div class=\"center\">\\r\\n                <a id=\"logo\" href=\"en/\" title=\"LATIN NCAP\" class=\"en\"></a>\\r\\n\\r\\n                <!-- MENÃ\\x9a -->\\r\\n                <div class=\"btn-menu\"></div>\\r\\n                <ul class=\"menu\">\\n\\t<li><a class=\"\" href=\"en/home\">Home</a></li>\\n    <li><a class=\"activo \" href=\"en/results\">Results</a></li>\\n    <li><a class=\"\" href=\"en/about-us\">About us</a></li>\\n    <li><a class=\"\" href=\"en/our-tests\">Our tests</a></li>\\n    <li><a class=\"\" href=\"en/media-area\">Media area</a></li>\\n    <li><a class=\"\" href=\"en/faq\">FAQ</a></li>\\n    <li><a class=\"\" href=\"en/contact-us\">Contact Us</a></li>\\n</ul>            </div>\\r\\n        </div>\\r\\n\\r\\n\\r\\n    </header>\\r\\n\\r\\n\\r\\n\\r\\n\\r\\n\\r\\n\\r\\n\\r\\n\\r\\n    <!-- CONTENIDO -->\\r\\n    <main id=\"resultados\" class=\"contenido\">\\r\\n        <div class=\"caja-slider\">\\n\\t<div class=\"img-cabezal\" style=\"background-image:url(img/img-cabezal-1.jpg);\"></div>\\n</div>\\n\\n\\n<div class=\"center\">\\n\\t\\n    <div class=\"col-20 buscador-av\">\\n    \\t<div class=\"col-100\">\\n\\t<div class=\"tit-busc\">\\n        <h5 class=\"ico-lupa\">Advanced search</h5>\\n    </div>\\n    \\n\\t<form id=\"buscador-avanzado\" class=\"buscador-avanzado\" action=\"\" method=\"post\">\\n\\n    <!--<div class=\"select\">-->\\n    <select name=\"marca\" id=\"marca\" class=\"ui dropdown\">\\n        <option value=\"\">Make</option>\\n        <option  value=\"21\" >BYD</option><option  value=\"17\" >Chery</option><option  value=\"2\" >Chevrolet</option><option  value=\"16\" >Citroen</option><option  value=\"3\" >Fiat</option><option  value=\"7\" >Ford</option><option  value=\"6\" >Geely</option><option  value=\"24\" >Great Wall Motors</option><option  value=\"11\" >Honda</option><option  value=\"12\" >Hyundai</option><option  value=\"10\" >JAC</option><option  value=\"18\" >Jeep</option><option  value=\"20\" >Kia</option><option  value=\"15\" >Lifan</option><option  value=\"23\" >Mazda</option><option  value=\"19\" >Mitsubishi</option><option  value=\"8\" >Nissan</option><option  value=\"5\" >Peugeot</option><option  value=\"9\" >Renault</option><option  value=\"14\" >Seat</option><option  value=\"13\" >Suzuki</option><option  value=\"1\" >Toyota</option><option  value=\"4\" >Volkswagen</option>    </select>\\n    <!--</div>-->\\n    \\n    <div class=\"ui selection dropdown\" id=\"modelo\">\\n      <input type=\"hidden\" name=\"modelo\">\\n      <i class=\"dropdown icon\"></i>\\n      <div class=\"default text\">Model</div>\\n      <div class=\"menu\" tabindex=\"-1\">\\n        <div class=\"item default\" data-value=\"\" data-text=\"Model\">Model</div>\\n                    <div class=\"item car_brand_23\" data-value=\"2\" data-text=\"2\">2</div>\\n                    <div class=\"item car_brand_5\" data-value=\"207 Compact\" data-text=\"207 Compact\">207 Compact</div>\\n                    <div class=\"item car_brand_5\" data-value=\"208\" data-text=\"208\">208</div>\\n                    <div class=\"item car_brand_5\" data-value=\"301\" data-text=\"301\">301</div>\\n                    <div class=\"item car_brand_15\" data-value=\"320\" data-text=\"320\">320</div>\\n                    <div class=\"item car_brand_3\" data-value=\"500X\" data-text=\"500X\">500X</div>\\n                    <div class=\"item car_brand_12\" data-value=\"Accent\" data-text=\"Accent\">Accent</div>\\n                    <div class=\"item car_brand_2\" data-value=\"Agile\" data-text=\"Agile\">Agile</div>\\n                    <div class=\"item car_brand_13\" data-value=\"Alto K10\" data-text=\"Alto K10\">Alto K10</div>\\n                    <div class=\"item car_brand_3\" data-value=\"Argo / Cronos\" data-text=\"Argo / Cronos\">Argo / Cronos</div>\\n                    <div class=\"item car_brand_14\" data-value=\"Arona\" data-text=\"Arona\">Arona</div>\\n                    <div class=\"item car_brand_14\" data-value=\"Ateca\" data-text=\"Ateca\">Ateca</div>\\n                    <div class=\"item car_brand_2\" data-value=\"Aveo\" data-text=\"Aveo\">Aveo</div>\\n                    <div class=\"item car_brand_13\" data-value=\"Baleno \" data-text=\"Baleno \">Baleno </div>\\n                    <div class=\"item car_brand_16\" data-value=\"C3\" data-text=\"C3\">C3</div>\\n                    <div class=\"item car_brand_9\" data-value=\"Captur\" data-text=\"Captur\">Captur</div>\\n                    <div class=\"item car_brand_13\" data-value=\"Celerio\" data-text=\"Celerio\">Celerio</div>\\n                    <div class=\"item car_brand_2\" data-value=\"Celta\" data-text=\"Celta\">Celta</div>\\n                    <div class=\"item car_brand_11\" data-value=\"City\" data-text=\"City\">City</div>\\n                    <div class=\"item car_brand_6\" data-value=\"CK 1 \" data-text=\"CK 1 \">CK 1 </div>\\n                    <div class=\"item car_brand_4\" data-value=\"ClÃ¡sico (Bora)\" data-text=\"ClÃ¡sico (Bora)\">ClÃ¡sico (Bora)</div>\\n                    <div class=\"item car_brand_9\" data-value=\"Clio Mio \" data-text=\"Clio Mio \">Clio Mio </div>\\n                    <div class=\"item car_brand_1\" data-value=\"Corolla\" data-text=\"Corolla\">Corolla</div>\\n                    <div class=\"item car_brand_1\" data-value=\"Corolla XEI\" data-text=\"Corolla XEI\">Corolla XEI</div>\\n                    <div class=\"item car_brand_2\" data-value=\"Corsa Classic\" data-text=\"Corsa Classic\">Corsa Classic</div>\\n                    <div class=\"item car_brand_12\" data-value=\"Creta\" data-text=\"Creta\">Creta</div>\\n                    <div class=\"item car_brand_2\" data-value=\"Cruze\" data-text=\"Cruze\">Cruze</div>\\n                    <div class=\"item car_brand_2\" data-value=\"Cruze LT\" data-text=\"Cruze LT\">Cruze LT</div>\\n                    <div class=\"item car_brand_9\" data-value=\"Duster\" data-text=\"Duster\">Duster</div>\\n                    <div class=\"item car_brand_9\" data-value=\"Duster \" data-text=\"Duster \">Duster </div>\\n                    <div class=\"item car_brand_19\" data-value=\"Eclipse Cross\" data-text=\"Eclipse Cross\">Eclipse Cross</div>\\n                    <div class=\"item car_brand_7\" data-value=\"Ecosport\" data-text=\"Ecosport\">Ecosport</div>\\n                    <div class=\"item car_brand_1\" data-value=\"Etios\" data-text=\"Etios\">Etios</div>\\n                    <div class=\"item car_brand_21\" data-value=\"F0 \" data-text=\"F0 \">F0 </div>\\n                    <div class=\"item car_brand_7\" data-value=\"Fiesta\" data-text=\"Fiesta\">Fiesta</div>\\n                    <div class=\"item car_brand_7\" data-value=\"Figo\" data-text=\"Figo\">Figo</div>\\n                    <div class=\"item car_brand_11\" data-value=\"Fit\" data-text=\"Fit\">Fit</div>\\n                    <div class=\"item car_brand_9\" data-value=\"Fluence\" data-text=\"Fluence\">Fluence</div>\\n                    <div class=\"item car_brand_7\" data-value=\"Focus\" data-text=\"Focus\">Focus</div>\\n                    <div class=\"item car_brand_7\" data-value=\"Focus III\" data-text=\"Focus III\">Focus III</div>\\n                    <div class=\"item car_brand_4\" data-value=\"Fox\" data-text=\"Fox\">Fox</div>\\n                    <div class=\"item car_brand_8\" data-value=\"Frontier / NP300 Navara\" data-text=\"Frontier / NP300 Navara\">Frontier / NP300 Navara</div>\\n                    <div class=\"item car_brand_4\" data-value=\"Gol Trend \" data-text=\"Gol Trend \">Gol Trend </div>\\n                    <div class=\"item car_brand_4\" data-value=\"Gol Trend\" data-text=\"Gol Trend\">Gol Trend</div>\\n                    <div class=\"item car_brand_4\" data-value=\"Golf\" data-text=\"Golf\">Golf</div>\\n                    <div class=\"item car_brand_4\" data-value=\"Golf VII\" data-text=\"Golf VII\">Golf VII</div>\\n                    <div class=\"item car_brand_12\" data-value=\"Grand i10\" data-text=\"Grand i10\">Grand i10</div>\\n                    <div class=\"item car_brand_12\" data-value=\"HB20\" data-text=\"HB20\">HB20</div>\\n                    <div class=\"item car_brand_12\" data-value=\"HB20 Hatchback\" data-text=\"HB20 Hatchback\">HB20 Hatchback</div>\\n                    <div class=\"item car_brand_1\" data-value=\"Hilux / SW4 / Fortuner\" data-text=\"Hilux / SW4 / Fortuner\">Hilux / SW4 / Fortuner</div>\\n                    <div class=\"item car_brand_1\" data-value=\"Hilux Double Cab / SW4\" data-text=\"Hilux Double Cab / SW4\">Hilux Double Cab / SW4</div>\\n                    <div class=\"item car_brand_11\" data-value=\"HR-V\" data-text=\"HR-V\">HR-V</div>\\n                    <div class=\"item car_brand_14\" data-value=\"Ibiza\" data-text=\"Ibiza\">Ibiza</div>\\n                    <div class=\"item car_brand_17\" data-value=\"iQ\" data-text=\"iQ\">iQ</div>\\n                    <div class=\"item car_brand_10\" data-value=\"J3\" data-text=\"J3\">J3</div>\\n                    <div class=\"item car_brand_4\" data-value=\"Jetta / Vento\" data-text=\"Jetta / Vento\">Jetta / Vento</div>\\n                    <div class=\"item car_brand_4\" data-value=\"Jetta / Vento* \" data-text=\"Jetta / Vento* \">Jetta / Vento* </div>\\n                    <div class=\"item car_brand_7\" data-value=\"Ka\" data-text=\"Ka\">Ka</div>\\n                    <div class=\"item car_brand_7\" data-value=\"Ka / Figo\" data-text=\"Ka / Figo\">Ka / Figo</div>\\n                    <div class=\"item car_brand_7\" data-value=\"KA Fly Viral \" data-text=\"KA Fly Viral \">KA Fly Viral </div>\\n                    <div class=\"item car_brand_9\" data-value=\"Kangoo\" data-text=\"Kangoo\">Kangoo</div>\\n                    <div class=\"item car_brand_8\" data-value=\"Kicks\" data-text=\"Kicks\">Kicks</div>\\n                    <div class=\"item car_brand_9\" data-value=\"Kwid\" data-text=\"Kwid\">Kwid</div>\\n                    <div class=\"item car_brand_19\" data-value=\"L200\" data-text=\"L200\">L200</div>\\n                    <div class=\"item car_brand_14\" data-value=\"Leon\" data-text=\"Leon\">Leon</div>\\n                    <div class=\"item car_brand_14\" data-value=\"Leon ST\" data-text=\"Leon ST\">Leon ST</div>\\n                    <div class=\"item car_brand_2\" data-value=\"Malibu\" data-text=\"Malibu\">Malibu</div>\\n                    <div class=\"item car_brand_8\" data-value=\"March\" data-text=\"March\">March</div>\\n                    <div class=\"item car_brand_2\" data-value=\"Meriva GL Plus \" data-text=\"Meriva GL Plus \">Meriva GL Plus </div>\\n                    <div class=\"item car_brand_3\" data-value=\"Mobi\" data-text=\"Mobi\">Mobi</div>\\n                    <div class=\"item car_brand_19\" data-value=\"Montero Sport\" data-text=\"Montero Sport\">Montero Sport</div>\\n                    <div class=\"item car_brand_8\" data-value=\"Murano\" data-text=\"Murano\">Murano</div>\\n                    <div class=\"item car_brand_2\" data-value=\"N300\" data-text=\"N300\">N300</div>\\n                    <div class=\"item car_brand_2\" data-value=\"New Aveo\" data-text=\"New Aveo\">New Aveo</div>\\n                    <div class=\"item car_brand_1\" data-value=\"New Corolla\" data-text=\"New Corolla\">New Corolla</div>\\n                    <div class=\"item car_brand_9\" data-value=\"New Duster\" data-text=\"New Duster\">New Duster</div>\\n                    <div class=\"item car_brand_2\" data-value=\"New Onix Hatchback\" data-text=\"New Onix Hatchback\">New Onix Hatchback</div>\\n                    <div class=\"item car_brand_2\" data-value=\"New Onix Plus\" data-text=\"New Onix Plus\">New Onix Plus</div>\\n                    <div class=\"item car_brand_3\" data-value=\"New Palio\" data-text=\"New Palio\">New Palio</div>\\n                    <div class=\"item car_brand_20\" data-value=\"New Rio Sedan\" data-text=\"New Rio Sedan\">New Rio Sedan</div>\\n                    <div class=\"item car_brand_3\" data-value=\"Novo Uno Evo \" data-text=\"Novo Uno Evo \">Novo Uno Evo </div>\\n                    <div class=\"item car_brand_2\" data-value=\"Onix\" data-text=\"Onix\">Onix</div>\\n                    <div class=\"item car_brand_2\" data-value=\"Onix/Prisma\" data-text=\"Onix/Prisma\">Onix/Prisma</div>\\n                    <div class=\"item car_brand_3\" data-value=\"Palio ELX\" data-text=\"Palio ELX\">Palio ELX</div>\\n                    <div class=\"item car_brand_20\" data-value=\"Picanto / Morning\" data-text=\"Picanto / Morning\">Picanto / Morning</div>\\n                    <div class=\"item car_brand_4\" data-value=\"Polo \" data-text=\"Polo \">Polo </div>\\n                    <div class=\"item car_brand_7\" data-value=\"Ranger\" data-text=\"Ranger\">Ranger</div>\\n                    <div class=\"item car_brand_1\" data-value=\"Rav 4\" data-text=\"Rav 4\">Rav 4</div>\\n                    <div class=\"item car_brand_1\" data-value=\"RAV 4\" data-text=\"RAV 4\">RAV 4</div>\\n                    <div class=\"item car_brand_18\" data-value=\"Renegade\" data-text=\"Renegade\">Renegade</div>\\n                    <div class=\"item car_brand_20\" data-value=\"Rio Sedan\" data-text=\"Rio Sedan\">Rio Sedan</div>\\n                    <div class=\"item car_brand_2\" data-value=\"Sail\" data-text=\"Sail\">Sail</div>\\n                    <div class=\"item car_brand_9\" data-value=\"Sandero\" data-text=\"Sandero\">Sandero</div>\\n                    <div class=\"item car_brand_9\" data-value=\"Sandero / Logan\" data-text=\"Sandero / Logan\">Sandero / Logan</div>\\n                    <div class=\"item car_brand_9\" data-value=\"Sandero / Logan / Stepway\" data-text=\"Sandero / Logan / Stepway\">Sandero / Logan / Stepway</div>\\n                    <div class=\"item car_brand_2\" data-value=\"Spark\" data-text=\"Spark\">Spark</div>\\n                    <div class=\"item car_brand_2\" data-value=\"Spark GT \" data-text=\"Spark GT \">Spark GT </div>\\n                    <div class=\"item car_brand_20\" data-value=\"Sportage\" data-text=\"Sportage\">Sportage</div>\\n                    <div class=\"item car_brand_4\" data-value=\"Suran/Fox \" data-text=\"Suran/Fox \">Suran/Fox </div>\\n                    <div class=\"item car_brand_13\" data-value=\"Swift\" data-text=\"Swift\">Swift</div>\\n                    <div class=\"item car_brand_4\" data-value=\"T-cross\" data-text=\"T-cross\">T-cross</div>\\n                    <div class=\"item car_brand_4\" data-value=\"Taos\" data-text=\"Taos\">Taos</div>\\n                    <div class=\"item car_brand_14\" data-value=\"Tarraco\" data-text=\"Tarraco\">Tarraco</div>\\n                    <div class=\"item car_brand_17\" data-value=\"Tiggo 3\" data-text=\"Tiggo 3\">Tiggo 3</div>\\n                    <div class=\"item car_brand_4\" data-value=\"Tiguan\" data-text=\"Tiguan\">Tiguan</div>\\n                    <div class=\"item car_brand_8\" data-value=\"Tiida\" data-text=\"Tiida\">Tiida</div>\\n                    <div class=\"item car_brand_3\" data-value=\"Toro\" data-text=\"Toro\">Toro</div>\\n                    <div class=\"item car_brand_8\" data-value=\"Tsuru (Sentra B13)\" data-text=\"Tsuru (Sentra B13)\">Tsuru (Sentra B13)</div>\\n                    <div class=\"item car_brand_12\" data-value=\"Tucson\" data-text=\"Tucson\">Tucson</div>\\n                    <div class=\"item car_brand_4\" data-value=\"up!\" data-text=\"up!\">up!</div>\\n                    <div class=\"item car_brand_4\" data-value=\"Vento\" data-text=\"Vento\">Vento</div>\\n                    <div class=\"item car_brand_8\" data-value=\"Versa\" data-text=\"Versa\">Versa</div>\\n                    <div class=\"item car_brand_4\" data-value=\"Virtus\" data-text=\"Virtus\">Virtus</div>\\n                    <div class=\"item car_brand_24\" data-value=\"Wingle 5\" data-text=\"Wingle 5\">Wingle 5</div>\\n                    <div class=\"item car_brand_1\" data-value=\"Yaris\" data-text=\"Yaris\">Yaris</div>\\n              </div>\\n    </div> \\n\\n    <input type=\"text\" id=\"buscador_txt\" name=\"buscador_txt\" style=\"min-width: 180px !important;margin-bottom: 10px;\" value=\"\">\\n    \\n    <h5>By validation year</h5>\\n    <div class=\"cont-chk\">\\n\\t    <input id=\"2021\" type=\"checkbox\" name=\"ano[]\" value=\"2021\" class=\"ano\" checked=\"checked\"/>\\n    <label for=\"2021\"><span class=\"chk\">2021</span></label>        \\n        <input id=\"2020\" type=\"checkbox\" name=\"ano[]\" value=\"2020\" class=\"ano\" checked=\"checked\"/>\\n    <label for=\"2020\"><span class=\"chk\">2020</span></label>        \\n        <input id=\"2019\" type=\"checkbox\" name=\"ano[]\" value=\"2019\" class=\"ano\" checked=\"checked\"/>\\n    <label for=\"2019\"><span class=\"chk\">2019</span></label>        \\n        <input id=\"2018\" type=\"checkbox\" name=\"ano[]\" value=\"2018\" class=\"ano\" checked=\"checked\"/>\\n    <label for=\"2018\"><span class=\"chk\">2018</span></label>        \\n        <input id=\"2017\" type=\"checkbox\" name=\"ano[]\" value=\"2017\" class=\"ano\" checked=\"checked\"/>\\n    <label for=\"2017\"><span class=\"chk\">2017</span></label>        \\n        <input id=\"2016\" type=\"checkbox\" name=\"ano[]\" value=\"2016\" class=\"ano\" checked=\"checked\"/>\\n    <label for=\"2016\"><span class=\"chk\">2016</span></label>        \\n        <input id=\"2015\" type=\"checkbox\" name=\"ano[]\" value=\"2015\" class=\"ano\" checked=\"checked\"/>\\n    <label for=\"2015\"><span class=\"chk\">2015</span></label>        \\n        <input id=\"2014\" type=\"checkbox\" name=\"ano[]\" value=\"2014\" class=\"ano\" checked=\"checked\"/>\\n    <label for=\"2014\"><span class=\"chk\">2014</span></label>        \\n        <input id=\"2013\" type=\"checkbox\" name=\"ano[]\" value=\"2013\" class=\"ano\" checked=\"checked\"/>\\n    <label for=\"2013\"><span class=\"chk\">2013</span></label>        \\n        <input id=\"2012\" type=\"checkbox\" name=\"ano[]\" value=\"2012\" class=\"ano\" checked=\"checked\"/>\\n    <label for=\"2012\"><span class=\"chk\">2012</span></label>        \\n        <input id=\"2011\" type=\"checkbox\" name=\"ano[]\" value=\"2011\" class=\"ano\" checked=\"checked\"/>\\n    <label for=\"2011\"><span class=\"chk\">2011</span></label>        \\n        <input id=\"2010\" type=\"checkbox\" name=\"ano[]\" value=\"2010\" class=\"ano\" checked=\"checked\"/>\\n    <label for=\"2010\"><span class=\"chk\">2010</span></label>        \\n           \\n\\n    \\n    <input id=\"todos\" type=\"checkbox\" name=\"todos\" value=\"todos\" checked=\"checked\"/>\\n    <label for=\"todos\"><span class=\"chk\">All</span></label>\\n    </div>\\n    \\n    <div class=\"filtro-estrellas\">\\n        <h5>By amount of stars</h5>\\n        \\n        <div class=\"cont-chk-estrella\">\\n            <input id=\"act\" type=\"checkbox\" class=\"activador est\" name=\"act\" value=\"1\"/>\\n            <label for=\"act\">\\n                <div class=\"ico-check-star off\"></div>\\n                <div class=\"ui popup\" data-variation=\"very wide tiny\">Click to enable filtering by stars</div>\\n            </label>\\n            <div id=\"est\" class=\"ui massive rating\"></div>\\n        </div>\\n    </div>\\n\\t\\n\\t\\n   </form>\\n</div>\\n    </div>\\n    <!--FIN COL-25 -->\\n    \\n    <div class=\"col-75\">\\n    \\t<div class=\"tit tit-negro\"><h3 class=\"ico-resultados\">Results</h3></div> \\n                <p>\\n        Latin NCAP performs crash tests to provide consumers with accurate information on the safety performance of their cars.\\n\\n</p>\\n        <p>\\n       The results with two-colour stars correspond to the assessment protocols used between 2010 and 2015. \\n\\n</p>\\n\\n        <p>\\n       In 2016 the assessment protocols expanded and became more demanding. These upgrade of the testing protocols include the unification of the colours of the stars used (yellow) to clearly identify the vehicles tested under the new protocol.\\n\\n</p>\\n        <p>From 2020 the protocol was modified again by a more demanding one and this change includes the unification of the stars in a single set that contains the adult occupant protection and the child occupant protection.</p>\\n                \\n        \\n\\t\\t<section class=\"acordeon\">\\n\\t\\t\\t\\n\\t\\t\\t\\n<h6 class=\"item-acordeon-r activo\" data-protocolo=\"a20\">From 2020</h6>\\n<div class=\"content-r activo\">\\n\\n\\n<div class=\"col-100\">\\n\\t\\t<a href=\"data/descargas/LatinNCAP_all_results_from_2020.pdf?897300\" class=\"btn-descargar btn-left\" target=\"_blank\">Download list ALL RESULTS</a>\\n\\t</div>\\n\\n\\n    \\n    <div class=\"tit tit-negro margin-top-15px margin-bottom-0\"><h3 class=\"ico-ordenar\">Order results by</h3></div> \\n\\n\\t<div class=\"row cont-ordenar\">\\n\\t\\t\\n\\t\\t<div class=\"ul-filtro btn-orden-a20\" id=\"filtro-marca\" data-orden=\"marca-modelo\">\\n\\t\\t\\t<i class=\"orden asc\" data-orden=\"ASC\"></i>\\n\\t\\t\\t<span>Make - Model</span>\\n\\t\\t</div>\\n\\n\\t\\t<div class=\"ul-filtro btn-orden-a20\" id=\"filtro-fecha\" data-orden=\"fecha\">\\n\\t\\t\\t<i class=\"orden asc\" data-orden=\"ASC\"></i>\\n\\t\\t\\t<span>Date</span>\\n\\t\\t</div>\\n\\n\\t\\t<div class=\"ul-filtro btn-orden-a20\" id=\"filtro-estrellas\" data-orden=\"estrellas\">\\n\\t\\t\\t<i class=\"orden asc\" data-orden=\"ASC\"></i>\\n\\t\\t\\t<span>Stars</span>\\n\\t\\t</div>\\n\\n\\t\\t<div class=\"ul-filtro fix btn-orden-a20\" id=\"filtro-icono-adulto\" data-orden=\"puntos-adulto\">\\n\\t\\t\\t<i class=\"icono adulto\"></i>\\n\\t\\t\\t<i class=\"orden asc\" data-orden=\"ASC\"></i>\\n\\t\\t</div>\\n\\n\\t\\t<div class=\"ul-filtro fix btn-orden-a20\" id=\"filtro-icono-nino\" data-orden=\"puntos-nino\">\\n\\t\\t\\t<i class=\"icono nino\"></i>\\n\\t\\t\\t<i class=\"orden asc\" data-orden=\"ASC\"></i>\\n\\t\\t</div>\\n\\n\\t\\t<div class=\"ul-filtro fix btn-orden-a20\" id=\"filtro-icono-usuarios\" data-orden=\"puntos-peatones\">\\n\\t\\t\\t<i class=\"icono usuarios\"></i>\\n\\t\\t\\t<i class=\"orden asc\" data-orden=\"ASC\"></i>\\n\\t\\t</div>\\n\\n\\t\\t<div class=\"ul-filtro fix btn-orden-a20\" id=\"filtro-icono-asistentes\" data-orden=\"puntos-asistente\">\\n\\t\\t\\t<i class=\"icono asistentes\"></i>\\n\\t\\t\\t<i class=\"orden asc\" data-orden=\"ASC\"></i>\\n\\t\\t</div>\\n\\n\\n\\n\\t</div>\\n\\n\\n\\n\\t<!-- TABLA -->\\n\\t<div class=\"caja-tabla-r a20\" id=\"tabla-autos\">\\n\\n\\n\\t\\t\\t        <div class=\"fila-tit\">\\n\\t            \\t            <img class=\"img-marca\" src=\"data/marcas/3.jpg?11445\" width=\"65\"/>\\n\\t            \\t            <span class=\"tit-marca\">Fiat</span>\\n\\t        </div>          \\n\\t    \\n\\t    <div class=\"fila fila-2020 \">\\n\\t    \\t\\t    \\t<div class=\"colum colum-200\">\\n\\t        \\t<h3>Fiat Argo / Cronos + 2 Airbags</h3>\\n\\t        </div>\\n\\t        <div class=\"colum colum-fecha\">\\n\\t        December-2021\\t        </div>\\n\\n\\t        <div class=\"colum\">\\n\\t        \\t\\t\\t\\t\\t\\t<div class=\"estrella\"></div>\\n\\t\\t\\t\\t\\t\\t\\t\\t\\t<div class=\"estrella\"></div>\\n\\t\\t\\t\\t\\t\\t\\t\\t\\t<div class=\"estrella\"></div>\\n\\t\\t\\t\\t\\t\\t\\t\\t\\t<div class=\"estrella\"></div>\\n\\t\\t\\t\\t\\t\\t\\t\\t\\t<div class=\"estrella\"></div>\\n\\t\\t\\t\\t\\t        </div>\\n\\n\\t        <div class=\"colum\">\\n\\t        \\t<div class=\"porcentaje adulto\">24%</div>\\n\\t        \\t<div class=\"porcentaje nino\">10%</div>\\n\\t        \\t<div class=\"porcentaje usuarios\">37%</div>\\n\\t        \\t<div class=\"porcentaje asistentes\">7%</div>\\n\\t        </div>\\t\\n\\t        \\n\\t        <a href=\"en/result/154/fiat-argo--cronos-%2B-2-airbags\" class=\"btn-mas\">See more</a>\\n\\t        \\n\\n\\t\\t\\t<!-- ACLARACIÃ\\x93N -->\\n\\t               \\n\\t    \\n\\t    </div>   \\n\\t    \\n\\t    \\n\\t      \\n\\t    \\n\\t\\t\\t        <div class=\"fila-tit\">\\n\\t            \\t            <img class=\"img-marca\" src=\"data/marcas/7.jpg?27762\" width=\"65\"/>\\n\\t            \\t            <span class=\"tit-marca\">Ford</span>\\n\\t        </div>          \\n\\t    \\n\\t    <div class=\"fila fila-2020  aclaracion \">\\n\\t    \\t<div class=\"fix-aclaracion\">\\t    \\t<div class=\"colum colum-200\">\\n\\t        \\t<h3>Ford Ka + 2 Airbags</h3>\\n\\t        </div>\\n\\t        <div class=\"colum colum-fecha\">\\n\\t        December-2020\\t        </div>\\n\\n\\t        <div class=\"colum\">\\n\\t        \\t\\t\\t\\t\\t\\t<div class=\"estrella\"></div>\\n\\t\\t\\t\\t\\t\\t\\t\\t\\t<div class=\"estrella\"></div>\\n\\t\\t\\t\\t\\t\\t\\t\\t\\t<div class=\"estrella\"></div>\\n\\t\\t\\t\\t\\t\\t\\t\\t\\t<div class=\"estrella\"></div>\\n\\t\\t\\t\\t\\t\\t\\t\\t\\t<div class=\"estrella\"></div>\\n\\t\\t\\t\\t\\t        </div>\\n\\n\\t        <div class=\"colum\">\\n\\t        \\t<div class=\"porcentaje adulto\">34%</div>\\n\\t        \\t<div class=\"porcentaje nino\">9%</div>\\n\\t        \\t<div class=\"porcentaje usuarios\">50%</div>\\n\\t        \\t<div class=\"porcentaje asistentes\">7%</div>\\n\\t        </div>\\t\\n\\t        \\n\\t        <a href=\"en/result/146/ford-ka-%2B-2-airbags\" class=\"btn-mas\">See more</a>\\n\\t        </div>\\n\\n\\t\\t\\t<!-- ACLARACIÃ\\x93N -->\\n\\t        \\t\\t\\t<div class=\"caja-aclaracion-resultados\">\\n\\t            <p class=\"vin\">(from 12/06/2018) VIN 9B9BFZH55U7K8206502</p>\\n\\t        </div>\\n\\t            \\n\\t               \\n\\t    \\n\\t    </div>   \\n\\t    \\n\\t    \\n\\t      \\n\\t    \\n\\t\\t\\t        <div class=\"fila-tit\">\\n\\t            \\t            <img class=\"img-marca\" src=\"data/marcas/24.jpg?31827\" width=\"65\"/>\\n\\t            \\t            <span class=\"tit-marca\">Great Wall Motors</span>\\n\\t        </div>          \\n\\t    \\n\\t    <div class=\"fila fila-2020 \">\\n\\t    \\t\\t    \\t<div class=\"colum colum-200\">\\n\\t        \\t<h3>Great Wall Motors Wingle 5 + 2 Airbags</h3>\\n\\t        </div>\\n\\t        <div class=\"colum colum-fecha\">\\n\\t        December-2021\\t        </div>\\n\\n\\t        <div class=\"colum\">\\n\\t        \\t\\t\\t\\t\\t\\t<div class=\"estrella\"></div>\\n\\t\\t\\t\\t\\t\\t\\t\\t\\t<div class=\"estrella\"></div>\\n\\t\\t\\t\\t\\t\\t\\t\\t\\t<div class=\"estrella\"></div>\\n\\t\\t\\t\\t\\t\\t\\t\\t\\t<div class=\"estrella\"></div>\\n\\t\\t\\t\\t\\t\\t\\t\\t\\t<div class=\"estrella\"></div>\\n\\t\\t\\t\\t\\t        </div>\\n\\n\\t        <div class=\"colum\">\\n\\t        \\t<div class=\"porcentaje adulto\">9%</div>\\n\\t        \\t<div class=\"porcentaje nino\">0%</div>\\n\\t        \\t<div class=\"porcentaje usuarios\">19%</div>\\n\\t        \\t<div class=\"porcentaje asistentes\">0%</div>\\n\\t        </div>\\t\\n\\t        \\n\\t        <a href=\"en/result/157/great-wall-motors-wingle-5-%2B-2-airbags\" class=\"btn-mas\">See more</a>\\n\\t        \\n\\n\\t\\t\\t<!-- ACLARACIÃ\\x93N -->\\n\\t               \\n\\t    \\n\\t    </div>   \\n\\t    \\n\\t    \\n\\t      \\n\\t    \\n\\t\\t\\t        <div class=\"fila-tit\">\\n\\t            \\t            <img class=\"img-marca\" src=\"data/marcas/12.jpg?23037\" width=\"65\"/>\\n\\t            \\t            <span class=\"tit-marca\">Hyundai</span>\\n\\t        </div>          \\n\\t    \\n\\t    <div class=\"fila fila-2020 \">\\n\\t    \\t\\t    \\t<div class=\"colum colum-200\">\\n\\t        \\t<h3>Hyundai Accent + 1 Airbag</h3>\\n\\t        </div>\\n\\t        <div class=\"colum colum-fecha\">\\n\\t        December-2021\\t        </div>\\n\\n\\t        <div class=\"colum\">\\n\\t        \\t\\t\\t\\t\\t\\t<div class=\"estrella\"></div>\\n\\t\\t\\t\\t\\t\\t\\t\\t\\t<div class=\"estrella\"></div>\\n\\t\\t\\t\\t\\t\\t\\t\\t\\t<div class=\"estrella\"></div>\\n\\t\\t\\t\\t\\t\\t\\t\\t\\t<div class=\"estrella\"></div>\\n\\t\\t\\t\\t\\t\\t\\t\\t\\t<div class=\"estrella\"></div>\\n\\t\\t\\t\\t\\t        </div>\\n\\n\\t        <div class=\"colum\">\\n\\t        \\t<div class=\"porcentaje adulto\">9%</div>\\n\\t        \\t<div class=\"porcentaje nino\">13%</div>\\n\\t        \\t<div class=\"porcentaje usuarios\">53%</div>\\n\\t        \\t<div class=\"porcentaje asistentes\">7%</div>\\n\\t        </div>\\t\\n\\t        \\n\\t        <a href=\"en/result/159/hyundai-accent-%2B-1-airbag\" class=\"btn-mas\">See more</a>\\n\\t        \\n\\n\\t\\t\\t<!-- ACLARACIÃ\\x93N -->\\n\\t               \\n\\t    \\n\\t    </div>   \\n\\t    \\n\\t    \\n\\t      \\n\\t    \\n\\t\\t\\n\\t    <div class=\"fila fila-2020 \">\\n\\t    \\t\\t    \\t<div class=\"colum colum-200\">\\n\\t        \\t<h3>Hyundai Tucson + 2 Airbags</h3>\\n\\t        </div>\\n\\t        <div class=\"colum colum-fecha\">\\n\\t        December-2021\\t        </div>\\n\\n\\t        <div class=\"colum\">\\n\\t        \\t\\t\\t\\t\\t\\t<div class=\"estrella\"></div>\\n\\t\\t\\t\\t\\t\\t\\t\\t\\t<div class=\"estrella\"></div>\\n\\t\\t\\t\\t\\t\\t\\t\\t\\t<div class=\"estrella\"></div>\\n\\t\\t\\t\\t\\t\\t\\t\\t\\t<div class=\"estrella\"></div>\\n\\t\\t\\t\\t\\t\\t\\t\\t\\t<div class=\"estrella\"></div>\\n\\t\\t\\t\\t\\t        </div>\\n\\n\\t        <div class=\"colum\">\\n\\t        \\t<div class=\"porcentaje adulto\">51%</div>\\n\\t        \\t<div class=\"porcentaje nino\">4%</div>\\n\\t        \\t<div class=\"porcentaje usuarios\">50%</div>\\n\\t        \\t<div class=\"porcentaje asistentes\">7%</div>\\n\\t        </div>\\t\\n\\t        \\n\\t        <a href=\"en/result/155/hyundai-tucson-%2B-2-airbags\" class=\"btn-mas\">See more</a>\\n\\t        \\n\\n\\t\\t\\t<!-- ACLARACIÃ\\x93N -->\\n\\t               \\n\\t    \\n\\t    </div>   \\n\\t    \\n\\t    \\n\\t      \\n\\t    \\n\\t\\t\\n\\t    <div class=\"fila fila-2020 \">\\n\\t    \\t\\t    \\t<div class=\"colum colum-200\">\\n\\t        \\t<h3>Hyundai HB20 + 2 Airbags</h3>\\n\\t        </div>\\n\\t        <div class=\"colum colum-fecha\">\\n\\t        December-2020\\t        </div>\\n\\n\\t        <div class=\"colum\">\\n\\t        \\t\\t\\t\\t\\t\\t<div class=\"estrella\"></div>\\n\\t\\t\\t\\t\\t\\t\\t\\t\\t<div class=\"estrella\"></div>\\n\\t\\t\\t\\t\\t\\t\\t\\t\\t<div class=\"estrella\"></div>\\n\\t\\t\\t\\t\\t\\t\\t\\t\\t<div class=\"estrella\"></div>\\n\\t\\t\\t\\t\\t\\t\\t\\t\\t<div class=\"estrella\"></div>\\n\\t\\t\\t\\t\\t        </div>\\n\\n\\t        <div class=\"colum\">\\n\\t        \\t<div class=\"porcentaje adulto\">19%</div>\\n\\t        \\t<div class=\"porcentaje nino\">10%</div>\\n\\t        \\t<div class=\"porcentaje usuarios\">43%</div>\\n\\t        \\t<div class=\"porcentaje asistentes\">14%</div>\\n\\t        </div>\\t\\n\\t        \\n\\t        <a href=\"en/result/147/hyundai-hb20-%2B-2-airbags\" class=\"btn-mas\">See more</a>\\n\\t        \\n\\n\\t\\t\\t<!-- ACLARACIÃ\\x93N -->\\n\\t               \\n\\t    \\n\\t    </div>   \\n\\t    \\n\\t    \\n\\t      \\n\\t    \\n\\t\\t\\t        <div class=\"fila-tit\">\\n\\t            \\t            <img class=\"img-marca\" src=\"data/marcas/20.jpg?10185\" width=\"65\"/>\\n\\t            \\t            <span class=\"tit-marca\">Kia</span>\\n\\t        </div>          \\n\\t    \\n\\t    <div class=\"fila fila-2020 \">\\n\\t    \\t\\t    \\t<div class=\"colum colum-200\">\\n\\t        \\t<h3>Kia Sportage + 2 Airbags</h3>\\n\\t        </div>\\n\\t        <div class=\"colum colum-fecha\">\\n\\t        December-2021\\t        </div>\\n\\n\\t        <div class=\"colum\">\\n\\t        \\t\\t\\t\\t\\t\\t<div class=\"estrella\"></div>\\n\\t\\t\\t\\t\\t\\t\\t\\t\\t<div class=\"estrella\"></div>\\n\\t\\t\\t\\t\\t\\t\\t\\t\\t<div class=\"estrella\"></div>\\n\\t\\t\\t\\t\\t\\t\\t\\t\\t<div class=\"estrella\"></div>\\n\\t\\t\\t\\t\\t\\t\\t\\t\\t<div class=\"estrella\"></div>\\n\\t\\t\\t\\t\\t        </div>\\n\\n\\t        <div class=\"colum\">\\n\\t        \\t<div class=\"porcentaje adulto\">48%</div>\\n\\t        \\t<div class=\"porcentaje nino\">15%</div>\\n\\t        \\t<div class=\"porcentaje usuarios\">58%</div>\\n\\t        \\t<div class=\"porcentaje asistentes\">7%</div>\\n\\t        </div>\\t\\n\\t        \\n\\t        <a href=\"en/result/158/kia-sportage-%2B-2-airbags\" class=\"btn-mas\">See more</a>\\n\\t        \\n\\n\\t\\t\\t<!-- ACLARACIÃ\\x93N -->\\n\\t               \\n\\t    \\n\\t    </div>   \\n\\t    \\n\\t    \\n\\t      \\n\\t    \\n\\t\\t\\n\\t    <div class=\"fila fila-2020 \">\\n\\t    \\t\\t    \\t<div class=\"colum colum-200\">\\n\\t        \\t<h3>Kia Picanto / Morning + 1 Airbag</h3>\\n\\t        </div>\\n\\t        <div class=\"colum colum-fecha\">\\n\\t        October-2020\\t        </div>\\n\\n\\t        <div class=\"colum\">\\n\\t        \\t\\t\\t\\t\\t\\t<div class=\"estrella\"></div>\\n\\t\\t\\t\\t\\t\\t\\t\\t\\t<div class=\"estrella\"></div>\\n\\t\\t\\t\\t\\t\\t\\t\\t\\t<div class=\"estrella\"></div>\\n\\t\\t\\t\\t\\t\\t\\t\\t\\t<div class=\"estrella\"></div>\\n\\t\\t\\t\\t\\t\\t\\t\\t\\t<div class=\"estrella\"></div>\\n\\t\\t\\t\\t\\t        </div>\\n\\n\\t        <div class=\"colum\">\\n\\t        \\t<div class=\"porcentaje adulto\">0%</div>\\n\\t        \\t<div class=\"porcentaje nino\">29%</div>\\n\\t        \\t<div class=\"porcentaje usuarios\">51%</div>\\n\\t        \\t<div class=\"porcentaje asistentes\">7%</div>\\n\\t        </div>\\t\\n\\t        \\n\\t        <a href=\"en/result/145/kia-picanto--morning-%2B-1-airbag\" class=\"btn-mas\">See more</a>\\n\\t        \\n\\n\\t\\t\\t<!-- ACLARACIÃ\\x93N -->\\n\\t               \\n\\t    \\n\\t    </div>   \\n\\t    \\n\\t    \\n\\t      \\n\\t    \\n\\t\\t\\t        <div class=\"fila-tit\">\\n\\t            \\t            <img class=\"img-marca\" src=\"data/marcas/5.jpg?32328\" width=\"65\"/>\\n\\t            \\t            <span class=\"tit-marca\">Peugeot</span>\\n\\t        </div>          \\n\\t    \\n\\t    <div class=\"fila fila-2020 \">\\n\\t    \\t\\t    \\t<div class=\"colum colum-200\">\\n\\t        \\t<h3>Peugeot 208 + 4 Airbags</h3>\\n\\t        </div>\\n\\t        <div class=\"colum colum-fecha\">\\n\\t        December-2021\\t        </div>\\n\\n\\t        <div class=\"colum\">\\n\\t        \\t\\t\\t\\t\\t\\t<div class=\"estrella-act\"></div>\\n\\t\\t\\t\\t\\t\\t\\t\\t\\t<div class=\"estrella-act\"></div>\\n\\t\\t\\t\\t\\t\\t\\t\\t\\t<div class=\"estrella\"></div>\\n\\t\\t\\t\\t\\t\\t\\t\\t\\t<div class=\"estrella\"></div>\\n\\t\\t\\t\\t\\t\\t\\t\\t\\t<div class=\"estrella\"></div>\\n\\t\\t\\t\\t\\t        </div>\\n\\n\\t        <div class=\"colum\">\\n\\t        \\t<div class=\"porcentaje adulto\">52%</div>\\n\\t        \\t<div class=\"porcentaje nino\">55%</div>\\n\\t        \\t<div class=\"porcentaje usuarios\">54%</div>\\n\\t        \\t<div class=\"porcentaje asistentes\">56%</div>\\n\\t        </div>\\t\\n\\t        \\n\\t        <a href=\"en/result/156/peugeot-208-%2B-4-airbags\" class=\"btn-mas\">See more</a>\\n\\t        \\n\\n\\t\\t\\t<!-- ACLARACIÃ\\x93N -->\\n\\t               \\n\\t    \\n\\t    </div>   \\n\\t    \\n\\t    \\n\\t      \\n\\t    \\n\\t\\t\\t        <div class=\"fila-tit\">\\n\\t            \\t            <img class=\"img-marca\" src=\"data/marcas/9.jpg?22540\" width=\"65\"/>\\n\\t            \\t            <span class=\"tit-marca\">Renault</span>\\n\\t        </div>          \\n\\t    \\n\\t    <div class=\"fila fila-2020 \">\\n\\t    \\t\\t    \\t<div class=\"colum colum-200\">\\n\\t        \\t<h3>Renault Duster + 2 Airbags</h3>\\n\\t        </div>\\n\\t        <div class=\"colum colum-fecha\">\\n\\t        August-2021\\t        </div>\\n\\n\\t        <div class=\"colum\">\\n\\t        \\t\\t\\t\\t\\t\\t<div class=\"estrella\"></div>\\n\\t\\t\\t\\t\\t\\t\\t\\t\\t<div class=\"estrella\"></div>\\n\\t\\t\\t\\t\\t\\t\\t\\t\\t<div class=\"estrella\"></div>\\n\\t\\t\\t\\t\\t\\t\\t\\t\\t<div class=\"estrella\"></div>\\n\\t\\t\\t\\t\\t\\t\\t\\t\\t<div class=\"estrella\"></div>\\n\\t\\t\\t\\t\\t        </div>\\n\\n\\t        <div class=\"colum\">\\n\\t        \\t<div class=\"porcentaje adulto\">29%</div>\\n\\t        \\t<div class=\"porcentaje nino\">23%</div>\\n\\t        \\t<div class=\"porcentaje usuarios\">51%</div>\\n\\t        \\t<div class=\"porcentaje asistentes\">35%</div>\\n\\t        </div>\\t\\n\\t        \\n\\t        <a href=\"en/result/148/renault-duster-%2B-2-airbags\" class=\"btn-mas\">See more</a>\\n\\t        \\n\\n\\t\\t\\t<!-- ACLARACIÃ\\x93N -->\\n\\t               \\n\\t    \\n\\t    </div>   \\n\\t    \\n\\t    \\n\\t      \\n\\t    \\n\\t\\t\\t        <div class=\"fila-tit\">\\n\\t            \\t            <img class=\"img-marca\" src=\"data/marcas/13.jpg?23499\" width=\"65\"/>\\n\\t            \\t            <span class=\"tit-marca\">Suzuki</span>\\n\\t        </div>          \\n\\t    \\n\\t    <div class=\"fila fila-2020 \">\\n\\t    \\t\\t    \\t<div class=\"colum colum-200\">\\n\\t        \\t<h3>Suzuki Baleno + 2 Airbags</h3>\\n\\t        </div>\\n\\t        <div class=\"colum colum-fecha\">\\n\\t        October-2021\\t        </div>\\n\\n\\t        <div class=\"colum\">\\n\\t        \\t\\t\\t\\t\\t\\t<div class=\"estrella\"></div>\\n\\t\\t\\t\\t\\t\\t\\t\\t\\t<div class=\"estrella\"></div>\\n\\t\\t\\t\\t\\t\\t\\t\\t\\t<div class=\"estrella\"></div>\\n\\t\\t\\t\\t\\t\\t\\t\\t\\t<div class=\"estrella\"></div>\\n\\t\\t\\t\\t\\t\\t\\t\\t\\t<div class=\"estrella\"></div>\\n\\t\\t\\t\\t\\t        </div>\\n\\n\\t        <div class=\"colum\">\\n\\t        \\t<div class=\"porcentaje adulto\">20%</div>\\n\\t        \\t<div class=\"porcentaje nino\">17%</div>\\n\\t        \\t<div class=\"porcentaje usuarios\">64%</div>\\n\\t        \\t<div class=\"porcentaje asistentes\">7%</div>\\n\\t        </div>\\t\\n\\t        \\n\\t        <a href=\"en/result/151/suzuki-baleno-%2B-2-airbags\" class=\"btn-mas\">See more</a>\\n\\t        \\n\\n\\t\\t\\t<!-- ACLARACIÃ\\x93N -->\\n\\t               \\n\\t    \\n\\t    </div>   \\n\\t    \\n\\t    \\n\\t      \\n\\t    \\n\\t\\t\\n\\t    <div class=\"fila fila-2020 \">\\n\\t    \\t\\t    \\t<div class=\"colum colum-200\">\\n\\t        \\t<h3>Suzuki Swift + 2 Airbags</h3>\\n\\t        </div>\\n\\t        <div class=\"colum colum-fecha\">\\n\\t        August-2021\\t        </div>\\n\\n\\t        <div class=\"colum\">\\n\\t        \\t\\t\\t\\t\\t\\t<div class=\"estrella\"></div>\\n\\t\\t\\t\\t\\t\\t\\t\\t\\t<div class=\"estrella\"></div>\\n\\t\\t\\t\\t\\t\\t\\t\\t\\t<div class=\"estrella\"></div>\\n\\t\\t\\t\\t\\t\\t\\t\\t\\t<div class=\"estrella\"></div>\\n\\t\\t\\t\\t\\t\\t\\t\\t\\t<div class=\"estrella\"></div>\\n\\t\\t\\t\\t\\t        </div>\\n\\n\\t        <div class=\"colum\">\\n\\t        \\t<div class=\"porcentaje adulto\">16%</div>\\n\\t        \\t<div class=\"porcentaje nino\">0%</div>\\n\\t        \\t<div class=\"porcentaje usuarios\">66%</div>\\n\\t        \\t<div class=\"porcentaje asistentes\">7%</div>\\n\\t        </div>\\t\\n\\t        \\n\\t        <a href=\"en/result/149/suzuki-swift-%2B-2-airbags\" class=\"btn-mas\">See more</a>\\n\\t        \\n\\n\\t\\t\\t<!-- ACLARACIÃ\\x93N -->\\n\\t               \\n\\t    \\n\\t    </div>   \\n\\t    \\n\\t    \\n\\t      \\n\\t    \\n\\t\\t\\t        <div class=\"fila-tit\">\\n\\t            \\t            <img class=\"img-marca\" src=\"data/marcas/1.jpg?33894\" width=\"65\"/>\\n\\t            \\t            <span class=\"tit-marca\">Toyota</span>\\n\\t        </div>          \\n\\t    \\n\\t    <div class=\"fila fila-2020 \">\\n\\t    \\t\\t    \\t<div class=\"colum colum-200\">\\n\\t        \\t<h3>Toyota Yaris + 2 Airbags</h3>\\n\\t        </div>\\n\\t        <div class=\"colum colum-fecha\">\\n\\t        October-2021\\t        </div>\\n\\n\\t        <div class=\"colum\">\\n\\t        \\t\\t\\t\\t\\t\\t<div class=\"estrella-act\"></div>\\n\\t\\t\\t\\t\\t\\t\\t\\t\\t<div class=\"estrella\"></div>\\n\\t\\t\\t\\t\\t\\t\\t\\t\\t<div class=\"estrella\"></div>\\n\\t\\t\\t\\t\\t\\t\\t\\t\\t<div class=\"estrella\"></div>\\n\\t\\t\\t\\t\\t\\t\\t\\t\\t<div class=\"estrella\"></div>\\n\\t\\t\\t\\t\\t        </div>\\n\\n\\t        <div class=\"colum\">\\n\\t        \\t<div class=\"porcentaje adulto\">41%</div>\\n\\t        \\t<div class=\"porcentaje nino\">64%</div>\\n\\t        \\t<div class=\"porcentaje usuarios\">62%</div>\\n\\t        \\t<div class=\"porcentaje asistentes\">42%</div>\\n\\t        </div>\\t\\n\\t        \\n\\t        <a href=\"en/result/152/toyota-yaris-%2B-2-airbags\" class=\"btn-mas\">See more</a>\\n\\t        \\n\\n\\t\\t\\t<!-- ACLARACIÃ\\x93N -->\\n\\t               \\n\\t    \\n\\t    </div>   \\n\\t    \\n\\t    \\n\\t      \\n\\t    \\n\\t\\t\\t        <div class=\"fila-tit\">\\n\\t            \\t            <img class=\"img-marca\" src=\"data/marcas/4.jpg?29996\" width=\"65\"/>\\n\\t            \\t            <span class=\"tit-marca\">Volkswagen</span>\\n\\t        </div>          \\n\\t    \\n\\t    <div class=\"fila fila-2020 \">\\n\\t    \\t\\t    \\t<div class=\"colum colum-200\">\\n\\t        \\t<h3>Volkswagen Taos + 6 Airbags</h3>\\n\\t        </div>\\n\\t        <div class=\"colum colum-fecha\">\\n\\t        December-2021\\t        </div>\\n\\n\\t        <div class=\"colum\">\\n\\t        \\t\\t\\t\\t\\t\\t<div class=\"estrella-act\"></div>\\n\\t\\t\\t\\t\\t\\t\\t\\t\\t<div class=\"estrella-act\"></div>\\n\\t\\t\\t\\t\\t\\t\\t\\t\\t<div class=\"estrella-act\"></div>\\n\\t\\t\\t\\t\\t\\t\\t\\t\\t<div class=\"estrella-act\"></div>\\n\\t\\t\\t\\t\\t\\t\\t\\t\\t<div class=\"estrella-act\"></div>\\n\\t\\t\\t\\t\\t        </div>\\n\\n\\t        <div class=\"colum\">\\n\\t        \\t<div class=\"porcentaje adulto\">90%</div>\\n\\t        \\t<div class=\"porcentaje nino\">90%</div>\\n\\t        \\t<div class=\"porcentaje usuarios\">61%</div>\\n\\t        \\t<div class=\"porcentaje asistentes\">85%</div>\\n\\t        </div>\\t\\n\\t        \\n\\t        <a href=\"en/result/153/volkswagen-taos-%2B-6-airbags\" class=\"btn-mas\">See more</a>\\n\\t        \\n\\n\\t\\t\\t<!-- ACLARACIÃ\\x93N -->\\n\\t               \\n\\t    \\n\\t    </div>   \\n\\t    \\n\\t    \\n\\t      \\n\\t    \\n\\t\\t\\n\\t\\t\\n\\t    <!-- FILA -->\\n\\n\\t    \\n\\t</div><!-- FIN TABLA -->\\n\\n\\n</div>\\n\\n\\t\\t\\t\\n\\t\\t\\t\\n<h6 class=\"item-acordeon-r activo\" data-protocolo=\"a19\">2019 - 2016</h6>\\n<div class=\"content-r activo\">\\n\\n\\n<div class=\"col-100\">\\n\\t\\t<a href=\"data/descargas/LatinNCAP_all_results_2019-2016.pdf?1604518\" class=\"btn-descargar btn-left\" target=\"_blank\">Download list ALL RESULTS</a>\\n\\t</div>\\n        \\n\\t<div class=\"tit tit-negro margin-top-15px margin-bottom-0\"><h3 class=\"ico-ordenar\">Order results by</h3></div> \\n\\t\\t\\n\\t<div class=\"botonera\">\\n\\t\\t<a class=\"btn-gris a19\" data-orden=\"star_adult\">Adult stars</a>\\n\\t    <a class=\"btn-gris a19\" data-orden=\"star_child\">Child stars</a>\\n\\t    <a class=\"btn-gris a19\" data-orden=\"car_brand\">Make - Model</a>\\n\\t    <a class=\"btn-gris a19\" data-orden=\"year_p\">Publication year</a>\\n\\t    <div class=\"btn-orden a19\">\\n\\t    \\t<a class=\"orden menos a19\" data-orden=\"DESC\"></a>\\n\\t        <a class=\"orden mas a19\" data-orden=\"ASC\"></a>\\n\\t    </div>\\n\\t</div>\\n\\n\\t<!-- TABLA -->\\n\\t<div class=\"caja-tabla-r a19\" id=\"tabla-autos\">\\n\\t\\t\\t        <div class=\"fila-tit\">\\n\\t            \\t            <img class=\"img-marca\" src=\"data/marcas/21.jpg?12154\" width=\"65\"/>\\n\\t            \\t            <span class=\"tit-marca\">BYD</span>\\n\\t        </div>            \\n\\t    \\t    <div class=\"fila \">\\n\\t    \\t<div class=\"colum colum-200\">\\n\\t        \\t<h3>BYD F0 - NO Airbags</h3>\\n\\t        </div>\\n\\t        <div class=\"colum colum-fecha\">\\n\\t        August-2016\\t        </div>\\n\\t        \\n\\t        \\t        <div class=\"colum colum-240 adulto\">\\n\\t        \\t<div class=\"ico-1 \"></div>\\n\\t            \\t\\t\\t\\t\\t<div class=\"estrella \"></div>\\n\\t\\t\\t\\t\\t\\t\\t\\t\\t<div class=\"estrella \"></div>\\n\\t\\t\\t\\t\\t\\t\\t\\t\\t<div class=\"estrella \"></div>\\n\\t\\t\\t\\t\\t\\t\\t\\t\\t<div class=\"estrella \"></div>\\n\\t\\t\\t\\t\\t\\t\\t\\t\\t<div class=\"estrella \"></div>\\n\\t\\t\\t\\t\\t            <span class=\"detalle-ch\">0.00 max. 34.00 </span>\\n\\t        </div>\\n\\t        \\n\\t        <div class=\"colum colum-240 nino\">\\n\\t        \\t<div class=\"ico-2 \"></div>\\n\\t            \\t\\t\\t\\t\\t<div class=\"estrella-act \"></div>\\n\\t\\t\\t\\t\\t\\t\\t\\t\\t<div class=\"estrella \"></div>\\n\\t\\t\\t\\t\\t\\t\\t\\t\\t<div class=\"estrella \"></div>\\n\\t\\t\\t\\t\\t\\t\\t\\t\\t<div class=\"estrella \"></div>\\n\\t\\t\\t\\t\\t\\t\\t\\t\\t<div class=\"estrella \"></div>\\n\\t\\t\\t\\t\\t            <span class=\"detalle-ch\">12.65 max. 49.00 </span>\\n\\t        \\n\\t        \\n\\t        </div>\\n\\t        \\n\\t        <a href=\"en/result/80/byd-f0-no-airbags\" class=\"btn-mas\">See more</a>\\n\\n\\n\\n\\t\\t\\t<!-- ACLARACIÃ\\x93N -->\\n\\t               \\n\\t    \\n\\t    </div>   \\n\\t    \\n\\t    \\n\\t\\t\\t        <div class=\"fila-tit\">\\n\\t            \\t            <img class=\"img-marca\" src=\"data/marcas/17.jpg?25757\" width=\"65\"/>\\n\\t            \\t            <span class=\"tit-marca\">Chery</span>\\n\\t        </div>            \\n\\t    \\t    <div class=\"fila \">\\n\\t    \\t<div class=\"colum colum-200\">\\n\\t        \\t<h3>Chery Tiggo 3 + 2 Airbags</h3>\\n\\t        </div>\\n\\t        <div class=\"colum colum-fecha\">\\n\\t        September-2019\\t        </div>\\n\\t        \\n\\t        \\t        <div class=\"colum colum-240 adulto\">\\n\\t        \\t<div class=\"ico-1 \"></div>\\n\\t            \\t\\t\\t\\t\\t<div class=\"estrella \"></div>\\n\\t\\t\\t\\t\\t\\t\\t\\t\\t<div class=\"estrella \"></div>\\n\\t\\t\\t\\t\\t\\t\\t\\t\\t<div class=\"estrella \"></div>\\n\\t\\t\\t\\t\\t\\t\\t\\t\\t<div class=\"estrella \"></div>\\n\\t\\t\\t\\t\\t\\t\\t\\t\\t<div class=\"estrella \"></div>\\n\\t\\t\\t\\t\\t            <span class=\"detalle-ch\">0.00 max. 34.00 </span>\\n\\t        </div>\\n\\t        \\n\\t        <div class=\"colum colum-240 nino\">\\n\\t        \\t<div class=\"ico-2 \"></div>\\n\\t            \\t\\t\\t\\t\\t<div class=\"estrella-act \"></div>\\n\\t\\t\\t\\t\\t\\t\\t\\t\\t<div class=\"estrella \"></div>\\n\\t\\t\\t\\t\\t\\t\\t\\t\\t<div class=\"estrella \"></div>\\n\\t\\t\\t\\t\\t\\t\\t\\t\\t<div class=\"estrella \"></div>\\n\\t\\t\\t\\t\\t\\t\\t\\t\\t<div class=\"estrella \"></div>\\n\\t\\t\\t\\t\\t            <span class=\"detalle-ch\">10.21 max. 49.00 </span>\\n\\t        \\n\\t        \\n\\t        </div>\\n\\t        \\n\\t        <a href=\"en/result/128/chery-tiggo-3-%2B-2-airbags\" class=\"btn-mas\">See more</a>\\n\\n\\n\\n\\t\\t\\t<!-- ACLARACIÃ\\x93N -->\\n\\t               \\n\\t    \\n\\t    </div>   \\n\\t    \\n\\t    \\n\\t\\t\\t        <div class=\"fila-tit\">\\n\\t            \\t            <img class=\"img-marca\" src=\"data/marcas/2.jpg?18332\" width=\"65\"/>\\n\\t            \\t            <span class=\"tit-marca\">Chevrolet</span>\\n\\t        </div>            \\n\\t    \\t    <div class=\"fila \">\\n\\t    \\t<div class=\"colum colum-200\">\\n\\t        \\t<h3>Chevrolet New Aveo + 2 Airbags (from May 2019) VIN LSGHD52H1KD125807</h3>\\n\\t        </div>\\n\\t        <div class=\"colum colum-fecha\">\\n\\t        December-2019\\t        </div>\\n\\t        \\n\\t        \\t        <div class=\"colum colum-240 adulto\">\\n\\t        \\t<div class=\"ico-1 \"></div>\\n\\t            \\t\\t\\t\\t\\t<div class=\"estrella-act \"></div>\\n\\t\\t\\t\\t\\t\\t\\t\\t\\t<div class=\"estrella-act \"></div>\\n\\t\\t\\t\\t\\t\\t\\t\\t\\t<div class=\"estrella-act \"></div>\\n\\t\\t\\t\\t\\t\\t\\t\\t\\t<div class=\"estrella \"></div>\\n\\t\\t\\t\\t\\t\\t\\t\\t\\t<div class=\"estrella \"></div>\\n\\t\\t\\t\\t\\t            <span class=\"detalle-ch\">23.76 max. 34.00 </span>\\n\\t        </div>\\n\\t        \\n\\t        <div class=\"colum colum-240 nino\">\\n\\t        \\t<div class=\"ico-2 \"></div>\\n\\t            \\t\\t\\t\\t\\t<div class=\"estrella-act \"></div>\\n\\t\\t\\t\\t\\t\\t\\t\\t\\t<div class=\"estrella-act \"></div>\\n\\t\\t\\t\\t\\t\\t\\t\\t\\t<div class=\"estrella-act \"></div>\\n\\t\\t\\t\\t\\t\\t\\t\\t\\t<div class=\"estrella-act \"></div>\\n\\t\\t\\t\\t\\t\\t\\t\\t\\t<div class=\"estrella \"></div>\\n\\t\\t\\t\\t\\t            <span class=\"detalle-ch\">37.02 max. 49.00 </span>\\n\\t        \\n\\t        \\n\\t        </div>\\n\\t        \\n\\t        <a href=\"en/result/142/chevrolet-new-aveo-%2B-2-airbags-from-may-2019-vin-lsghd52h1kd125807\" class=\"btn-mas\">See more</a>\\n\\n\\n\\n\\t\\t\\t<!-- ACLARACIÃ\\x93N -->\\n\\t               \\n\\t    \\n\\t    </div>   \\n\\t    \\n\\t    \\n\\t\\t\\t    <div class=\"fila \">\\n\\t    \\t<div class=\"colum colum-200\">\\n\\t        \\t<h3>Chevrolet New Onix Hatchback + 6 Airbags</h3>\\n\\t        </div>\\n\\t        <div class=\"colum colum-fecha\">\\n\\t        November-2019\\t        </div>\\n\\t        \\n\\t        \\t        <div class=\"colum colum-240 adulto\">\\n\\t        \\t<div class=\"ico-1 \"></div>\\n\\t            \\t\\t\\t\\t\\t<div class=\"estrella-act \"></div>\\n\\t\\t\\t\\t\\t\\t\\t\\t\\t<div class=\"estrella-act \"></div>\\n\\t\\t\\t\\t\\t\\t\\t\\t\\t<div class=\"estrella-act \"></div>\\n\\t\\t\\t\\t\\t\\t\\t\\t\\t<div class=\"estrella-act \"></div>\\n\\t\\t\\t\\t\\t\\t\\t\\t\\t<div class=\"estrella-act \"></div>\\n\\t\\t\\t\\t\\t            <span class=\"detalle-ch\">28.90 max. 34.00 </span>\\n\\t        </div>\\n\\t        \\n\\t        <div class=\"colum colum-240 nino\">\\n\\t        \\t<div class=\"ico-2 \"></div>\\n\\t            \\t\\t\\t\\t\\t<div class=\"estrella-act \"></div>\\n\\t\\t\\t\\t\\t\\t\\t\\t\\t<div class=\"estrella-act \"></div>\\n\\t\\t\\t\\t\\t\\t\\t\\t\\t<div class=\"estrella-act \"></div>\\n\\t\\t\\t\\t\\t\\t\\t\\t\\t<div class=\"estrella-act \"></div>\\n\\t\\t\\t\\t\\t\\t\\t\\t\\t<div class=\"estrella-act \"></div>\\n\\t\\t\\t\\t\\t            <span class=\"detalle-ch\">44.33 max. 49.00 </span>\\n\\t        \\n\\t        \\n\\t        </div>\\n\\t        \\n\\t        <a href=\"en/result/136/chevrolet-new-onix-hatchback-%2B-6-airbags\" class=\"btn-mas\">See more</a>\\n\\n\\n\\n\\t\\t\\t<!-- ACLARACIÃ\\x93N -->\\n\\t               \\n\\t    \\n\\t    </div>   \\n\\t    \\n\\t    \\n\\t\\t\\t    <div class=\"fila \">\\n\\t    \\t<div class=\"colum colum-200\">\\n\\t        \\t<h3>Chevrolet New Onix Plus + 6 Airbags</h3>\\n\\t        </div>\\n\\t        <div class=\"colum colum-fecha\">\\n\\t        September-2019\\t        </div>\\n\\t        \\n\\t        \\t        <div class=\"colum colum-240 adulto\">\\n\\t        \\t<div class=\"ico-1 \"></div>\\n\\t            \\t\\t\\t\\t\\t<div class=\"estrella-act \"></div>\\n\\t\\t\\t\\t\\t\\t\\t\\t\\t<div class=\"estrella-act \"></div>\\n\\t\\t\\t\\t\\t\\t\\t\\t\\t<div class=\"estrella-act \"></div>\\n\\t\\t\\t\\t\\t\\t\\t\\t\\t<div class=\"estrella-act \"></div>\\n\\t\\t\\t\\t\\t\\t\\t\\t\\t<div class=\"estrella-act \"></div>\\n\\t\\t\\t\\t\\t            <span class=\"detalle-ch\">28.34 max. 34.00 </span>\\n\\t        </div>\\n\\t        \\n\\t        <div class=\"colum colum-240 nino\">\\n\\t        \\t<div class=\"ico-2 \"></div>\\n\\t            \\t\\t\\t\\t\\t<div class=\"estrella-act \"></div>\\n\\t\\t\\t\\t\\t\\t\\t\\t\\t<div class=\"estrella-act \"></div>\\n\\t\\t\\t\\t\\t\\t\\t\\t\\t<div class=\"estrella-act \"></div>\\n\\t\\t\\t\\t\\t\\t\\t\\t\\t<div class=\"estrella-act \"></div>\\n\\t\\t\\t\\t\\t\\t\\t\\t\\t<div class=\"estrella-act \"></div>\\n\\t\\t\\t\\t\\t            <span class=\"detalle-ch\">42.33 max. 49.00 </span>\\n\\t        \\n\\t        \\n\\t        </div>\\n\\t        \\n\\t        <a href=\"en/result/129/chevrolet-new-onix-plus-%2B-6-airbags\" class=\"btn-mas\">See more</a>\\n\\n\\n\\n\\t\\t\\t<!-- ACLARACIÃ\\x93N -->\\n\\t               \\n\\t    \\n\\t    </div>   \\n\\t    \\n\\t    \\n\\t\\t\\t    <div class=\"fila \">\\n\\t    \\t<div class=\"colum colum-200\">\\n\\t        \\t<h3>Chevrolet Cruze + 6 Airbags (from 21/05/2019) VIN 8AGBB69S0LR100117</h3>\\n\\t        </div>\\n\\t        <div class=\"colum colum-fecha\">\\n\\t        August-2019\\t        </div>\\n\\t        \\n\\t        \\t        <div class=\"colum colum-240 adulto\">\\n\\t        \\t<div class=\"ico-1 \"></div>\\n\\t            \\t\\t\\t\\t\\t<div class=\"estrella-act \"></div>\\n\\t\\t\\t\\t\\t\\t\\t\\t\\t<div class=\"estrella-act \"></div>\\n\\t\\t\\t\\t\\t\\t\\t\\t\\t<div class=\"estrella-act \"></div>\\n\\t\\t\\t\\t\\t\\t\\t\\t\\t<div class=\"estrella-act \"></div>\\n\\t\\t\\t\\t\\t\\t\\t\\t\\t<div class=\"estrella-act \"></div>\\n\\t\\t\\t\\t\\t            <span class=\"detalle-ch\">30.23 max. 34.00 </span>\\n\\t        </div>\\n\\t        \\n\\t        <div class=\"colum colum-240 nino\">\\n\\t        \\t<div class=\"ico-2 \"></div>\\n\\t            \\t\\t\\t\\t\\t<div class=\"estrella-act \"></div>\\n\\t\\t\\t\\t\\t\\t\\t\\t\\t<div class=\"estrella-act \"></div>\\n\\t\\t\\t\\t\\t\\t\\t\\t\\t<div class=\"estrella-act \"></div>\\n\\t\\t\\t\\t\\t\\t\\t\\t\\t<div class=\"estrella-act \"></div>\\n\\t\\t\\t\\t\\t\\t\\t\\t\\t<div class=\"estrella \"></div>\\n\\t\\t\\t\\t\\t            <span class=\"detalle-ch\">39.83 max. 49.00 </span>\\n\\t        \\n\\t        \\n\\t        </div>\\n\\t        \\n\\t        <a href=\"en/result/126/chevrolet-cruze-%2B-6-airbags-from-21052019-vin-8agbb69s0lr100117\" class=\"btn-mas\">See more</a>\\n\\n\\n\\n\\t\\t\\t<!-- ACLARACIÃ\\x93N -->\\n\\t               \\n\\t    \\n\\t    </div>   \\n\\t    \\n\\t    \\n\\t\\t\\t    <div class=\"fila \">\\n\\t    \\t<div class=\"colum colum-200\">\\n\\t        \\t<h3>Chevrolet New Aveo + 2 Airbags</h3>\\n\\t        </div>\\n\\t        <div class=\"colum colum-fecha\">\\n\\t        December-2018\\t        </div>\\n\\t        \\n\\t        \\t        <div class=\"colum colum-240 adulto\">\\n\\t        \\t<div class=\"ico-1 \"></div>\\n\\t            \\t\\t\\t\\t\\t<div class=\"estrella-act \"></div>\\n\\t\\t\\t\\t\\t\\t\\t\\t\\t<div class=\"estrella-act \"></div>\\n\\t\\t\\t\\t\\t\\t\\t\\t\\t<div class=\"estrella \"></div>\\n\\t\\t\\t\\t\\t\\t\\t\\t\\t<div class=\"estrella \"></div>\\n\\t\\t\\t\\t\\t\\t\\t\\t\\t<div class=\"estrella \"></div>\\n\\t\\t\\t\\t\\t            <span class=\"detalle-ch\">23.76 max. 34.00 </span>\\n\\t        </div>\\n\\t        \\n\\t        <div class=\"colum colum-240 nino\">\\n\\t        \\t<div class=\"ico-2 \"></div>\\n\\t            \\t\\t\\t\\t\\t<div class=\"estrella-act \"></div>\\n\\t\\t\\t\\t\\t\\t\\t\\t\\t<div class=\"estrella-act \"></div>\\n\\t\\t\\t\\t\\t\\t\\t\\t\\t<div class=\"estrella-act \"></div>\\n\\t\\t\\t\\t\\t\\t\\t\\t\\t<div class=\"estrella-act \"></div>\\n\\t\\t\\t\\t\\t\\t\\t\\t\\t<div class=\"estrella \"></div>\\n\\t\\t\\t\\t\\t            <span class=\"detalle-ch\">37.02 max. 49.00 </span>\\n\\t        \\n\\t        \\n\\t        </div>\\n\\t        \\n\\t        <a href=\"en/result/117/chevrolet-new-aveo-%2B-2-airbags\" class=\"btn-mas\">See more</a>\\n\\n\\n\\n\\t\\t\\t<!-- ACLARACIÃ\\x93N -->\\n\\t               \\n\\t    \\n\\t    </div>   \\n\\t    \\n\\t    \\n\\t\\t\\t    <div class=\"fila \">\\n\\t    \\t<div class=\"colum colum-200\">\\n\\t        \\t<h3>Chevrolet Cruze + 4 Airbags</h3>\\n\\t        </div>\\n\\t        <div class=\"colum colum-fecha\">\\n\\t        November-2018\\t        </div>\\n\\t        \\n\\t        \\t        <div class=\"colum colum-240 adulto\">\\n\\t        \\t<div class=\"ico-1 \"></div>\\n\\t            \\t\\t\\t\\t\\t<div class=\"estrella-act \"></div>\\n\\t\\t\\t\\t\\t\\t\\t\\t\\t<div class=\"estrella-act \"></div>\\n\\t\\t\\t\\t\\t\\t\\t\\t\\t<div class=\"estrella-act \"></div>\\n\\t\\t\\t\\t\\t\\t\\t\\t\\t<div class=\"estrella-act \"></div>\\n\\t\\t\\t\\t\\t\\t\\t\\t\\t<div class=\"estrella \"></div>\\n\\t\\t\\t\\t\\t            <span class=\"detalle-ch\">30.23 max. 34.00 </span>\\n\\t        </div>\\n\\t        \\n\\t        <div class=\"colum colum-240 nino\">\\n\\t        \\t<div class=\"ico-2 \"></div>\\n\\t            \\t\\t\\t\\t\\t<div class=\"estrella-act \"></div>\\n\\t\\t\\t\\t\\t\\t\\t\\t\\t<div class=\"estrella-act \"></div>\\n\\t\\t\\t\\t\\t\\t\\t\\t\\t<div class=\"estrella-act \"></div>\\n\\t\\t\\t\\t\\t\\t\\t\\t\\t<div class=\"estrella-act \"></div>\\n\\t\\t\\t\\t\\t\\t\\t\\t\\t<div class=\"estrella \"></div>\\n\\t\\t\\t\\t\\t            <span class=\"detalle-ch\">38.75 max. 49.00 </span>\\n\\t        \\n\\t        \\n\\t        </div>\\n\\t        \\n\\t        <a href=\"en/result/114/chevrolet-cruze-%2B-4-airbags\" class=\"btn-mas\">See more</a>\\n\\n\\n\\n\\t\\t\\t<!-- ACLARACIÃ\\x93N -->\\n\\t               \\n\\t    \\n\\t    </div>   \\n\\t    \\n\\t    \\n\\t\\t\\t    <div class=\"fila \">\\n\\t    \\t<div class=\"colum colum-200\">\\n\\t        \\t<h3>Chevrolet Onix/Prisma + 2 Airbags (from 15/01/2018) VIN 9BGKS48U0JG313644</h3>\\n\\t        </div>\\n\\t        <div class=\"colum colum-fecha\">\\n\\t        January-2018\\t        </div>\\n\\t        \\n\\t        \\t        <div class=\"colum colum-240 adulto\">\\n\\t        \\t<div class=\"ico-1 \"></div>\\n\\t            \\t\\t\\t\\t\\t<div class=\"estrella-act \"></div>\\n\\t\\t\\t\\t\\t\\t\\t\\t\\t<div class=\"estrella-act \"></div>\\n\\t\\t\\t\\t\\t\\t\\t\\t\\t<div class=\"estrella-act \"></div>\\n\\t\\t\\t\\t\\t\\t\\t\\t\\t<div class=\"estrella \"></div>\\n\\t\\t\\t\\t\\t\\t\\t\\t\\t<div class=\"estrella \"></div>\\n\\t\\t\\t\\t\\t            <span class=\"detalle-ch\">20.24 max. 34.00 </span>\\n\\t        </div>\\n\\t        \\n\\t        <div class=\"colum colum-240 nino\">\\n\\t        \\t<div class=\"ico-2 \"></div>\\n\\t            \\t\\t\\t\\t\\t<div class=\"estrella-act \"></div>\\n\\t\\t\\t\\t\\t\\t\\t\\t\\t<div class=\"estrella-act \"></div>\\n\\t\\t\\t\\t\\t\\t\\t\\t\\t<div class=\"estrella-act \"></div>\\n\\t\\t\\t\\t\\t\\t\\t\\t\\t<div class=\"estrella \"></div>\\n\\t\\t\\t\\t\\t\\t\\t\\t\\t<div class=\"estrella \"></div>\\n\\t\\t\\t\\t\\t            <span class=\"detalle-ch\">32.59 max. 49.00 </span>\\n\\t        \\n\\t        \\n\\t        </div>\\n\\t        \\n\\t        <a href=\"en/result/103/chevrolet-onixprisma-%2B-2-airbags-from-15012018-vin-9bgks48u0jg313644\" class=\"btn-mas\">See more</a>\\n\\n\\n\\n\\t\\t\\t<!-- ACLARACIÃ\\x93N -->\\n\\t               \\n\\t    \\n\\t    </div>   \\n\\t    \\n\\t    \\n\\t\\t\\t    <div class=\"fila \">\\n\\t    \\t<div class=\"colum colum-200\">\\n\\t        \\t<h3>Chevrolet Aveo + 2 Airbags</h3>\\n\\t        </div>\\n\\t        <div class=\"colum colum-fecha\">\\n\\t        December-2017\\t        </div>\\n\\t        \\n\\t        \\t        <div class=\"colum colum-240 adulto\">\\n\\t        \\t<div class=\"ico-1 \"></div>\\n\\t            \\t\\t\\t\\t\\t<div class=\"estrella \"></div>\\n\\t\\t\\t\\t\\t\\t\\t\\t\\t<div class=\"estrella \"></div>\\n\\t\\t\\t\\t\\t\\t\\t\\t\\t<div class=\"estrella \"></div>\\n\\t\\t\\t\\t\\t\\t\\t\\t\\t<div class=\"estrella \"></div>\\n\\t\\t\\t\\t\\t\\t\\t\\t\\t<div class=\"estrella \"></div>\\n\\t\\t\\t\\t\\t            <span class=\"detalle-ch\">17.49 max. 34.00 </span>\\n\\t        </div>\\n\\t        \\n\\t        <div class=\"colum colum-240 nino\">\\n\\t        \\t<div class=\"ico-2 \"></div>\\n\\t            \\t\\t\\t\\t\\t<div class=\"estrella-act \"></div>\\n\\t\\t\\t\\t\\t\\t\\t\\t\\t<div class=\"estrella-act \"></div>\\n\\t\\t\\t\\t\\t\\t\\t\\t\\t<div class=\"estrella-act \"></div>\\n\\t\\t\\t\\t\\t\\t\\t\\t\\t<div class=\"estrella \"></div>\\n\\t\\t\\t\\t\\t\\t\\t\\t\\t<div class=\"estrella \"></div>\\n\\t\\t\\t\\t\\t            <span class=\"detalle-ch\">30.11 max. 49.00 </span>\\n\\t        \\n\\t        \\n\\t        </div>\\n\\t        \\n\\t        <a href=\"en/result/99/chevrolet-aveo-%2B-2-airbags\" class=\"btn-mas\">See more</a>\\n\\n\\n\\n\\t\\t\\t<!-- ACLARACIÃ\\x93N -->\\n\\t               \\n\\t    \\n\\t    </div>   \\n\\t    \\n\\t    \\n\\t\\t\\t    <div class=\"fila \">\\n\\t    \\t<div class=\"colum colum-200\">\\n\\t        \\t<h3>Chevrolet N300 (passengers) - NO Airbags</h3>\\n\\t        </div>\\n\\t        <div class=\"colum colum-fecha\">\\n\\t        August-2017\\t        </div>\\n\\t        \\n\\t        \\t        <div class=\"colum colum-240 adulto\">\\n\\t        \\t<div class=\"ico-1 \"></div>\\n\\t            \\t\\t\\t\\t\\t<div class=\"estrella \"></div>\\n\\t\\t\\t\\t\\t\\t\\t\\t\\t<div class=\"estrella \"></div>\\n\\t\\t\\t\\t\\t\\t\\t\\t\\t<div class=\"estrella \"></div>\\n\\t\\t\\t\\t\\t\\t\\t\\t\\t<div class=\"estrella \"></div>\\n\\t\\t\\t\\t\\t\\t\\t\\t\\t<div class=\"estrella \"></div>\\n\\t\\t\\t\\t\\t            <span class=\"detalle-ch\">11.92 max. 34.00 </span>\\n\\t        </div>\\n\\t        \\n\\t        <div class=\"colum colum-240 nino\">\\n\\t        \\t<div class=\"ico-2 \"></div>\\n\\t            \\t\\t\\t\\t\\t<div class=\"estrella-act \"></div>\\n\\t\\t\\t\\t\\t\\t\\t\\t\\t<div class=\"estrella \"></div>\\n\\t\\t\\t\\t\\t\\t\\t\\t\\t<div class=\"estrella \"></div>\\n\\t\\t\\t\\t\\t\\t\\t\\t\\t<div class=\"estrella \"></div>\\n\\t\\t\\t\\t\\t\\t\\t\\t\\t<div class=\"estrella \"></div>\\n\\t\\t\\t\\t\\t            <span class=\"detalle-ch\">13.28 max. 49.00 </span>\\n\\t        \\n\\t        \\n\\t        </div>\\n\\t        \\n\\t        <a href=\"en/result/91/chevrolet-n300-passengers-no-airbags\" class=\"btn-mas\">See more</a>\\n\\n\\n\\n\\t\\t\\t<!-- ACLARACIÃ\\x93N -->\\n\\t               \\n\\t    \\n\\t    </div>   \\n\\t    \\n\\t    \\n\\t\\t\\t    <div class=\"fila \">\\n\\t    \\t<div class=\"colum colum-200\">\\n\\t        \\t<h3>Chevrolet Onix + 2 Airbags</h3>\\n\\t        </div>\\n\\t        <div class=\"colum colum-fecha\">\\n\\t        May-2017\\t        </div>\\n\\t        \\n\\t        \\t        <div class=\"colum colum-240 adulto\">\\n\\t        \\t<div class=\"ico-1 \"></div>\\n\\t            \\t\\t\\t\\t\\t<div class=\"estrella \"></div>\\n\\t\\t\\t\\t\\t\\t\\t\\t\\t<div class=\"estrella \"></div>\\n\\t\\t\\t\\t\\t\\t\\t\\t\\t<div class=\"estrella \"></div>\\n\\t\\t\\t\\t\\t\\t\\t\\t\\t<div class=\"estrella \"></div>\\n\\t\\t\\t\\t\\t\\t\\t\\t\\t<div class=\"estrella \"></div>\\n\\t\\t\\t\\t\\t            <span class=\"detalle-ch\">0 max. 34.00 </span>\\n\\t        </div>\\n\\t        \\n\\t        <div class=\"colum colum-240 nino\">\\n\\t        \\t<div class=\"ico-2 \"></div>\\n\\t            \\t\\t\\t\\t\\t<div class=\"estrella-act \"></div>\\n\\t\\t\\t\\t\\t\\t\\t\\t\\t<div class=\"estrella-act \"></div>\\n\\t\\t\\t\\t\\t\\t\\t\\t\\t<div class=\"estrella-act \"></div>\\n\\t\\t\\t\\t\\t\\t\\t\\t\\t<div class=\"estrella \"></div>\\n\\t\\t\\t\\t\\t\\t\\t\\t\\t<div class=\"estrella \"></div>\\n\\t\\t\\t\\t\\t            <span class=\"detalle-ch\">27.38 max. 49.00 </span>\\n\\t        \\n\\t        \\n\\t        </div>\\n\\t        \\n\\t        <a href=\"en/result/89/chevrolet-onix-%2B-2-airbags\" class=\"btn-mas\">See more</a>\\n\\n\\n\\n\\t\\t\\t<!-- ACLARACIÃ\\x93N -->\\n\\t               \\n\\t    \\n\\t    </div>   \\n\\t    \\n\\t    \\n\\t\\t\\t    <div class=\"fila \">\\n\\t    \\t<div class=\"colum colum-200\">\\n\\t        \\t<h3>Chevrolet Spark GT / Beat - NO Airbags</h3>\\n\\t        </div>\\n\\t        <div class=\"colum colum-fecha\">\\n\\t        September-2016\\t        </div>\\n\\t        \\n\\t        \\t        <div class=\"colum colum-240 adulto\">\\n\\t        \\t<div class=\"ico-1 \"></div>\\n\\t            \\t\\t\\t\\t\\t<div class=\"estrella \"></div>\\n\\t\\t\\t\\t\\t\\t\\t\\t\\t<div class=\"estrella \"></div>\\n\\t\\t\\t\\t\\t\\t\\t\\t\\t<div class=\"estrella \"></div>\\n\\t\\t\\t\\t\\t\\t\\t\\t\\t<div class=\"estrella \"></div>\\n\\t\\t\\t\\t\\t\\t\\t\\t\\t<div class=\"estrella \"></div>\\n\\t\\t\\t\\t\\t            <span class=\"detalle-ch\">0.00 max. 34.00 </span>\\n\\t        </div>\\n\\t        \\n\\t        <div class=\"colum colum-240 nino\">\\n\\t        \\t<div class=\"ico-2 \"></div>\\n\\t            \\t\\t\\t\\t\\t<div class=\"estrella \"></div>\\n\\t\\t\\t\\t\\t\\t\\t\\t\\t<div class=\"estrella \"></div>\\n\\t\\t\\t\\t\\t\\t\\t\\t\\t<div class=\"estrella \"></div>\\n\\t\\t\\t\\t\\t\\t\\t\\t\\t<div class=\"estrella \"></div>\\n\\t\\t\\t\\t\\t\\t\\t\\t\\t<div class=\"estrella \"></div>\\n\\t\\t\\t\\t\\t            <span class=\"detalle-ch\">8.78 max. 49.00 </span>\\n\\t        \\n\\t        \\n\\t        </div>\\n\\t        \\n\\t        <a href=\"en/result/82/chevrolet-spark-gt--beat-no-airbags\" class=\"btn-mas\">See more</a>\\n\\n\\n\\n\\t\\t\\t<!-- ACLARACIÃ\\x93N -->\\n\\t               \\n\\t    \\n\\t    </div>   \\n\\t    \\n\\t    \\n\\t\\t\\t    <div class=\"fila \">\\n\\t    \\t<div class=\"colum colum-200\">\\n\\t        \\t<h3>Chevrolet Sail - NO Airbags</h3>\\n\\t        </div>\\n\\t        <div class=\"colum colum-fecha\">\\n\\t        April-2016\\t        </div>\\n\\t        \\n\\t        \\t        <div class=\"colum colum-240 adulto\">\\n\\t        \\t<div class=\"ico-1 \"></div>\\n\\t            \\t\\t\\t\\t\\t<div class=\"estrella \"></div>\\n\\t\\t\\t\\t\\t\\t\\t\\t\\t<div class=\"estrella \"></div>\\n\\t\\t\\t\\t\\t\\t\\t\\t\\t<div class=\"estrella \"></div>\\n\\t\\t\\t\\t\\t\\t\\t\\t\\t<div class=\"estrella \"></div>\\n\\t\\t\\t\\t\\t\\t\\t\\t\\t<div class=\"estrella \"></div>\\n\\t\\t\\t\\t\\t            <span class=\"detalle-ch\">0.00 max. 34.00 </span>\\n\\t        </div>\\n\\t        \\n\\t        <div class=\"colum colum-240 nino\">\\n\\t        \\t<div class=\"ico-2 \"></div>\\n\\t            \\t\\t\\t\\t\\t<div class=\"estrella-act \"></div>\\n\\t\\t\\t\\t\\t\\t\\t\\t\\t<div class=\"estrella-act \"></div>\\n\\t\\t\\t\\t\\t\\t\\t\\t\\t<div class=\"estrella \"></div>\\n\\t\\t\\t\\t\\t\\t\\t\\t\\t<div class=\"estrella \"></div>\\n\\t\\t\\t\\t\\t\\t\\t\\t\\t<div class=\"estrella \"></div>\\n\\t\\t\\t\\t\\t            <span class=\"detalle-ch\">23.21 max. 49.00 </span>\\n\\t        \\n\\t        \\n\\t        </div>\\n\\t        \\n\\t        <a href=\"en/result/77/chevrolet-sail-no-airbags\" class=\"btn-mas\">See more</a>\\n\\n\\n\\n\\t\\t\\t<!-- ACLARACIÃ\\x93N -->\\n\\t               \\n\\t    \\n\\t    </div>   \\n\\t    \\n\\t    \\n\\t\\t\\t        <div class=\"fila-tit\">\\n\\t            \\t            <img class=\"img-marca\" src=\"data/marcas/3.jpg?11445\" width=\"65\"/>\\n\\t            \\t            <span class=\"tit-marca\">Fiat</span>\\n\\t        </div>            \\n\\t    \\t    <div class=\"fila \">\\n\\t    \\t<div class=\"colum colum-200\">\\n\\t        \\t<h3>Fiat Argo / Cronos + 2 Airbags</h3>\\n\\t        </div>\\n\\t        <div class=\"colum colum-fecha\">\\n\\t        July-2019\\t        </div>\\n\\t        \\n\\t        \\t        <div class=\"colum colum-240 adulto\">\\n\\t        \\t<div class=\"ico-1 \"></div>\\n\\t            \\t\\t\\t\\t\\t<div class=\"estrella \"></div>\\n\\t\\t\\t\\t\\t\\t\\t\\t\\t<div class=\"estrella \"></div>\\n\\t\\t\\t\\t\\t\\t\\t\\t\\t<div class=\"estrella \"></div>\\n\\t\\t\\t\\t\\t\\t\\t\\t\\t<div class=\"estrella \"></div>\\n\\t\\t\\t\\t\\t\\t\\t\\t\\t<div class=\"estrella \"></div>\\n\\t\\t\\t\\t\\t            <span class=\"detalle-ch\">24.41 max. 34.00 </span>\\n\\t        </div>\\n\\t        \\n\\t        <div class=\"colum colum-240 nino\">\\n\\t        \\t<div class=\"ico-2 \"></div>\\n\\t            \\t\\t\\t\\t\\t<div class=\"estrella-act \"></div>\\n\\t\\t\\t\\t\\t\\t\\t\\t\\t<div class=\"estrella-act \"></div>\\n\\t\\t\\t\\t\\t\\t\\t\\t\\t<div class=\"estrella-act \"></div>\\n\\t\\t\\t\\t\\t\\t\\t\\t\\t<div class=\"estrella-act \"></div>\\n\\t\\t\\t\\t\\t\\t\\t\\t\\t<div class=\"estrella \"></div>\\n\\t\\t\\t\\t\\t            <span class=\"detalle-ch\">37.47 max. 49.00 </span>\\n\\t        \\n\\t        \\n\\t        </div>\\n\\t        \\n\\t        <a href=\"en/result/123/fiat-argo--cronos-%2B-2-airbags\" class=\"btn-mas\">See more</a>\\n\\n\\n\\n\\t\\t\\t<!-- ACLARACIÃ\\x93N -->\\n\\t               \\n\\t    \\n\\t    </div>   \\n\\t    \\n\\t    \\n\\t\\t\\t    <div class=\"fila \">\\n\\t    \\t<div class=\"colum colum-200\">\\n\\t        \\t<h3>Fiat 500X + 6 Airbags</h3>\\n\\t        </div>\\n\\t        <div class=\"colum colum-fecha\">\\n\\t        November-2018\\t        </div>\\n\\t        \\n\\t        \\t        <div class=\"colum colum-240 adulto\">\\n\\t        \\t<div class=\"ico-1 \"></div>\\n\\t            \\t\\t\\t\\t\\t<div class=\"estrella-act \"></div>\\n\\t\\t\\t\\t\\t\\t\\t\\t\\t<div class=\"estrella-act \"></div>\\n\\t\\t\\t\\t\\t\\t\\t\\t\\t<div class=\"estrella-act \"></div>\\n\\t\\t\\t\\t\\t\\t\\t\\t\\t<div class=\"estrella-act \"></div>\\n\\t\\t\\t\\t\\t\\t\\t\\t\\t<div class=\"estrella-act \"></div>\\n\\t\\t\\t\\t\\t            <span class=\"detalle-ch\">32.55 max. 34.00 </span>\\n\\t        </div>\\n\\t        \\n\\t        <div class=\"colum colum-240 nino\">\\n\\t        \\t<div class=\"ico-2 \"></div>\\n\\t            \\t\\t\\t\\t\\t<div class=\"estrella-act \"></div>\\n\\t\\t\\t\\t\\t\\t\\t\\t\\t<div class=\"estrella-act \"></div>\\n\\t\\t\\t\\t\\t\\t\\t\\t\\t<div class=\"estrella-act \"></div>\\n\\t\\t\\t\\t\\t\\t\\t\\t\\t<div class=\"estrella-act \"></div>\\n\\t\\t\\t\\t\\t\\t\\t\\t\\t<div class=\"estrella-act \"></div>\\n\\t\\t\\t\\t\\t            <span class=\"detalle-ch\">43.13 max. 49.00 </span>\\n\\t        \\n\\t        \\n\\t        </div>\\n\\t        \\n\\t        <a href=\"en/result/113/fiat-500x-%2B-6-airbags\" class=\"btn-mas\">See more</a>\\n\\n\\n\\n\\t\\t\\t<!-- ACLARACIÃ\\x93N -->\\n\\t               \\n\\t    \\n\\t    </div>   \\n\\t    \\n\\t    \\n\\t\\t\\t    <div class=\"fila \">\\n\\t    \\t<div class=\"colum colum-200\">\\n\\t        \\t<h3>Fiat Toro + 2 Airbags</h3>\\n\\t        </div>\\n\\t        <div class=\"colum colum-fecha\">\\n\\t        March-2018\\t        </div>\\n\\t        \\n\\t        \\t        <div class=\"colum colum-240 adulto\">\\n\\t        \\t<div class=\"ico-1 \"></div>\\n\\t            \\t\\t\\t\\t\\t<div class=\"estrella-act \"></div>\\n\\t\\t\\t\\t\\t\\t\\t\\t\\t<div class=\"estrella-act \"></div>\\n\\t\\t\\t\\t\\t\\t\\t\\t\\t<div class=\"estrella-act \"></div>\\n\\t\\t\\t\\t\\t\\t\\t\\t\\t<div class=\"estrella-act \"></div>\\n\\t\\t\\t\\t\\t\\t\\t\\t\\t<div class=\"estrella \"></div>\\n\\t\\t\\t\\t\\t            <span class=\"detalle-ch\">29.40 max. 34.00 </span>\\n\\t        </div>\\n\\t        \\n\\t        <div class=\"colum colum-240 nino\">\\n\\t        \\t<div class=\"ico-2 \"></div>\\n\\t            \\t\\t\\t\\t\\t<div class=\"estrella-act \"></div>\\n\\t\\t\\t\\t\\t\\t\\t\\t\\t<div class=\"estrella-act \"></div>\\n\\t\\t\\t\\t\\t\\t\\t\\t\\t<div class=\"estrella-act \"></div>\\n\\t\\t\\t\\t\\t\\t\\t\\t\\t<div class=\"estrella-act \"></div>\\n\\t\\t\\t\\t\\t\\t\\t\\t\\t<div class=\"estrella \"></div>\\n\\t\\t\\t\\t\\t            <span class=\"detalle-ch\">36.90 max. 49.00 </span>\\n\\t        \\n\\t        \\n\\t        </div>\\n\\t        \\n\\t        <a href=\"en/result/104/fiat-toro-%2B-2-airbags\" class=\"btn-mas\">See more</a>\\n\\n\\n\\n\\t\\t\\t<!-- ACLARACIÃ\\x93N -->\\n\\t               \\n\\t    \\n\\t    </div>   \\n\\t    \\n\\t    \\n\\t\\t\\t    <div class=\"fila \">\\n\\t    \\t<div class=\"colum colum-200\">\\n\\t        \\t<h3>Fiat Mobi + 2 Airbags</h3>\\n\\t        </div>\\n\\t        <div class=\"colum colum-fecha\">\\n\\t        August-2017\\t        </div>\\n\\t        \\n\\t        \\t        <div class=\"colum colum-240 adulto\">\\n\\t        \\t<div class=\"ico-1 \"></div>\\n\\t            \\t\\t\\t\\t\\t<div class=\"estrella-act \"></div>\\n\\t\\t\\t\\t\\t\\t\\t\\t\\t<div class=\"estrella \"></div>\\n\\t\\t\\t\\t\\t\\t\\t\\t\\t<div class=\"estrella \"></div>\\n\\t\\t\\t\\t\\t\\t\\t\\t\\t<div class=\"estrella \"></div>\\n\\t\\t\\t\\t\\t\\t\\t\\t\\t<div class=\"estrella \"></div>\\n\\t\\t\\t\\t\\t            <span class=\"detalle-ch\">19.20 max. 34.00 </span>\\n\\t        </div>\\n\\t        \\n\\t        <div class=\"colum colum-240 nino\">\\n\\t        \\t<div class=\"ico-2 \"></div>\\n\\t            \\t\\t\\t\\t\\t<div class=\"estrella-act \"></div>\\n\\t\\t\\t\\t\\t\\t\\t\\t\\t<div class=\"estrella-act \"></div>\\n\\t\\t\\t\\t\\t\\t\\t\\t\\t<div class=\"estrella \"></div>\\n\\t\\t\\t\\t\\t\\t\\t\\t\\t<div class=\"estrella \"></div>\\n\\t\\t\\t\\t\\t\\t\\t\\t\\t<div class=\"estrella \"></div>\\n\\t\\t\\t\\t\\t            <span class=\"detalle-ch\">26.98 max. 49.00 </span>\\n\\t        \\n\\t        \\n\\t        </div>\\n\\t        \\n\\t        <a href=\"en/result/93/fiat-mobi-%2B-2-airbags\" class=\"btn-mas\">See more</a>\\n\\n\\n\\n\\t\\t\\t<!-- ACLARACIÃ\\x93N -->\\n\\t               \\n\\t    \\n\\t    </div>   \\n\\t    \\n\\t    \\n\\t\\t\\t    <div class=\"fila \">\\n\\t    \\t<div class=\"colum colum-200\">\\n\\t        \\t<h3>Fiat New Palio + 2 Airbags</h3>\\n\\t        </div>\\n\\t        <div class=\"colum colum-fecha\">\\n\\t        August-2016\\t        </div>\\n\\t        \\n\\t        \\t        <div class=\"colum colum-240 adulto\">\\n\\t        \\t<div class=\"ico-1 \"></div>\\n\\t            \\t\\t\\t\\t\\t<div class=\"estrella-act \"></div>\\n\\t\\t\\t\\t\\t\\t\\t\\t\\t<div class=\"estrella \"></div>\\n\\t\\t\\t\\t\\t\\t\\t\\t\\t<div class=\"estrella \"></div>\\n\\t\\t\\t\\t\\t\\t\\t\\t\\t<div class=\"estrella \"></div>\\n\\t\\t\\t\\t\\t\\t\\t\\t\\t<div class=\"estrella \"></div>\\n\\t\\t\\t\\t\\t            <span class=\"detalle-ch\">18.09 max. 34.00 </span>\\n\\t        </div>\\n\\t        \\n\\t        <div class=\"colum colum-240 nino\">\\n\\t        \\t<div class=\"ico-2 \"></div>\\n\\t            \\t\\t\\t\\t\\t<div class=\"estrella-act \"></div>\\n\\t\\t\\t\\t\\t\\t\\t\\t\\t<div class=\"estrella-act \"></div>\\n\\t\\t\\t\\t\\t\\t\\t\\t\\t<div class=\"estrella-act \"></div>\\n\\t\\t\\t\\t\\t\\t\\t\\t\\t<div class=\"estrella \"></div>\\n\\t\\t\\t\\t\\t\\t\\t\\t\\t<div class=\"estrella \"></div>\\n\\t\\t\\t\\t\\t            <span class=\"detalle-ch\">31.57 max. 49.00 </span>\\n\\t        \\n\\t        \\n\\t        </div>\\n\\t        \\n\\t        <a href=\"en/result/81/fiat-new-palio-%2B-2-airbags\" class=\"btn-mas\">See more</a>\\n\\n\\n\\n\\t\\t\\t<!-- ACLARACIÃ\\x93N -->\\n\\t               \\n\\t    \\n\\t    </div>   \\n\\t    \\n\\t    \\n\\t\\t\\t        <div class=\"fila-tit\">\\n\\t            \\t            <img class=\"img-marca\" src=\"data/marcas/7.jpg?27762\" width=\"65\"/>\\n\\t            \\t            <span class=\"tit-marca\">Ford</span>\\n\\t        </div>            \\n\\t    \\t    <div class=\"fila \">\\n\\t    \\t<div class=\"colum colum-200\">\\n\\t        \\t<h3>Ford Ranger + 3 Airbags (From Dic 2019)</h3>\\n\\t        </div>\\n\\t        <div class=\"colum colum-fecha\">\\n\\t        December-2019\\t        </div>\\n\\t        \\n\\t        \\t        <div class=\"colum colum-240 adulto\">\\n\\t        \\t<div class=\"ico-1 \"></div>\\n\\t            \\t\\t\\t\\t\\t<div class=\"estrella-act \"></div>\\n\\t\\t\\t\\t\\t\\t\\t\\t\\t<div class=\"estrella-act \"></div>\\n\\t\\t\\t\\t\\t\\t\\t\\t\\t<div class=\"estrella-act \"></div>\\n\\t\\t\\t\\t\\t\\t\\t\\t\\t<div class=\"estrella-act \"></div>\\n\\t\\t\\t\\t\\t\\t\\t\\t\\t<div class=\"estrella \"></div>\\n\\t\\t\\t\\t\\t            <span class=\"detalle-ch\">30.62 max. 34.00 </span>\\n\\t        </div>\\n\\t        \\n\\t        <div class=\"colum colum-240 nino\">\\n\\t        \\t<div class=\"ico-2 \"></div>\\n\\t            \\t\\t\\t\\t\\t<div class=\"estrella-act \"></div>\\n\\t\\t\\t\\t\\t\\t\\t\\t\\t<div class=\"estrella-act \"></div>\\n\\t\\t\\t\\t\\t\\t\\t\\t\\t<div class=\"estrella-act \"></div>\\n\\t\\t\\t\\t\\t\\t\\t\\t\\t<div class=\"estrella-act \"></div>\\n\\t\\t\\t\\t\\t\\t\\t\\t\\t<div class=\"estrella \"></div>\\n\\t\\t\\t\\t\\t            <span class=\"detalle-ch\">39.67 max. 49.00 </span>\\n\\t        \\n\\t        \\n\\t        </div>\\n\\t        \\n\\t        <a href=\"en/result/144/ford-ranger-%2B-3-airbags-from-dic-2019\" class=\"btn-mas\">See more</a>\\n\\n\\n\\n\\t\\t\\t<!-- ACLARACIÃ\\x93N -->\\n\\t               \\n\\t    \\n\\t    </div>   \\n\\t    \\n\\t    \\n\\t\\t\\t    <div class=\"fila \">\\n\\t    \\t<div class=\"colum colum-200\">\\n\\t        \\t<h3>Ford Figo + 4 Airbags (from  24/08/2018) VIN MAJTKNFZ0KTT67367</h3>\\n\\t        </div>\\n\\t        <div class=\"colum colum-fecha\">\\n\\t        September-2019\\t        </div>\\n\\t        \\n\\t        \\t        <div class=\"colum colum-240 adulto\">\\n\\t        \\t<div class=\"ico-1 \"></div>\\n\\t            \\t\\t\\t\\t\\t<div class=\"estrella-act \"></div>\\n\\t\\t\\t\\t\\t\\t\\t\\t\\t<div class=\"estrella-act \"></div>\\n\\t\\t\\t\\t\\t\\t\\t\\t\\t<div class=\"estrella-act \"></div>\\n\\t\\t\\t\\t\\t\\t\\t\\t\\t<div class=\"estrella-act \"></div>\\n\\t\\t\\t\\t\\t\\t\\t\\t\\t<div class=\"estrella \"></div>\\n\\t\\t\\t\\t\\t            <span class=\"detalle-ch\">24.76 max. 34.00 </span>\\n\\t        </div>\\n\\t        \\n\\t        <div class=\"colum colum-240 nino\">\\n\\t        \\t<div class=\"ico-2 \"></div>\\n\\t            \\t\\t\\t\\t\\t<div class=\"estrella-act \"></div>\\n\\t\\t\\t\\t\\t\\t\\t\\t\\t<div class=\"estrella-act \"></div>\\n\\t\\t\\t\\t\\t\\t\\t\\t\\t<div class=\"estrella-act \"></div>\\n\\t\\t\\t\\t\\t\\t\\t\\t\\t<div class=\"estrella-act \"></div>\\n\\t\\t\\t\\t\\t\\t\\t\\t\\t<div class=\"estrella \"></div>\\n\\t\\t\\t\\t\\t            <span class=\"detalle-ch\">35.35 max. 49.00 </span>\\n\\t        \\n\\t        \\n\\t        </div>\\n\\t        \\n\\t        <a href=\"en/result/132/ford-figo-%2B-4-airbags-from24082018-vin-majtknfz0ktt67367\" class=\"btn-mas\">See more</a>\\n\\n\\n\\n\\t\\t\\t<!-- ACLARACIÃ\\x93N -->\\n\\t               \\n\\t    \\n\\t    </div>   \\n\\t    \\n\\t    \\n\\t\\t\\t    <div class=\"fila \">\\n\\t    \\t<div class=\"colum colum-200\">\\n\\t        \\t<h3>Ford KA + 2 Airbags (from 12/06/2018) VIN 9B9BFZH55U7K8206502</h3>\\n\\t        </div>\\n\\t        <div class=\"colum colum-fecha\">\\n\\t        September-2018\\t        </div>\\n\\t        \\n\\t        \\t        <div class=\"colum colum-240 adulto\">\\n\\t        \\t<div class=\"ico-1 \"></div>\\n\\t            \\t\\t\\t\\t\\t<div class=\"estrella-act \"></div>\\n\\t\\t\\t\\t\\t\\t\\t\\t\\t<div class=\"estrella-act \"></div>\\n\\t\\t\\t\\t\\t\\t\\t\\t\\t<div class=\"estrella-act \"></div>\\n\\t\\t\\t\\t\\t\\t\\t\\t\\t<div class=\"estrella \"></div>\\n\\t\\t\\t\\t\\t\\t\\t\\t\\t<div class=\"estrella \"></div>\\n\\t\\t\\t\\t\\t            <span class=\"detalle-ch\">22.83 max. 34.00 </span>\\n\\t        </div>\\n\\t        \\n\\t        <div class=\"colum colum-240 nino\">\\n\\t        \\t<div class=\"ico-2 \"></div>\\n\\t            \\t\\t\\t\\t\\t<div class=\"estrella-act \"></div>\\n\\t\\t\\t\\t\\t\\t\\t\\t\\t<div class=\"estrella-act \"></div>\\n\\t\\t\\t\\t\\t\\t\\t\\t\\t<div class=\"estrella-act \"></div>\\n\\t\\t\\t\\t\\t\\t\\t\\t\\t<div class=\"estrella-act \"></div>\\n\\t\\t\\t\\t\\t\\t\\t\\t\\t<div class=\"estrella \"></div>\\n\\t\\t\\t\\t\\t            <span class=\"detalle-ch\">35.41 max. 49.00 </span>\\n\\t        \\n\\t        \\n\\t        </div>\\n\\t        \\n\\t        <a href=\"en/result/110/ford-ka-%2B-2-airbags-from-12062018-vin-9b9bfzh55u7k8206502\" class=\"btn-mas\">See more</a>\\n\\n\\n\\n\\t\\t\\t<!-- ACLARACIÃ\\x93N -->\\n\\t               \\n\\t    \\n\\t    </div>   \\n\\t    \\n\\t    \\n\\t\\t\\t    <div class=\"fila \">\\n\\t    \\t<div class=\"colum colum-200\">\\n\\t        \\t<h3>Ford Ka / Figo + 2 Airbags</h3>\\n\\t        </div>\\n\\t        <div class=\"colum colum-fecha\">\\n\\t        October-2017\\t        </div>\\n\\t        \\n\\t        \\t        <div class=\"colum colum-240 adulto\">\\n\\t        \\t<div class=\"ico-1 \"></div>\\n\\t            \\t\\t\\t\\t\\t<div class=\"estrella \"></div>\\n\\t\\t\\t\\t\\t\\t\\t\\t\\t<div class=\"estrella \"></div>\\n\\t\\t\\t\\t\\t\\t\\t\\t\\t<div class=\"estrella \"></div>\\n\\t\\t\\t\\t\\t\\t\\t\\t\\t<div class=\"estrella \"></div>\\n\\t\\t\\t\\t\\t\\t\\t\\t\\t<div class=\"estrella \"></div>\\n\\t\\t\\t\\t\\t            <span class=\"detalle-ch\">0.00 max. 34.00 </span>\\n\\t        </div>\\n\\t        \\n\\t        <div class=\"colum colum-240 nino\">\\n\\t        \\t<div class=\"ico-2 \"></div>\\n\\t            \\t\\t\\t\\t\\t<div class=\"estrella-act \"></div>\\n\\t\\t\\t\\t\\t\\t\\t\\t\\t<div class=\"estrella-act \"></div>\\n\\t\\t\\t\\t\\t\\t\\t\\t\\t<div class=\"estrella-act \"></div>\\n\\t\\t\\t\\t\\t\\t\\t\\t\\t<div class=\"estrella \"></div>\\n\\t\\t\\t\\t\\t\\t\\t\\t\\t<div class=\"estrella \"></div>\\n\\t\\t\\t\\t\\t            <span class=\"detalle-ch\">33.51 max. 49.00 </span>\\n\\t        \\n\\t        \\n\\t        </div>\\n\\t        \\n\\t        <a href=\"en/result/97/ford-ka--figo-%2B-2-airbags\" class=\"btn-mas\">See more</a>\\n\\n\\n\\n\\t\\t\\t<!-- ACLARACIÃ\\x93N -->\\n\\t               \\n\\t    \\n\\t    </div>   \\n\\t    \\n\\t    \\n\\t\\t\\t    <div class=\"fila \">\\n\\t    \\t<div class=\"colum colum-200\">\\n\\t        \\t<h3>Ford Ranger + 3 Airbags</h3>\\n\\t        </div>\\n\\t        <div class=\"colum colum-fecha\">\\n\\t        April-2016\\t        </div>\\n\\t        \\n\\t        \\t        <div class=\"colum colum-240 adulto\">\\n\\t        \\t<div class=\"ico-1 \"></div>\\n\\t            \\t\\t\\t\\t\\t<div class=\"estrella-act \"></div>\\n\\t\\t\\t\\t\\t\\t\\t\\t\\t<div class=\"estrella-act \"></div>\\n\\t\\t\\t\\t\\t\\t\\t\\t\\t<div class=\"estrella-act \"></div>\\n\\t\\t\\t\\t\\t\\t\\t\\t\\t<div class=\"estrella \"></div>\\n\\t\\t\\t\\t\\t\\t\\t\\t\\t<div class=\"estrella \"></div>\\n\\t\\t\\t\\t\\t            <span class=\"detalle-ch\">30.62 max. 34.00 </span>\\n\\t        </div>\\n\\t        \\n\\t        <div class=\"colum colum-240 nino\">\\n\\t        \\t<div class=\"ico-2 \"></div>\\n\\t            \\t\\t\\t\\t\\t<div class=\"estrella-act \"></div>\\n\\t\\t\\t\\t\\t\\t\\t\\t\\t<div class=\"estrella-act \"></div>\\n\\t\\t\\t\\t\\t\\t\\t\\t\\t<div class=\"estrella-act \"></div>\\n\\t\\t\\t\\t\\t\\t\\t\\t\\t<div class=\"estrella-act \"></div>\\n\\t\\t\\t\\t\\t\\t\\t\\t\\t<div class=\"estrella \"></div>\\n\\t\\t\\t\\t\\t            <span class=\"detalle-ch\">40.17 max. 49.00 </span>\\n\\t        \\n\\t        \\n\\t        </div>\\n\\t        \\n\\t        <a href=\"en/result/76/ford-ranger-%2B-3-airbags\" class=\"btn-mas\">See more</a>\\n\\n\\n\\n\\t\\t\\t<!-- ACLARACIÃ\\x93N -->\\n\\t               \\n\\t    \\n\\t    </div>   \\n\\t    \\n\\t    \\n\\t\\t\\t        <div class=\"fila-tit\">\\n\\t            \\t            <img class=\"img-marca\" src=\"data/marcas/12.jpg?23037\" width=\"65\"/>\\n\\t            \\t            <span class=\"tit-marca\">Hyundai</span>\\n\\t        </div>            \\n\\t    \\t    <div class=\"fila \">\\n\\t    \\t<div class=\"colum colum-200\">\\n\\t        \\t<h3>Hyundai HB20 Hatchback + 2 Airbags</h3>\\n\\t        </div>\\n\\t        <div class=\"colum colum-fecha\">\\n\\t        December-2019\\t        </div>\\n\\t        \\n\\t        \\t        <div class=\"colum colum-240 adulto\">\\n\\t        \\t<div class=\"ico-1 \"></div>\\n\\t            \\t\\t\\t\\t\\t<div class=\"estrella-act \"></div>\\n\\t\\t\\t\\t\\t\\t\\t\\t\\t<div class=\"estrella \"></div>\\n\\t\\t\\t\\t\\t\\t\\t\\t\\t<div class=\"estrella \"></div>\\n\\t\\t\\t\\t\\t\\t\\t\\t\\t<div class=\"estrella \"></div>\\n\\t\\t\\t\\t\\t\\t\\t\\t\\t<div class=\"estrella \"></div>\\n\\t\\t\\t\\t\\t            <span class=\"detalle-ch\">21.97 max. 34.00 </span>\\n\\t        </div>\\n\\t        \\n\\t        <div class=\"colum colum-240 nino\">\\n\\t        \\t<div class=\"ico-2 \"></div>\\n\\t            \\t\\t\\t\\t\\t<div class=\"estrella-act \"></div>\\n\\t\\t\\t\\t\\t\\t\\t\\t\\t<div class=\"estrella-act \"></div>\\n\\t\\t\\t\\t\\t\\t\\t\\t\\t<div class=\"estrella-act \"></div>\\n\\t\\t\\t\\t\\t\\t\\t\\t\\t<div class=\"estrella \"></div>\\n\\t\\t\\t\\t\\t\\t\\t\\t\\t<div class=\"estrella \"></div>\\n\\t\\t\\t\\t\\t            <span class=\"detalle-ch\">29.64 max. 49.00 </span>\\n\\t        \\n\\t        \\n\\t        </div>\\n\\t        \\n\\t        <a href=\"en/result/140/hyundai-hb20-hatchback-%2B-2-airbags\" class=\"btn-mas\">See more</a>\\n\\n\\n\\n\\t\\t\\t<!-- ACLARACIÃ\\x93N -->\\n\\t               \\n\\t    \\n\\t    </div>   \\n\\t    \\n\\t    \\n\\t\\t\\t    <div class=\"fila \">\\n\\t    \\t<div class=\"colum colum-200\">\\n\\t        \\t<h3>Hyundai Accent NO Airbags</h3>\\n\\t        </div>\\n\\t        <div class=\"colum colum-fecha\">\\n\\t        September-2018\\t        </div>\\n\\t        \\n\\t        \\t        <div class=\"colum colum-240 adulto\">\\n\\t        \\t<div class=\"ico-1 \"></div>\\n\\t            \\t\\t\\t\\t\\t<div class=\"estrella \"></div>\\n\\t\\t\\t\\t\\t\\t\\t\\t\\t<div class=\"estrella \"></div>\\n\\t\\t\\t\\t\\t\\t\\t\\t\\t<div class=\"estrella \"></div>\\n\\t\\t\\t\\t\\t\\t\\t\\t\\t<div class=\"estrella \"></div>\\n\\t\\t\\t\\t\\t\\t\\t\\t\\t<div class=\"estrella \"></div>\\n\\t\\t\\t\\t\\t            <span class=\"detalle-ch\">0.00 max. 34.00 </span>\\n\\t        </div>\\n\\t        \\n\\t        <div class=\"colum colum-240 nino\">\\n\\t        \\t<div class=\"ico-2 \"></div>\\n\\t            \\t\\t\\t\\t\\t<div class=\"estrella-act \"></div>\\n\\t\\t\\t\\t\\t\\t\\t\\t\\t<div class=\"estrella \"></div>\\n\\t\\t\\t\\t\\t\\t\\t\\t\\t<div class=\"estrella \"></div>\\n\\t\\t\\t\\t\\t\\t\\t\\t\\t<div class=\"estrella \"></div>\\n\\t\\t\\t\\t\\t\\t\\t\\t\\t<div class=\"estrella \"></div>\\n\\t\\t\\t\\t\\t            <span class=\"detalle-ch\">16.04 max. 49.00 </span>\\n\\t        \\n\\t        \\n\\t        </div>\\n\\t        \\n\\t        <a href=\"en/result/111/hyundai-accent-no-airbags\" class=\"btn-mas\">See more</a>\\n\\n\\n\\n\\t\\t\\t<!-- ACLARACIÃ\\x93N -->\\n\\t               \\n\\t    \\n\\t    </div>   \\n\\t    \\n\\t    \\n\\t\\t\\t        <div class=\"fila-tit\">\\n\\t            \\t            <img class=\"img-marca\" src=\"data/marcas/20.jpg?10185\" width=\"65\"/>\\n\\t            \\t            <span class=\"tit-marca\">Kia</span>\\n\\t        </div>            \\n\\t    \\t    <div class=\"fila \">\\n\\t    \\t<div class=\"colum colum-200\">\\n\\t        \\t<h3>Kia New Rio Sedan + 1 Airbag</h3>\\n\\t        </div>\\n\\t        <div class=\"colum colum-fecha\">\\n\\t        August-2017\\t        </div>\\n\\t        \\n\\t        \\t        <div class=\"colum colum-240 adulto\">\\n\\t        \\t<div class=\"ico-1 \"></div>\\n\\t            \\t\\t\\t\\t\\t<div class=\"estrella-act \"></div>\\n\\t\\t\\t\\t\\t\\t\\t\\t\\t<div class=\"estrella-act \"></div>\\n\\t\\t\\t\\t\\t\\t\\t\\t\\t<div class=\"estrella \"></div>\\n\\t\\t\\t\\t\\t\\t\\t\\t\\t<div class=\"estrella \"></div>\\n\\t\\t\\t\\t\\t\\t\\t\\t\\t<div class=\"estrella \"></div>\\n\\t\\t\\t\\t\\t            <span class=\"detalle-ch\">23.55 max. 34.00 </span>\\n\\t        </div>\\n\\t        \\n\\t        <div class=\"colum colum-240 nino\">\\n\\t        \\t<div class=\"ico-2 \"></div>\\n\\t            \\t\\t\\t\\t\\t<div class=\"estrella-act \"></div>\\n\\t\\t\\t\\t\\t\\t\\t\\t\\t<div class=\"estrella-act \"></div>\\n\\t\\t\\t\\t\\t\\t\\t\\t\\t<div class=\"estrella \"></div>\\n\\t\\t\\t\\t\\t\\t\\t\\t\\t<div class=\"estrella \"></div>\\n\\t\\t\\t\\t\\t\\t\\t\\t\\t<div class=\"estrella \"></div>\\n\\t\\t\\t\\t\\t            <span class=\"detalle-ch\">18.27 max. 49.00 </span>\\n\\t        \\n\\t        \\n\\t        </div>\\n\\t        \\n\\t        <a href=\"en/result/94/kia-new-rio-sedan-%2B-1-airbag\" class=\"btn-mas\">See more</a>\\n\\n\\n\\n\\t\\t\\t<!-- ACLARACIÃ\\x93N -->\\n\\t               \\n\\t    \\n\\t    </div>   \\n\\t    \\n\\t    \\n\\t\\t\\t    <div class=\"fila \">\\n\\t    \\t<div class=\"colum colum-200\">\\n\\t        \\t<h3>Kia Rio Sedan - NO Airbags</h3>\\n\\t        </div>\\n\\t        <div class=\"colum colum-fecha\">\\n\\t        May-2017\\t        </div>\\n\\t        \\n\\t        \\t        <div class=\"colum colum-240 adulto\">\\n\\t        \\t<div class=\"ico-1 \"></div>\\n\\t            \\t\\t\\t\\t\\t<div class=\"estrella \"></div>\\n\\t\\t\\t\\t\\t\\t\\t\\t\\t<div class=\"estrella \"></div>\\n\\t\\t\\t\\t\\t\\t\\t\\t\\t<div class=\"estrella \"></div>\\n\\t\\t\\t\\t\\t\\t\\t\\t\\t<div class=\"estrella \"></div>\\n\\t\\t\\t\\t\\t\\t\\t\\t\\t<div class=\"estrella \"></div>\\n\\t\\t\\t\\t\\t            <span class=\"detalle-ch\">0 max. 34.00 </span>\\n\\t        </div>\\n\\t        \\n\\t        <div class=\"colum colum-240 nino\">\\n\\t        \\t<div class=\"ico-2 \"></div>\\n\\t            \\t\\t\\t\\t\\t<div class=\"estrella-act \"></div>\\n\\t\\t\\t\\t\\t\\t\\t\\t\\t<div class=\"estrella \"></div>\\n\\t\\t\\t\\t\\t\\t\\t\\t\\t<div class=\"estrella \"></div>\\n\\t\\t\\t\\t\\t\\t\\t\\t\\t<div class=\"estrella \"></div>\\n\\t\\t\\t\\t\\t\\t\\t\\t\\t<div class=\"estrella \"></div>\\n\\t\\t\\t\\t\\t            <span class=\"detalle-ch\">16.15 max. 49.00 </span>\\n\\t        \\n\\t        \\n\\t        </div>\\n\\t        \\n\\t        <a href=\"en/result/90/kia-rio-sedan-no-airbags\" class=\"btn-mas\">See more</a>\\n\\n\\n\\n\\t\\t\\t<!-- ACLARACIÃ\\x93N -->\\n\\t               \\n\\t    \\n\\t    </div>   \\n\\t    \\n\\t    \\n\\t\\t\\t    <div class=\"fila \">\\n\\t    \\t<div class=\"colum colum-200\">\\n\\t        \\t<h3>Kia Picanto / Morning - NO Airbags</h3>\\n\\t        </div>\\n\\t        <div class=\"colum colum-fecha\">\\n\\t        June-2016\\t        </div>\\n\\t        \\n\\t        \\t        <div class=\"colum colum-240 adulto\">\\n\\t        \\t<div class=\"ico-1 \"></div>\\n\\t            \\t\\t\\t\\t\\t<div class=\"estrella \"></div>\\n\\t\\t\\t\\t\\t\\t\\t\\t\\t<div class=\"estrella \"></div>\\n\\t\\t\\t\\t\\t\\t\\t\\t\\t<div class=\"estrella \"></div>\\n\\t\\t\\t\\t\\t\\t\\t\\t\\t<div class=\"estrella \"></div>\\n\\t\\t\\t\\t\\t\\t\\t\\t\\t<div class=\"estrella \"></div>\\n\\t\\t\\t\\t\\t            <span class=\"detalle-ch\">0.00 max. 34.00 </span>\\n\\t        </div>\\n\\t        \\n\\t        <div class=\"colum colum-240 nino\">\\n\\t        \\t<div class=\"ico-2 \"></div>\\n\\t            \\t\\t\\t\\t\\t<div class=\"estrella-act \"></div>\\n\\t\\t\\t\\t\\t\\t\\t\\t\\t<div class=\"estrella \"></div>\\n\\t\\t\\t\\t\\t\\t\\t\\t\\t<div class=\"estrella \"></div>\\n\\t\\t\\t\\t\\t\\t\\t\\t\\t<div class=\"estrella \"></div>\\n\\t\\t\\t\\t\\t\\t\\t\\t\\t<div class=\"estrella \"></div>\\n\\t\\t\\t\\t\\t            <span class=\"detalle-ch\">13.30 max. 49.00 </span>\\n\\t        \\n\\t        \\n\\t        </div>\\n\\t        \\n\\t        <a href=\"en/result/78/kia-picanto--morning-no-airbags\" class=\"btn-mas\">See more</a>\\n\\n\\n\\n\\t\\t\\t<!-- ACLARACIÃ\\x93N -->\\n\\t               \\n\\t    \\n\\t    </div>   \\n\\t    \\n\\t    \\n\\t\\t\\t        <div class=\"fila-tit\">\\n\\t            \\t            <img class=\"img-marca\" src=\"data/marcas/23.jpg?28463\" width=\"65\"/>\\n\\t            \\t            <span class=\"tit-marca\">Mazda</span>\\n\\t        </div>            \\n\\t    \\t    <div class=\"fila \">\\n\\t    \\t<div class=\"colum colum-200\">\\n\\t        \\t<h3>Mazda 2 + 2 Airbags</h3>\\n\\t        </div>\\n\\t        <div class=\"colum colum-fecha\">\\n\\t        July-2018\\t        </div>\\n\\t        \\n\\t        \\t        <div class=\"colum colum-240 adulto\">\\n\\t        \\t<div class=\"ico-1 \"></div>\\n\\t            \\t\\t\\t\\t\\t<div class=\"estrella-act \"></div>\\n\\t\\t\\t\\t\\t\\t\\t\\t\\t<div class=\"estrella-act \"></div>\\n\\t\\t\\t\\t\\t\\t\\t\\t\\t<div class=\"estrella \"></div>\\n\\t\\t\\t\\t\\t\\t\\t\\t\\t<div class=\"estrella \"></div>\\n\\t\\t\\t\\t\\t\\t\\t\\t\\t<div class=\"estrella \"></div>\\n\\t\\t\\t\\t\\t            <span class=\"detalle-ch\">28.66 max. 34.00 </span>\\n\\t        </div>\\n\\t        \\n\\t        <div class=\"colum colum-240 nino\">\\n\\t        \\t<div class=\"ico-2 \"></div>\\n\\t            \\t\\t\\t\\t\\t<div class=\"estrella-act \"></div>\\n\\t\\t\\t\\t\\t\\t\\t\\t\\t<div class=\"estrella-act \"></div>\\n\\t\\t\\t\\t\\t\\t\\t\\t\\t<div class=\"estrella-act \"></div>\\n\\t\\t\\t\\t\\t\\t\\t\\t\\t<div class=\"estrella \"></div>\\n\\t\\t\\t\\t\\t\\t\\t\\t\\t<div class=\"estrella \"></div>\\n\\t\\t\\t\\t\\t            <span class=\"detalle-ch\">33.81 max. 49.00 </span>\\n\\t        \\n\\t        \\n\\t        </div>\\n\\t        \\n\\t        <a href=\"en/result/108/mazda-2-%2B-2-airbags\" class=\"btn-mas\">See more</a>\\n\\n\\n\\n\\t\\t\\t<!-- ACLARACIÃ\\x93N -->\\n\\t               \\n\\t    \\n\\t    </div>   \\n\\t    \\n\\t    \\n\\t\\t\\t        <div class=\"fila-tit\">\\n\\t            \\t            <img class=\"img-marca\" src=\"data/marcas/19.jpg?21427\" width=\"65\"/>\\n\\t            \\t            <span class=\"tit-marca\">Mitsubishi</span>\\n\\t        </div>            \\n\\t    \\t    <div class=\"fila \">\\n\\t    \\t<div class=\"colum colum-200\">\\n\\t        \\t<h3>Mitsubishi Eclipse Cross + 3 Airbags</h3>\\n\\t        </div>\\n\\t        <div class=\"colum colum-fecha\">\\n\\t        December-2019\\t        </div>\\n\\t        \\n\\t        \\t        <div class=\"colum colum-240 adulto\">\\n\\t        \\t<div class=\"ico-1 \"></div>\\n\\t            \\t\\t\\t\\t\\t<div class=\"estrella-act \"></div>\\n\\t\\t\\t\\t\\t\\t\\t\\t\\t<div class=\"estrella-act \"></div>\\n\\t\\t\\t\\t\\t\\t\\t\\t\\t<div class=\"estrella-act \"></div>\\n\\t\\t\\t\\t\\t\\t\\t\\t\\t<div class=\"estrella-act \"></div>\\n\\t\\t\\t\\t\\t\\t\\t\\t\\t<div class=\"estrella \"></div>\\n\\t\\t\\t\\t\\t            <span class=\"detalle-ch\">30.94 max. 34.00 </span>\\n\\t        </div>\\n\\t        \\n\\t        <div class=\"colum colum-240 nino\">\\n\\t        \\t<div class=\"ico-2 \"></div>\\n\\t            \\t\\t\\t\\t\\t<div class=\"estrella-act \"></div>\\n\\t\\t\\t\\t\\t\\t\\t\\t\\t<div class=\"estrella-act \"></div>\\n\\t\\t\\t\\t\\t\\t\\t\\t\\t<div class=\"estrella-act \"></div>\\n\\t\\t\\t\\t\\t\\t\\t\\t\\t<div class=\"estrella \"></div>\\n\\t\\t\\t\\t\\t\\t\\t\\t\\t<div class=\"estrella \"></div>\\n\\t\\t\\t\\t\\t            <span class=\"detalle-ch\">30.00 max. 49.00 </span>\\n\\t        \\n\\t        \\n\\t        </div>\\n\\t        \\n\\t        <a href=\"en/result/143/mitsubishi-eclipse-cross-%2B-3-airbags\" class=\"btn-mas\">See more</a>\\n\\n\\n\\n\\t\\t\\t<!-- ACLARACIÃ\\x93N -->\\n\\t               \\n\\t    \\n\\t    </div>   \\n\\t    \\n\\t    \\n\\t\\t\\t    <div class=\"fila \">\\n\\t    \\t<div class=\"colum colum-200\">\\n\\t        \\t<h3>Mitsubishi L200 - No Airbags</h3>\\n\\t        </div>\\n\\t        <div class=\"colum colum-fecha\">\\n\\t        November-2019\\t        </div>\\n\\t        \\n\\t        \\t        <div class=\"colum colum-240 adulto\">\\n\\t        \\t<div class=\"ico-1 \"></div>\\n\\t            \\t\\t\\t\\t\\t<div class=\"estrella \"></div>\\n\\t\\t\\t\\t\\t\\t\\t\\t\\t<div class=\"estrella \"></div>\\n\\t\\t\\t\\t\\t\\t\\t\\t\\t<div class=\"estrella \"></div>\\n\\t\\t\\t\\t\\t\\t\\t\\t\\t<div class=\"estrella \"></div>\\n\\t\\t\\t\\t\\t\\t\\t\\t\\t<div class=\"estrella \"></div>\\n\\t\\t\\t\\t\\t            <span class=\"detalle-ch\">0.00 max. 34.00 </span>\\n\\t        </div>\\n\\t        \\n\\t        <div class=\"colum colum-240 nino\">\\n\\t        \\t<div class=\"ico-2 \"></div>\\n\\t            \\t\\t\\t\\t\\t<div class=\"estrella-act \"></div>\\n\\t\\t\\t\\t\\t\\t\\t\\t\\t<div class=\"estrella-act \"></div>\\n\\t\\t\\t\\t\\t\\t\\t\\t\\t<div class=\"estrella \"></div>\\n\\t\\t\\t\\t\\t\\t\\t\\t\\t<div class=\"estrella \"></div>\\n\\t\\t\\t\\t\\t\\t\\t\\t\\t<div class=\"estrella \"></div>\\n\\t\\t\\t\\t\\t            <span class=\"detalle-ch\">20.49 max. 49.00 </span>\\n\\t        \\n\\t        \\n\\t        </div>\\n\\t        \\n\\t        <a href=\"en/result/135/mitsubishi-l200-no-airbags\" class=\"btn-mas\">See more</a>\\n\\n\\n\\n\\t\\t\\t<!-- ACLARACIÃ\\x93N -->\\n\\t               \\n\\t    \\n\\t    </div>   \\n\\t    \\n\\t    \\n\\t\\t\\t        <div class=\"fila-tit\">\\n\\t            \\t            <img class=\"img-marca\" src=\"data/marcas/8.jpg?20515\" width=\"65\"/>\\n\\t            \\t            <span class=\"tit-marca\">Nissan</span>\\n\\t        </div>            \\n\\t    \\t    <div class=\"fila \">\\n\\t    \\t<div class=\"colum colum-200\">\\n\\t        \\t<h3>Nissan Frontier / NP300 Navara (double cabs) + 2 Airbags</h3>\\n\\t        </div>\\n\\t        <div class=\"colum colum-fecha\">\\n\\t        August-2019\\t        </div>\\n\\t        \\n\\t        \\t        <div class=\"colum colum-240 adulto\">\\n\\t        \\t<div class=\"ico-1 \"></div>\\n\\t            \\t\\t\\t\\t\\t<div class=\"estrella-act \"></div>\\n\\t\\t\\t\\t\\t\\t\\t\\t\\t<div class=\"estrella-act \"></div>\\n\\t\\t\\t\\t\\t\\t\\t\\t\\t<div class=\"estrella-act \"></div>\\n\\t\\t\\t\\t\\t\\t\\t\\t\\t<div class=\"estrella-act \"></div>\\n\\t\\t\\t\\t\\t\\t\\t\\t\\t<div class=\"estrella \"></div>\\n\\t\\t\\t\\t\\t            <span class=\"detalle-ch\">28.47 max. 34.00 </span>\\n\\t        </div>\\n\\t        \\n\\t        <div class=\"colum colum-240 nino\">\\n\\t        \\t<div class=\"ico-2 \"></div>\\n\\t            \\t\\t\\t\\t\\t<div class=\"estrella-act \"></div>\\n\\t\\t\\t\\t\\t\\t\\t\\t\\t<div class=\"estrella-act \"></div>\\n\\t\\t\\t\\t\\t\\t\\t\\t\\t<div class=\"estrella-act \"></div>\\n\\t\\t\\t\\t\\t\\t\\t\\t\\t<div class=\"estrella-act \"></div>\\n\\t\\t\\t\\t\\t\\t\\t\\t\\t<div class=\"estrella \"></div>\\n\\t\\t\\t\\t\\t            <span class=\"detalle-ch\">36.42 max. 49.00 </span>\\n\\t        \\n\\t        \\n\\t        </div>\\n\\t        \\n\\t        <a href=\"en/result/127/nissan-frontier--np300-navara-double-cabs-%2B-2-airbags\" class=\"btn-mas\">See more</a>\\n\\n\\n\\n\\t\\t\\t<!-- ACLARACIÃ\\x93N -->\\n\\t               \\n\\t    \\n\\t    </div>   \\n\\t    \\n\\t    \\n\\t\\t\\t    <div class=\"fila \">\\n\\t    \\t<div class=\"colum colum-200\">\\n\\t        \\t<h3>Nissan March + 2 Airbags</h3>\\n\\t        </div>\\n\\t        <div class=\"colum colum-fecha\">\\n\\t        July-2018\\t        </div>\\n\\t        \\n\\t        \\t        <div class=\"colum colum-240 adulto\">\\n\\t        \\t<div class=\"ico-1 \"></div>\\n\\t            \\t\\t\\t\\t\\t<div class=\"estrella-act \"></div>\\n\\t\\t\\t\\t\\t\\t\\t\\t\\t<div class=\"estrella \"></div>\\n\\t\\t\\t\\t\\t\\t\\t\\t\\t<div class=\"estrella \"></div>\\n\\t\\t\\t\\t\\t\\t\\t\\t\\t<div class=\"estrella \"></div>\\n\\t\\t\\t\\t\\t\\t\\t\\t\\t<div class=\"estrella \"></div>\\n\\t\\t\\t\\t\\t            <span class=\"detalle-ch\">20.11 max. 34.00 </span>\\n\\t        </div>\\n\\t        \\n\\t        <div class=\"colum colum-240 nino\">\\n\\t        \\t<div class=\"ico-2 \"></div>\\n\\t            \\t\\t\\t\\t\\t<div class=\"estrella-act \"></div>\\n\\t\\t\\t\\t\\t\\t\\t\\t\\t<div class=\"estrella-act \"></div>\\n\\t\\t\\t\\t\\t\\t\\t\\t\\t<div class=\"estrella \"></div>\\n\\t\\t\\t\\t\\t\\t\\t\\t\\t<div class=\"estrella \"></div>\\n\\t\\t\\t\\t\\t\\t\\t\\t\\t<div class=\"estrella \"></div>\\n\\t\\t\\t\\t\\t            <span class=\"detalle-ch\">21.42 max. 49.00 </span>\\n\\t        \\n\\t        \\n\\t        </div>\\n\\t        \\n\\t        <a href=\"en/result/109/nissan-march-%2B-2-airbags\" class=\"btn-mas\">See more</a>\\n\\n\\n\\n\\t\\t\\t<!-- ACLARACIÃ\\x93N -->\\n\\t               \\n\\t    \\n\\t    </div>   \\n\\t    \\n\\t    \\n\\t\\t\\t    <div class=\"fila \">\\n\\t    \\t<div class=\"colum colum-200\">\\n\\t        \\t<h3>Nissan Kicks + 2 Airbags</h3>\\n\\t        </div>\\n\\t        <div class=\"colum colum-fecha\">\\n\\t        December-2017\\t        </div>\\n\\t        \\n\\t        \\t        <div class=\"colum colum-240 adulto\">\\n\\t        \\t<div class=\"ico-1 \"></div>\\n\\t            \\t\\t\\t\\t\\t<div class=\"estrella-act \"></div>\\n\\t\\t\\t\\t\\t\\t\\t\\t\\t<div class=\"estrella-act \"></div>\\n\\t\\t\\t\\t\\t\\t\\t\\t\\t<div class=\"estrella-act \"></div>\\n\\t\\t\\t\\t\\t\\t\\t\\t\\t<div class=\"estrella-act \"></div>\\n\\t\\t\\t\\t\\t\\t\\t\\t\\t<div class=\"estrella \"></div>\\n\\t\\t\\t\\t\\t            <span class=\"detalle-ch\">25.39 max. 34.00 </span>\\n\\t        </div>\\n\\t        \\n\\t        <div class=\"colum colum-240 nino\">\\n\\t        \\t<div class=\"ico-2 \"></div>\\n\\t            \\t\\t\\t\\t\\t<div class=\"estrella-act \"></div>\\n\\t\\t\\t\\t\\t\\t\\t\\t\\t<div class=\"estrella-act \"></div>\\n\\t\\t\\t\\t\\t\\t\\t\\t\\t<div class=\"estrella-act \"></div>\\n\\t\\t\\t\\t\\t\\t\\t\\t\\t<div class=\"estrella-act \"></div>\\n\\t\\t\\t\\t\\t\\t\\t\\t\\t<div class=\"estrella \"></div>\\n\\t\\t\\t\\t\\t            <span class=\"detalle-ch\">37.41 max. 49.00 </span>\\n\\t        \\n\\t        \\n\\t        </div>\\n\\t        \\n\\t        <a href=\"en/result/100/nissan-kicks-%2B-2-airbags\" class=\"btn-mas\">See more</a>\\n\\n\\n\\n\\t\\t\\t<!-- ACLARACIÃ\\x93N -->\\n\\t               \\n\\t    \\n\\t    </div>   \\n\\t    \\n\\t    \\n\\t\\t\\t    <div class=\"fila \">\\n\\t    \\t<div class=\"colum colum-200\">\\n\\t        \\t<h3>Nissan Murano + 7 Airbags (from 06/10/2017) VIN 5N1TANZ52JN100879</h3>\\n\\t        </div>\\n\\t        <div class=\"colum colum-fecha\">\\n\\t        December-2017\\t        </div>\\n\\t        \\n\\t        \\t        <div class=\"colum colum-240 adulto\">\\n\\t        \\t<div class=\"ico-1 \"></div>\\n\\t            \\t\\t\\t\\t\\t<div class=\"estrella-act \"></div>\\n\\t\\t\\t\\t\\t\\t\\t\\t\\t<div class=\"estrella-act \"></div>\\n\\t\\t\\t\\t\\t\\t\\t\\t\\t<div class=\"estrella-act \"></div>\\n\\t\\t\\t\\t\\t\\t\\t\\t\\t<div class=\"estrella-act \"></div>\\n\\t\\t\\t\\t\\t\\t\\t\\t\\t<div class=\"estrella-act \"></div>\\n\\t\\t\\t\\t\\t            <span class=\"detalle-ch\">28.72 max. 34.00 </span>\\n\\t        </div>\\n\\t        \\n\\t        <div class=\"colum colum-240 nino\">\\n\\t        \\t<div class=\"ico-2 \"></div>\\n\\t            \\t\\t\\t\\t\\t<div class=\"estrella-act \"></div>\\n\\t\\t\\t\\t\\t\\t\\t\\t\\t<div class=\"estrella-act \"></div>\\n\\t\\t\\t\\t\\t\\t\\t\\t\\t<div class=\"estrella-act \"></div>\\n\\t\\t\\t\\t\\t\\t\\t\\t\\t<div class=\"estrella \"></div>\\n\\t\\t\\t\\t\\t\\t\\t\\t\\t<div class=\"estrella \"></div>\\n\\t\\t\\t\\t\\t            <span class=\"detalle-ch\">34.66 max. 49.00 </span>\\n\\t        \\n\\t        \\n\\t        </div>\\n\\t        \\n\\t        <a href=\"en/result/101/nissan-murano-%2B-7-airbags-from-06102017-vin-5n1tanz52jn100879\" class=\"btn-mas\">See more</a>\\n\\n\\n\\n\\t\\t\\t<!-- ACLARACIÃ\\x93N -->\\n\\t               \\n\\t    \\n\\t    </div>   \\n\\t    \\n\\t    \\n\\t\\t\\t    <div class=\"fila \">\\n\\t    \\t<div class=\"colum colum-200\">\\n\\t        \\t<h3>Nissan March + 2 Airbags</h3>\\n\\t        </div>\\n\\t        <div class=\"colum colum-fecha\">\\n\\t        December-2016\\t        </div>\\n\\t        \\n\\t        \\t        <div class=\"colum colum-240 adulto\">\\n\\t        \\t<div class=\"ico-1 old\"></div>\\n\\t            \\t\\t\\t\\t\\t<div class=\"estrella-act old\"></div>\\n\\t\\t\\t\\t\\t\\t\\t\\t\\t<div class=\"estrella-act old\"></div>\\n\\t\\t\\t\\t\\t\\t\\t\\t\\t<div class=\"estrella-act old\"></div>\\n\\t\\t\\t\\t\\t\\t\\t\\t\\t<div class=\"estrella old\"></div>\\n\\t\\t\\t\\t\\t\\t\\t\\t\\t<div class=\"estrella old\"></div>\\n\\t\\t\\t\\t\\t            <span class=\"detalle-ch\">8.00 max. 17.00 </span>\\n\\t        </div>\\n\\t        \\n\\t        <div class=\"colum colum-240 nino\">\\n\\t        \\t<div class=\"ico-2 old\"></div>\\n\\t            \\t\\t\\t\\t\\t<div class=\"estrella-act old\"></div>\\n\\t\\t\\t\\t\\t\\t\\t\\t\\t<div class=\"estrella old\"></div>\\n\\t\\t\\t\\t\\t\\t\\t\\t\\t<div class=\"estrella old\"></div>\\n\\t\\t\\t\\t\\t\\t\\t\\t\\t<div class=\"estrella old\"></div>\\n\\t\\t\\t\\t\\t\\t\\t\\t\\t<div class=\"estrella old\"></div>\\n\\t\\t\\t\\t\\t            <span class=\"detalle-ch\">10.71 max. 49.00 </span>\\n\\t        \\n\\t        \\n\\t        </div>\\n\\t        \\n\\t        <a href=\"en/result/85/nissan-march-%2B-2-airbags\" class=\"btn-mas\">See more</a>\\n\\n\\n\\n\\t\\t\\t<!-- ACLARACIÃ\\x93N -->\\n\\t               \\n\\t    \\n\\t    </div>   \\n\\t    \\n\\t    \\n\\t\\t\\t    <div class=\"fila \">\\n\\t    \\t<div class=\"colum colum-200\">\\n\\t        \\t<h3>Nissan Versa + 2 Airbags</h3>\\n\\t        </div>\\n\\t        <div class=\"colum colum-fecha\">\\n\\t        December-2016\\t        </div>\\n\\t        \\n\\t        \\t        <div class=\"colum colum-240 adulto\">\\n\\t        \\t<div class=\"ico-1 old\"></div>\\n\\t            \\t\\t\\t\\t\\t<div class=\"estrella-act old\"></div>\\n\\t\\t\\t\\t\\t\\t\\t\\t\\t<div class=\"estrella-act old\"></div>\\n\\t\\t\\t\\t\\t\\t\\t\\t\\t<div class=\"estrella-act old\"></div>\\n\\t\\t\\t\\t\\t\\t\\t\\t\\t<div class=\"estrella old\"></div>\\n\\t\\t\\t\\t\\t\\t\\t\\t\\t<div class=\"estrella old\"></div>\\n\\t\\t\\t\\t\\t            <span class=\"detalle-ch\">8.64 max. 17.00 </span>\\n\\t        </div>\\n\\t        \\n\\t        <div class=\"colum colum-240 nino\">\\n\\t        \\t<div class=\"ico-2 old\"></div>\\n\\t            \\t\\t\\t\\t\\t<div class=\"estrella-act old\"></div>\\n\\t\\t\\t\\t\\t\\t\\t\\t\\t<div class=\"estrella-act old\"></div>\\n\\t\\t\\t\\t\\t\\t\\t\\t\\t<div class=\"estrella old\"></div>\\n\\t\\t\\t\\t\\t\\t\\t\\t\\t<div class=\"estrella old\"></div>\\n\\t\\t\\t\\t\\t\\t\\t\\t\\t<div class=\"estrella old\"></div>\\n\\t\\t\\t\\t\\t            <span class=\"detalle-ch\">18.22 max. 49.00 </span>\\n\\t        \\n\\t        \\n\\t        </div>\\n\\t        \\n\\t        <a href=\"en/result/86/nissan-versa-%2B-2-airbags\" class=\"btn-mas\">See more</a>\\n\\n\\n\\n\\t\\t\\t<!-- ACLARACIÃ\\x93N -->\\n\\t               \\n\\t    \\n\\t    </div>   \\n\\t    \\n\\t    \\n\\t\\t\\t    <div class=\"fila \">\\n\\t    \\t<div class=\"colum colum-200\">\\n\\t        \\t<h3>Nissan Murano + 7 Airbags</h3>\\n\\t        </div>\\n\\t        <div class=\"colum colum-fecha\">\\n\\t        December-2016\\t        </div>\\n\\t        \\n\\t        \\t        <div class=\"colum colum-240 adulto\">\\n\\t        \\t<div class=\"ico-1 \"></div>\\n\\t            \\t\\t\\t\\t\\t<div class=\"estrella-act \"></div>\\n\\t\\t\\t\\t\\t\\t\\t\\t\\t<div class=\"estrella-act \"></div>\\n\\t\\t\\t\\t\\t\\t\\t\\t\\t<div class=\"estrella \"></div>\\n\\t\\t\\t\\t\\t\\t\\t\\t\\t<div class=\"estrella \"></div>\\n\\t\\t\\t\\t\\t\\t\\t\\t\\t<div class=\"estrella \"></div>\\n\\t\\t\\t\\t\\t            <span class=\"detalle-ch\">22.81 max. 34.00 </span>\\n\\t        </div>\\n\\t        \\n\\t        <div class=\"colum colum-240 nino\">\\n\\t        \\t<div class=\"ico-2 \"></div>\\n\\t            \\t\\t\\t\\t\\t<div class=\"estrella-act \"></div>\\n\\t\\t\\t\\t\\t\\t\\t\\t\\t<div class=\"estrella-act \"></div>\\n\\t\\t\\t\\t\\t\\t\\t\\t\\t<div class=\"estrella-act \"></div>\\n\\t\\t\\t\\t\\t\\t\\t\\t\\t<div class=\"estrella-act \"></div>\\n\\t\\t\\t\\t\\t\\t\\t\\t\\t<div class=\"estrella \"></div>\\n\\t\\t\\t\\t\\t            <span class=\"detalle-ch\">35.22 max. 49.00 </span>\\n\\t        \\n\\t        \\n\\t        </div>\\n\\t        \\n\\t        <a href=\"en/result/84/nissan-murano-%2B-7-airbags\" class=\"btn-mas\">See more</a>\\n\\n\\n\\n\\t\\t\\t<!-- ACLARACIÃ\\x93N -->\\n\\t               \\n\\t    \\n\\t    </div>   \\n\\t    \\n\\t    \\n\\t\\t\\t        <div class=\"fila-tit\">\\n\\t            \\t            <img class=\"img-marca\" src=\"data/marcas/5.jpg?32328\" width=\"65\"/>\\n\\t            \\t            <span class=\"tit-marca\">Peugeot</span>\\n\\t        </div>            \\n\\t    \\t    <div class=\"fila \">\\n\\t    \\t<div class=\"colum colum-200\">\\n\\t        \\t<h3>Peugeot 301 + 4 Airbags</h3>\\n\\t        </div>\\n\\t        <div class=\"colum colum-fecha\">\\n\\t        December-2019\\t        </div>\\n\\t        \\n\\t        \\t        <div class=\"colum colum-240 adulto\">\\n\\t        \\t<div class=\"ico-1 \"></div>\\n\\t            \\t\\t\\t\\t\\t<div class=\"estrella-act \"></div>\\n\\t\\t\\t\\t\\t\\t\\t\\t\\t<div class=\"estrella-act \"></div>\\n\\t\\t\\t\\t\\t\\t\\t\\t\\t<div class=\"estrella-act \"></div>\\n\\t\\t\\t\\t\\t\\t\\t\\t\\t<div class=\"estrella \"></div>\\n\\t\\t\\t\\t\\t\\t\\t\\t\\t<div class=\"estrella \"></div>\\n\\t\\t\\t\\t\\t            <span class=\"detalle-ch\">23.26 max. 34.00 </span>\\n\\t        </div>\\n\\t        \\n\\t        <div class=\"colum colum-240 nino\">\\n\\t        \\t<div class=\"ico-2 \"></div>\\n\\t            \\t\\t\\t\\t\\t<div class=\"estrella-act \"></div>\\n\\t\\t\\t\\t\\t\\t\\t\\t\\t<div class=\"estrella-act \"></div>\\n\\t\\t\\t\\t\\t\\t\\t\\t\\t<div class=\"estrella-act \"></div>\\n\\t\\t\\t\\t\\t\\t\\t\\t\\t<div class=\"estrella \"></div>\\n\\t\\t\\t\\t\\t\\t\\t\\t\\t<div class=\"estrella \"></div>\\n\\t\\t\\t\\t\\t            <span class=\"detalle-ch\">34.10 max. 49.00 </span>\\n\\t        \\n\\t        \\n\\t        </div>\\n\\t        \\n\\t        <a href=\"en/result/138/peugeot-301-%2B-4-airbags\" class=\"btn-mas\">See more</a>\\n\\n\\n\\n\\t\\t\\t<!-- ACLARACIÃ\\x93N -->\\n\\t               \\n\\t    \\n\\t    </div>   \\n\\t    \\n\\t    \\n\\t\\t\\t    <div class=\"fila \">\\n\\t    \\t<div class=\"colum colum-200\">\\n\\t        \\t<h3>Peugeot 208 + 2 Airbags</h3>\\n\\t        </div>\\n\\t        <div class=\"colum colum-fecha\">\\n\\t        June-2016\\t        </div>\\n\\t        \\n\\t        \\t        <div class=\"colum colum-240 adulto\">\\n\\t        \\t<div class=\"ico-1 \"></div>\\n\\t            \\t\\t\\t\\t\\t<div class=\"estrella-act \"></div>\\n\\t\\t\\t\\t\\t\\t\\t\\t\\t<div class=\"estrella-act \"></div>\\n\\t\\t\\t\\t\\t\\t\\t\\t\\t<div class=\"estrella \"></div>\\n\\t\\t\\t\\t\\t\\t\\t\\t\\t<div class=\"estrella \"></div>\\n\\t\\t\\t\\t\\t\\t\\t\\t\\t<div class=\"estrella \"></div>\\n\\t\\t\\t\\t\\t            <span class=\"detalle-ch\">18.27 max. 34.00 </span>\\n\\t        </div>\\n\\t        \\n\\t        <div class=\"colum colum-240 nino\">\\n\\t        \\t<div class=\"ico-2 \"></div>\\n\\t            \\t\\t\\t\\t\\t<div class=\"estrella-act \"></div>\\n\\t\\t\\t\\t\\t\\t\\t\\t\\t<div class=\"estrella-act \"></div>\\n\\t\\t\\t\\t\\t\\t\\t\\t\\t<div class=\"estrella-act \"></div>\\n\\t\\t\\t\\t\\t\\t\\t\\t\\t<div class=\"estrella \"></div>\\n\\t\\t\\t\\t\\t\\t\\t\\t\\t<div class=\"estrella \"></div>\\n\\t\\t\\t\\t\\t            <span class=\"detalle-ch\">30.65 max. 49.00 </span>\\n\\t        \\n\\t        \\n\\t        </div>\\n\\t        \\n\\t        <a href=\"en/result/79/peugeot-208-%2B-2-airbags\" class=\"btn-mas\">See more</a>\\n\\n\\n\\n\\t\\t\\t<!-- ACLARACIÃ\\x93N -->\\n\\t               \\n\\t    \\n\\t    </div>   \\n\\t    \\n\\t    \\n\\t\\t\\t        <div class=\"fila-tit\">\\n\\t            \\t            <img class=\"img-marca\" src=\"data/marcas/9.jpg?22540\" width=\"65\"/>\\n\\t            \\t            <span class=\"tit-marca\">Renault</span>\\n\\t        </div>            \\n\\t    \\t    <div class=\"fila  aclaracion \">\\n\\t    \\t<div class=\"colum colum-200\">\\n\\t        \\t<h3>Renault Sandero / Logan / Stepway + 4 Airbags **</h3>\\n\\t        </div>\\n\\t        <div class=\"colum colum-fecha\">\\n\\t        December-2019\\t        </div>\\n\\t        \\n\\t        \\t        <div class=\"colum colum-240 adulto\">\\n\\t        \\t<div class=\"ico-1 \"></div>\\n\\t            \\t\\t\\t\\t\\t<div class=\"estrella-act \"></div>\\n\\t\\t\\t\\t\\t\\t\\t\\t\\t<div class=\"estrella-act \"></div>\\n\\t\\t\\t\\t\\t\\t\\t\\t\\t<div class=\"estrella-act \"></div>\\n\\t\\t\\t\\t\\t\\t\\t\\t\\t<div class=\"estrella \"></div>\\n\\t\\t\\t\\t\\t\\t\\t\\t\\t<div class=\"estrella \"></div>\\n\\t\\t\\t\\t\\t            <span class=\"detalle-ch\">23.40 max. 34.00 </span>\\n\\t        </div>\\n\\t        \\n\\t        <div class=\"colum colum-240 nino\">\\n\\t        \\t<div class=\"ico-2 \"></div>\\n\\t            \\t\\t\\t\\t\\t<div class=\"estrella-act \"></div>\\n\\t\\t\\t\\t\\t\\t\\t\\t\\t<div class=\"estrella-act \"></div>\\n\\t\\t\\t\\t\\t\\t\\t\\t\\t<div class=\"estrella-act \"></div>\\n\\t\\t\\t\\t\\t\\t\\t\\t\\t<div class=\"estrella-act \"></div>\\n\\t\\t\\t\\t\\t\\t\\t\\t\\t<div class=\"estrella \"></div>\\n\\t\\t\\t\\t\\t            <span class=\"detalle-ch\">38.52 max. 49.00 </span>\\n\\t        \\n\\t        \\n\\t        </div>\\n\\t        \\n\\t        <a href=\"en/result/141/renault-sandero--logan--stepway-%2B-4-airbags-\" class=\"btn-mas\">See more</a>\\n\\n\\n\\n\\t\\t\\t<!-- ACLARACIÃ\\x93N -->\\n\\t        \\t\\t\\t\\t    <div class=\"caja-aclaracion-resultados\">\\n\\t                <p>** Valid only from:<br />\\r\\nVIN 93Y5SRZ85LJ319432 and date December 10 2019 for units manufactured in Brazil<br />\\r\\nVIN 8A14SRYE5LL345154 and date December 3 2019 for units manufactured in Argentina<br />\\r\\nVIN 9FB4SR0EGLM157526 and date July 18 2019 for units manufactured in Colombia</p>\\n\\t            </div>\\n\\t            \\n\\t               \\n\\t    \\n\\t    </div>   \\n\\t    \\n\\t    \\n\\t\\t\\t    <div class=\"fila  aclaracion \">\\n\\t    \\t<div class=\"colum colum-200\">\\n\\t        \\t<h3>Renault Sandero / Logan / Stepway + 4 Airbags *</h3>\\n\\t        </div>\\n\\t        <div class=\"colum colum-fecha\">\\n\\t        December-2019\\t        </div>\\n\\t        \\n\\t        \\t        <div class=\"colum colum-240 adulto\">\\n\\t        \\t<div class=\"ico-1 \"></div>\\n\\t            \\t\\t\\t\\t\\t<div class=\"estrella-act \"></div>\\n\\t\\t\\t\\t\\t\\t\\t\\t\\t<div class=\"estrella \"></div>\\n\\t\\t\\t\\t\\t\\t\\t\\t\\t<div class=\"estrella \"></div>\\n\\t\\t\\t\\t\\t\\t\\t\\t\\t<div class=\"estrella \"></div>\\n\\t\\t\\t\\t\\t\\t\\t\\t\\t<div class=\"estrella \"></div>\\n\\t\\t\\t\\t\\t            <span class=\"detalle-ch\">23.28 max. 34.00 </span>\\n\\t        </div>\\n\\t        \\n\\t        <div class=\"colum colum-240 nino\">\\n\\t        \\t<div class=\"ico-2 \"></div>\\n\\t            \\t\\t\\t\\t\\t<div class=\"estrella-act \"></div>\\n\\t\\t\\t\\t\\t\\t\\t\\t\\t<div class=\"estrella-act \"></div>\\n\\t\\t\\t\\t\\t\\t\\t\\t\\t<div class=\"estrella-act \"></div>\\n\\t\\t\\t\\t\\t\\t\\t\\t\\t<div class=\"estrella-act \"></div>\\n\\t\\t\\t\\t\\t\\t\\t\\t\\t<div class=\"estrella \"></div>\\n\\t\\t\\t\\t\\t            <span class=\"detalle-ch\">38.52 max. 49.00 </span>\\n\\t        \\n\\t        \\n\\t        </div>\\n\\t        \\n\\t        <a href=\"en/result/139/renault-sandero--logan--stepway-%2B-4-airbags-\" class=\"btn-mas\">See more</a>\\n\\n\\n\\n\\t\\t\\t<!-- ACLARACIÃ\\x93N -->\\n\\t        \\t\\t\\t\\t    <div class=\"caja-aclaracion-resultados\">\\n\\t                <p>* Valid only for:<br />\\r\\nFrom VIN 93Y5SRZHXLJ868977 to VIN 93Y5SRZ85LJ319432 and from April 24 2019 to December 10 2019, for units manufactured in Brazil<br />\\r\\nFrom VIN 8A15SRYEGLL022432 to VIN 8A14SRYE5LL345154 and from August 1 2019 to December 3 2019, for units manufactured in Argentina<br />\\r\\nUp to VIN 9FB4SR0EGLM157526 and date July 18 2019, for units manufactured in Colombia</p>\\n\\t            </div>\\n\\t            \\n\\t               \\n\\t    \\n\\t    </div>   \\n\\t    \\n\\t    \\n\\t\\t\\t    <div class=\"fila \">\\n\\t    \\t<div class=\"colum colum-200\">\\n\\t        \\t<h3>Renault New Duster + 2 Airbags</h3>\\n\\t        </div>\\n\\t        <div class=\"colum colum-fecha\">\\n\\t        October-2019\\t        </div>\\n\\t        \\n\\t        \\t        <div class=\"colum colum-240 adulto\">\\n\\t        \\t<div class=\"ico-1 \"></div>\\n\\t            \\t\\t\\t\\t\\t<div class=\"estrella-act \"></div>\\n\\t\\t\\t\\t\\t\\t\\t\\t\\t<div class=\"estrella-act \"></div>\\n\\t\\t\\t\\t\\t\\t\\t\\t\\t<div class=\"estrella-act \"></div>\\n\\t\\t\\t\\t\\t\\t\\t\\t\\t<div class=\"estrella-act \"></div>\\n\\t\\t\\t\\t\\t\\t\\t\\t\\t<div class=\"estrella \"></div>\\n\\t\\t\\t\\t\\t            <span class=\"detalle-ch\">26.01 max. 34.00 </span>\\n\\t        </div>\\n\\t        \\n\\t        <div class=\"colum colum-240 nino\">\\n\\t        \\t<div class=\"ico-2 \"></div>\\n\\t            \\t\\t\\t\\t\\t<div class=\"estrella-act \"></div>\\n\\t\\t\\t\\t\\t\\t\\t\\t\\t<div class=\"estrella-act \"></div>\\n\\t\\t\\t\\t\\t\\t\\t\\t\\t<div class=\"estrella-act \"></div>\\n\\t\\t\\t\\t\\t\\t\\t\\t\\t<div class=\"estrella \"></div>\\n\\t\\t\\t\\t\\t\\t\\t\\t\\t<div class=\"estrella \"></div>\\n\\t\\t\\t\\t\\t            <span class=\"detalle-ch\">28.50 max. 49.00 </span>\\n\\t        \\n\\t        \\n\\t        </div>\\n\\t        \\n\\t        <a href=\"en/result/134/renault-new-duster-%2B-2-airbags\" class=\"btn-mas\">See more</a>\\n\\n\\n\\n\\t\\t\\t<!-- ACLARACIÃ\\x93N -->\\n\\t               \\n\\t    \\n\\t    </div>   \\n\\t    \\n\\t    \\n\\t\\t\\t    <div class=\"fila \">\\n\\t    \\t<div class=\"colum colum-200\">\\n\\t        \\t<h3>Renault Kangoo + 2 Airbags</h3>\\n\\t        </div>\\n\\t        <div class=\"colum colum-fecha\">\\n\\t        May-2019\\t        </div>\\n\\t        \\n\\t        \\t        <div class=\"colum colum-240 adulto\">\\n\\t        \\t<div class=\"ico-1 \"></div>\\n\\t            \\t\\t\\t\\t\\t<div class=\"estrella-act \"></div>\\n\\t\\t\\t\\t\\t\\t\\t\\t\\t<div class=\"estrella-act \"></div>\\n\\t\\t\\t\\t\\t\\t\\t\\t\\t<div class=\"estrella-act \"></div>\\n\\t\\t\\t\\t\\t\\t\\t\\t\\t<div class=\"estrella \"></div>\\n\\t\\t\\t\\t\\t\\t\\t\\t\\t<div class=\"estrella \"></div>\\n\\t\\t\\t\\t\\t            <span class=\"detalle-ch\">21.56 max. 34.00 </span>\\n\\t        </div>\\n\\t        \\n\\t        <div class=\"colum colum-240 nino\">\\n\\t        \\t<div class=\"ico-2 \"></div>\\n\\t            \\t\\t\\t\\t\\t<div class=\"estrella-act \"></div>\\n\\t\\t\\t\\t\\t\\t\\t\\t\\t<div class=\"estrella-act \"></div>\\n\\t\\t\\t\\t\\t\\t\\t\\t\\t<div class=\"estrella-act \"></div>\\n\\t\\t\\t\\t\\t\\t\\t\\t\\t<div class=\"estrella-act \"></div>\\n\\t\\t\\t\\t\\t\\t\\t\\t\\t<div class=\"estrella \"></div>\\n\\t\\t\\t\\t\\t            <span class=\"detalle-ch\">38.02 max. 49.00 </span>\\n\\t        \\n\\t        \\n\\t        </div>\\n\\t        \\n\\t        <a href=\"en/result/122/renault-kangoo-%2B-2-airbags\" class=\"btn-mas\">See more</a>\\n\\n\\n\\n\\t\\t\\t<!-- ACLARACIÃ\\x93N -->\\n\\t               \\n\\t    \\n\\t    </div>   \\n\\t    \\n\\t    \\n\\t\\t\\t    <div class=\"fila \">\\n\\t    \\t<div class=\"colum colum-200\">\\n\\t        \\t<h3>Renault Sandero / Logan + 2 Airbags</h3>\\n\\t        </div>\\n\\t        <div class=\"colum colum-fecha\">\\n\\t        June-2018\\t        </div>\\n\\t        \\n\\t        \\t        <div class=\"colum colum-240 adulto\">\\n\\t        \\t<div class=\"ico-1 \"></div>\\n\\t            \\t\\t\\t\\t\\t<div class=\"estrella-act \"></div>\\n\\t\\t\\t\\t\\t\\t\\t\\t\\t<div class=\"estrella \"></div>\\n\\t\\t\\t\\t\\t\\t\\t\\t\\t<div class=\"estrella \"></div>\\n\\t\\t\\t\\t\\t\\t\\t\\t\\t<div class=\"estrella \"></div>\\n\\t\\t\\t\\t\\t\\t\\t\\t\\t<div class=\"estrella \"></div>\\n\\t\\t\\t\\t\\t            <span class=\"detalle-ch\">18.01 max. 34.00 </span>\\n\\t        </div>\\n\\t        \\n\\t        <div class=\"colum colum-240 nino\">\\n\\t        \\t<div class=\"ico-2 \"></div>\\n\\t            \\t\\t\\t\\t\\t<div class=\"estrella-act \"></div>\\n\\t\\t\\t\\t\\t\\t\\t\\t\\t<div class=\"estrella-act \"></div>\\n\\t\\t\\t\\t\\t\\t\\t\\t\\t<div class=\"estrella-act \"></div>\\n\\t\\t\\t\\t\\t\\t\\t\\t\\t<div class=\"estrella \"></div>\\n\\t\\t\\t\\t\\t\\t\\t\\t\\t<div class=\"estrella \"></div>\\n\\t\\t\\t\\t\\t            <span class=\"detalle-ch\">28.97 max. 49.00 </span>\\n\\t        \\n\\t        \\n\\t        </div>\\n\\t        \\n\\t        <a href=\"en/result/106/renault-sandero--logan-%2B-2-airbags\" class=\"btn-mas\">See more</a>\\n\\n\\n\\n\\t\\t\\t<!-- ACLARACIÃ\\x93N -->\\n\\t               \\n\\t    \\n\\t    </div>   \\n\\t    \\n\\t    \\n\\t\\t\\t    <div class=\"fila \">\\n\\t    \\t<div class=\"colum colum-200\">\\n\\t        \\t<h3>Renault Kwid + 4 Airbags</h3>\\n\\t        </div>\\n\\t        <div class=\"colum colum-fecha\">\\n\\t        November-2017\\t        </div>\\n\\t        \\n\\t        \\t        <div class=\"colum colum-240 adulto\">\\n\\t        \\t<div class=\"ico-1 \"></div>\\n\\t            \\t\\t\\t\\t\\t<div class=\"estrella-act \"></div>\\n\\t\\t\\t\\t\\t\\t\\t\\t\\t<div class=\"estrella-act \"></div>\\n\\t\\t\\t\\t\\t\\t\\t\\t\\t<div class=\"estrella-act \"></div>\\n\\t\\t\\t\\t\\t\\t\\t\\t\\t<div class=\"estrella \"></div>\\n\\t\\t\\t\\t\\t\\t\\t\\t\\t<div class=\"estrella \"></div>\\n\\t\\t\\t\\t\\t            <span class=\"detalle-ch\">22.85 max. 34.00 </span>\\n\\t        </div>\\n\\t        \\n\\t        <div class=\"colum colum-240 nino\">\\n\\t        \\t<div class=\"ico-2 \"></div>\\n\\t            \\t\\t\\t\\t\\t<div class=\"estrella-act \"></div>\\n\\t\\t\\t\\t\\t\\t\\t\\t\\t<div class=\"estrella-act \"></div>\\n\\t\\t\\t\\t\\t\\t\\t\\t\\t<div class=\"estrella-act \"></div>\\n\\t\\t\\t\\t\\t\\t\\t\\t\\t<div class=\"estrella \"></div>\\n\\t\\t\\t\\t\\t\\t\\t\\t\\t<div class=\"estrella \"></div>\\n\\t\\t\\t\\t\\t            <span class=\"detalle-ch\">33.87 max. 49.00 </span>\\n\\t        \\n\\t        \\n\\t        </div>\\n\\t        \\n\\t        <a href=\"en/result/98/renault-kwid-%2B-4-airbags\" class=\"btn-mas\">See more</a>\\n\\n\\n\\n\\t\\t\\t<!-- ACLARACIÃ\\x93N -->\\n\\t               \\n\\t    \\n\\t    </div>   \\n\\t    \\n\\t    \\n\\t\\t\\t    <div class=\"fila \">\\n\\t    \\t<div class=\"colum colum-200\">\\n\\t        \\t<h3>Renault Captur + 4 Airbags</h3>\\n\\t        </div>\\n\\t        <div class=\"colum colum-fecha\">\\n\\t        June-2017\\t        </div>\\n\\t        \\n\\t        \\t        <div class=\"colum colum-240 adulto\">\\n\\t        \\t<div class=\"ico-1 \"></div>\\n\\t            \\t\\t\\t\\t\\t<div class=\"estrella-act \"></div>\\n\\t\\t\\t\\t\\t\\t\\t\\t\\t<div class=\"estrella-act \"></div>\\n\\t\\t\\t\\t\\t\\t\\t\\t\\t<div class=\"estrella-act \"></div>\\n\\t\\t\\t\\t\\t\\t\\t\\t\\t<div class=\"estrella-act \"></div>\\n\\t\\t\\t\\t\\t\\t\\t\\t\\t<div class=\"estrella \"></div>\\n\\t\\t\\t\\t\\t            <span class=\"detalle-ch\">30.27 max. 34.00 </span>\\n\\t        </div>\\n\\t        \\n\\t        <div class=\"colum colum-240 nino\">\\n\\t        \\t<div class=\"ico-2 \"></div>\\n\\t            \\t\\t\\t\\t\\t<div class=\"estrella-act \"></div>\\n\\t\\t\\t\\t\\t\\t\\t\\t\\t<div class=\"estrella-act \"></div>\\n\\t\\t\\t\\t\\t\\t\\t\\t\\t<div class=\"estrella-act \"></div>\\n\\t\\t\\t\\t\\t\\t\\t\\t\\t<div class=\"estrella \"></div>\\n\\t\\t\\t\\t\\t\\t\\t\\t\\t<div class=\"estrella \"></div>\\n\\t\\t\\t\\t\\t            <span class=\"detalle-ch\">33.68 max. 49.00 </span>\\n\\t        \\n\\t        \\n\\t        </div>\\n\\t        \\n\\t        <a href=\"en/result/92/renault-captur-%2B-4-airbags\" class=\"btn-mas\">See more</a>\\n\\n\\n\\n\\t\\t\\t<!-- ACLARACIÃ\\x93N -->\\n\\t               \\n\\t    \\n\\t    </div>   \\n\\t    \\n\\t    \\n\\t\\t\\t        <div class=\"fila-tit\">\\n\\t            \\t            <img class=\"img-marca\" src=\"data/marcas/14.jpg?15219\" width=\"65\"/>\\n\\t            \\t            <span class=\"tit-marca\">Seat</span>\\n\\t        </div>            \\n\\t    \\t    <div class=\"fila \">\\n\\t    \\t<div class=\"colum colum-200\">\\n\\t        \\t<h3>Seat Tarraco + 7 Airbags</h3>\\n\\t        </div>\\n\\t        <div class=\"colum colum-fecha\">\\n\\t        October-2019\\t        </div>\\n\\t        \\n\\t        \\t        <div class=\"colum colum-240 adulto\">\\n\\t        \\t<div class=\"ico-1 \"></div>\\n\\t            \\t\\t\\t\\t\\t<div class=\"estrella-act \"></div>\\n\\t\\t\\t\\t\\t\\t\\t\\t\\t<div class=\"estrella-act \"></div>\\n\\t\\t\\t\\t\\t\\t\\t\\t\\t<div class=\"estrella-act \"></div>\\n\\t\\t\\t\\t\\t\\t\\t\\t\\t<div class=\"estrella-act \"></div>\\n\\t\\t\\t\\t\\t\\t\\t\\t\\t<div class=\"estrella-act \"></div>\\n\\t\\t\\t\\t\\t            <span class=\"detalle-ch\">32.35 max. 34.00 </span>\\n\\t        </div>\\n\\t        \\n\\t        <div class=\"colum colum-240 nino\">\\n\\t        \\t<div class=\"ico-2 \"></div>\\n\\t            \\t\\t\\t\\t\\t<div class=\"estrella-act \"></div>\\n\\t\\t\\t\\t\\t\\t\\t\\t\\t<div class=\"estrella-act \"></div>\\n\\t\\t\\t\\t\\t\\t\\t\\t\\t<div class=\"estrella-act \"></div>\\n\\t\\t\\t\\t\\t\\t\\t\\t\\t<div class=\"estrella-act \"></div>\\n\\t\\t\\t\\t\\t\\t\\t\\t\\t<div class=\"estrella-act \"></div>\\n\\t\\t\\t\\t\\t            <span class=\"detalle-ch\">42.73 max. 49.00 </span>\\n\\t        \\n\\t        \\n\\t        </div>\\n\\t        \\n\\t        <a href=\"en/result/133/seat-tarraco-%2B-7-airbags\" class=\"btn-mas\">See more</a>\\n\\n\\n\\n\\t\\t\\t<!-- ACLARACIÃ\\x93N -->\\n\\t               \\n\\t    \\n\\t    </div>   \\n\\t    \\n\\t    \\n\\t\\t\\t    <div class=\"fila \">\\n\\t    \\t<div class=\"colum colum-200\">\\n\\t        \\t<h3>Seat Arona + 6 Airbags (from 01/09/2018) VIN VSSZZZKJZKR021211</h3>\\n\\t        </div>\\n\\t        <div class=\"colum colum-fecha\">\\n\\t        December-2018\\t        </div>\\n\\t        \\n\\t        \\t        <div class=\"colum colum-240 adulto\">\\n\\t        \\t<div class=\"ico-1 \"></div>\\n\\t            \\t\\t\\t\\t\\t<div class=\"estrella-act \"></div>\\n\\t\\t\\t\\t\\t\\t\\t\\t\\t<div class=\"estrella-act \"></div>\\n\\t\\t\\t\\t\\t\\t\\t\\t\\t<div class=\"estrella-act \"></div>\\n\\t\\t\\t\\t\\t\\t\\t\\t\\t<div class=\"estrella-act \"></div>\\n\\t\\t\\t\\t\\t\\t\\t\\t\\t<div class=\"estrella-act \"></div>\\n\\t\\t\\t\\t\\t            <span class=\"detalle-ch\">29.95 max. 34.00 </span>\\n\\t        </div>\\n\\t        \\n\\t        <div class=\"colum colum-240 nino\">\\n\\t        \\t<div class=\"ico-2 \"></div>\\n\\t            \\t\\t\\t\\t\\t<div class=\"estrella-act \"></div>\\n\\t\\t\\t\\t\\t\\t\\t\\t\\t<div class=\"estrella-act \"></div>\\n\\t\\t\\t\\t\\t\\t\\t\\t\\t<div class=\"estrella-act \"></div>\\n\\t\\t\\t\\t\\t\\t\\t\\t\\t<div class=\"estrella-act \"></div>\\n\\t\\t\\t\\t\\t\\t\\t\\t\\t<div class=\"estrella-act \"></div>\\n\\t\\t\\t\\t\\t            <span class=\"detalle-ch\">42.54 max. 49.00 </span>\\n\\t        \\n\\t        \\n\\t        </div>\\n\\t        \\n\\t        <a href=\"en/result/116/seat-arona-%2B-6-airbags-from-01092018-vin-vsszzzkjzkr021211\" class=\"btn-mas\">See more</a>\\n\\n\\n\\n\\t\\t\\t<!-- ACLARACIÃ\\x93N -->\\n\\t               \\n\\t    \\n\\t    </div>   \\n\\t    \\n\\t    \\n\\t\\t\\t    <div class=\"fila \">\\n\\t    \\t<div class=\"colum colum-200\">\\n\\t        \\t<h3>Seat Ibiza + 6 Airbags (from 01/09/2018) VIN VSSZZZKJZKR021211</h3>\\n\\t        </div>\\n\\t        <div class=\"colum colum-fecha\">\\n\\t        December-2018\\t        </div>\\n\\t        \\n\\t        \\t        <div class=\"colum colum-240 adulto\">\\n\\t        \\t<div class=\"ico-1 \"></div>\\n\\t            \\t\\t\\t\\t\\t<div class=\"estrella-act \"></div>\\n\\t\\t\\t\\t\\t\\t\\t\\t\\t<div class=\"estrella-act \"></div>\\n\\t\\t\\t\\t\\t\\t\\t\\t\\t<div class=\"estrella-act \"></div>\\n\\t\\t\\t\\t\\t\\t\\t\\t\\t<div class=\"estrella-act \"></div>\\n\\t\\t\\t\\t\\t\\t\\t\\t\\t<div class=\"estrella-act \"></div>\\n\\t\\t\\t\\t\\t            <span class=\"detalle-ch\">30.44 max. 34.00 </span>\\n\\t        </div>\\n\\t        \\n\\t        <div class=\"colum colum-240 nino\">\\n\\t        \\t<div class=\"ico-2 \"></div>\\n\\t            \\t\\t\\t\\t\\t<div class=\"estrella-act \"></div>\\n\\t\\t\\t\\t\\t\\t\\t\\t\\t<div class=\"estrella-act \"></div>\\n\\t\\t\\t\\t\\t\\t\\t\\t\\t<div class=\"estrella-act \"></div>\\n\\t\\t\\t\\t\\t\\t\\t\\t\\t<div class=\"estrella-act \"></div>\\n\\t\\t\\t\\t\\t\\t\\t\\t\\t<div class=\"estrella-act \"></div>\\n\\t\\t\\t\\t\\t            <span class=\"detalle-ch\">41.64 max. 49.00 </span>\\n\\t        \\n\\t        \\n\\t        </div>\\n\\t        \\n\\t        <a href=\"en/result/115/seat-ibiza-%2B-6-airbags-from-01092018-vin-vsszzzkjzkr021211\" class=\"btn-mas\">See more</a>\\n\\n\\n\\n\\t\\t\\t<!-- ACLARACIÃ\\x93N -->\\n\\t               \\n\\t    \\n\\t    </div>   \\n\\t    \\n\\t    \\n\\t\\t\\t    <div class=\"fila \">\\n\\t    \\t<div class=\"colum colum-200\">\\n\\t        \\t<h3>Seat Ateca + 7 Airbags</h3>\\n\\t        </div>\\n\\t        <div class=\"colum colum-fecha\">\\n\\t        March-2017\\t        </div>\\n\\t        \\n\\t        \\t        <div class=\"colum colum-240 adulto\">\\n\\t        \\t<div class=\"ico-1 \"></div>\\n\\t            \\t\\t\\t\\t\\t<div class=\"estrella-act \"></div>\\n\\t\\t\\t\\t\\t\\t\\t\\t\\t<div class=\"estrella-act \"></div>\\n\\t\\t\\t\\t\\t\\t\\t\\t\\t<div class=\"estrella-act \"></div>\\n\\t\\t\\t\\t\\t\\t\\t\\t\\t<div class=\"estrella-act \"></div>\\n\\t\\t\\t\\t\\t\\t\\t\\t\\t<div class=\"estrella-act \"></div>\\n\\t\\t\\t\\t\\t            <span class=\"detalle-ch\">32.65 max. 34.00 </span>\\n\\t        </div>\\n\\t        \\n\\t        <div class=\"colum colum-240 nino\">\\n\\t        \\t<div class=\"ico-2 \"></div>\\n\\t            \\t\\t\\t\\t\\t<div class=\"estrella-act \"></div>\\n\\t\\t\\t\\t\\t\\t\\t\\t\\t<div class=\"estrella-act \"></div>\\n\\t\\t\\t\\t\\t\\t\\t\\t\\t<div class=\"estrella-act \"></div>\\n\\t\\t\\t\\t\\t\\t\\t\\t\\t<div class=\"estrella-act \"></div>\\n\\t\\t\\t\\t\\t\\t\\t\\t\\t<div class=\"estrella-act \"></div>\\n\\t\\t\\t\\t\\t            <span class=\"detalle-ch\">42.48 max. 49.00 </span>\\n\\t        \\n\\t        \\n\\t        </div>\\n\\t        \\n\\t        <a href=\"en/result/87/seat-ateca-%2B-7-airbags\" class=\"btn-mas\">See more</a>\\n\\n\\n\\n\\t\\t\\t<!-- ACLARACIÃ\\x93N -->\\n\\t               \\n\\t    \\n\\t    </div>   \\n\\t    \\n\\t    \\n\\t\\t\\t        <div class=\"fila-tit\">\\n\\t            \\t            <img class=\"img-marca\" src=\"data/marcas/1.jpg?33894\" width=\"65\"/>\\n\\t            \\t            <span class=\"tit-marca\">Toyota</span>\\n\\t        </div>            \\n\\t    \\t    <div class=\"fila \">\\n\\t    \\t<div class=\"colum colum-200\">\\n\\t        \\t<h3>Toyota New Corolla + 7 Airbags</h3>\\n\\t        </div>\\n\\t        <div class=\"colum colum-fecha\">\\n\\t        December-2019\\t        </div>\\n\\t        \\n\\t        \\t        <div class=\"colum colum-240 adulto\">\\n\\t        \\t<div class=\"ico-1 \"></div>\\n\\t            \\t\\t\\t\\t\\t<div class=\"estrella-act \"></div>\\n\\t\\t\\t\\t\\t\\t\\t\\t\\t<div class=\"estrella-act \"></div>\\n\\t\\t\\t\\t\\t\\t\\t\\t\\t<div class=\"estrella-act \"></div>\\n\\t\\t\\t\\t\\t\\t\\t\\t\\t<div class=\"estrella-act \"></div>\\n\\t\\t\\t\\t\\t\\t\\t\\t\\t<div class=\"estrella-act \"></div>\\n\\t\\t\\t\\t\\t            <span class=\"detalle-ch\">29.41 max. 34.00 </span>\\n\\t        </div>\\n\\t        \\n\\t        <div class=\"colum colum-240 nino\">\\n\\t        \\t<div class=\"ico-2 \"></div>\\n\\t            \\t\\t\\t\\t\\t<div class=\"estrella-act \"></div>\\n\\t\\t\\t\\t\\t\\t\\t\\t\\t<div class=\"estrella-act \"></div>\\n\\t\\t\\t\\t\\t\\t\\t\\t\\t<div class=\"estrella-act \"></div>\\n\\t\\t\\t\\t\\t\\t\\t\\t\\t<div class=\"estrella-act \"></div>\\n\\t\\t\\t\\t\\t\\t\\t\\t\\t<div class=\"estrella-act \"></div>\\n\\t\\t\\t\\t\\t            <span class=\"detalle-ch\">45.00 max. 49.00 </span>\\n\\t        \\n\\t        \\n\\t        </div>\\n\\t        \\n\\t        <a href=\"en/result/137/toyota-new-corolla-%2B-7-airbags\" class=\"btn-mas\">See more</a>\\n\\n\\n\\n\\t\\t\\t<!-- ACLARACIÃ\\x93N -->\\n\\t               \\n\\t    \\n\\t    </div>   \\n\\t    \\n\\t    \\n\\t\\t\\t    <div class=\"fila \">\\n\\t    \\t<div class=\"colum colum-200\">\\n\\t        \\t<h3>Toyota Hilux Double Cab / SW4 + 7 Airbags (from 01/07/2019) VIN 8AJKX3CD9L201200</h3>\\n\\t        </div>\\n\\t        <div class=\"colum colum-fecha\">\\n\\t        August-2019\\t        </div>\\n\\t        \\n\\t        \\t        <div class=\"colum colum-240 adulto\">\\n\\t        \\t<div class=\"ico-1 \"></div>\\n\\t            \\t\\t\\t\\t\\t<div class=\"estrella-act \"></div>\\n\\t\\t\\t\\t\\t\\t\\t\\t\\t<div class=\"estrella-act \"></div>\\n\\t\\t\\t\\t\\t\\t\\t\\t\\t<div class=\"estrella-act \"></div>\\n\\t\\t\\t\\t\\t\\t\\t\\t\\t<div class=\"estrella-act \"></div>\\n\\t\\t\\t\\t\\t\\t\\t\\t\\t<div class=\"estrella-act \"></div>\\n\\t\\t\\t\\t\\t            <span class=\"detalle-ch\">31.63 max. 34.00 </span>\\n\\t        </div>\\n\\t        \\n\\t        <div class=\"colum colum-240 nino\">\\n\\t        \\t<div class=\"ico-2 \"></div>\\n\\t            \\t\\t\\t\\t\\t<div class=\"estrella-act \"></div>\\n\\t\\t\\t\\t\\t\\t\\t\\t\\t<div class=\"estrella-act \"></div>\\n\\t\\t\\t\\t\\t\\t\\t\\t\\t<div class=\"estrella-act \"></div>\\n\\t\\t\\t\\t\\t\\t\\t\\t\\t<div class=\"estrella-act \"></div>\\n\\t\\t\\t\\t\\t\\t\\t\\t\\t<div class=\"estrella-act \"></div>\\n\\t\\t\\t\\t\\t            <span class=\"detalle-ch\">44.25 max. 49.00 </span>\\n\\t        \\n\\t        \\n\\t        </div>\\n\\t        \\n\\t        <a href=\"en/result/125/toyota-hilux-double-cab--sw4-%2B-7-airbags-from-01072019-vin-8ajkx3cd9l201200\" class=\"btn-mas\">See more</a>\\n\\n\\n\\n\\t\\t\\t<!-- ACLARACIÃ\\x93N -->\\n\\t               \\n\\t    \\n\\t    </div>   \\n\\t    \\n\\t    \\n\\t\\t\\t    <div class=\"fila \">\\n\\t    \\t<div class=\"colum colum-200\">\\n\\t        \\t<h3>Toyota Etios + 2 Airbags</h3>\\n\\t        </div>\\n\\t        <div class=\"colum colum-fecha\">\\n\\t        July-2019\\t        </div>\\n\\t        \\n\\t        \\t        <div class=\"colum colum-240 adulto\">\\n\\t        \\t<div class=\"ico-1 \"></div>\\n\\t            \\t\\t\\t\\t\\t<div class=\"estrella-act \"></div>\\n\\t\\t\\t\\t\\t\\t\\t\\t\\t<div class=\"estrella-act \"></div>\\n\\t\\t\\t\\t\\t\\t\\t\\t\\t<div class=\"estrella-act \"></div>\\n\\t\\t\\t\\t\\t\\t\\t\\t\\t<div class=\"estrella-act \"></div>\\n\\t\\t\\t\\t\\t\\t\\t\\t\\t<div class=\"estrella \"></div>\\n\\t\\t\\t\\t\\t            <span class=\"detalle-ch\">25.42 max. 34.00 </span>\\n\\t        </div>\\n\\t        \\n\\t        <div class=\"colum colum-240 nino\">\\n\\t        \\t<div class=\"ico-2 \"></div>\\n\\t            \\t\\t\\t\\t\\t<div class=\"estrella-act \"></div>\\n\\t\\t\\t\\t\\t\\t\\t\\t\\t<div class=\"estrella-act \"></div>\\n\\t\\t\\t\\t\\t\\t\\t\\t\\t<div class=\"estrella-act \"></div>\\n\\t\\t\\t\\t\\t\\t\\t\\t\\t<div class=\"estrella-act \"></div>\\n\\t\\t\\t\\t\\t\\t\\t\\t\\t<div class=\"estrella \"></div>\\n\\t\\t\\t\\t\\t            <span class=\"detalle-ch\">40.00 max. 49.00 </span>\\n\\t        \\n\\t        \\n\\t        </div>\\n\\t        \\n\\t        <a href=\"en/result/124/toyota-etios-%2B-2-airbags\" class=\"btn-mas\">See more</a>\\n\\n\\n\\n\\t\\t\\t<!-- ACLARACIÃ\\x93N -->\\n\\t               \\n\\t    \\n\\t    </div>   \\n\\t    \\n\\t    \\n\\t\\t\\t    <div class=\"fila \">\\n\\t    \\t<div class=\"colum colum-200\">\\n\\t        \\t<h3>Toyota RAV 4 + 7 Airbags</h3>\\n\\t        </div>\\n\\t        <div class=\"colum colum-fecha\">\\n\\t        May-2019\\t        </div>\\n\\t        \\n\\t        \\t        <div class=\"colum colum-240 adulto\">\\n\\t        \\t<div class=\"ico-1 \"></div>\\n\\t            \\t\\t\\t\\t\\t<div class=\"estrella-act \"></div>\\n\\t\\t\\t\\t\\t\\t\\t\\t\\t<div class=\"estrella-act \"></div>\\n\\t\\t\\t\\t\\t\\t\\t\\t\\t<div class=\"estrella-act \"></div>\\n\\t\\t\\t\\t\\t\\t\\t\\t\\t<div class=\"estrella-act \"></div>\\n\\t\\t\\t\\t\\t\\t\\t\\t\\t<div class=\"estrella-act \"></div>\\n\\t\\t\\t\\t\\t            <span class=\"detalle-ch\">29.42 max. 34.00 </span>\\n\\t        </div>\\n\\t        \\n\\t        <div class=\"colum colum-240 nino\">\\n\\t        \\t<div class=\"ico-2 \"></div>\\n\\t            \\t\\t\\t\\t\\t<div class=\"estrella-act \"></div>\\n\\t\\t\\t\\t\\t\\t\\t\\t\\t<div class=\"estrella-act \"></div>\\n\\t\\t\\t\\t\\t\\t\\t\\t\\t<div class=\"estrella-act \"></div>\\n\\t\\t\\t\\t\\t\\t\\t\\t\\t<div class=\"estrella-act \"></div>\\n\\t\\t\\t\\t\\t\\t\\t\\t\\t<div class=\"estrella-act \"></div>\\n\\t\\t\\t\\t\\t            <span class=\"detalle-ch\">43.00 max. 49.00 </span>\\n\\t        \\n\\t        \\n\\t        </div>\\n\\t        \\n\\t        <a href=\"en/result/121/toyota-rav-4-%2B-7-airbags\" class=\"btn-mas\">See more</a>\\n\\n\\n\\n\\t\\t\\t<!-- ACLARACIÃ\\x93N -->\\n\\t               \\n\\t    \\n\\t    </div>   \\n\\t    \\n\\t    \\n\\t\\t\\t    <div class=\"fila \">\\n\\t    \\t<div class=\"colum colum-200\">\\n\\t        \\t<h3>Toyota Yaris + 2 Airbags</h3>\\n\\t        </div>\\n\\t        <div class=\"colum colum-fecha\">\\n\\t        March-2019\\t        </div>\\n\\t        \\n\\t        \\t        <div class=\"colum colum-240 adulto\">\\n\\t        \\t<div class=\"ico-1 \"></div>\\n\\t            \\t\\t\\t\\t\\t<div class=\"estrella-act \"></div>\\n\\t\\t\\t\\t\\t\\t\\t\\t\\t<div class=\"estrella-act \"></div>\\n\\t\\t\\t\\t\\t\\t\\t\\t\\t<div class=\"estrella-act \"></div>\\n\\t\\t\\t\\t\\t\\t\\t\\t\\t<div class=\"estrella \"></div>\\n\\t\\t\\t\\t\\t\\t\\t\\t\\t<div class=\"estrella \"></div>\\n\\t\\t\\t\\t\\t            <span class=\"detalle-ch\">25.49 max. 34.00 </span>\\n\\t        </div>\\n\\t        \\n\\t        <div class=\"colum colum-240 nino\">\\n\\t        \\t<div class=\"ico-2 \"></div>\\n\\t            \\t\\t\\t\\t\\t<div class=\"estrella-act \"></div>\\n\\t\\t\\t\\t\\t\\t\\t\\t\\t<div class=\"estrella-act \"></div>\\n\\t\\t\\t\\t\\t\\t\\t\\t\\t<div class=\"estrella-act \"></div>\\n\\t\\t\\t\\t\\t\\t\\t\\t\\t<div class=\"estrella-act \"></div>\\n\\t\\t\\t\\t\\t\\t\\t\\t\\t<div class=\"estrella \"></div>\\n\\t\\t\\t\\t\\t            <span class=\"detalle-ch\">38.05 max. 49.00 </span>\\n\\t        \\n\\t        \\n\\t        </div>\\n\\t        \\n\\t        <a href=\"en/result/119/toyota-yaris-%2B-2-airbags\" class=\"btn-mas\">See more</a>\\n\\n\\n\\n\\t\\t\\t<!-- ACLARACIÃ\\x93N -->\\n\\t               \\n\\t    \\n\\t    </div>   \\n\\t    \\n\\t    \\n\\t\\t\\t    <div class=\"fila \">\\n\\t    \\t<div class=\"colum colum-200\">\\n\\t        \\t<h3>Toyota Corolla + 7 Airbags</h3>\\n\\t        </div>\\n\\t        <div class=\"colum colum-fecha\">\\n\\t        September-2017\\t        </div>\\n\\t        \\n\\t        \\t        <div class=\"colum colum-240 adulto\">\\n\\t        \\t<div class=\"ico-1 \"></div>\\n\\t            \\t\\t\\t\\t\\t<div class=\"estrella-act \"></div>\\n\\t\\t\\t\\t\\t\\t\\t\\t\\t<div class=\"estrella-act \"></div>\\n\\t\\t\\t\\t\\t\\t\\t\\t\\t<div class=\"estrella-act \"></div>\\n\\t\\t\\t\\t\\t\\t\\t\\t\\t<div class=\"estrella-act \"></div>\\n\\t\\t\\t\\t\\t\\t\\t\\t\\t<div class=\"estrella-act \"></div>\\n\\t\\t\\t\\t\\t            <span class=\"detalle-ch\">29.60 max. 34.00 </span>\\n\\t        </div>\\n\\t        \\n\\t        <div class=\"colum colum-240 nino\">\\n\\t        \\t<div class=\"ico-2 \"></div>\\n\\t            \\t\\t\\t\\t\\t<div class=\"estrella-act \"></div>\\n\\t\\t\\t\\t\\t\\t\\t\\t\\t<div class=\"estrella-act \"></div>\\n\\t\\t\\t\\t\\t\\t\\t\\t\\t<div class=\"estrella-act \"></div>\\n\\t\\t\\t\\t\\t\\t\\t\\t\\t<div class=\"estrella-act \"></div>\\n\\t\\t\\t\\t\\t\\t\\t\\t\\t<div class=\"estrella-act \"></div>\\n\\t\\t\\t\\t\\t            <span class=\"detalle-ch\">44.88 max. 49.00 </span>\\n\\t        \\n\\t        \\n\\t        </div>\\n\\t        \\n\\t        <a href=\"en/result/95/toyota-corolla-%2B-7-airbags\" class=\"btn-mas\">See more</a>\\n\\n\\n\\n\\t\\t\\t<!-- ACLARACIÃ\\x93N -->\\n\\t               \\n\\t    \\n\\t    </div>   \\n\\t    \\n\\t    \\n\\t\\t\\t        <div class=\"fila-tit\">\\n\\t            \\t            <img class=\"img-marca\" src=\"data/marcas/4.jpg?29996\" width=\"65\"/>\\n\\t            \\t            <span class=\"tit-marca\">Volkswagen</span>\\n\\t        </div>            \\n\\t    \\t    <div class=\"fila \">\\n\\t    \\t<div class=\"colum colum-200\">\\n\\t        \\t<h3>Volkswagen Tiguan + 6 Airbags</h3>\\n\\t        </div>\\n\\t        <div class=\"colum colum-fecha\">\\n\\t        September-2019\\t        </div>\\n\\t        \\n\\t        \\t        <div class=\"colum colum-240 adulto\">\\n\\t        \\t<div class=\"ico-1 \"></div>\\n\\t            \\t\\t\\t\\t\\t<div class=\"estrella-act \"></div>\\n\\t\\t\\t\\t\\t\\t\\t\\t\\t<div class=\"estrella-act \"></div>\\n\\t\\t\\t\\t\\t\\t\\t\\t\\t<div class=\"estrella-act \"></div>\\n\\t\\t\\t\\t\\t\\t\\t\\t\\t<div class=\"estrella-act \"></div>\\n\\t\\t\\t\\t\\t\\t\\t\\t\\t<div class=\"estrella-act \"></div>\\n\\t\\t\\t\\t\\t            <span class=\"detalle-ch\">31.94 max. 34.00 </span>\\n\\t        </div>\\n\\t        \\n\\t        <div class=\"colum colum-240 nino\">\\n\\t        \\t<div class=\"ico-2 \"></div>\\n\\t            \\t\\t\\t\\t\\t<div class=\"estrella-act \"></div>\\n\\t\\t\\t\\t\\t\\t\\t\\t\\t<div class=\"estrella-act \"></div>\\n\\t\\t\\t\\t\\t\\t\\t\\t\\t<div class=\"estrella-act \"></div>\\n\\t\\t\\t\\t\\t\\t\\t\\t\\t<div class=\"estrella-act \"></div>\\n\\t\\t\\t\\t\\t\\t\\t\\t\\t<div class=\"estrella-act \"></div>\\n\\t\\t\\t\\t\\t            <span class=\"detalle-ch\">44.00 max. 49.00 </span>\\n\\t        \\n\\t        \\n\\t        </div>\\n\\t        \\n\\t        <a href=\"en/result/131/volkswagen-tiguan-%2B-6-airbags\" class=\"btn-mas\">See more</a>\\n\\n\\n\\n\\t\\t\\t<!-- ACLARACIÃ\\x93N -->\\n\\t               \\n\\t    \\n\\t    </div>   \\n\\t    \\n\\t    \\n\\t\\t\\t    <div class=\"fila \">\\n\\t    \\t<div class=\"colum colum-200\">\\n\\t        \\t<h3>Volkswagen Jetta / Vento* + 6 Airbags (* for Uruguay and Argentina)</h3>\\n\\t        </div>\\n\\t        <div class=\"colum colum-fecha\">\\n\\t        September-2019\\t        </div>\\n\\t        \\n\\t        \\t        <div class=\"colum colum-240 adulto\">\\n\\t        \\t<div class=\"ico-1 \"></div>\\n\\t            \\t\\t\\t\\t\\t<div class=\"estrella-act \"></div>\\n\\t\\t\\t\\t\\t\\t\\t\\t\\t<div class=\"estrella-act \"></div>\\n\\t\\t\\t\\t\\t\\t\\t\\t\\t<div class=\"estrella-act \"></div>\\n\\t\\t\\t\\t\\t\\t\\t\\t\\t<div class=\"estrella-act \"></div>\\n\\t\\t\\t\\t\\t\\t\\t\\t\\t<div class=\"estrella-act \"></div>\\n\\t\\t\\t\\t\\t            <span class=\"detalle-ch\">30.16 max. 34.00 </span>\\n\\t        </div>\\n\\t        \\n\\t        <div class=\"colum colum-240 nino\">\\n\\t        \\t<div class=\"ico-2 \"></div>\\n\\t            \\t\\t\\t\\t\\t<div class=\"estrella-act \"></div>\\n\\t\\t\\t\\t\\t\\t\\t\\t\\t<div class=\"estrella-act \"></div>\\n\\t\\t\\t\\t\\t\\t\\t\\t\\t<div class=\"estrella-act \"></div>\\n\\t\\t\\t\\t\\t\\t\\t\\t\\t<div class=\"estrella-act \"></div>\\n\\t\\t\\t\\t\\t\\t\\t\\t\\t<div class=\"estrella-act \"></div>\\n\\t\\t\\t\\t\\t            <span class=\"detalle-ch\">44.98 max. 49.00 </span>\\n\\t        \\n\\t        \\n\\t        </div>\\n\\t        \\n\\t        <a href=\"en/result/130/volkswagen-jetta--vento-%2B-6-airbags--for-uruguay-and-argentina\" class=\"btn-mas\">See more</a>\\n\\n\\n\\n\\t\\t\\t<!-- ACLARACIÃ\\x93N -->\\n\\t               \\n\\t    \\n\\t    </div>   \\n\\t    \\n\\t    \\n\\t\\t\\t    <div class=\"fila \">\\n\\t    \\t<div class=\"colum colum-200\">\\n\\t        \\t<h3>Volkswagen T-Cross + 6 Airbags</h3>\\n\\t        </div>\\n\\t        <div class=\"colum colum-fecha\">\\n\\t        March-2019\\t        </div>\\n\\t        \\n\\t        \\t        <div class=\"colum colum-240 adulto\">\\n\\t        \\t<div class=\"ico-1 \"></div>\\n\\t            \\t\\t\\t\\t\\t<div class=\"estrella-act \"></div>\\n\\t\\t\\t\\t\\t\\t\\t\\t\\t<div class=\"estrella-act \"></div>\\n\\t\\t\\t\\t\\t\\t\\t\\t\\t<div class=\"estrella-act \"></div>\\n\\t\\t\\t\\t\\t\\t\\t\\t\\t<div class=\"estrella-act \"></div>\\n\\t\\t\\t\\t\\t\\t\\t\\t\\t<div class=\"estrella-act \"></div>\\n\\t\\t\\t\\t\\t            <span class=\"detalle-ch\">31.62 max. 34.00 </span>\\n\\t        </div>\\n\\t        \\n\\t        <div class=\"colum colum-240 nino\">\\n\\t        \\t<div class=\"ico-2 \"></div>\\n\\t            \\t\\t\\t\\t\\t<div class=\"estrella-act \"></div>\\n\\t\\t\\t\\t\\t\\t\\t\\t\\t<div class=\"estrella-act \"></div>\\n\\t\\t\\t\\t\\t\\t\\t\\t\\t<div class=\"estrella-act \"></div>\\n\\t\\t\\t\\t\\t\\t\\t\\t\\t<div class=\"estrella-act \"></div>\\n\\t\\t\\t\\t\\t\\t\\t\\t\\t<div class=\"estrella-act \"></div>\\n\\t\\t\\t\\t\\t            <span class=\"detalle-ch\">42.77 max. 49.00 </span>\\n\\t        \\n\\t        \\n\\t        </div>\\n\\t        \\n\\t        <a href=\"en/result/120/volkswagen-t-cross-%2B-6-airbags\" class=\"btn-mas\">See more</a>\\n\\n\\n\\n\\t\\t\\t<!-- ACLARACIÃ\\x93N -->\\n\\t               \\n\\t    \\n\\t    </div>   \\n\\t    \\n\\t    \\n\\t\\t\\t    <div class=\"fila \">\\n\\t    \\t<div class=\"colum colum-200\">\\n\\t        \\t<h3>Volkswagen Suran/Fox + 2 Airbags</h3>\\n\\t        </div>\\n\\t        <div class=\"colum colum-fecha\">\\n\\t        March-2019\\t        </div>\\n\\t        \\n\\t        \\t        <div class=\"colum colum-240 adulto\">\\n\\t        \\t<div class=\"ico-1 \"></div>\\n\\t            \\t\\t\\t\\t\\t<div class=\"estrella-act \"></div>\\n\\t\\t\\t\\t\\t\\t\\t\\t\\t<div class=\"estrella-act \"></div>\\n\\t\\t\\t\\t\\t\\t\\t\\t\\t<div class=\"estrella-act \"></div>\\n\\t\\t\\t\\t\\t\\t\\t\\t\\t<div class=\"estrella \"></div>\\n\\t\\t\\t\\t\\t\\t\\t\\t\\t<div class=\"estrella \"></div>\\n\\t\\t\\t\\t\\t            <span class=\"detalle-ch\">20.98 max. 34.00 </span>\\n\\t        </div>\\n\\t        \\n\\t        <div class=\"colum colum-240 nino\">\\n\\t        \\t<div class=\"ico-2 \"></div>\\n\\t            \\t\\t\\t\\t\\t<div class=\"estrella-act \"></div>\\n\\t\\t\\t\\t\\t\\t\\t\\t\\t<div class=\"estrella-act \"></div>\\n\\t\\t\\t\\t\\t\\t\\t\\t\\t<div class=\"estrella-act \"></div>\\n\\t\\t\\t\\t\\t\\t\\t\\t\\t<div class=\"estrella \"></div>\\n\\t\\t\\t\\t\\t\\t\\t\\t\\t<div class=\"estrella \"></div>\\n\\t\\t\\t\\t\\t            <span class=\"detalle-ch\">27.13 max. 49.00 </span>\\n\\t        \\n\\t        \\n\\t        </div>\\n\\t        \\n\\t        <a href=\"en/result/118/volkswagen-suranfox-%2B-2-airbags\" class=\"btn-mas\">See more</a>\\n\\n\\n\\n\\t\\t\\t<!-- ACLARACIÃ\\x93N -->\\n\\t               \\n\\t    \\n\\t    </div>   \\n\\t    \\n\\t    \\n\\t\\t\\t    <div class=\"fila \">\\n\\t    \\t<div class=\"colum colum-200\">\\n\\t        \\t<h3>Volkswagen Virtus + 4 Airbags</h3>\\n\\t        </div>\\n\\t        <div class=\"colum colum-fecha\">\\n\\t        January-2018\\t        </div>\\n\\t        \\n\\t        \\t        <div class=\"colum colum-240 adulto\">\\n\\t        \\t<div class=\"ico-1 \"></div>\\n\\t            \\t\\t\\t\\t\\t<div class=\"estrella-act \"></div>\\n\\t\\t\\t\\t\\t\\t\\t\\t\\t<div class=\"estrella-act \"></div>\\n\\t\\t\\t\\t\\t\\t\\t\\t\\t<div class=\"estrella-act \"></div>\\n\\t\\t\\t\\t\\t\\t\\t\\t\\t<div class=\"estrella-act \"></div>\\n\\t\\t\\t\\t\\t\\t\\t\\t\\t<div class=\"estrella-act \"></div>\\n\\t\\t\\t\\t\\t            <span class=\"detalle-ch\">32.56 max. 34.00 </span>\\n\\t        </div>\\n\\t        \\n\\t        <div class=\"colum colum-240 nino\">\\n\\t        \\t<div class=\"ico-2 \"></div>\\n\\t            \\t\\t\\t\\t\\t<div class=\"estrella-act \"></div>\\n\\t\\t\\t\\t\\t\\t\\t\\t\\t<div class=\"estrella-act \"></div>\\n\\t\\t\\t\\t\\t\\t\\t\\t\\t<div class=\"estrella-act \"></div>\\n\\t\\t\\t\\t\\t\\t\\t\\t\\t<div class=\"estrella-act \"></div>\\n\\t\\t\\t\\t\\t\\t\\t\\t\\t<div class=\"estrella-act \"></div>\\n\\t\\t\\t\\t\\t            <span class=\"detalle-ch\">43.00 max. 49.00 </span>\\n\\t        \\n\\t        \\n\\t        </div>\\n\\t        \\n\\t        <a href=\"en/result/102/volkswagen-virtus-%2B-4-airbags\" class=\"btn-mas\">See more</a>\\n\\n\\n\\n\\t\\t\\t<!-- ACLARACIÃ\\x93N -->\\n\\t               \\n\\t    \\n\\t    </div>   \\n\\t    \\n\\t    \\n\\t\\t\\t    <div class=\"fila \">\\n\\t    \\t<div class=\"colum colum-200\">\\n\\t        \\t<h3>Volkswagen Polo + 4 Airbags</h3>\\n\\t        </div>\\n\\t        <div class=\"colum colum-fecha\">\\n\\t        September-2017\\t        </div>\\n\\t        \\n\\t        \\t        <div class=\"colum colum-240 adulto\">\\n\\t        \\t<div class=\"ico-1 \"></div>\\n\\t            \\t\\t\\t\\t\\t<div class=\"estrella-act \"></div>\\n\\t\\t\\t\\t\\t\\t\\t\\t\\t<div class=\"estrella-act \"></div>\\n\\t\\t\\t\\t\\t\\t\\t\\t\\t<div class=\"estrella-act \"></div>\\n\\t\\t\\t\\t\\t\\t\\t\\t\\t<div class=\"estrella-act \"></div>\\n\\t\\t\\t\\t\\t\\t\\t\\t\\t<div class=\"estrella-act \"></div>\\n\\t\\t\\t\\t\\t            <span class=\"detalle-ch\">32.13 max. 34.00 </span>\\n\\t        </div>\\n\\t        \\n\\t        <div class=\"colum colum-240 nino\">\\n\\t        \\t<div class=\"ico-2 \"></div>\\n\\t            \\t\\t\\t\\t\\t<div class=\"estrella-act \"></div>\\n\\t\\t\\t\\t\\t\\t\\t\\t\\t<div class=\"estrella-act \"></div>\\n\\t\\t\\t\\t\\t\\t\\t\\t\\t<div class=\"estrella-act \"></div>\\n\\t\\t\\t\\t\\t\\t\\t\\t\\t<div class=\"estrella-act \"></div>\\n\\t\\t\\t\\t\\t\\t\\t\\t\\t<div class=\"estrella-act \"></div>\\n\\t\\t\\t\\t\\t            <span class=\"detalle-ch\">43.00 max. 49.00 </span>\\n\\t        \\n\\t        \\n\\t        </div>\\n\\t        \\n\\t        <a href=\"en/result/96/volkswagen-polo-%2B-4-airbags\" class=\"btn-mas\">See more</a>\\n\\n\\n\\n\\t\\t\\t<!-- ACLARACIÃ\\x93N -->\\n\\t               \\n\\t    \\n\\t    </div>   \\n\\t    \\n\\t    \\n\\t\\t\\t    <div class=\"fila \">\\n\\t    \\t<div class=\"colum colum-200\">\\n\\t        \\t<h3>Volkswagen Golf VII + 7 Airbags</h3>\\n\\t        </div>\\n\\t        <div class=\"colum colum-fecha\">\\n\\t        March-2017\\t        </div>\\n\\t        \\n\\t        \\t        <div class=\"colum colum-240 adulto\">\\n\\t        \\t<div class=\"ico-1 \"></div>\\n\\t            \\t\\t\\t\\t\\t<div class=\"estrella-act \"></div>\\n\\t\\t\\t\\t\\t\\t\\t\\t\\t<div class=\"estrella-act \"></div>\\n\\t\\t\\t\\t\\t\\t\\t\\t\\t<div class=\"estrella-act \"></div>\\n\\t\\t\\t\\t\\t\\t\\t\\t\\t<div class=\"estrella-act \"></div>\\n\\t\\t\\t\\t\\t\\t\\t\\t\\t<div class=\"estrella-act \"></div>\\n\\t\\t\\t\\t\\t            <span class=\"detalle-ch\">33.30 max. 34.00 </span>\\n\\t        </div>\\n\\t        \\n\\t        <div class=\"colum colum-240 nino\">\\n\\t        \\t<div class=\"ico-2 \"></div>\\n\\t            \\t\\t\\t\\t\\t<div class=\"estrella-act \"></div>\\n\\t\\t\\t\\t\\t\\t\\t\\t\\t<div class=\"estrella-act \"></div>\\n\\t\\t\\t\\t\\t\\t\\t\\t\\t<div class=\"estrella-act \"></div>\\n\\t\\t\\t\\t\\t\\t\\t\\t\\t<div class=\"estrella-act \"></div>\\n\\t\\t\\t\\t\\t\\t\\t\\t\\t<div class=\"estrella-act \"></div>\\n\\t\\t\\t\\t\\t            <span class=\"detalle-ch\">43.52 max. 49.00 </span>\\n\\t        \\n\\t        \\n\\t        </div>\\n\\t        \\n\\t        <a href=\"en/result/88/volkswagen-golf-vii-%2B-7-airbags\" class=\"btn-mas\">See more</a>\\n\\n\\n\\n\\t\\t\\t<!-- ACLARACIÃ\\x93N -->\\n\\t               \\n\\t    \\n\\t    </div>   \\n\\t    \\n\\t    \\n\\t\\t\\n\\t\\t\\n\\t    <!-- FILA -->\\n\\n\\t    \\n\\t</div><!-- FIN TABLA -->\\n</div>\\n\\n\\n\\t\\t\\t\\n<h6 class=\"item-acordeon-r activo\" data-protocolo=\"a15\">2015 - 2010</h6>\\n<div class=\"content-r activo\">\\n\\n\\t\\n<div class=\"col-100\">\\n\\t\\t<a href=\"data/descargas/LatinNCAP_all_results_2015-2010.pdf?225254\" class=\"btn-descargar btn-left\" target=\"_blank\">Download list ALL RESULTS</a>\\n\\t</div>\\n\\t        \\n\\t<div class=\"tit tit-negro margin-top-15px margin-bottom-0\"><h3 class=\"ico-ordenar\">Order results by</h3></div> \\n\\t\\t\\n\\t<div class=\"botonera\">\\n\\t\\t<a class=\"btn-gris a15\" data-orden=\"star_adult\">Adult stars</a>\\n\\t    <a class=\"btn-gris a15\" data-orden=\"star_child\">Child stars</a>\\n\\t    <a class=\"btn-gris a15\" data-orden=\"car_brand\">Make - Model</a>\\n\\t    <a class=\"btn-gris a15\" data-orden=\"year_p\">Publication year</a>\\n\\t    <div class=\"btn-orden a15\">\\n\\t    \\t<a class=\"orden menos a15\" data-orden=\"DESC\"></a>\\n\\t        <a class=\"orden mas a15\" data-orden=\"ASC\"></a>\\n\\t    </div>\\n\\t</div>\\n\\n\\t<!-- TABLA -->\\n\\t<div class=\"caja-tabla-r a15\" id=\"tabla-autos\">\\n\\t\\t\\t        <div class=\"fila-tit\">\\n\\t            \\t            <img class=\"img-marca\" src=\"data/marcas/17.jpg?25757\" width=\"65\"/>\\n\\t            \\t            <span class=\"tit-marca\">Chery</span>\\n\\t        </div>            \\n\\t    \\t    <div class=\"fila \">\\n\\t    \\t<div class=\"colum colum-200\">\\n\\t        \\t<h3>Chery iQ - NO Airbags</h3>\\n\\t        </div>\\n\\t        <div class=\"colum\">\\n\\t        July-2015\\t        </div>\\n\\t        \\n\\t        \\t        <div class=\"colum colum-240 adulto\">\\n\\t        \\t<div class=\"ico-1 old\"></div>\\n\\t            \\t\\t\\t\\t\\t<div class=\"estrella old\"></div>\\n\\t\\t\\t\\t\\t\\t\\t\\t\\t<div class=\"estrella old\"></div>\\n\\t\\t\\t\\t\\t\\t\\t\\t\\t<div class=\"estrella old\"></div>\\n\\t\\t\\t\\t\\t\\t\\t\\t\\t<div class=\"estrella old\"></div>\\n\\t\\t\\t\\t\\t\\t\\t\\t\\t<div class=\"estrella old\"></div>\\n\\t\\t\\t\\t\\t            <span class=\"detalle-ch\">0.00 max. 17.00 </span>\\n\\t        </div>\\n\\t        \\n\\t        <div class=\"colum colum-240 nino\">\\n\\t        \\t<div class=\"ico-2 old\"></div>\\n\\t            \\t\\t\\t\\t\\t<div class=\"estrella old\"></div>\\n\\t\\t\\t\\t\\t\\t\\t\\t\\t<div class=\"estrella old\"></div>\\n\\t\\t\\t\\t\\t\\t\\t\\t\\t<div class=\"estrella old\"></div>\\n\\t\\t\\t\\t\\t\\t\\t\\t\\t<div class=\"estrella old\"></div>\\n\\t\\t\\t\\t\\t\\t\\t\\t\\t<div class=\"estrella old\"></div>\\n\\t\\t\\t\\t\\t            <span class=\"detalle-ch\">3.00 max. 49.00 </span>\\n\\t        \\n\\t        \\n\\t        </div>\\n\\t        \\n\\t        <a href=\"en/result/57/chery-iq-no-airbags\" class=\"btn-mas\">See more</a>\\n\\n\\n\\n\\t\\t\\t<!-- ACLARACIÃ\\x93N -->\\n\\t               \\n\\t    \\n\\t    </div>   \\n\\t    \\n\\t    \\n\\t      \\n\\t    \\n\\t\\t\\t        <div class=\"fila-tit\">\\n\\t            \\t            <img class=\"img-marca\" src=\"data/marcas/2.jpg?18332\" width=\"65\"/>\\n\\t            \\t            <span class=\"tit-marca\">Chevrolet</span>\\n\\t        </div>            \\n\\t    \\t    <div class=\"fila \">\\n\\t    \\t<div class=\"colum colum-200\">\\n\\t        \\t<h3>Chevrolet Aveo - NO Airbags</h3>\\n\\t        </div>\\n\\t        <div class=\"colum\">\\n\\t        November-2015\\t        </div>\\n\\t        \\n\\t        \\t        <div class=\"colum colum-240 adulto\">\\n\\t        \\t<div class=\"ico-1 old\"></div>\\n\\t            \\t\\t\\t\\t\\t<div class=\"estrella old\"></div>\\n\\t\\t\\t\\t\\t\\t\\t\\t\\t<div class=\"estrella old\"></div>\\n\\t\\t\\t\\t\\t\\t\\t\\t\\t<div class=\"estrella old\"></div>\\n\\t\\t\\t\\t\\t\\t\\t\\t\\t<div class=\"estrella old\"></div>\\n\\t\\t\\t\\t\\t\\t\\t\\t\\t<div class=\"estrella old\"></div>\\n\\t\\t\\t\\t\\t            <span class=\"detalle-ch\">0 max. 17.00 </span>\\n\\t        </div>\\n\\t        \\n\\t        <div class=\"colum colum-240 nino\">\\n\\t        \\t<div class=\"ico-2 old\"></div>\\n\\t            \\t\\t\\t\\t\\t<div class=\"estrella-act old\"></div>\\n\\t\\t\\t\\t\\t\\t\\t\\t\\t<div class=\"estrella-act old\"></div>\\n\\t\\t\\t\\t\\t\\t\\t\\t\\t<div class=\"estrella old\"></div>\\n\\t\\t\\t\\t\\t\\t\\t\\t\\t<div class=\"estrella old\"></div>\\n\\t\\t\\t\\t\\t\\t\\t\\t\\t<div class=\"estrella old\"></div>\\n\\t\\t\\t\\t\\t            <span class=\"detalle-ch\">17.93 max. 49.00 </span>\\n\\t        \\n\\t        \\n\\t        </div>\\n\\t        \\n\\t        <a href=\"en/result/63/chevrolet-aveo-no-airbags\" class=\"btn-mas\">See more</a>\\n\\n\\n\\n\\t\\t\\t<!-- ACLARACIÃ\\x93N -->\\n\\t               \\n\\t    \\n\\t    </div>   \\n\\t    \\n\\t    \\n\\t      \\n\\t    \\n\\t\\t\\t    <div class=\"fila \">\\n\\t    \\t<div class=\"colum colum-200\">\\n\\t        \\t<h3>Chevrolet Onix + 2 Airbags (from August 2014)</h3>\\n\\t        </div>\\n\\t        <div class=\"colum\">\\n\\t        December-2014\\t        </div>\\n\\t        \\n\\t        \\t        <div class=\"colum colum-240 adulto\">\\n\\t        \\t<div class=\"ico-1 old\"></div>\\n\\t            \\t\\t\\t\\t\\t<div class=\"estrella-act old\"></div>\\n\\t\\t\\t\\t\\t\\t\\t\\t\\t<div class=\"estrella-act old\"></div>\\n\\t\\t\\t\\t\\t\\t\\t\\t\\t<div class=\"estrella-act old\"></div>\\n\\t\\t\\t\\t\\t\\t\\t\\t\\t<div class=\"estrella old\"></div>\\n\\t\\t\\t\\t\\t\\t\\t\\t\\t<div class=\"estrella old\"></div>\\n\\t\\t\\t\\t\\t            <span class=\"detalle-ch\">10.67 max. 17.00 </span>\\n\\t        </div>\\n\\t        \\n\\t        <div class=\"colum colum-240 nino\">\\n\\t        \\t<div class=\"ico-2 old\"></div>\\n\\t            \\t\\t\\t\\t\\t<div class=\"estrella-act old\"></div>\\n\\t\\t\\t\\t\\t\\t\\t\\t\\t<div class=\"estrella-act old\"></div>\\n\\t\\t\\t\\t\\t\\t\\t\\t\\t<div class=\"estrella old\"></div>\\n\\t\\t\\t\\t\\t\\t\\t\\t\\t<div class=\"estrella old\"></div>\\n\\t\\t\\t\\t\\t\\t\\t\\t\\t<div class=\"estrella old\"></div>\\n\\t\\t\\t\\t\\t            <span class=\"detalle-ch\">20.14 max. 49.00 </span>\\n\\t        \\n\\t        \\n\\t        </div>\\n\\t        \\n\\t        <a href=\"en/result/52/chevrolet-onix-%2B-2-airbags-from-august-2014\" class=\"btn-mas\">See more</a>\\n\\n\\n\\n\\t\\t\\t<!-- ACLARACIÃ\\x93N -->\\n\\t               \\n\\t    \\n\\t    </div>   \\n\\t    \\n\\t    \\n\\t      \\n\\t    \\n\\t\\t\\t    <div class=\"fila \">\\n\\t    \\t<div class=\"colum colum-200\">\\n\\t        \\t<h3>Chevrolet Spark - NO Airbags</h3>\\n\\t        </div>\\n\\t        <div class=\"colum\">\\n\\t        August-2014\\t        </div>\\n\\t        \\n\\t        \\t        <div class=\"colum colum-240 adulto\">\\n\\t        \\t<div class=\"ico-1 old\"></div>\\n\\t            \\t\\t\\t\\t\\t<div class=\"estrella old\"></div>\\n\\t\\t\\t\\t\\t\\t\\t\\t\\t<div class=\"estrella old\"></div>\\n\\t\\t\\t\\t\\t\\t\\t\\t\\t<div class=\"estrella old\"></div>\\n\\t\\t\\t\\t\\t\\t\\t\\t\\t<div class=\"estrella old\"></div>\\n\\t\\t\\t\\t\\t\\t\\t\\t\\t<div class=\"estrella old\"></div>\\n\\t\\t\\t\\t\\t            <span class=\"detalle-ch\">00.00 max. 17.00 </span>\\n\\t        </div>\\n\\t        \\n\\t        <div class=\"colum colum-240 nino\">\\n\\t        \\t<div class=\"ico-2 old\"></div>\\n\\t            \\t\\t\\t\\t\\t<div class=\"estrella-act old\"></div>\\n\\t\\t\\t\\t\\t\\t\\t\\t\\t<div class=\"estrella-act old\"></div>\\n\\t\\t\\t\\t\\t\\t\\t\\t\\t<div class=\"estrella old\"></div>\\n\\t\\t\\t\\t\\t\\t\\t\\t\\t<div class=\"estrella old\"></div>\\n\\t\\t\\t\\t\\t\\t\\t\\t\\t<div class=\"estrella old\"></div>\\n\\t\\t\\t\\t\\t            <span class=\"detalle-ch\">16.29 max. 49.00 </span>\\n\\t        \\n\\t        \\n\\t        </div>\\n\\t        \\n\\t        <a href=\"en/result/44/chevrolet-spark-no-airbags\" class=\"btn-mas\">See more</a>\\n\\n\\n\\n\\t\\t\\t<!-- ACLARACIÃ\\x93N -->\\n\\t               \\n\\t    \\n\\t    </div>   \\n\\t    \\n\\t    \\n\\t      \\n\\t    \\n\\t\\t\\t    <div class=\"fila \">\\n\\t    \\t<div class=\"colum colum-200\">\\n\\t        \\t<h3>Chevrolet Malibu + 10 Airbags</h3>\\n\\t        </div>\\n\\t        <div class=\"colum\">\\n\\t        November-2013\\t        </div>\\n\\t        \\n\\t        \\t        <div class=\"colum colum-240 adulto\">\\n\\t        \\t<div class=\"ico-1 old\"></div>\\n\\t            \\t\\t\\t\\t\\t<div class=\"estrella-act old\"></div>\\n\\t\\t\\t\\t\\t\\t\\t\\t\\t<div class=\"estrella-act old\"></div>\\n\\t\\t\\t\\t\\t\\t\\t\\t\\t<div class=\"estrella-act old\"></div>\\n\\t\\t\\t\\t\\t\\t\\t\\t\\t<div class=\"estrella-act old\"></div>\\n\\t\\t\\t\\t\\t\\t\\t\\t\\t<div class=\"estrella old\"></div>\\n\\t\\t\\t\\t\\t            <span class=\"detalle-ch\">14.56 max. 17.00 </span>\\n\\t        </div>\\n\\t        \\n\\t        <div class=\"colum colum-240 nino\">\\n\\t        \\t<div class=\"ico-2 old\"></div>\\n\\t            \\t\\t\\t\\t\\t<div class=\"estrella-act old\"></div>\\n\\t\\t\\t\\t\\t\\t\\t\\t\\t<div class=\"estrella old\"></div>\\n\\t\\t\\t\\t\\t\\t\\t\\t\\t<div class=\"estrella old\"></div>\\n\\t\\t\\t\\t\\t\\t\\t\\t\\t<div class=\"estrella old\"></div>\\n\\t\\t\\t\\t\\t\\t\\t\\t\\t<div class=\"estrella old\"></div>\\n\\t\\t\\t\\t\\t            <span class=\"detalle-ch\">8.57 max. 49.00 </span>\\n\\t        \\n\\t        \\n\\t        </div>\\n\\t        \\n\\t        <a href=\"en/result/39/chevrolet-malibu-%2B-10-airbags\" class=\"btn-mas\">See more</a>\\n\\n\\n\\n\\t\\t\\t<!-- ACLARACIÃ\\x93N -->\\n\\t               \\n\\t    \\n\\t    </div>   \\n\\t    \\n\\t    \\n\\t      \\n\\t    \\n\\t\\t\\t    <div class=\"fila \">\\n\\t    \\t<div class=\"colum colum-200\">\\n\\t        \\t<h3>Chevrolet Agile - NO Airbags</h3>\\n\\t        </div>\\n\\t        <div class=\"colum\">\\n\\t        July-2013\\t        </div>\\n\\t        \\n\\t        \\t        <div class=\"colum colum-240 adulto\">\\n\\t        \\t<div class=\"ico-1 old\"></div>\\n\\t            \\t\\t\\t\\t\\t<div class=\"estrella old\"></div>\\n\\t\\t\\t\\t\\t\\t\\t\\t\\t<div class=\"estrella old\"></div>\\n\\t\\t\\t\\t\\t\\t\\t\\t\\t<div class=\"estrella old\"></div>\\n\\t\\t\\t\\t\\t\\t\\t\\t\\t<div class=\"estrella old\"></div>\\n\\t\\t\\t\\t\\t\\t\\t\\t\\t<div class=\"estrella old\"></div>\\n\\t\\t\\t\\t\\t            <span class=\"detalle-ch\">0.00 max. 17.00 </span>\\n\\t        </div>\\n\\t        \\n\\t        <div class=\"colum colum-240 nino\">\\n\\t        \\t<div class=\"ico-2 old\"></div>\\n\\t            \\t\\t\\t\\t\\t<div class=\"estrella-act old\"></div>\\n\\t\\t\\t\\t\\t\\t\\t\\t\\t<div class=\"estrella-act old\"></div>\\n\\t\\t\\t\\t\\t\\t\\t\\t\\t<div class=\"estrella old\"></div>\\n\\t\\t\\t\\t\\t\\t\\t\\t\\t<div class=\"estrella old\"></div>\\n\\t\\t\\t\\t\\t\\t\\t\\t\\t<div class=\"estrella old\"></div>\\n\\t\\t\\t\\t\\t            <span class=\"detalle-ch\">16.35 max. 49.00 </span>\\n\\t        \\n\\t        \\n\\t        </div>\\n\\t        \\n\\t        <a href=\"en/result/35/chevrolet-agile-no-airbags\" class=\"btn-mas\">See more</a>\\n\\n\\n\\n\\t\\t\\t<!-- ACLARACIÃ\\x93N -->\\n\\t               \\n\\t    \\n\\t    </div>   \\n\\t    \\n\\t    \\n\\t      \\n\\t    \\n\\t\\t\\t    <div class=\"fila \">\\n\\t    \\t<div class=\"colum colum-200\">\\n\\t        \\t<h3>Chevrolet Celta - NO Airbags</h3>\\n\\t        </div>\\n\\t        <div class=\"colum\">\\n\\t        August-2011\\t        </div>\\n\\t        \\n\\t        \\t        <div class=\"colum colum-240 adulto\">\\n\\t        \\t<div class=\"ico-1 old\"></div>\\n\\t            \\t\\t\\t\\t\\t<div class=\"estrella-act old\"></div>\\n\\t\\t\\t\\t\\t\\t\\t\\t\\t<div class=\"estrella old\"></div>\\n\\t\\t\\t\\t\\t\\t\\t\\t\\t<div class=\"estrella old\"></div>\\n\\t\\t\\t\\t\\t\\t\\t\\t\\t<div class=\"estrella old\"></div>\\n\\t\\t\\t\\t\\t\\t\\t\\t\\t<div class=\"estrella old\"></div>\\n\\t\\t\\t\\t\\t            <span class=\"detalle-ch\">3.82 max. 16.00 </span>\\n\\t        </div>\\n\\t        \\n\\t        <div class=\"colum colum-240 nino\">\\n\\t        \\t<div class=\"ico-2 old\"></div>\\n\\t            \\t\\t\\t\\t\\t<div class=\"estrella-act old\"></div>\\n\\t\\t\\t\\t\\t\\t\\t\\t\\t<div class=\"estrella-act old\"></div>\\n\\t\\t\\t\\t\\t\\t\\t\\t\\t<div class=\"estrella old\"></div>\\n\\t\\t\\t\\t\\t\\t\\t\\t\\t<div class=\"estrella old\"></div>\\n\\t\\t\\t\\t\\t\\t\\t\\t\\t<div class=\"estrella old\"></div>\\n\\t\\t\\t\\t\\t            <span class=\"detalle-ch\">22.68 max. 49.00 </span>\\n\\t        \\n\\t        \\n\\t        </div>\\n\\t        \\n\\t        <a href=\"en/result/11/chevrolet-celta-no-airbags\" class=\"btn-mas\">See more</a>\\n\\n\\n\\n\\t\\t\\t<!-- ACLARACIÃ\\x93N -->\\n\\t               \\n\\t    \\n\\t    </div>   \\n\\t    \\n\\t    \\n\\t      \\n\\t    \\n\\t\\t\\t    <div class=\"fila \">\\n\\t    \\t<div class=\"colum colum-200\">\\n\\t        \\t<h3>Chevrolet Corsa Classic - NO Airbags</h3>\\n\\t        </div>\\n\\t        <div class=\"colum\">\\n\\t        August-2011\\t        </div>\\n\\t        \\n\\t        \\t        <div class=\"colum colum-240 adulto\">\\n\\t        \\t<div class=\"ico-1 old\"></div>\\n\\t            \\t\\t\\t\\t\\t<div class=\"estrella-act old\"></div>\\n\\t\\t\\t\\t\\t\\t\\t\\t\\t<div class=\"estrella old\"></div>\\n\\t\\t\\t\\t\\t\\t\\t\\t\\t<div class=\"estrella old\"></div>\\n\\t\\t\\t\\t\\t\\t\\t\\t\\t<div class=\"estrella old\"></div>\\n\\t\\t\\t\\t\\t\\t\\t\\t\\t<div class=\"estrella old\"></div>\\n\\t\\t\\t\\t\\t            <span class=\"detalle-ch\">2.28 max. 16.00 </span>\\n\\t        </div>\\n\\t        \\n\\t        <div class=\"colum colum-240 nino\">\\n\\t        \\t<div class=\"ico-2 old\"></div>\\n\\t            \\t\\t\\t\\t\\t<div class=\"estrella-act old\"></div>\\n\\t\\t\\t\\t\\t\\t\\t\\t\\t<div class=\"estrella old\"></div>\\n\\t\\t\\t\\t\\t\\t\\t\\t\\t<div class=\"estrella old\"></div>\\n\\t\\t\\t\\t\\t\\t\\t\\t\\t<div class=\"estrella old\"></div>\\n\\t\\t\\t\\t\\t\\t\\t\\t\\t<div class=\"estrella old\"></div>\\n\\t\\t\\t\\t\\t            <span class=\"detalle-ch\">9.16 max. 49.00 </span>\\n\\t        \\n\\t        \\n\\t        </div>\\n\\t        \\n\\t        <a href=\"en/result/13/chevrolet-corsa-classic-no-airbags\" class=\"btn-mas\">See more</a>\\n\\n\\n\\n\\t\\t\\t<!-- ACLARACIÃ\\x93N -->\\n\\t               \\n\\t    \\n\\t    </div>   \\n\\t    \\n\\t    \\n\\t      \\n\\t    \\n\\t\\t\\t    <div class=\"fila \">\\n\\t    \\t<div class=\"colum colum-200\">\\n\\t        \\t<h3>Chevrolet Cruze LT + 2 Airbags</h3>\\n\\t        </div>\\n\\t        <div class=\"colum\">\\n\\t        August-2011\\t        </div>\\n\\t        \\n\\t        \\t        <div class=\"colum colum-240 adulto\">\\n\\t        \\t<div class=\"ico-1 old\"></div>\\n\\t            \\t\\t\\t\\t\\t<div class=\"estrella-act old\"></div>\\n\\t\\t\\t\\t\\t\\t\\t\\t\\t<div class=\"estrella-act old\"></div>\\n\\t\\t\\t\\t\\t\\t\\t\\t\\t<div class=\"estrella-act old\"></div>\\n\\t\\t\\t\\t\\t\\t\\t\\t\\t<div class=\"estrella-act old\"></div>\\n\\t\\t\\t\\t\\t\\t\\t\\t\\t<div class=\"estrella old\"></div>\\n\\t\\t\\t\\t\\t            <span class=\"detalle-ch\">13.18 max. 16.00 </span>\\n\\t        </div>\\n\\t        \\n\\t        <div class=\"colum colum-240 nino\">\\n\\t        \\t<div class=\"ico-2 old\"></div>\\n\\t            \\t\\t\\t\\t\\t<div class=\"estrella-act old\"></div>\\n\\t\\t\\t\\t\\t\\t\\t\\t\\t<div class=\"estrella-act old\"></div>\\n\\t\\t\\t\\t\\t\\t\\t\\t\\t<div class=\"estrella-act old\"></div>\\n\\t\\t\\t\\t\\t\\t\\t\\t\\t<div class=\"estrella old\"></div>\\n\\t\\t\\t\\t\\t\\t\\t\\t\\t<div class=\"estrella old\"></div>\\n\\t\\t\\t\\t\\t            <span class=\"detalle-ch\">32.59 max. 49.00 </span>\\n\\t        \\n\\t        \\n\\t        </div>\\n\\t        \\n\\t        <a href=\"en/result/15/chevrolet-cruze-lt-%2B-2-airbags\" class=\"btn-mas\">See more</a>\\n\\n\\n\\n\\t\\t\\t<!-- ACLARACIÃ\\x93N -->\\n\\t               \\n\\t    \\n\\t    </div>   \\n\\t    \\n\\t    \\n\\t      \\n\\t    \\n\\t\\t\\t    <div class=\"fila \">\\n\\t    \\t<div class=\"colum colum-200\">\\n\\t        \\t<h3>Chevrolet Meriva GL Plus + 1 Airbag</h3>\\n\\t        </div>\\n\\t        <div class=\"colum\">\\n\\t        August-2010\\t        </div>\\n\\t        \\n\\t        \\t        <div class=\"colum colum-240 adulto\">\\n\\t        \\t<div class=\"ico-1 old\"></div>\\n\\t            \\t\\t\\t\\t\\t<div class=\"estrella-act old\"></div>\\n\\t\\t\\t\\t\\t\\t\\t\\t\\t<div class=\"estrella-act old\"></div>\\n\\t\\t\\t\\t\\t\\t\\t\\t\\t<div class=\"estrella-act old\"></div>\\n\\t\\t\\t\\t\\t\\t\\t\\t\\t<div class=\"estrella old\"></div>\\n\\t\\t\\t\\t\\t\\t\\t\\t\\t<div class=\"estrella old\"></div>\\n\\t\\t\\t\\t\\t            <span class=\"detalle-ch\">8.64 max. 16.00 </span>\\n\\t        </div>\\n\\t        \\n\\t        <div class=\"colum colum-240 nino\">\\n\\t        \\t<div class=\"ico-2 old\"></div>\\n\\t            \\t\\t\\t\\t\\t<div class=\"estrella-act old\"></div>\\n\\t\\t\\t\\t\\t\\t\\t\\t\\t<div class=\"estrella old\"></div>\\n\\t\\t\\t\\t\\t\\t\\t\\t\\t<div class=\"estrella old\"></div>\\n\\t\\t\\t\\t\\t\\t\\t\\t\\t<div class=\"estrella old\"></div>\\n\\t\\t\\t\\t\\t\\t\\t\\t\\t<div class=\"estrella old\"></div>\\n\\t\\t\\t\\t\\t            <span class=\"detalle-ch\">9.04 max. 49.00 </span>\\n\\t        \\n\\t        \\n\\t        </div>\\n\\t        \\n\\t        <a href=\"en/result/2/chevrolet-meriva-gl-plus-%2B-1-airbag\" class=\"btn-mas\">See more</a>\\n\\n\\n\\n\\t\\t\\t<!-- ACLARACIÃ\\x93N -->\\n\\t               \\n\\t    \\n\\t    </div>   \\n\\t    \\n\\t    \\n\\t      \\n\\t    \\n\\t\\t\\t        <div class=\"fila-tit\">\\n\\t            \\t            <img class=\"img-marca\" src=\"data/marcas/16.jpg?19219\" width=\"65\"/>\\n\\t            \\t            <span class=\"tit-marca\">Citroen</span>\\n\\t        </div>            \\n\\t    \\t    <div class=\"fila \">\\n\\t    \\t<div class=\"colum colum-200\">\\n\\t        \\t<h3>Citroen C3 + 2 Airbags</h3>\\n\\t        </div>\\n\\t        <div class=\"colum\">\\n\\t        April-2015\\t        </div>\\n\\t        \\n\\t        \\t        <div class=\"colum colum-240 adulto\">\\n\\t        \\t<div class=\"ico-1 old\"></div>\\n\\t            \\t\\t\\t\\t\\t<div class=\"estrella-act old\"></div>\\n\\t\\t\\t\\t\\t\\t\\t\\t\\t<div class=\"estrella-act old\"></div>\\n\\t\\t\\t\\t\\t\\t\\t\\t\\t<div class=\"estrella-act old\"></div>\\n\\t\\t\\t\\t\\t\\t\\t\\t\\t<div class=\"estrella-act old\"></div>\\n\\t\\t\\t\\t\\t\\t\\t\\t\\t<div class=\"estrella old\"></div>\\n\\t\\t\\t\\t\\t            <span class=\"detalle-ch\">11.19 max. 17.00 </span>\\n\\t        </div>\\n\\t        \\n\\t        <div class=\"colum colum-240 nino\">\\n\\t        \\t<div class=\"ico-2 old\"></div>\\n\\t            \\t\\t\\t\\t\\t<div class=\"estrella-act old\"></div>\\n\\t\\t\\t\\t\\t\\t\\t\\t\\t<div class=\"estrella-act old\"></div>\\n\\t\\t\\t\\t\\t\\t\\t\\t\\t<div class=\"estrella old\"></div>\\n\\t\\t\\t\\t\\t\\t\\t\\t\\t<div class=\"estrella old\"></div>\\n\\t\\t\\t\\t\\t\\t\\t\\t\\t<div class=\"estrella old\"></div>\\n\\t\\t\\t\\t\\t            <span class=\"detalle-ch\">22.67 max. 49.00 </span>\\n\\t        \\n\\t        \\n\\t        </div>\\n\\t        \\n\\t        <a href=\"en/result/54/citroen-c3-%2B-2-airbags\" class=\"btn-mas\">See more</a>\\n\\n\\n\\n\\t\\t\\t<!-- ACLARACIÃ\\x93N -->\\n\\t               \\n\\t    \\n\\t    </div>   \\n\\t    \\n\\t    \\n\\t      \\n\\t    \\n\\t\\t\\t        <div class=\"fila-tit\">\\n\\t            \\t            <img class=\"img-marca\" src=\"data/marcas/3.jpg?11445\" width=\"65\"/>\\n\\t            \\t            <span class=\"tit-marca\">Fiat</span>\\n\\t        </div>            \\n\\t    \\t    <div class=\"fila \">\\n\\t    \\t<div class=\"colum colum-200\">\\n\\t        \\t<h3>Fiat New Palio + 2 Airbags (from july 2015)</h3>\\n\\t        </div>\\n\\t        <div class=\"colum\">\\n\\t        July-2015\\t        </div>\\n\\t        \\n\\t        \\t        <div class=\"colum colum-240 adulto\">\\n\\t        \\t<div class=\"ico-1 old\"></div>\\n\\t            \\t\\t\\t\\t\\t<div class=\"estrella-act old\"></div>\\n\\t\\t\\t\\t\\t\\t\\t\\t\\t<div class=\"estrella-act old\"></div>\\n\\t\\t\\t\\t\\t\\t\\t\\t\\t<div class=\"estrella-act old\"></div>\\n\\t\\t\\t\\t\\t\\t\\t\\t\\t<div class=\"estrella-act old\"></div>\\n\\t\\t\\t\\t\\t\\t\\t\\t\\t<div class=\"estrella old\"></div>\\n\\t\\t\\t\\t\\t            <span class=\"detalle-ch\">11.34 max. 17.00 </span>\\n\\t        </div>\\n\\t        \\n\\t        <div class=\"colum colum-240 nino\">\\n\\t        \\t<div class=\"ico-2 old\"></div>\\n\\t            \\t\\t\\t\\t\\t<div class=\"estrella-act old\"></div>\\n\\t\\t\\t\\t\\t\\t\\t\\t\\t<div class=\"estrella-act old\"></div>\\n\\t\\t\\t\\t\\t\\t\\t\\t\\t<div class=\"estrella-act old\"></div>\\n\\t\\t\\t\\t\\t\\t\\t\\t\\t<div class=\"estrella old\"></div>\\n\\t\\t\\t\\t\\t\\t\\t\\t\\t<div class=\"estrella old\"></div>\\n\\t\\t\\t\\t\\t            <span class=\"detalle-ch\">25.28 max. 49.00 </span>\\n\\t        \\n\\t        \\n\\t        </div>\\n\\t        \\n\\t        <a href=\"en/result/58/fiat-new-palio-%2B-2-airbags-from-july-2015\" class=\"btn-mas\">See more</a>\\n\\n\\n\\n\\t\\t\\t<!-- ACLARACIÃ\\x93N -->\\n\\t               \\n\\t    \\n\\t    </div>   \\n\\t    \\n\\t    \\n\\t      \\n\\t    \\n\\t\\t\\t    <div class=\"fila \">\\n\\t    \\t<div class=\"colum colum-200\">\\n\\t        \\t<h3>Fiat New Palio - NO Airbags</h3>\\n\\t        </div>\\n\\t        <div class=\"colum\">\\n\\t        August-2014\\t        </div>\\n\\t        \\n\\t        \\t        <div class=\"colum colum-240 adulto\">\\n\\t        \\t<div class=\"ico-1 old\"></div>\\n\\t            \\t\\t\\t\\t\\t<div class=\"estrella old\"></div>\\n\\t\\t\\t\\t\\t\\t\\t\\t\\t<div class=\"estrella old\"></div>\\n\\t\\t\\t\\t\\t\\t\\t\\t\\t<div class=\"estrella old\"></div>\\n\\t\\t\\t\\t\\t\\t\\t\\t\\t<div class=\"estrella old\"></div>\\n\\t\\t\\t\\t\\t\\t\\t\\t\\t<div class=\"estrella old\"></div>\\n\\t\\t\\t\\t\\t            <span class=\"detalle-ch\">0 max. 17.00 </span>\\n\\t        </div>\\n\\t        \\n\\t        <div class=\"colum colum-240 nino\">\\n\\t        \\t<div class=\"ico-2 old\"></div>\\n\\t            \\t\\t\\t\\t\\t<div class=\"estrella-act old\"></div>\\n\\t\\t\\t\\t\\t\\t\\t\\t\\t<div class=\"estrella-act old\"></div>\\n\\t\\t\\t\\t\\t\\t\\t\\t\\t<div class=\"estrella old\"></div>\\n\\t\\t\\t\\t\\t\\t\\t\\t\\t<div class=\"estrella old\"></div>\\n\\t\\t\\t\\t\\t\\t\\t\\t\\t<div class=\"estrella old\"></div>\\n\\t\\t\\t\\t\\t            <span class=\"detalle-ch\">18.01 max. 49.00 </span>\\n\\t        \\n\\t        \\n\\t        </div>\\n\\t        \\n\\t        <a href=\"en/result/45/fiat-new-palio-no-airbags\" class=\"btn-mas\">See more</a>\\n\\n\\n\\n\\t\\t\\t<!-- ACLARACIÃ\\x93N -->\\n\\t               \\n\\t    \\n\\t    </div>   \\n\\t    \\n\\t    \\n\\t      \\n\\t    \\n\\t\\t\\t    <div class=\"fila \">\\n\\t    \\t<div class=\"colum colum-200\">\\n\\t        \\t<h3>Fiat New Palio + 2 Airbags</h3>\\n\\t        </div>\\n\\t        <div class=\"colum\">\\n\\t        August-2014\\t        </div>\\n\\t        \\n\\t        \\t        <div class=\"colum colum-240 adulto\">\\n\\t        \\t<div class=\"ico-1 old\"></div>\\n\\t            \\t\\t\\t\\t\\t<div class=\"estrella-act old\"></div>\\n\\t\\t\\t\\t\\t\\t\\t\\t\\t<div class=\"estrella-act old\"></div>\\n\\t\\t\\t\\t\\t\\t\\t\\t\\t<div class=\"estrella-act old\"></div>\\n\\t\\t\\t\\t\\t\\t\\t\\t\\t<div class=\"estrella old\"></div>\\n\\t\\t\\t\\t\\t\\t\\t\\t\\t<div class=\"estrella old\"></div>\\n\\t\\t\\t\\t\\t            <span class=\"detalle-ch\">10.84 max. 17.00 </span>\\n\\t        </div>\\n\\t        \\n\\t        <div class=\"colum colum-240 nino\">\\n\\t        \\t<div class=\"ico-2 old\"></div>\\n\\t            \\t\\t\\t\\t\\t<div class=\"estrella-act old\"></div>\\n\\t\\t\\t\\t\\t\\t\\t\\t\\t<div class=\"estrella-act old\"></div>\\n\\t\\t\\t\\t\\t\\t\\t\\t\\t<div class=\"estrella old\"></div>\\n\\t\\t\\t\\t\\t\\t\\t\\t\\t<div class=\"estrella old\"></div>\\n\\t\\t\\t\\t\\t\\t\\t\\t\\t<div class=\"estrella old\"></div>\\n\\t\\t\\t\\t\\t            <span class=\"detalle-ch\">20.37 max. 49.00 </span>\\n\\t        \\n\\t        \\n\\t        </div>\\n\\t        \\n\\t        <a href=\"en/result/46/fiat-new-palio-%2B-2-airbags\" class=\"btn-mas\">See more</a>\\n\\n\\n\\n\\t\\t\\t<!-- ACLARACIÃ\\x93N -->\\n\\t               \\n\\t    \\n\\t    </div>   \\n\\t    \\n\\t    \\n\\t      \\n\\t    \\n\\t\\t\\t    <div class=\"fila \">\\n\\t    \\t<div class=\"colum colum-200\">\\n\\t        \\t<h3>Fiat Novo Uno Evo - NO Airbags</h3>\\n\\t        </div>\\n\\t        <div class=\"colum\">\\n\\t        July-2011\\t        </div>\\n\\t        \\n\\t        \\t        <div class=\"colum colum-240 adulto\">\\n\\t        \\t<div class=\"ico-1 old\"></div>\\n\\t            \\t\\t\\t\\t\\t<div class=\"estrella-act old\"></div>\\n\\t\\t\\t\\t\\t\\t\\t\\t\\t<div class=\"estrella old\"></div>\\n\\t\\t\\t\\t\\t\\t\\t\\t\\t<div class=\"estrella old\"></div>\\n\\t\\t\\t\\t\\t\\t\\t\\t\\t<div class=\"estrella old\"></div>\\n\\t\\t\\t\\t\\t\\t\\t\\t\\t<div class=\"estrella old\"></div>\\n\\t\\t\\t\\t\\t            <span class=\"detalle-ch\">2.00 max. 16.00 </span>\\n\\t        </div>\\n\\t        \\n\\t        <div class=\"colum colum-240 nino\">\\n\\t        \\t<div class=\"ico-2 old\"></div>\\n\\t            \\t\\t\\t\\t\\t<div class=\"estrella-act old\"></div>\\n\\t\\t\\t\\t\\t\\t\\t\\t\\t<div class=\"estrella-act old\"></div>\\n\\t\\t\\t\\t\\t\\t\\t\\t\\t<div class=\"estrella old\"></div>\\n\\t\\t\\t\\t\\t\\t\\t\\t\\t<div class=\"estrella old\"></div>\\n\\t\\t\\t\\t\\t\\t\\t\\t\\t<div class=\"estrella old\"></div>\\n\\t\\t\\t\\t\\t            <span class=\"detalle-ch\">20.73 max. 49.00 </span>\\n\\t        \\n\\t        \\n\\t        </div>\\n\\t        \\n\\t        <a href=\"en/result/12/fiat-novo-uno-evo-no-airbags\" class=\"btn-mas\">See more</a>\\n\\n\\n\\n\\t\\t\\t<!-- ACLARACIÃ\\x93N -->\\n\\t               \\n\\t    \\n\\t    </div>   \\n\\t    \\n\\t    \\n\\t      \\n\\t    \\n\\t\\t\\t    <div class=\"fila \">\\n\\t    \\t<div class=\"colum colum-200\">\\n\\t        \\t<h3>Fiat Palio ELX + 2 Airbags</h3>\\n\\t        </div>\\n\\t        <div class=\"colum\">\\n\\t        August-2010\\t        </div>\\n\\t        \\n\\t        \\t        <div class=\"colum colum-240 adulto\">\\n\\t        \\t<div class=\"ico-1 old\"></div>\\n\\t            \\t\\t\\t\\t\\t<div class=\"estrella-act old\"></div>\\n\\t\\t\\t\\t\\t\\t\\t\\t\\t<div class=\"estrella-act old\"></div>\\n\\t\\t\\t\\t\\t\\t\\t\\t\\t<div class=\"estrella-act old\"></div>\\n\\t\\t\\t\\t\\t\\t\\t\\t\\t<div class=\"estrella old\"></div>\\n\\t\\t\\t\\t\\t\\t\\t\\t\\t<div class=\"estrella old\"></div>\\n\\t\\t\\t\\t\\t            <span class=\"detalle-ch\">10.65 max. 16.00 </span>\\n\\t        </div>\\n\\t        \\n\\t        <div class=\"colum colum-240 nino\">\\n\\t        \\t<div class=\"ico-2 old\"></div>\\n\\t            \\t\\t\\t\\t\\t<div class=\"estrella-act old\"></div>\\n\\t\\t\\t\\t\\t\\t\\t\\t\\t<div class=\"estrella-act old\"></div>\\n\\t\\t\\t\\t\\t\\t\\t\\t\\t<div class=\"estrella old\"></div>\\n\\t\\t\\t\\t\\t\\t\\t\\t\\t<div class=\"estrella old\"></div>\\n\\t\\t\\t\\t\\t\\t\\t\\t\\t<div class=\"estrella old\"></div>\\n\\t\\t\\t\\t\\t            <span class=\"detalle-ch\">21.27 max. 49.00 </span>\\n\\t        \\n\\t        \\n\\t        </div>\\n\\t        \\n\\t        <a href=\"en/result/3/fiat-palio-elx-%2B-2-airbags\" class=\"btn-mas\">See more</a>\\n\\n\\n\\n\\t\\t\\t<!-- ACLARACIÃ\\x93N -->\\n\\t               \\n\\t    \\n\\t    </div>   \\n\\t    \\n\\t    \\n\\t      \\n\\t    \\n\\t\\t\\t    <div class=\"fila \">\\n\\t    \\t<div class=\"colum colum-200\">\\n\\t        \\t<h3>Fiat Palio ELX 1.4 - NO Airbags</h3>\\n\\t        </div>\\n\\t        <div class=\"colum\">\\n\\t        August-2010\\t        </div>\\n\\t        \\n\\t        \\t        <div class=\"colum colum-240 adulto\">\\n\\t        \\t<div class=\"ico-1 old\"></div>\\n\\t            \\t\\t\\t\\t\\t<div class=\"estrella-act old\"></div>\\n\\t\\t\\t\\t\\t\\t\\t\\t\\t<div class=\"estrella old\"></div>\\n\\t\\t\\t\\t\\t\\t\\t\\t\\t<div class=\"estrella old\"></div>\\n\\t\\t\\t\\t\\t\\t\\t\\t\\t<div class=\"estrella old\"></div>\\n\\t\\t\\t\\t\\t\\t\\t\\t\\t<div class=\"estrella old\"></div>\\n\\t\\t\\t\\t\\t            <span class=\"detalle-ch\">4.89 max. 16.00 </span>\\n\\t        </div>\\n\\t        \\n\\t        <div class=\"colum colum-240 nino\">\\n\\t        \\t<div class=\"ico-2 old\"></div>\\n\\t            \\t\\t\\t\\t\\t<div class=\"estrella-act old\"></div>\\n\\t\\t\\t\\t\\t\\t\\t\\t\\t<div class=\"estrella-act old\"></div>\\n\\t\\t\\t\\t\\t\\t\\t\\t\\t<div class=\"estrella old\"></div>\\n\\t\\t\\t\\t\\t\\t\\t\\t\\t<div class=\"estrella old\"></div>\\n\\t\\t\\t\\t\\t\\t\\t\\t\\t<div class=\"estrella old\"></div>\\n\\t\\t\\t\\t\\t            <span class=\"detalle-ch\">22.51 max. 49.00 </span>\\n\\t        \\n\\t        \\n\\t        </div>\\n\\t        \\n\\t        <a href=\"en/result/8/fiat-palio-elx-14-no-airbags\" class=\"btn-mas\">See more</a>\\n\\n\\n\\n\\t\\t\\t<!-- ACLARACIÃ\\x93N -->\\n\\t               \\n\\t    \\n\\t    </div>   \\n\\t    \\n\\t    \\n\\t      \\n\\t    \\n\\t\\t\\t        <div class=\"fila-tit\">\\n\\t            \\t            <img class=\"img-marca\" src=\"data/marcas/7.jpg?27762\" width=\"65\"/>\\n\\t            \\t            <span class=\"tit-marca\">Ford</span>\\n\\t        </div>            \\n\\t    \\t    <div class=\"fila \">\\n\\t    \\t<div class=\"colum colum-200\">\\n\\t        \\t<h3>Ford Ka + 2 Airbags</h3>\\n\\t        </div>\\n\\t        <div class=\"colum\">\\n\\t        November-2015\\t        </div>\\n\\t        \\n\\t        \\t        <div class=\"colum colum-240 adulto\">\\n\\t        \\t<div class=\"ico-1 old\"></div>\\n\\t            \\t\\t\\t\\t\\t<div class=\"estrella-act old\"></div>\\n\\t\\t\\t\\t\\t\\t\\t\\t\\t<div class=\"estrella-act old\"></div>\\n\\t\\t\\t\\t\\t\\t\\t\\t\\t<div class=\"estrella-act old\"></div>\\n\\t\\t\\t\\t\\t\\t\\t\\t\\t<div class=\"estrella-act old\"></div>\\n\\t\\t\\t\\t\\t\\t\\t\\t\\t<div class=\"estrella old\"></div>\\n\\t\\t\\t\\t\\t            <span class=\"detalle-ch\">12.17 max. 17.00 </span>\\n\\t        </div>\\n\\t        \\n\\t        <div class=\"colum colum-240 nino\">\\n\\t        \\t<div class=\"ico-2 old\"></div>\\n\\t            \\t\\t\\t\\t\\t<div class=\"estrella-act old\"></div>\\n\\t\\t\\t\\t\\t\\t\\t\\t\\t<div class=\"estrella-act old\"></div>\\n\\t\\t\\t\\t\\t\\t\\t\\t\\t<div class=\"estrella-act old\"></div>\\n\\t\\t\\t\\t\\t\\t\\t\\t\\t<div class=\"estrella old\"></div>\\n\\t\\t\\t\\t\\t\\t\\t\\t\\t<div class=\"estrella old\"></div>\\n\\t\\t\\t\\t\\t            <span class=\"detalle-ch\">30.58 max. 49.00 </span>\\n\\t        \\n\\t        \\n\\t        </div>\\n\\t        \\n\\t        <a href=\"en/result/68/ford-ka-%2B-2-airbags\" class=\"btn-mas\">See more</a>\\n\\n\\n\\n\\t\\t\\t<!-- ACLARACIÃ\\x93N -->\\n\\t               \\n\\t    \\n\\t    </div>   \\n\\t    \\n\\t    \\n\\t      \\n\\t    \\n\\t\\t\\t    <div class=\"fila \">\\n\\t    \\t<div class=\"colum colum-200\">\\n\\t        \\t<h3>Ford Ecosport + 2 Airbags (from August 2013)</h3>\\n\\t        </div>\\n\\t        <div class=\"colum\">\\n\\t        November-2013\\t        </div>\\n\\t        \\n\\t        \\t        <div class=\"colum colum-240 adulto\">\\n\\t        \\t<div class=\"ico-1 old\"></div>\\n\\t            \\t\\t\\t\\t\\t<div class=\"estrella-act old\"></div>\\n\\t\\t\\t\\t\\t\\t\\t\\t\\t<div class=\"estrella-act old\"></div>\\n\\t\\t\\t\\t\\t\\t\\t\\t\\t<div class=\"estrella-act old\"></div>\\n\\t\\t\\t\\t\\t\\t\\t\\t\\t<div class=\"estrella-act old\"></div>\\n\\t\\t\\t\\t\\t\\t\\t\\t\\t<div class=\"estrella-act old\"></div>\\n\\t\\t\\t\\t\\t            <span class=\"detalle-ch\">14.64 max. 17.00 </span>\\n\\t        </div>\\n\\t        \\n\\t        <div class=\"colum colum-240 nino\">\\n\\t        \\t<div class=\"ico-2 old\"></div>\\n\\t            \\t\\t\\t\\t\\t<div class=\"estrella-act old\"></div>\\n\\t\\t\\t\\t\\t\\t\\t\\t\\t<div class=\"estrella-act old\"></div>\\n\\t\\t\\t\\t\\t\\t\\t\\t\\t<div class=\"estrella-act old\"></div>\\n\\t\\t\\t\\t\\t\\t\\t\\t\\t<div class=\"estrella old\"></div>\\n\\t\\t\\t\\t\\t\\t\\t\\t\\t<div class=\"estrella old\"></div>\\n\\t\\t\\t\\t\\t            <span class=\"detalle-ch\">31.00 max. 49.00 </span>\\n\\t        \\n\\t        \\n\\t        </div>\\n\\t        \\n\\t        <a href=\"en/result/36/ford-ecosport-%2B-2-airbags-from-august-2013\" class=\"btn-mas\">See more</a>\\n\\n\\n\\n\\t\\t\\t<!-- ACLARACIÃ\\x93N -->\\n\\t               \\n\\t    \\n\\t    </div>   \\n\\t    \\n\\t    \\n\\t      \\n\\t    \\n\\t\\t\\t    <div class=\"fila \">\\n\\t    \\t<div class=\"colum colum-200\">\\n\\t        \\t<h3>Ford Focus III + 2 Airbags</h3>\\n\\t        </div>\\n\\t        <div class=\"colum\">\\n\\t        November-2013\\t        </div>\\n\\t        \\n\\t        \\t        <div class=\"colum colum-240 adulto\">\\n\\t        \\t<div class=\"ico-1 old\"></div>\\n\\t            \\t\\t\\t\\t\\t<div class=\"estrella-act old\"></div>\\n\\t\\t\\t\\t\\t\\t\\t\\t\\t<div class=\"estrella-act old\"></div>\\n\\t\\t\\t\\t\\t\\t\\t\\t\\t<div class=\"estrella-act old\"></div>\\n\\t\\t\\t\\t\\t\\t\\t\\t\\t<div class=\"estrella-act old\"></div>\\n\\t\\t\\t\\t\\t\\t\\t\\t\\t<div class=\"estrella-act old\"></div>\\n\\t\\t\\t\\t\\t            <span class=\"detalle-ch\">16.52 max. 17.00 </span>\\n\\t        </div>\\n\\t        \\n\\t        <div class=\"colum colum-240 nino\">\\n\\t        \\t<div class=\"ico-2 old\"></div>\\n\\t            \\t\\t\\t\\t\\t<div class=\"estrella-act old\"></div>\\n\\t\\t\\t\\t\\t\\t\\t\\t\\t<div class=\"estrella-act old\"></div>\\n\\t\\t\\t\\t\\t\\t\\t\\t\\t<div class=\"estrella-act old\"></div>\\n\\t\\t\\t\\t\\t\\t\\t\\t\\t<div class=\"estrella-act old\"></div>\\n\\t\\t\\t\\t\\t\\t\\t\\t\\t<div class=\"estrella old\"></div>\\n\\t\\t\\t\\t\\t            <span class=\"detalle-ch\">38.06 max. 49.00 </span>\\n\\t        \\n\\t        \\n\\t        </div>\\n\\t        \\n\\t        <a href=\"en/result/38/ford-focus-iii-%2B-2-airbags\" class=\"btn-mas\">See more</a>\\n\\n\\n\\n\\t\\t\\t<!-- ACLARACIÃ\\x93N -->\\n\\t               \\n\\t    \\n\\t    </div>   \\n\\t    \\n\\t    \\n\\t      \\n\\t    \\n\\t\\t\\t    <div class=\"fila \">\\n\\t    \\t<div class=\"colum colum-200\">\\n\\t        \\t<h3>Ford Ecosport + 2 Airbags</h3>\\n\\t        </div>\\n\\t        <div class=\"colum\">\\n\\t        March-2013\\t        </div>\\n\\t        \\n\\t        \\t        <div class=\"colum colum-240 adulto\">\\n\\t        \\t<div class=\"ico-1 old\"></div>\\n\\t            \\t\\t\\t\\t\\t<div class=\"estrella-act old\"></div>\\n\\t\\t\\t\\t\\t\\t\\t\\t\\t<div class=\"estrella-act old\"></div>\\n\\t\\t\\t\\t\\t\\t\\t\\t\\t<div class=\"estrella-act old\"></div>\\n\\t\\t\\t\\t\\t\\t\\t\\t\\t<div class=\"estrella-act old\"></div>\\n\\t\\t\\t\\t\\t\\t\\t\\t\\t<div class=\"estrella old\"></div>\\n\\t\\t\\t\\t\\t            <span class=\"detalle-ch\">13.64 max. 16.00 </span>\\n\\t        </div>\\n\\t        \\n\\t        <div class=\"colum colum-240 nino\">\\n\\t        \\t<div class=\"ico-2 old\"></div>\\n\\t            \\t\\t\\t\\t\\t<div class=\"estrella-act old\"></div>\\n\\t\\t\\t\\t\\t\\t\\t\\t\\t<div class=\"estrella-act old\"></div>\\n\\t\\t\\t\\t\\t\\t\\t\\t\\t<div class=\"estrella-act old\"></div>\\n\\t\\t\\t\\t\\t\\t\\t\\t\\t<div class=\"estrella old\"></div>\\n\\t\\t\\t\\t\\t\\t\\t\\t\\t<div class=\"estrella old\"></div>\\n\\t\\t\\t\\t\\t            <span class=\"detalle-ch\">31.00 max. 49.00 </span>\\n\\t        \\n\\t        \\n\\t        </div>\\n\\t        \\n\\t        <a href=\"en/result/29/ford-ecosport-%2B-2-airbags\" class=\"btn-mas\">See more</a>\\n\\n\\n\\n\\t\\t\\t<!-- ACLARACIÃ\\x93N -->\\n\\t               \\n\\t    \\n\\t    </div>   \\n\\t    \\n\\t    \\n\\t      \\n\\t    \\n\\t\\t\\t    <div class=\"fila \">\\n\\t    \\t<div class=\"colum colum-200\">\\n\\t        \\t<h3>Ford Fiesta + 2 Airbags</h3>\\n\\t        </div>\\n\\t        <div class=\"colum\">\\n\\t        June-2012\\t        </div>\\n\\t        \\n\\t        \\t        <div class=\"colum colum-240 adulto\">\\n\\t        \\t<div class=\"ico-1 old\"></div>\\n\\t            \\t\\t\\t\\t\\t<div class=\"estrella-act old\"></div>\\n\\t\\t\\t\\t\\t\\t\\t\\t\\t<div class=\"estrella-act old\"></div>\\n\\t\\t\\t\\t\\t\\t\\t\\t\\t<div class=\"estrella-act old\"></div>\\n\\t\\t\\t\\t\\t\\t\\t\\t\\t<div class=\"estrella-act old\"></div>\\n\\t\\t\\t\\t\\t\\t\\t\\t\\t<div class=\"estrella old\"></div>\\n\\t\\t\\t\\t\\t            <span class=\"detalle-ch\">12.87 max. 16.00 </span>\\n\\t        </div>\\n\\t        \\n\\t        <div class=\"colum colum-240 nino\">\\n\\t        \\t<div class=\"ico-2 old\"></div>\\n\\t            \\t\\t\\t\\t\\t<div class=\"estrella-act old\"></div>\\n\\t\\t\\t\\t\\t\\t\\t\\t\\t<div class=\"estrella-act old\"></div>\\n\\t\\t\\t\\t\\t\\t\\t\\t\\t<div class=\"estrella-act old\"></div>\\n\\t\\t\\t\\t\\t\\t\\t\\t\\t<div class=\"estrella-act old\"></div>\\n\\t\\t\\t\\t\\t\\t\\t\\t\\t<div class=\"estrella old\"></div>\\n\\t\\t\\t\\t\\t            <span class=\"detalle-ch\">37.80 max. 49.00 </span>\\n\\t        \\n\\t        \\n\\t        </div>\\n\\t        \\n\\t        <a href=\"en/result/21/ford-fiesta-%2B-2-airbags\" class=\"btn-mas\">See more</a>\\n\\n\\n\\n\\t\\t\\t<!-- ACLARACIÃ\\x93N -->\\n\\t               \\n\\t    \\n\\t    </div>   \\n\\t    \\n\\t    \\n\\t      \\n\\t    \\n\\t\\t\\t    <div class=\"fila \">\\n\\t    \\t<div class=\"colum colum-200\">\\n\\t        \\t<h3>Ford Focus Hatchback+ 2 Airbags</h3>\\n\\t        </div>\\n\\t        <div class=\"colum\">\\n\\t        September-2011\\t        </div>\\n\\t        \\n\\t        \\t        <div class=\"colum colum-240 adulto\">\\n\\t        \\t<div class=\"ico-1 old\"></div>\\n\\t            \\t\\t\\t\\t\\t<div class=\"estrella-act old\"></div>\\n\\t\\t\\t\\t\\t\\t\\t\\t\\t<div class=\"estrella-act old\"></div>\\n\\t\\t\\t\\t\\t\\t\\t\\t\\t<div class=\"estrella-act old\"></div>\\n\\t\\t\\t\\t\\t\\t\\t\\t\\t<div class=\"estrella-act old\"></div>\\n\\t\\t\\t\\t\\t\\t\\t\\t\\t<div class=\"estrella old\"></div>\\n\\t\\t\\t\\t\\t            <span class=\"detalle-ch\">13.53 max. 16.00 </span>\\n\\t        </div>\\n\\t        \\n\\t        <div class=\"colum colum-240 nino\">\\n\\t        \\t<div class=\"ico-2 old\"></div>\\n\\t            \\t\\t\\t\\t\\t<div class=\"estrella-act old\"></div>\\n\\t\\t\\t\\t\\t\\t\\t\\t\\t<div class=\"estrella-act old\"></div>\\n\\t\\t\\t\\t\\t\\t\\t\\t\\t<div class=\"estrella-act old\"></div>\\n\\t\\t\\t\\t\\t\\t\\t\\t\\t<div class=\"estrella old\"></div>\\n\\t\\t\\t\\t\\t\\t\\t\\t\\t<div class=\"estrella old\"></div>\\n\\t\\t\\t\\t\\t            <span class=\"detalle-ch\">33.68 max. 49.00 </span>\\n\\t        \\n\\t        \\n\\t        </div>\\n\\t        \\n\\t        <a href=\"en/result/16/ford-focus-hatchback%2B-2-airbags\" class=\"btn-mas\">See more</a>\\n\\n\\n\\n\\t\\t\\t<!-- ACLARACIÃ\\x93N -->\\n\\t               \\n\\t    \\n\\t    </div>   \\n\\t    \\n\\t    \\n\\t      \\n\\t    \\n\\t\\t\\t    <div class=\"fila \">\\n\\t    \\t<div class=\"colum colum-200\">\\n\\t        \\t<h3>Ford KA Fly Viral - NO Airbags</h3>\\n\\t        </div>\\n\\t        <div class=\"colum\">\\n\\t        July-2011\\t        </div>\\n\\t        \\n\\t        \\t        <div class=\"colum colum-240 adulto\">\\n\\t        \\t<div class=\"ico-1 old\"></div>\\n\\t            \\t\\t\\t\\t\\t<div class=\"estrella-act old\"></div>\\n\\t\\t\\t\\t\\t\\t\\t\\t\\t<div class=\"estrella old\"></div>\\n\\t\\t\\t\\t\\t\\t\\t\\t\\t<div class=\"estrella old\"></div>\\n\\t\\t\\t\\t\\t\\t\\t\\t\\t<div class=\"estrella old\"></div>\\n\\t\\t\\t\\t\\t\\t\\t\\t\\t<div class=\"estrella old\"></div>\\n\\t\\t\\t\\t\\t            <span class=\"detalle-ch\">2.37 max. 16.00 </span>\\n\\t        </div>\\n\\t        \\n\\t        <div class=\"colum colum-240 nino\">\\n\\t        \\t<div class=\"ico-2 old\"></div>\\n\\t            \\t\\t\\t\\t\\t<div class=\"estrella-act old\"></div>\\n\\t\\t\\t\\t\\t\\t\\t\\t\\t<div class=\"estrella-act old\"></div>\\n\\t\\t\\t\\t\\t\\t\\t\\t\\t<div class=\"estrella-act old\"></div>\\n\\t\\t\\t\\t\\t\\t\\t\\t\\t<div class=\"estrella old\"></div>\\n\\t\\t\\t\\t\\t\\t\\t\\t\\t<div class=\"estrella old\"></div>\\n\\t\\t\\t\\t\\t            <span class=\"detalle-ch\">30.52 max. 49.00 </span>\\n\\t        \\n\\t        \\n\\t        </div>\\n\\t        \\n\\t        <a href=\"en/result/10/ford-ka-fly-viral-no-airbags\" class=\"btn-mas\">See more</a>\\n\\n\\n\\n\\t\\t\\t<!-- ACLARACIÃ\\x93N -->\\n\\t               \\n\\t    \\n\\t    </div>   \\n\\t    \\n\\t    \\n\\t      \\n\\t    \\n\\t\\t\\t        <div class=\"fila-tit\">\\n\\t            \\t            <img class=\"img-marca\" src=\"data/marcas/6.jpg?28684\" width=\"65\"/>\\n\\t            \\t            <span class=\"tit-marca\">Geely</span>\\n\\t        </div>            \\n\\t    \\t    <div class=\"fila \">\\n\\t    \\t<div class=\"colum colum-200\">\\n\\t        \\t<h3>Geely CK 1 1.3 - NO Airbags</h3>\\n\\t        </div>\\n\\t        <div class=\"colum\">\\n\\t        August-2010\\t        </div>\\n\\t        \\n\\t        \\t        <div class=\"colum colum-240 adulto\">\\n\\t        \\t<div class=\"ico-1 old\"></div>\\n\\t            \\t\\t\\t\\t\\t<div class=\"estrella old\"></div>\\n\\t\\t\\t\\t\\t\\t\\t\\t\\t<div class=\"estrella old\"></div>\\n\\t\\t\\t\\t\\t\\t\\t\\t\\t<div class=\"estrella old\"></div>\\n\\t\\t\\t\\t\\t\\t\\t\\t\\t<div class=\"estrella old\"></div>\\n\\t\\t\\t\\t\\t\\t\\t\\t\\t<div class=\"estrella old\"></div>\\n\\t\\t\\t\\t\\t            <span class=\"detalle-ch\">1.06 max. 16.00 </span>\\n\\t        </div>\\n\\t        \\n\\t        <div class=\"colum colum-240 nino\">\\n\\t        \\t<div class=\"ico-2 old\"></div>\\n\\t            \\t\\t\\t\\t\\t<div class=\"estrella-act old\"></div>\\n\\t\\t\\t\\t\\t\\t\\t\\t\\t<div class=\"estrella-act old\"></div>\\n\\t\\t\\t\\t\\t\\t\\t\\t\\t<div class=\"estrella old\"></div>\\n\\t\\t\\t\\t\\t\\t\\t\\t\\t<div class=\"estrella old\"></div>\\n\\t\\t\\t\\t\\t\\t\\t\\t\\t<div class=\"estrella old\"></div>\\n\\t\\t\\t\\t\\t            <span class=\"detalle-ch\">20.37 max. 49.00 </span>\\n\\t        \\n\\t        \\n\\t        </div>\\n\\t        \\n\\t        <a href=\"en/result/9/geely-ck-1-13-no-airbags\" class=\"btn-mas\">See more</a>\\n\\n\\n\\n\\t\\t\\t<!-- ACLARACIÃ\\x93N -->\\n\\t               \\n\\t    \\n\\t    </div>   \\n\\t    \\n\\t    \\n\\t      \\n\\t    \\n\\t\\t\\t        <div class=\"fila-tit\">\\n\\t            \\t            <img class=\"img-marca\" src=\"data/marcas/11.jpg?31004\" width=\"65\"/>\\n\\t            \\t            <span class=\"tit-marca\">Honda</span>\\n\\t        </div>            \\n\\t    \\t    <div class=\"fila \">\\n\\t    \\t<div class=\"colum colum-200\">\\n\\t        \\t<h3>Honda Fit + 2 Airbags</h3>\\n\\t        </div>\\n\\t        <div class=\"colum\">\\n\\t        November-2015\\t        </div>\\n\\t        \\n\\t        \\t        <div class=\"colum colum-240 adulto\">\\n\\t        \\t<div class=\"ico-1 old\"></div>\\n\\t            \\t\\t\\t\\t\\t<div class=\"estrella-act old\"></div>\\n\\t\\t\\t\\t\\t\\t\\t\\t\\t<div class=\"estrella-act old\"></div>\\n\\t\\t\\t\\t\\t\\t\\t\\t\\t<div class=\"estrella-act old\"></div>\\n\\t\\t\\t\\t\\t\\t\\t\\t\\t<div class=\"estrella-act old\"></div>\\n\\t\\t\\t\\t\\t\\t\\t\\t\\t<div class=\"estrella-act old\"></div>\\n\\t\\t\\t\\t\\t            <span class=\"detalle-ch\">16.26 max. 17.00 </span>\\n\\t        </div>\\n\\t        \\n\\t        <div class=\"colum colum-240 nino\">\\n\\t        \\t<div class=\"ico-2 old\"></div>\\n\\t            \\t\\t\\t\\t\\t<div class=\"estrella-act old\"></div>\\n\\t\\t\\t\\t\\t\\t\\t\\t\\t<div class=\"estrella-act old\"></div>\\n\\t\\t\\t\\t\\t\\t\\t\\t\\t<div class=\"estrella-act old\"></div>\\n\\t\\t\\t\\t\\t\\t\\t\\t\\t<div class=\"estrella-act old\"></div>\\n\\t\\t\\t\\t\\t\\t\\t\\t\\t<div class=\"estrella old\"></div>\\n\\t\\t\\t\\t\\t            <span class=\"detalle-ch\">39.48 max. 49.00 </span>\\n\\t        \\n\\t        \\n\\t        </div>\\n\\t        \\n\\t        <a href=\"en/result/65/honda-fit-%2B-2-airbags\" class=\"btn-mas\">See more</a>\\n\\n\\n\\n\\t\\t\\t<!-- ACLARACIÃ\\x93N -->\\n\\t               \\n\\t    \\n\\t    </div>   \\n\\t    \\n\\t    \\n\\t      \\n\\t    \\n\\t\\t\\t    <div class=\"fila \">\\n\\t    \\t<div class=\"colum colum-200\">\\n\\t        \\t<h3>Honda City + 2 Airbags</h3>\\n\\t        </div>\\n\\t        <div class=\"colum\">\\n\\t        November-2015\\t        </div>\\n\\t        \\n\\t        \\t        <div class=\"colum colum-240 adulto\">\\n\\t        \\t<div class=\"ico-1 old\"></div>\\n\\t            \\t\\t\\t\\t\\t<div class=\"estrella-act old\"></div>\\n\\t\\t\\t\\t\\t\\t\\t\\t\\t<div class=\"estrella-act old\"></div>\\n\\t\\t\\t\\t\\t\\t\\t\\t\\t<div class=\"estrella-act old\"></div>\\n\\t\\t\\t\\t\\t\\t\\t\\t\\t<div class=\"estrella-act old\"></div>\\n\\t\\t\\t\\t\\t\\t\\t\\t\\t<div class=\"estrella-act old\"></div>\\n\\t\\t\\t\\t\\t            <span class=\"detalle-ch\">16.07 max. 17.00 </span>\\n\\t        </div>\\n\\t        \\n\\t        <div class=\"colum colum-240 nino\">\\n\\t        \\t<div class=\"ico-2 old\"></div>\\n\\t            \\t\\t\\t\\t\\t<div class=\"estrella-act old\"></div>\\n\\t\\t\\t\\t\\t\\t\\t\\t\\t<div class=\"estrella-act old\"></div>\\n\\t\\t\\t\\t\\t\\t\\t\\t\\t<div class=\"estrella-act old\"></div>\\n\\t\\t\\t\\t\\t\\t\\t\\t\\t<div class=\"estrella-act old\"></div>\\n\\t\\t\\t\\t\\t\\t\\t\\t\\t<div class=\"estrella old\"></div>\\n\\t\\t\\t\\t\\t            <span class=\"detalle-ch\">41.81 max. 49.00 </span>\\n\\t        \\n\\t        \\n\\t        </div>\\n\\t        \\n\\t        <a href=\"en/result/66/honda-city-%2B-2-airbags\" class=\"btn-mas\">See more</a>\\n\\n\\n\\n\\t\\t\\t<!-- ACLARACIÃ\\x93N -->\\n\\t               \\n\\t    \\n\\t    </div>   \\n\\t    \\n\\t    \\n\\t      \\n\\t    \\n\\t\\t\\t    <div class=\"fila \">\\n\\t    \\t<div class=\"colum colum-200\">\\n\\t        \\t<h3>Honda HR-V + 2 Airbags</h3>\\n\\t        </div>\\n\\t        <div class=\"colum\">\\n\\t        November-2015\\t        </div>\\n\\t        \\n\\t        \\t        <div class=\"colum colum-240 adulto\">\\n\\t        \\t<div class=\"ico-1 old\"></div>\\n\\t            \\t\\t\\t\\t\\t<div class=\"estrella-act old\"></div>\\n\\t\\t\\t\\t\\t\\t\\t\\t\\t<div class=\"estrella-act old\"></div>\\n\\t\\t\\t\\t\\t\\t\\t\\t\\t<div class=\"estrella-act old\"></div>\\n\\t\\t\\t\\t\\t\\t\\t\\t\\t<div class=\"estrella-act old\"></div>\\n\\t\\t\\t\\t\\t\\t\\t\\t\\t<div class=\"estrella-act old\"></div>\\n\\t\\t\\t\\t\\t            <span class=\"detalle-ch\">16.70 max. 17.00 </span>\\n\\t        </div>\\n\\t        \\n\\t        <div class=\"colum colum-240 nino\">\\n\\t        \\t<div class=\"ico-2 old\"></div>\\n\\t            \\t\\t\\t\\t\\t<div class=\"estrella-act old\"></div>\\n\\t\\t\\t\\t\\t\\t\\t\\t\\t<div class=\"estrella-act old\"></div>\\n\\t\\t\\t\\t\\t\\t\\t\\t\\t<div class=\"estrella-act old\"></div>\\n\\t\\t\\t\\t\\t\\t\\t\\t\\t<div class=\"estrella-act old\"></div>\\n\\t\\t\\t\\t\\t\\t\\t\\t\\t<div class=\"estrella-act old\"></div>\\n\\t\\t\\t\\t\\t            <span class=\"detalle-ch\">43.30 max. 49.00 </span>\\n\\t        \\n\\t        \\n\\t        </div>\\n\\t        \\n\\t        <a href=\"en/result/67/honda-hr-v-%2B-2-airbags\" class=\"btn-mas\">See more</a>\\n\\n\\n\\n\\t\\t\\t<!-- ACLARACIÃ\\x93N -->\\n\\t               \\n\\t    \\n\\t    </div>   \\n\\t    \\n\\t    \\n\\t      \\n\\t    \\n\\t\\t\\t    <div class=\"fila \">\\n\\t    \\t<div class=\"colum colum-200\">\\n\\t        \\t<h3>Honda City + 2 Airbags</h3>\\n\\t        </div>\\n\\t        <div class=\"colum\">\\n\\t        June-2012\\t        </div>\\n\\t        \\n\\t        \\t        <div class=\"colum colum-240 adulto\">\\n\\t        \\t<div class=\"ico-1 old\"></div>\\n\\t            \\t\\t\\t\\t\\t<div class=\"estrella-act old\"></div>\\n\\t\\t\\t\\t\\t\\t\\t\\t\\t<div class=\"estrella-act old\"></div>\\n\\t\\t\\t\\t\\t\\t\\t\\t\\t<div class=\"estrella-act old\"></div>\\n\\t\\t\\t\\t\\t\\t\\t\\t\\t<div class=\"estrella-act old\"></div>\\n\\t\\t\\t\\t\\t\\t\\t\\t\\t<div class=\"estrella old\"></div>\\n\\t\\t\\t\\t\\t            <span class=\"detalle-ch\">12.03 max. 16.00 </span>\\n\\t        </div>\\n\\t        \\n\\t        <div class=\"colum colum-240 nino\">\\n\\t        \\t<div class=\"ico-2 old\"></div>\\n\\t            \\t\\t\\t\\t\\t<div class=\"estrella-act old\"></div>\\n\\t\\t\\t\\t\\t\\t\\t\\t\\t<div class=\"estrella-act old\"></div>\\n\\t\\t\\t\\t\\t\\t\\t\\t\\t<div class=\"estrella-act old\"></div>\\n\\t\\t\\t\\t\\t\\t\\t\\t\\t<div class=\"estrella-act old\"></div>\\n\\t\\t\\t\\t\\t\\t\\t\\t\\t<div class=\"estrella old\"></div>\\n\\t\\t\\t\\t\\t            <span class=\"detalle-ch\">37.99 max. 49.00 </span>\\n\\t        \\n\\t        \\n\\t        </div>\\n\\t        \\n\\t        <a href=\"en/result/22/honda-city-%2B-2-airbags\" class=\"btn-mas\">See more</a>\\n\\n\\n\\n\\t\\t\\t<!-- ACLARACIÃ\\x93N -->\\n\\t               \\n\\t    \\n\\t    </div>   \\n\\t    \\n\\t    \\n\\t      \\n\\t    \\n\\t\\t\\t        <div class=\"fila-tit\">\\n\\t            \\t            <img class=\"img-marca\" src=\"data/marcas/12.jpg?23037\" width=\"65\"/>\\n\\t            \\t            <span class=\"tit-marca\">Hyundai</span>\\n\\t        </div>            \\n\\t    \\t    <div class=\"fila \">\\n\\t    \\t<div class=\"colum colum-200\">\\n\\t        \\t<h3>Hyundai Creta + 2 Airbags</h3>\\n\\t        </div>\\n\\t        <div class=\"colum\">\\n\\t        December-2015\\t        </div>\\n\\t        \\n\\t        \\t        <div class=\"colum colum-240 adulto\">\\n\\t        \\t<div class=\"ico-1 old\"></div>\\n\\t            \\t\\t\\t\\t\\t<div class=\"estrella-act old\"></div>\\n\\t\\t\\t\\t\\t\\t\\t\\t\\t<div class=\"estrella-act old\"></div>\\n\\t\\t\\t\\t\\t\\t\\t\\t\\t<div class=\"estrella-act old\"></div>\\n\\t\\t\\t\\t\\t\\t\\t\\t\\t<div class=\"estrella-act old\"></div>\\n\\t\\t\\t\\t\\t\\t\\t\\t\\t<div class=\"estrella old\"></div>\\n\\t\\t\\t\\t\\t            <span class=\"detalle-ch\">15.57 max. 17.00 </span>\\n\\t        </div>\\n\\t        \\n\\t        <div class=\"colum colum-240 nino\">\\n\\t        \\t<div class=\"ico-2 old\"></div>\\n\\t            \\t\\t\\t\\t\\t<div class=\"estrella-act old\"></div>\\n\\t\\t\\t\\t\\t\\t\\t\\t\\t<div class=\"estrella-act old\"></div>\\n\\t\\t\\t\\t\\t\\t\\t\\t\\t<div class=\"estrella-act old\"></div>\\n\\t\\t\\t\\t\\t\\t\\t\\t\\t<div class=\"estrella old\"></div>\\n\\t\\t\\t\\t\\t\\t\\t\\t\\t<div class=\"estrella old\"></div>\\n\\t\\t\\t\\t\\t            <span class=\"detalle-ch\">29.87 max. 49.00 </span>\\n\\t        \\n\\t        \\n\\t        </div>\\n\\t        \\n\\t        <a href=\"en/result/71/hyundai-creta-%2B-2-airbags\" class=\"btn-mas\">See more</a>\\n\\n\\n\\n\\t\\t\\t<!-- ACLARACIÃ\\x93N -->\\n\\t               \\n\\t    \\n\\t    </div>   \\n\\t    \\n\\t    \\n\\t      \\n\\t    \\n\\t\\t\\t    <div class=\"fila \">\\n\\t    \\t<div class=\"colum colum-200\">\\n\\t        \\t<h3>Hyundai Grand i10 - NO Airbags</h3>\\n\\t        </div>\\n\\t        <div class=\"colum\">\\n\\t        September-2015\\t        </div>\\n\\t        \\n\\t        \\t        <div class=\"colum colum-240 adulto\">\\n\\t        \\t<div class=\"ico-1 old\"></div>\\n\\t            \\t\\t\\t\\t\\t<div class=\"estrella old\"></div>\\n\\t\\t\\t\\t\\t\\t\\t\\t\\t<div class=\"estrella old\"></div>\\n\\t\\t\\t\\t\\t\\t\\t\\t\\t<div class=\"estrella old\"></div>\\n\\t\\t\\t\\t\\t\\t\\t\\t\\t<div class=\"estrella old\"></div>\\n\\t\\t\\t\\t\\t\\t\\t\\t\\t<div class=\"estrella old\"></div>\\n\\t\\t\\t\\t\\t            <span class=\"detalle-ch\">0.00 max. 17.00 </span>\\n\\t        </div>\\n\\t        \\n\\t        <div class=\"colum colum-240 nino\">\\n\\t        \\t<div class=\"ico-2 old\"></div>\\n\\t            \\t\\t\\t\\t\\t<div class=\"estrella-act old\"></div>\\n\\t\\t\\t\\t\\t\\t\\t\\t\\t<div class=\"estrella-act old\"></div>\\n\\t\\t\\t\\t\\t\\t\\t\\t\\t<div class=\"estrella old\"></div>\\n\\t\\t\\t\\t\\t\\t\\t\\t\\t<div class=\"estrella old\"></div>\\n\\t\\t\\t\\t\\t\\t\\t\\t\\t<div class=\"estrella old\"></div>\\n\\t\\t\\t\\t\\t            <span class=\"detalle-ch\">20.81 max. 49.00 </span>\\n\\t        \\n\\t        \\n\\t        </div>\\n\\t        \\n\\t        <a href=\"en/result/60/hyundai-grand-i10-no-airbags\" class=\"btn-mas\">See more</a>\\n\\n\\n\\n\\t\\t\\t<!-- ACLARACIÃ\\x93N -->\\n\\t               \\n\\t    \\n\\t    </div>   \\n\\t    \\n\\t    \\n\\t      \\n\\t    \\n\\t\\t\\t    <div class=\"fila \">\\n\\t    \\t<div class=\"colum colum-200\">\\n\\t        \\t<h3>Hyundai HB20 + 2 Airbags (from august 2013)</h3>\\n\\t        </div>\\n\\t        <div class=\"colum\">\\n\\t        November-2013\\t        </div>\\n\\t        \\n\\t        \\t        <div class=\"colum colum-240 adulto\">\\n\\t        \\t<div class=\"ico-1 old\"></div>\\n\\t            \\t\\t\\t\\t\\t<div class=\"estrella-act old\"></div>\\n\\t\\t\\t\\t\\t\\t\\t\\t\\t<div class=\"estrella-act old\"></div>\\n\\t\\t\\t\\t\\t\\t\\t\\t\\t<div class=\"estrella-act old\"></div>\\n\\t\\t\\t\\t\\t\\t\\t\\t\\t<div class=\"estrella-act old\"></div>\\n\\t\\t\\t\\t\\t\\t\\t\\t\\t<div class=\"estrella old\"></div>\\n\\t\\t\\t\\t\\t            <span class=\"detalle-ch\">13.80 max. 16.00 </span>\\n\\t        </div>\\n\\t        \\n\\t        <div class=\"colum colum-240 nino\">\\n\\t        \\t<div class=\"ico-2 old\"></div>\\n\\t            \\t\\t\\t\\t\\t<div class=\"estrella-act old\"></div>\\n\\t\\t\\t\\t\\t\\t\\t\\t\\t<div class=\"estrella-act old\"></div>\\n\\t\\t\\t\\t\\t\\t\\t\\t\\t<div class=\"estrella-act old\"></div>\\n\\t\\t\\t\\t\\t\\t\\t\\t\\t<div class=\"estrella old\"></div>\\n\\t\\t\\t\\t\\t\\t\\t\\t\\t<div class=\"estrella old\"></div>\\n\\t\\t\\t\\t\\t            <span class=\"detalle-ch\">34.52 max. 49.00 </span>\\n\\t        \\n\\t        \\n\\t        </div>\\n\\t        \\n\\t        <a href=\"en/result/37/hyundai-hb20-%2B-2-airbags-from-august-2013\" class=\"btn-mas\">See more</a>\\n\\n\\n\\n\\t\\t\\t<!-- ACLARACIÃ\\x93N -->\\n\\t               \\n\\t    \\n\\t    </div>   \\n\\t    \\n\\t    \\n\\t      \\n\\t    \\n\\t\\t\\t    <div class=\"fila \">\\n\\t    \\t<div class=\"colum colum-200\">\\n\\t        \\t<h3>Hyundai HB20 + 2 Airbags</h3>\\n\\t        </div>\\n\\t        <div class=\"colum\">\\n\\t        March-2013\\t        </div>\\n\\t        \\n\\t        \\t        <div class=\"colum colum-240 adulto\">\\n\\t        \\t<div class=\"ico-1 old\"></div>\\n\\t            \\t\\t\\t\\t\\t<div class=\"estrella-act old\"></div>\\n\\t\\t\\t\\t\\t\\t\\t\\t\\t<div class=\"estrella-act old\"></div>\\n\\t\\t\\t\\t\\t\\t\\t\\t\\t<div class=\"estrella-act old\"></div>\\n\\t\\t\\t\\t\\t\\t\\t\\t\\t<div class=\"estrella old\"></div>\\n\\t\\t\\t\\t\\t\\t\\t\\t\\t<div class=\"estrella old\"></div>\\n\\t\\t\\t\\t\\t            <span class=\"detalle-ch\">10.23 max. 16.00 </span>\\n\\t        </div>\\n\\t        \\n\\t        <div class=\"colum colum-240 nino\">\\n\\t        \\t<div class=\"ico-2 old\"></div>\\n\\t            \\t\\t\\t\\t\\t<div class=\"estrella-act old\"></div>\\n\\t\\t\\t\\t\\t\\t\\t\\t\\t<div class=\"estrella old\"></div>\\n\\t\\t\\t\\t\\t\\t\\t\\t\\t<div class=\"estrella old\"></div>\\n\\t\\t\\t\\t\\t\\t\\t\\t\\t<div class=\"estrella old\"></div>\\n\\t\\t\\t\\t\\t\\t\\t\\t\\t<div class=\"estrella old\"></div>\\n\\t\\t\\t\\t\\t            <span class=\"detalle-ch\">4.77 max. 49.00 </span>\\n\\t        \\n\\t        \\n\\t        </div>\\n\\t        \\n\\t        <a href=\"en/result/28/hyundai-hb20-%2B-2-airbags\" class=\"btn-mas\">See more</a>\\n\\n\\n\\n\\t\\t\\t<!-- ACLARACIÃ\\x93N -->\\n\\t               \\n\\t    \\n\\t    </div>   \\n\\t    \\n\\t    \\n\\t      \\n\\t    \\n\\t\\t\\t        <div class=\"fila-tit\">\\n\\t            \\t            <img class=\"img-marca\" src=\"data/marcas/10.jpg?31864\" width=\"65\"/>\\n\\t            \\t            <span class=\"tit-marca\">JAC</span>\\n\\t        </div>            \\n\\t    \\t    <div class=\"fila \">\\n\\t    \\t<div class=\"colum colum-200\">\\n\\t        \\t<h3>Jac J3 + 2 Airbags</h3>\\n\\t        </div>\\n\\t        <div class=\"colum\">\\n\\t        May-2012\\t        </div>\\n\\t        \\n\\t        \\t        <div class=\"colum colum-240 adulto\">\\n\\t        \\t<div class=\"ico-1 old\"></div>\\n\\t            \\t\\t\\t\\t\\t<div class=\"estrella-act old\"></div>\\n\\t\\t\\t\\t\\t\\t\\t\\t\\t<div class=\"estrella old\"></div>\\n\\t\\t\\t\\t\\t\\t\\t\\t\\t<div class=\"estrella old\"></div>\\n\\t\\t\\t\\t\\t\\t\\t\\t\\t<div class=\"estrella old\"></div>\\n\\t\\t\\t\\t\\t\\t\\t\\t\\t<div class=\"estrella old\"></div>\\n\\t\\t\\t\\t\\t            <span class=\"detalle-ch\">3.50 max. 16.00 </span>\\n\\t        </div>\\n\\t        \\n\\t        <div class=\"colum colum-240 nino\">\\n\\t        \\t<div class=\"ico-2 old\"></div>\\n\\t            \\t\\t\\t\\t\\t<div class=\"estrella-act old\"></div>\\n\\t\\t\\t\\t\\t\\t\\t\\t\\t<div class=\"estrella-act old\"></div>\\n\\t\\t\\t\\t\\t\\t\\t\\t\\t<div class=\"estrella old\"></div>\\n\\t\\t\\t\\t\\t\\t\\t\\t\\t<div class=\"estrella old\"></div>\\n\\t\\t\\t\\t\\t\\t\\t\\t\\t<div class=\"estrella old\"></div>\\n\\t\\t\\t\\t\\t            <span class=\"detalle-ch\">13.03 max. 49.00 </span>\\n\\t        \\n\\t        \\n\\t        </div>\\n\\t        \\n\\t        <a href=\"en/result/23/jac-j3-%2B-2-airbags\" class=\"btn-mas\">See more</a>\\n\\n\\n\\n\\t\\t\\t<!-- ACLARACIÃ\\x93N -->\\n\\t               \\n\\t    \\n\\t    </div>   \\n\\t    \\n\\t    \\n\\t      \\n\\t    \\n\\t\\t\\t        <div class=\"fila-tit\">\\n\\t            \\t            <img class=\"img-marca\" src=\"data/marcas/18.jpg?12512\" width=\"65\"/>\\n\\t            \\t            <span class=\"tit-marca\">Jeep</span>\\n\\t        </div>            \\n\\t    \\t    <div class=\"fila \">\\n\\t    \\t<div class=\"colum colum-200\">\\n\\t        \\t<h3>Jeep Renegade + 2 Airbags</h3>\\n\\t        </div>\\n\\t        <div class=\"colum\">\\n\\t        July-2015\\t        </div>\\n\\t        \\n\\t        \\t        <div class=\"colum colum-240 adulto\">\\n\\t        \\t<div class=\"ico-1 old\"></div>\\n\\t            \\t\\t\\t\\t\\t<div class=\"estrella-act old\"></div>\\n\\t\\t\\t\\t\\t\\t\\t\\t\\t<div class=\"estrella-act old\"></div>\\n\\t\\t\\t\\t\\t\\t\\t\\t\\t<div class=\"estrella-act old\"></div>\\n\\t\\t\\t\\t\\t\\t\\t\\t\\t<div class=\"estrella-act old\"></div>\\n\\t\\t\\t\\t\\t\\t\\t\\t\\t<div class=\"estrella-act old\"></div>\\n\\t\\t\\t\\t\\t            <span class=\"detalle-ch\">16.12 max. 17.00 </span>\\n\\t        </div>\\n\\t        \\n\\t        <div class=\"colum colum-240 nino\">\\n\\t        \\t<div class=\"ico-2 old\"></div>\\n\\t            \\t\\t\\t\\t\\t<div class=\"estrella-act old\"></div>\\n\\t\\t\\t\\t\\t\\t\\t\\t\\t<div class=\"estrella-act old\"></div>\\n\\t\\t\\t\\t\\t\\t\\t\\t\\t<div class=\"estrella-act old\"></div>\\n\\t\\t\\t\\t\\t\\t\\t\\t\\t<div class=\"estrella-act old\"></div>\\n\\t\\t\\t\\t\\t\\t\\t\\t\\t<div class=\"estrella-act old\"></div>\\n\\t\\t\\t\\t\\t            <span class=\"detalle-ch\">43.54 max. 49.00 </span>\\n\\t        \\n\\t        \\n\\t        </div>\\n\\t        \\n\\t        <a href=\"en/result/56/jeep-renegade-%2B-2-airbags\" class=\"btn-mas\">See more</a>\\n\\n\\n\\n\\t\\t\\t<!-- ACLARACIÃ\\x93N -->\\n\\t               \\n\\t    \\n\\t    </div>   \\n\\t    \\n\\t    \\n\\t      \\n\\t    \\n\\t\\t\\t        <div class=\"fila-tit\">\\n\\t            \\t            <img class=\"img-marca\" src=\"data/marcas/15.jpg?18131\" width=\"65\"/>\\n\\t            \\t            <span class=\"tit-marca\">Lifan</span>\\n\\t        </div>            \\n\\t    \\t    <div class=\"fila \">\\n\\t    \\t<div class=\"colum colum-200\">\\n\\t        \\t<h3>Lifan 320 - NO Airbags</h3>\\n\\t        </div>\\n\\t        <div class=\"colum\">\\n\\t        December-2014\\t        </div>\\n\\t        \\n\\t        \\t        <div class=\"colum colum-240 adulto\">\\n\\t        \\t<div class=\"ico-1 old\"></div>\\n\\t            \\t\\t\\t\\t\\t<div class=\"estrella old\"></div>\\n\\t\\t\\t\\t\\t\\t\\t\\t\\t<div class=\"estrella old\"></div>\\n\\t\\t\\t\\t\\t\\t\\t\\t\\t<div class=\"estrella old\"></div>\\n\\t\\t\\t\\t\\t\\t\\t\\t\\t<div class=\"estrella old\"></div>\\n\\t\\t\\t\\t\\t\\t\\t\\t\\t<div class=\"estrella old\"></div>\\n\\t\\t\\t\\t\\t            <span class=\"detalle-ch\">0.00 max. 17.00 </span>\\n\\t        </div>\\n\\t        \\n\\t        <div class=\"colum colum-240 nino\">\\n\\t        \\t<div class=\"ico-2 old\"></div>\\n\\t            \\t\\t\\t\\t\\t<div class=\"estrella old\"></div>\\n\\t\\t\\t\\t\\t\\t\\t\\t\\t<div class=\"estrella old\"></div>\\n\\t\\t\\t\\t\\t\\t\\t\\t\\t<div class=\"estrella old\"></div>\\n\\t\\t\\t\\t\\t\\t\\t\\t\\t<div class=\"estrella old\"></div>\\n\\t\\t\\t\\t\\t\\t\\t\\t\\t<div class=\"estrella old\"></div>\\n\\t\\t\\t\\t\\t            <span class=\"detalle-ch\">4.72 max. 49.00 </span>\\n\\t        \\n\\t        \\n\\t        </div>\\n\\t        \\n\\t        <a href=\"en/result/51/lifan-320-no-airbags\" class=\"btn-mas\">See more</a>\\n\\n\\n\\n\\t\\t\\t<!-- ACLARACIÃ\\x93N -->\\n\\t               \\n\\t    \\n\\t    </div>   \\n\\t    \\n\\t    \\n\\t      \\n\\t    \\n\\t\\t\\t        <div class=\"fila-tit\">\\n\\t            \\t            <img class=\"img-marca\" src=\"data/marcas/19.jpg?21427\" width=\"65\"/>\\n\\t            \\t            <span class=\"tit-marca\">Mitsubishi</span>\\n\\t        </div>            \\n\\t    \\t    <div class=\"fila \">\\n\\t    \\t<div class=\"colum colum-200\">\\n\\t        \\t<h3>Mitsubishi Montero Sport + 3 Airbags</h3>\\n\\t        </div>\\n\\t        <div class=\"colum\">\\n\\t        December-2015\\t        </div>\\n\\t        \\n\\t        \\t        <div class=\"colum colum-240 adulto\">\\n\\t        \\t<div class=\"ico-1 old\"></div>\\n\\t            \\t\\t\\t\\t\\t<div class=\"estrella-act old\"></div>\\n\\t\\t\\t\\t\\t\\t\\t\\t\\t<div class=\"estrella-act old\"></div>\\n\\t\\t\\t\\t\\t\\t\\t\\t\\t<div class=\"estrella-act old\"></div>\\n\\t\\t\\t\\t\\t\\t\\t\\t\\t<div class=\"estrella-act old\"></div>\\n\\t\\t\\t\\t\\t\\t\\t\\t\\t<div class=\"estrella-act old\"></div>\\n\\t\\t\\t\\t\\t            <span class=\"detalle-ch\">16.70 max. 17.00 </span>\\n\\t        </div>\\n\\t        \\n\\t        <div class=\"colum colum-240 nino\">\\n\\t        \\t<div class=\"ico-2 old\"></div>\\n\\t            \\t\\t\\t\\t\\t<div class=\"estrella-act old\"></div>\\n\\t\\t\\t\\t\\t\\t\\t\\t\\t<div class=\"estrella-act old\"></div>\\n\\t\\t\\t\\t\\t\\t\\t\\t\\t<div class=\"estrella-act old\"></div>\\n\\t\\t\\t\\t\\t\\t\\t\\t\\t<div class=\"estrella old\"></div>\\n\\t\\t\\t\\t\\t\\t\\t\\t\\t<div class=\"estrella old\"></div>\\n\\t\\t\\t\\t\\t            <span class=\"detalle-ch\">31.04 max. 49.00 </span>\\n\\t        \\n\\t        \\n\\t        </div>\\n\\t        \\n\\t        <a href=\"en/result/75/mitsubishi-montero-sport-%2B-3-airbags\" class=\"btn-mas\">See more</a>\\n\\n\\n\\n\\t\\t\\t<!-- ACLARACIÃ\\x93N -->\\n\\t               \\n\\t    \\n\\t    </div>   \\n\\t    \\n\\t    \\n\\t      \\n\\t    \\n\\t\\t\\t        <div class=\"fila-tit\">\\n\\t            \\t            <img class=\"img-marca\" src=\"data/marcas/8.jpg?20515\" width=\"65\"/>\\n\\t            \\t            <span class=\"tit-marca\">Nissan</span>\\n\\t        </div>            \\n\\t    \\t    <div class=\"fila \">\\n\\t    \\t<div class=\"colum colum-200\">\\n\\t        \\t<h3>Nissan Tiida Sedan + 2 Airbags</h3>\\n\\t        </div>\\n\\t        <div class=\"colum\">\\n\\t        September-2015\\t        </div>\\n\\t        \\n\\t        \\t        <div class=\"colum colum-240 adulto\">\\n\\t        \\t<div class=\"ico-1 old\"></div>\\n\\t            \\t\\t\\t\\t\\t<div class=\"estrella-act old\"></div>\\n\\t\\t\\t\\t\\t\\t\\t\\t\\t<div class=\"estrella-act old\"></div>\\n\\t\\t\\t\\t\\t\\t\\t\\t\\t<div class=\"estrella-act old\"></div>\\n\\t\\t\\t\\t\\t\\t\\t\\t\\t<div class=\"estrella-act old\"></div>\\n\\t\\t\\t\\t\\t\\t\\t\\t\\t<div class=\"estrella old\"></div>\\n\\t\\t\\t\\t\\t            <span class=\"detalle-ch\">13.08 max. 17.00 </span>\\n\\t        </div>\\n\\t        \\n\\t        <div class=\"colum colum-240 nino\">\\n\\t        \\t<div class=\"ico-2 old\"></div>\\n\\t            \\t\\t\\t\\t\\t<div class=\"estrella-act old\"></div>\\n\\t\\t\\t\\t\\t\\t\\t\\t\\t<div class=\"estrella-act old\"></div>\\n\\t\\t\\t\\t\\t\\t\\t\\t\\t<div class=\"estrella old\"></div>\\n\\t\\t\\t\\t\\t\\t\\t\\t\\t<div class=\"estrella old\"></div>\\n\\t\\t\\t\\t\\t\\t\\t\\t\\t<div class=\"estrella old\"></div>\\n\\t\\t\\t\\t\\t            <span class=\"detalle-ch\">18.67 max. 49.00 </span>\\n\\t        \\n\\t        \\n\\t        </div>\\n\\t        \\n\\t        <a href=\"en/result/62/nissan-tiida-sedan-%2B-2-airbags\" class=\"btn-mas\">See more</a>\\n\\n\\n\\n\\t\\t\\t<!-- ACLARACIÃ\\x93N -->\\n\\t               \\n\\t    \\n\\t    </div>   \\n\\t    \\n\\t    \\n\\t      \\n\\t    \\n\\t\\t\\t    <div class=\"fila \">\\n\\t    \\t<div class=\"colum colum-200\">\\n\\t        \\t<h3>Nissan Tiida Sedan - NO Airbags</h3>\\n\\t        </div>\\n\\t        <div class=\"colum\">\\n\\t        April-2015\\t        </div>\\n\\t        \\n\\t        \\t        <div class=\"colum colum-240 adulto\">\\n\\t        \\t<div class=\"ico-1 old\"></div>\\n\\t            \\t\\t\\t\\t\\t<div class=\"estrella old\"></div>\\n\\t\\t\\t\\t\\t\\t\\t\\t\\t<div class=\"estrella old\"></div>\\n\\t\\t\\t\\t\\t\\t\\t\\t\\t<div class=\"estrella old\"></div>\\n\\t\\t\\t\\t\\t\\t\\t\\t\\t<div class=\"estrella old\"></div>\\n\\t\\t\\t\\t\\t\\t\\t\\t\\t<div class=\"estrella old\"></div>\\n\\t\\t\\t\\t\\t            <span class=\"detalle-ch\">0.00 max. 17.00 </span>\\n\\t        </div>\\n\\t        \\n\\t        <div class=\"colum colum-240 nino\">\\n\\t        \\t<div class=\"ico-2 old\"></div>\\n\\t            \\t\\t\\t\\t\\t<div class=\"estrella-act old\"></div>\\n\\t\\t\\t\\t\\t\\t\\t\\t\\t<div class=\"estrella-act old\"></div>\\n\\t\\t\\t\\t\\t\\t\\t\\t\\t<div class=\"estrella old\"></div>\\n\\t\\t\\t\\t\\t\\t\\t\\t\\t<div class=\"estrella old\"></div>\\n\\t\\t\\t\\t\\t\\t\\t\\t\\t<div class=\"estrella old\"></div>\\n\\t\\t\\t\\t\\t            <span class=\"detalle-ch\">16.41 max. 49.00 </span>\\n\\t        \\n\\t        \\n\\t        </div>\\n\\t        \\n\\t        <a href=\"en/result/55/nissan-tiida-sedan-no-airbags\" class=\"btn-mas\">See more</a>\\n\\n\\n\\n\\t\\t\\t<!-- ACLARACIÃ\\x93N -->\\n\\t               \\n\\t    \\n\\t    </div>   \\n\\t    \\n\\t    \\n\\t      \\n\\t    \\n\\t\\t\\t    <div class=\"fila \">\\n\\t    \\t<div class=\"colum colum-200\">\\n\\t        \\t<h3>Nissan Tsuru / Sentra B13 - NO Airbags</h3>\\n\\t        </div>\\n\\t        <div class=\"colum\">\\n\\t        July-2013\\t        </div>\\n\\t        \\n\\t        \\t        <div class=\"colum colum-240 adulto\">\\n\\t        \\t<div class=\"ico-1 old\"></div>\\n\\t            \\t\\t\\t\\t\\t<div class=\"estrella old\"></div>\\n\\t\\t\\t\\t\\t\\t\\t\\t\\t<div class=\"estrella old\"></div>\\n\\t\\t\\t\\t\\t\\t\\t\\t\\t<div class=\"estrella old\"></div>\\n\\t\\t\\t\\t\\t\\t\\t\\t\\t<div class=\"estrella old\"></div>\\n\\t\\t\\t\\t\\t\\t\\t\\t\\t<div class=\"estrella old\"></div>\\n\\t\\t\\t\\t\\t            <span class=\"detalle-ch\">1.00 max. 17.00 </span>\\n\\t        </div>\\n\\t        \\n\\t        <div class=\"colum colum-240 nino\">\\n\\t        \\t<div class=\"ico-2 old\"></div>\\n\\t            \\t\\t\\t\\t\\t<div class=\"estrella old\"></div>\\n\\t\\t\\t\\t\\t\\t\\t\\t\\t<div class=\"estrella old\"></div>\\n\\t\\t\\t\\t\\t\\t\\t\\t\\t<div class=\"estrella old\"></div>\\n\\t\\t\\t\\t\\t\\t\\t\\t\\t<div class=\"estrella old\"></div>\\n\\t\\t\\t\\t\\t\\t\\t\\t\\t<div class=\"estrella old\"></div>\\n\\t\\t\\t\\t\\t            <span class=\"detalle-ch\">0.00 max. 49.00 </span>\\n\\t        \\n\\t        \\n\\t        </div>\\n\\t        \\n\\t        <a href=\"en/result/31/nissan-tsuru--sentra-b13-no-airbags\" class=\"btn-mas\">See more</a>\\n\\n\\n\\n\\t\\t\\t<!-- ACLARACIÃ\\x93N -->\\n\\t               \\n\\t    \\n\\t    </div>   \\n\\t    \\n\\t    \\n\\t      \\n\\t    \\n\\t\\t\\t    <div class=\"fila \">\\n\\t    \\t<div class=\"colum colum-200\">\\n\\t        \\t<h3>Nissan March + 2 Airbags</h3>\\n\\t        </div>\\n\\t        <div class=\"colum\">\\n\\t        November-2011\\t        </div>\\n\\t        \\n\\t        \\t        <div class=\"colum colum-240 adulto\">\\n\\t        \\t<div class=\"ico-1 old\"></div>\\n\\t            \\t\\t\\t\\t\\t<div class=\"estrella-act old\"></div>\\n\\t\\t\\t\\t\\t\\t\\t\\t\\t<div class=\"estrella-act old\"></div>\\n\\t\\t\\t\\t\\t\\t\\t\\t\\t<div class=\"estrella old\"></div>\\n\\t\\t\\t\\t\\t\\t\\t\\t\\t<div class=\"estrella old\"></div>\\n\\t\\t\\t\\t\\t\\t\\t\\t\\t<div class=\"estrella old\"></div>\\n\\t\\t\\t\\t\\t            <span class=\"detalle-ch\">7.62 max. 16.00 </span>\\n\\t        </div>\\n\\t        \\n\\t        <div class=\"colum colum-240 nino\">\\n\\t        \\t<div class=\"ico-2 old\"></div>\\n\\t            \\t\\t\\t\\t\\t<div class=\"estrella-act old\"></div>\\n\\t\\t\\t\\t\\t\\t\\t\\t\\t<div class=\"estrella old\"></div>\\n\\t\\t\\t\\t\\t\\t\\t\\t\\t<div class=\"estrella old\"></div>\\n\\t\\t\\t\\t\\t\\t\\t\\t\\t<div class=\"estrella old\"></div>\\n\\t\\t\\t\\t\\t\\t\\t\\t\\t<div class=\"estrella old\"></div>\\n\\t\\t\\t\\t\\t            <span class=\"detalle-ch\">9.68 max. 49.00 </span>\\n\\t        \\n\\t        \\n\\t        </div>\\n\\t        \\n\\t        <a href=\"en/result/17/nissan-march-%2B-2-airbags\" class=\"btn-mas\">See more</a>\\n\\n\\n\\n\\t\\t\\t<!-- ACLARACIÃ\\x93N -->\\n\\t               \\n\\t    \\n\\t    </div>   \\n\\t    \\n\\t    \\n\\t      \\n\\t    \\n\\t\\t\\t    <div class=\"fila \">\\n\\t    \\t<div class=\"colum colum-200\">\\n\\t        \\t<h3>Nissan Tiida Hatch + 2 Airbags</h3>\\n\\t        </div>\\n\\t        <div class=\"colum\">\\n\\t        November-2011\\t        </div>\\n\\t        \\n\\t        \\t        <div class=\"colum colum-240 adulto\">\\n\\t        \\t<div class=\"ico-1 old\"></div>\\n\\t            \\t\\t\\t\\t\\t<div class=\"estrella-act old\"></div>\\n\\t\\t\\t\\t\\t\\t\\t\\t\\t<div class=\"estrella-act old\"></div>\\n\\t\\t\\t\\t\\t\\t\\t\\t\\t<div class=\"estrella-act old\"></div>\\n\\t\\t\\t\\t\\t\\t\\t\\t\\t<div class=\"estrella-act old\"></div>\\n\\t\\t\\t\\t\\t\\t\\t\\t\\t<div class=\"estrella old\"></div>\\n\\t\\t\\t\\t\\t            <span class=\"detalle-ch\">13.12 max. 16.00 </span>\\n\\t        </div>\\n\\t        \\n\\t        <div class=\"colum colum-240 nino\">\\n\\t        \\t<div class=\"ico-2 old\"></div>\\n\\t            \\t\\t\\t\\t\\t<div class=\"estrella-act old\"></div>\\n\\t\\t\\t\\t\\t\\t\\t\\t\\t<div class=\"estrella old\"></div>\\n\\t\\t\\t\\t\\t\\t\\t\\t\\t<div class=\"estrella old\"></div>\\n\\t\\t\\t\\t\\t\\t\\t\\t\\t<div class=\"estrella old\"></div>\\n\\t\\t\\t\\t\\t\\t\\t\\t\\t<div class=\"estrella old\"></div>\\n\\t\\t\\t\\t\\t            <span class=\"detalle-ch\">9.29 max. 49.00 </span>\\n\\t        \\n\\t        \\n\\t        </div>\\n\\t        \\n\\t        <a href=\"en/result/18/nissan-tiida-hatch-%2B-2-airbags\" class=\"btn-mas\">See more</a>\\n\\n\\n\\n\\t\\t\\t<!-- ACLARACIÃ\\x93N -->\\n\\t               \\n\\t    \\n\\t    </div>   \\n\\t    \\n\\t    \\n\\t      \\n\\t    \\n\\t\\t\\t    <div class=\"fila \">\\n\\t    \\t<div class=\"colum colum-200\">\\n\\t        \\t<h3>Nissan Tiida hatch + 1 Airbag</h3>\\n\\t        </div>\\n\\t        <div class=\"colum\">\\n\\t        May-2011\\t        </div>\\n\\t        \\n\\t        \\t        <div class=\"colum colum-240 adulto\">\\n\\t        \\t<div class=\"ico-1 old\"></div>\\n\\t            \\t\\t\\t\\t\\t<div class=\"estrella-act old\"></div>\\n\\t\\t\\t\\t\\t\\t\\t\\t\\t<div class=\"estrella-act old\"></div>\\n\\t\\t\\t\\t\\t\\t\\t\\t\\t<div class=\"estrella-act old\"></div>\\n\\t\\t\\t\\t\\t\\t\\t\\t\\t<div class=\"estrella old\"></div>\\n\\t\\t\\t\\t\\t\\t\\t\\t\\t<div class=\"estrella old\"></div>\\n\\t\\t\\t\\t\\t            <span class=\"detalle-ch\">9.54 max. 16.00 </span>\\n\\t        </div>\\n\\t        \\n\\t        <div class=\"colum colum-240 nino\">\\n\\t        \\t<div class=\"ico-2 old\"></div>\\n\\t            \\t\\t\\t\\t\\t<div class=\"estrella-act old\"></div>\\n\\t\\t\\t\\t\\t\\t\\t\\t\\t<div class=\"estrella old\"></div>\\n\\t\\t\\t\\t\\t\\t\\t\\t\\t<div class=\"estrella old\"></div>\\n\\t\\t\\t\\t\\t\\t\\t\\t\\t<div class=\"estrella old\"></div>\\n\\t\\t\\t\\t\\t\\t\\t\\t\\t<div class=\"estrella old\"></div>\\n\\t\\t\\t\\t\\t            <span class=\"detalle-ch\">8.00 max. 49.00 </span>\\n\\t        \\n\\t        \\n\\t        </div>\\n\\t        \\n\\t        <a href=\"en/result/14/nissan-tiida-hatch-%2B-1-airbag\" class=\"btn-mas\">See more</a>\\n\\n\\n\\n\\t\\t\\t<!-- ACLARACIÃ\\x93N -->\\n\\t               \\n\\t    \\n\\t    </div>   \\n\\t    \\n\\t    \\n\\t      \\n\\t    \\n\\t\\t\\t        <div class=\"fila-tit\">\\n\\t            \\t            <img class=\"img-marca\" src=\"data/marcas/5.jpg?32328\" width=\"65\"/>\\n\\t            \\t            <span class=\"tit-marca\">Peugeot</span>\\n\\t        </div>            \\n\\t    \\t    <div class=\"fila \">\\n\\t    \\t<div class=\"colum colum-200\">\\n\\t        \\t<h3>Peugeot 208 + 2 Airbags</h3>\\n\\t        </div>\\n\\t        <div class=\"colum\">\\n\\t        August-2014\\t        </div>\\n\\t        \\n\\t        \\t        <div class=\"colum colum-240 adulto\">\\n\\t        \\t<div class=\"ico-1 old\"></div>\\n\\t            \\t\\t\\t\\t\\t<div class=\"estrella-act old\"></div>\\n\\t\\t\\t\\t\\t\\t\\t\\t\\t<div class=\"estrella-act old\"></div>\\n\\t\\t\\t\\t\\t\\t\\t\\t\\t<div class=\"estrella-act old\"></div>\\n\\t\\t\\t\\t\\t\\t\\t\\t\\t<div class=\"estrella-act old\"></div>\\n\\t\\t\\t\\t\\t\\t\\t\\t\\t<div class=\"estrella old\"></div>\\n\\t\\t\\t\\t\\t            <span class=\"detalle-ch\">12.64 max. 17.00 </span>\\n\\t        </div>\\n\\t        \\n\\t        <div class=\"colum colum-240 nino\">\\n\\t        \\t<div class=\"ico-2 old\"></div>\\n\\t            \\t\\t\\t\\t\\t<div class=\"estrella-act old\"></div>\\n\\t\\t\\t\\t\\t\\t\\t\\t\\t<div class=\"estrella-act old\"></div>\\n\\t\\t\\t\\t\\t\\t\\t\\t\\t<div class=\"estrella-act old\"></div>\\n\\t\\t\\t\\t\\t\\t\\t\\t\\t<div class=\"estrella old\"></div>\\n\\t\\t\\t\\t\\t\\t\\t\\t\\t<div class=\"estrella old\"></div>\\n\\t\\t\\t\\t\\t            <span class=\"detalle-ch\">28.13 max. 49.00 </span>\\n\\t        \\n\\t        \\n\\t        </div>\\n\\t        \\n\\t        <a href=\"en/result/47/peugeot-208-%2B-2-airbags\" class=\"btn-mas\">See more</a>\\n\\n\\n\\n\\t\\t\\t<!-- ACLARACIÃ\\x93N -->\\n\\t               \\n\\t    \\n\\t    </div>   \\n\\t    \\n\\t    \\n\\t      \\n\\t    \\n\\t\\t\\t    <div class=\"fila \">\\n\\t    \\t<div class=\"colum colum-200\">\\n\\t        \\t<h3>Peugeot 207 Compact + 2 Airbags</h3>\\n\\t        </div>\\n\\t        <div class=\"colum\">\\n\\t        August-2010\\t        </div>\\n\\t        \\n\\t        \\t        <div class=\"colum colum-240 adulto\">\\n\\t        \\t<div class=\"ico-1 old\"></div>\\n\\t            \\t\\t\\t\\t\\t<div class=\"estrella-act old\"></div>\\n\\t\\t\\t\\t\\t\\t\\t\\t\\t<div class=\"estrella-act old\"></div>\\n\\t\\t\\t\\t\\t\\t\\t\\t\\t<div class=\"estrella old\"></div>\\n\\t\\t\\t\\t\\t\\t\\t\\t\\t<div class=\"estrella old\"></div>\\n\\t\\t\\t\\t\\t\\t\\t\\t\\t<div class=\"estrella old\"></div>\\n\\t\\t\\t\\t\\t            <span class=\"detalle-ch\">7.13 max. 16.00 </span>\\n\\t        </div>\\n\\t        \\n\\t        <div class=\"colum colum-240 nino\">\\n\\t        \\t<div class=\"ico-2 old\"></div>\\n\\t            \\t\\t\\t\\t\\t<div class=\"estrella-act old\"></div>\\n\\t\\t\\t\\t\\t\\t\\t\\t\\t<div class=\"estrella-act old\"></div>\\n\\t\\t\\t\\t\\t\\t\\t\\t\\t<div class=\"estrella old\"></div>\\n\\t\\t\\t\\t\\t\\t\\t\\t\\t<div class=\"estrella old\"></div>\\n\\t\\t\\t\\t\\t\\t\\t\\t\\t<div class=\"estrella old\"></div>\\n\\t\\t\\t\\t\\t            <span class=\"detalle-ch\">16.26 max. 49.00 </span>\\n\\t        \\n\\t        \\n\\t        </div>\\n\\t        \\n\\t        <a href=\"en/result/5/peugeot-207-compact-%2B-2-airbags\" class=\"btn-mas\">See more</a>\\n\\n\\n\\n\\t\\t\\t<!-- ACLARACIÃ\\x93N -->\\n\\t               \\n\\t    \\n\\t    </div>   \\n\\t    \\n\\t    \\n\\t      \\n\\t    \\n\\t\\t\\t    <div class=\"fila \">\\n\\t    \\t<div class=\"colum colum-200\">\\n\\t        \\t<h3>Peugeot 207 Compact 5p 1.4 - NO Airbags</h3>\\n\\t        </div>\\n\\t        <div class=\"colum\">\\n\\t        August-2010\\t        </div>\\n\\t        \\n\\t        \\t        <div class=\"colum colum-240 adulto\">\\n\\t        \\t<div class=\"ico-1 old\"></div>\\n\\t            \\t\\t\\t\\t\\t<div class=\"estrella-act old\"></div>\\n\\t\\t\\t\\t\\t\\t\\t\\t\\t<div class=\"estrella old\"></div>\\n\\t\\t\\t\\t\\t\\t\\t\\t\\t<div class=\"estrella old\"></div>\\n\\t\\t\\t\\t\\t\\t\\t\\t\\t<div class=\"estrella old\"></div>\\n\\t\\t\\t\\t\\t\\t\\t\\t\\t<div class=\"estrella old\"></div>\\n\\t\\t\\t\\t\\t            <span class=\"detalle-ch\">6.32 max. 16.00 </span>\\n\\t        </div>\\n\\t        \\n\\t        <div class=\"colum colum-240 nino\">\\n\\t        \\t<div class=\"ico-2 old\"></div>\\n\\t            \\t\\t\\t\\t\\t<div class=\"estrella-act old\"></div>\\n\\t\\t\\t\\t\\t\\t\\t\\t\\t<div class=\"estrella-act old\"></div>\\n\\t\\t\\t\\t\\t\\t\\t\\t\\t<div class=\"estrella old\"></div>\\n\\t\\t\\t\\t\\t\\t\\t\\t\\t<div class=\"estrella old\"></div>\\n\\t\\t\\t\\t\\t\\t\\t\\t\\t<div class=\"estrella old\"></div>\\n\\t\\t\\t\\t\\t            <span class=\"detalle-ch\">16.25 max. 49.00 </span>\\n\\t        \\n\\t        \\n\\t        </div>\\n\\t        \\n\\t        <a href=\"en/result/6/peugeot-207-compact-5p-14-no-airbags\" class=\"btn-mas\">See more</a>\\n\\n\\n\\n\\t\\t\\t<!-- ACLARACIÃ\\x93N -->\\n\\t               \\n\\t    \\n\\t    </div>   \\n\\t    \\n\\t    \\n\\t      \\n\\t    \\n\\t\\t\\t        <div class=\"fila-tit\">\\n\\t            \\t            <img class=\"img-marca\" src=\"data/marcas/9.jpg?22540\" width=\"65\"/>\\n\\t            \\t            <span class=\"tit-marca\">Renault</span>\\n\\t        </div>            \\n\\t    \\t    <div class=\"fila \">\\n\\t    \\t<div class=\"colum colum-200\">\\n\\t        \\t<h3>Renault Duster + 1 Airbag</h3>\\n\\t        </div>\\n\\t        <div class=\"colum\">\\n\\t        September-2015\\t        </div>\\n\\t        \\n\\t        \\t        <div class=\"colum colum-240 adulto\">\\n\\t        \\t<div class=\"ico-1 old\"></div>\\n\\t            \\t\\t\\t\\t\\t<div class=\"estrella-act old\"></div>\\n\\t\\t\\t\\t\\t\\t\\t\\t\\t<div class=\"estrella-act old\"></div>\\n\\t\\t\\t\\t\\t\\t\\t\\t\\t<div class=\"estrella-act old\"></div>\\n\\t\\t\\t\\t\\t\\t\\t\\t\\t<div class=\"estrella-act old\"></div>\\n\\t\\t\\t\\t\\t\\t\\t\\t\\t<div class=\"estrella old\"></div>\\n\\t\\t\\t\\t\\t            <span class=\"detalle-ch\">11.00 max. 17.00 </span>\\n\\t        </div>\\n\\t        \\n\\t        <div class=\"colum colum-240 nino\">\\n\\t        \\t<div class=\"ico-2 old\"></div>\\n\\t            \\t\\t\\t\\t\\t<div class=\"estrella-act old\"></div>\\n\\t\\t\\t\\t\\t\\t\\t\\t\\t<div class=\"estrella-act old\"></div>\\n\\t\\t\\t\\t\\t\\t\\t\\t\\t<div class=\"estrella old\"></div>\\n\\t\\t\\t\\t\\t\\t\\t\\t\\t<div class=\"estrella old\"></div>\\n\\t\\t\\t\\t\\t\\t\\t\\t\\t<div class=\"estrella old\"></div>\\n\\t\\t\\t\\t\\t            <span class=\"detalle-ch\">21.37 max. 49.00 </span>\\n\\t        \\n\\t        \\n\\t        </div>\\n\\t        \\n\\t        <a href=\"en/result/61/renault-duster-%2B-1-airbag\" class=\"btn-mas\">See more</a>\\n\\n\\n\\n\\t\\t\\t<!-- ACLARACIÃ\\x93N -->\\n\\t               \\n\\t    \\n\\t    </div>   \\n\\t    \\n\\t    \\n\\t      \\n\\t    \\n\\t\\t\\t    <div class=\"fila \">\\n\\t    \\t<div class=\"colum colum-200\">\\n\\t        \\t<h3>Renault Clio Mio - NO Airbags</h3>\\n\\t        </div>\\n\\t        <div class=\"colum\">\\n\\t        July-2013\\t        </div>\\n\\t        \\n\\t        \\t        <div class=\"colum colum-240 adulto\">\\n\\t        \\t<div class=\"ico-1 old\"></div>\\n\\t            \\t\\t\\t\\t\\t<div class=\"estrella old\"></div>\\n\\t\\t\\t\\t\\t\\t\\t\\t\\t<div class=\"estrella old\"></div>\\n\\t\\t\\t\\t\\t\\t\\t\\t\\t<div class=\"estrella old\"></div>\\n\\t\\t\\t\\t\\t\\t\\t\\t\\t<div class=\"estrella old\"></div>\\n\\t\\t\\t\\t\\t\\t\\t\\t\\t<div class=\"estrella old\"></div>\\n\\t\\t\\t\\t\\t            <span class=\"detalle-ch\">0.00 max. 17.00 </span>\\n\\t        </div>\\n\\t        \\n\\t        <div class=\"colum colum-240 nino\">\\n\\t        \\t<div class=\"ico-2 old\"></div>\\n\\t            \\t\\t\\t\\t\\t<div class=\"estrella-act old\"></div>\\n\\t\\t\\t\\t\\t\\t\\t\\t\\t<div class=\"estrella old\"></div>\\n\\t\\t\\t\\t\\t\\t\\t\\t\\t<div class=\"estrella old\"></div>\\n\\t\\t\\t\\t\\t\\t\\t\\t\\t<div class=\"estrella old\"></div>\\n\\t\\t\\t\\t\\t\\t\\t\\t\\t<div class=\"estrella old\"></div>\\n\\t\\t\\t\\t\\t            <span class=\"detalle-ch\">9.00 max. 49.00 </span>\\n\\t        \\n\\t        \\n\\t        </div>\\n\\t        \\n\\t        <a href=\"en/result/32/renault-clio-mio-no-airbags\" class=\"btn-mas\">See more</a>\\n\\n\\n\\n\\t\\t\\t<!-- ACLARACIÃ\\x93N -->\\n\\t               \\n\\t    \\n\\t    </div>   \\n\\t    \\n\\t    \\n\\t      \\n\\t    \\n\\t\\t\\t    <div class=\"fila \">\\n\\t    \\t<div class=\"colum colum-200\">\\n\\t        \\t<h3>Renault Fluence + 2 Airbags</h3>\\n\\t        </div>\\n\\t        <div class=\"colum\">\\n\\t        September-2012\\t        </div>\\n\\t        \\n\\t        \\t        <div class=\"colum colum-240 adulto\">\\n\\t        \\t<div class=\"ico-1 old\"></div>\\n\\t            \\t\\t\\t\\t\\t<div class=\"estrella-act old\"></div>\\n\\t\\t\\t\\t\\t\\t\\t\\t\\t<div class=\"estrella-act old\"></div>\\n\\t\\t\\t\\t\\t\\t\\t\\t\\t<div class=\"estrella-act old\"></div>\\n\\t\\t\\t\\t\\t\\t\\t\\t\\t<div class=\"estrella-act old\"></div>\\n\\t\\t\\t\\t\\t\\t\\t\\t\\t<div class=\"estrella old\"></div>\\n\\t\\t\\t\\t\\t            <span class=\"detalle-ch\">11.97 max. 16.00 </span>\\n\\t        </div>\\n\\t        \\n\\t        <div class=\"colum colum-240 nino\">\\n\\t        \\t<div class=\"ico-2 old\"></div>\\n\\t            \\t\\t\\t\\t\\t<div class=\"estrella-act old\"></div>\\n\\t\\t\\t\\t\\t\\t\\t\\t\\t<div class=\"estrella-act old\"></div>\\n\\t\\t\\t\\t\\t\\t\\t\\t\\t<div class=\"estrella old\"></div>\\n\\t\\t\\t\\t\\t\\t\\t\\t\\t<div class=\"estrella old\"></div>\\n\\t\\t\\t\\t\\t\\t\\t\\t\\t<div class=\"estrella old\"></div>\\n\\t\\t\\t\\t\\t            <span class=\"detalle-ch\">20.92 max. 49.00 </span>\\n\\t        \\n\\t        \\n\\t        </div>\\n\\t        \\n\\t        <a href=\"en/result/26/renault-fluence-%2B-2-airbags\" class=\"btn-mas\">See more</a>\\n\\n\\n\\n\\t\\t\\t<!-- ACLARACIÃ\\x93N -->\\n\\t               \\n\\t    \\n\\t    </div>   \\n\\t    \\n\\t    \\n\\t      \\n\\t    \\n\\t\\t\\t    <div class=\"fila \">\\n\\t    \\t<div class=\"colum colum-200\">\\n\\t        \\t<h3>Renault Sandero - NO Airbags</h3>\\n\\t        </div>\\n\\t        <div class=\"colum\">\\n\\t        April-2012\\t        </div>\\n\\t        \\n\\t        \\t        <div class=\"colum colum-240 adulto\">\\n\\t        \\t<div class=\"ico-1 old\"></div>\\n\\t            \\t\\t\\t\\t\\t<div class=\"estrella-act old\"></div>\\n\\t\\t\\t\\t\\t\\t\\t\\t\\t<div class=\"estrella old\"></div>\\n\\t\\t\\t\\t\\t\\t\\t\\t\\t<div class=\"estrella old\"></div>\\n\\t\\t\\t\\t\\t\\t\\t\\t\\t<div class=\"estrella old\"></div>\\n\\t\\t\\t\\t\\t\\t\\t\\t\\t<div class=\"estrella old\"></div>\\n\\t\\t\\t\\t\\t            <span class=\"detalle-ch\">4.61 max. 16.00 </span>\\n\\t        </div>\\n\\t        \\n\\t        <div class=\"colum colum-240 nino\">\\n\\t        \\t<div class=\"ico-2 old\"></div>\\n\\t            \\t\\t\\t\\t\\t<div class=\"estrella-act old\"></div>\\n\\t\\t\\t\\t\\t\\t\\t\\t\\t<div class=\"estrella-act old\"></div>\\n\\t\\t\\t\\t\\t\\t\\t\\t\\t<div class=\"estrella old\"></div>\\n\\t\\t\\t\\t\\t\\t\\t\\t\\t<div class=\"estrella old\"></div>\\n\\t\\t\\t\\t\\t\\t\\t\\t\\t<div class=\"estrella old\"></div>\\n\\t\\t\\t\\t\\t            <span class=\"detalle-ch\">18.78 max. 49.00 </span>\\n\\t        \\n\\t        \\n\\t        </div>\\n\\t        \\n\\t        <a href=\"en/result/20/renault-sandero-no-airbags\" class=\"btn-mas\">See more</a>\\n\\n\\n\\n\\t\\t\\t<!-- ACLARACIÃ\\x93N -->\\n\\t               \\n\\t    \\n\\t    </div>   \\n\\t    \\n\\t    \\n\\t      \\n\\t    \\n\\t\\t\\t        <div class=\"fila-tit\">\\n\\t            \\t            <img class=\"img-marca\" src=\"data/marcas/14.jpg?15219\" width=\"65\"/>\\n\\t            \\t            <span class=\"tit-marca\">Seat</span>\\n\\t        </div>            \\n\\t    \\t    <div class=\"fila \">\\n\\t    \\t<div class=\"colum colum-200\">\\n\\t        \\t<h3>Seat Leon ST + 6 Airbags</h3>\\n\\t        </div>\\n\\t        <div class=\"colum\">\\n\\t        April-2015\\t        </div>\\n\\t        \\n\\t        \\t        <div class=\"colum colum-240 adulto\">\\n\\t        \\t<div class=\"ico-1 old\"></div>\\n\\t            \\t\\t\\t\\t\\t<div class=\"estrella-act old\"></div>\\n\\t\\t\\t\\t\\t\\t\\t\\t\\t<div class=\"estrella-act old\"></div>\\n\\t\\t\\t\\t\\t\\t\\t\\t\\t<div class=\"estrella-act old\"></div>\\n\\t\\t\\t\\t\\t\\t\\t\\t\\t<div class=\"estrella-act old\"></div>\\n\\t\\t\\t\\t\\t\\t\\t\\t\\t<div class=\"estrella-act old\"></div>\\n\\t\\t\\t\\t\\t            <span class=\"detalle-ch\">14.71 max. 17.00 </span>\\n\\t        </div>\\n\\t        \\n\\t        <div class=\"colum colum-240 nino\">\\n\\t        \\t<div class=\"ico-2 old\"></div>\\n\\t            \\t\\t\\t\\t\\t<div class=\"estrella-act old\"></div>\\n\\t\\t\\t\\t\\t\\t\\t\\t\\t<div class=\"estrella-act old\"></div>\\n\\t\\t\\t\\t\\t\\t\\t\\t\\t<div class=\"estrella-act old\"></div>\\n\\t\\t\\t\\t\\t\\t\\t\\t\\t<div class=\"estrella-act old\"></div>\\n\\t\\t\\t\\t\\t\\t\\t\\t\\t<div class=\"estrella-act old\"></div>\\n\\t\\t\\t\\t\\t            <span class=\"detalle-ch\">43.39 max. 49.00 </span>\\n\\t        \\n\\t        \\n\\t        </div>\\n\\t        \\n\\t        <a href=\"en/result/53/seat-leon-st-%2B-6-airbags\" class=\"btn-mas\">See more</a>\\n\\n\\n\\n\\t\\t\\t<!-- ACLARACIÃ\\x93N -->\\n\\t               \\n\\t    \\n\\t    </div>   \\n\\t    \\n\\t    \\n\\t      \\n\\t    \\n\\t\\t\\t    <div class=\"fila \">\\n\\t    \\t<div class=\"colum colum-200\">\\n\\t        \\t<h3>Seat Leon + 6 Airbags</h3>\\n\\t        </div>\\n\\t        <div class=\"colum\">\\n\\t        July-2013\\t        </div>\\n\\t        \\n\\t        \\t        <div class=\"colum colum-240 adulto\">\\n\\t        \\t<div class=\"ico-1 old\"></div>\\n\\t            \\t\\t\\t\\t\\t<div class=\"estrella-act old\"></div>\\n\\t\\t\\t\\t\\t\\t\\t\\t\\t<div class=\"estrella-act old\"></div>\\n\\t\\t\\t\\t\\t\\t\\t\\t\\t<div class=\"estrella-act old\"></div>\\n\\t\\t\\t\\t\\t\\t\\t\\t\\t<div class=\"estrella-act old\"></div>\\n\\t\\t\\t\\t\\t\\t\\t\\t\\t<div class=\"estrella-act old\"></div>\\n\\t\\t\\t\\t\\t            <span class=\"detalle-ch\">14.52 max. 17.00 </span>\\n\\t        </div>\\n\\t        \\n\\t        <div class=\"colum colum-240 nino\">\\n\\t        \\t<div class=\"ico-2 old\"></div>\\n\\t            \\t\\t\\t\\t\\t<div class=\"estrella-act old\"></div>\\n\\t\\t\\t\\t\\t\\t\\t\\t\\t<div class=\"estrella-act old\"></div>\\n\\t\\t\\t\\t\\t\\t\\t\\t\\t<div class=\"estrella-act old\"></div>\\n\\t\\t\\t\\t\\t\\t\\t\\t\\t<div class=\"estrella-act old\"></div>\\n\\t\\t\\t\\t\\t\\t\\t\\t\\t<div class=\"estrella old\"></div>\\n\\t\\t\\t\\t\\t            <span class=\"detalle-ch\">38.55 max. 49.00 </span>\\n\\t        \\n\\t        \\n\\t        </div>\\n\\t        \\n\\t        <a href=\"en/result/33/seat-leon-%2B-6-airbags\" class=\"btn-mas\">See more</a>\\n\\n\\n\\n\\t\\t\\t<!-- ACLARACIÃ\\x93N -->\\n\\t               \\n\\t    \\n\\t    </div>   \\n\\t    \\n\\t    \\n\\t      \\n\\t    \\n\\t\\t\\t        <div class=\"fila-tit\">\\n\\t            \\t            <img class=\"img-marca\" src=\"data/marcas/13.jpg?23499\" width=\"65\"/>\\n\\t            \\t            <span class=\"tit-marca\">Suzuki</span>\\n\\t        </div>            \\n\\t    \\t    <div class=\"fila \">\\n\\t    \\t<div class=\"colum colum-200\">\\n\\t        \\t<h3>Suzuki Swift - 2 Airbags</h3>\\n\\t        </div>\\n\\t        <div class=\"colum\">\\n\\t        November-2014\\t        </div>\\n\\t        \\n\\t        \\t        <div class=\"colum colum-240 adulto\">\\n\\t        \\t<div class=\"ico-1 old\"></div>\\n\\t            \\t\\t\\t\\t\\t<div class=\"estrella-act old\"></div>\\n\\t\\t\\t\\t\\t\\t\\t\\t\\t<div class=\"estrella-act old\"></div>\\n\\t\\t\\t\\t\\t\\t\\t\\t\\t<div class=\"estrella-act old\"></div>\\n\\t\\t\\t\\t\\t\\t\\t\\t\\t<div class=\"estrella old\"></div>\\n\\t\\t\\t\\t\\t\\t\\t\\t\\t<div class=\"estrella old\"></div>\\n\\t\\t\\t\\t\\t            <span class=\"detalle-ch\">10.12 max. 16.00 </span>\\n\\t        </div>\\n\\t        \\n\\t        <div class=\"colum colum-240 nino\">\\n\\t        \\t<div class=\"ico-2 old\"></div>\\n\\t            \\t\\t\\t\\t\\t<div class=\"estrella-act old\"></div>\\n\\t\\t\\t\\t\\t\\t\\t\\t\\t<div class=\"estrella old\"></div>\\n\\t\\t\\t\\t\\t\\t\\t\\t\\t<div class=\"estrella old\"></div>\\n\\t\\t\\t\\t\\t\\t\\t\\t\\t<div class=\"estrella old\"></div>\\n\\t\\t\\t\\t\\t\\t\\t\\t\\t<div class=\"estrella old\"></div>\\n\\t\\t\\t\\t\\t            <span class=\"detalle-ch\">3.41 max. 49.00 </span>\\n\\t        \\n\\t        \\n\\t        </div>\\n\\t        \\n\\t        <a href=\"en/result/50/suzuki-swift-2-airbags\" class=\"btn-mas\">See more</a>\\n\\n\\n\\n\\t\\t\\t<!-- ACLARACIÃ\\x93N -->\\n\\t               \\n\\t    \\n\\t    </div>   \\n\\t    \\n\\t    \\n\\t      \\n\\t    \\n\\t\\t\\t    <div class=\"fila \">\\n\\t    \\t<div class=\"colum colum-200\">\\n\\t        \\t<h3>Suzuki Alto K10 - NO Airbags</h3>\\n\\t        </div>\\n\\t        <div class=\"colum\">\\n\\t        July-2013\\t        </div>\\n\\t        \\n\\t        \\t        <div class=\"colum colum-240 adulto\">\\n\\t        \\t<div class=\"ico-1 old\"></div>\\n\\t            \\t\\t\\t\\t\\t<div class=\"estrella old\"></div>\\n\\t\\t\\t\\t\\t\\t\\t\\t\\t<div class=\"estrella old\"></div>\\n\\t\\t\\t\\t\\t\\t\\t\\t\\t<div class=\"estrella old\"></div>\\n\\t\\t\\t\\t\\t\\t\\t\\t\\t<div class=\"estrella old\"></div>\\n\\t\\t\\t\\t\\t\\t\\t\\t\\t<div class=\"estrella old\"></div>\\n\\t\\t\\t\\t\\t            <span class=\"detalle-ch\">0.00 max. 17.00 </span>\\n\\t        </div>\\n\\t        \\n\\t        <div class=\"colum colum-240 nino\">\\n\\t        \\t<div class=\"ico-2 old\"></div>\\n\\t            \\t\\t\\t\\t\\t<div class=\"estrella-act old\"></div>\\n\\t\\t\\t\\t\\t\\t\\t\\t\\t<div class=\"estrella-act old\"></div>\\n\\t\\t\\t\\t\\t\\t\\t\\t\\t<div class=\"estrella-act old\"></div>\\n\\t\\t\\t\\t\\t\\t\\t\\t\\t<div class=\"estrella old\"></div>\\n\\t\\t\\t\\t\\t\\t\\t\\t\\t<div class=\"estrella old\"></div>\\n\\t\\t\\t\\t\\t            <span class=\"detalle-ch\">25.00 max. 49.00 </span>\\n\\t        \\n\\t        \\n\\t        </div>\\n\\t        \\n\\t        <a href=\"en/result/30/suzuki-alto-k10-no-airbags\" class=\"btn-mas\">See more</a>\\n\\n\\n\\n\\t\\t\\t<!-- ACLARACIÃ\\x93N -->\\n\\t               \\n\\t    \\n\\t    </div>   \\n\\t    \\n\\t    \\n\\t      \\n\\t    \\n\\t\\t\\t    <div class=\"fila \">\\n\\t    \\t<div class=\"colum colum-200\">\\n\\t        \\t<h3>Suzuki Celerio + 2 Airbags</h3>\\n\\t        </div>\\n\\t        <div class=\"colum\">\\n\\t        July-2013\\t        </div>\\n\\t        \\n\\t        \\t        <div class=\"colum colum-240 adulto\">\\n\\t        \\t<div class=\"ico-1 old\"></div>\\n\\t            \\t\\t\\t\\t\\t<div class=\"estrella-act old\"></div>\\n\\t\\t\\t\\t\\t\\t\\t\\t\\t<div class=\"estrella-act old\"></div>\\n\\t\\t\\t\\t\\t\\t\\t\\t\\t<div class=\"estrella-act old\"></div>\\n\\t\\t\\t\\t\\t\\t\\t\\t\\t<div class=\"estrella-act old\"></div>\\n\\t\\t\\t\\t\\t\\t\\t\\t\\t<div class=\"estrella old\"></div>\\n\\t\\t\\t\\t\\t            <span class=\"detalle-ch\">12.99 max. 17.00 </span>\\n\\t        </div>\\n\\t        \\n\\t        <div class=\"colum colum-240 nino\">\\n\\t        \\t<div class=\"ico-2 old\"></div>\\n\\t            \\t\\t\\t\\t\\t<div class=\"estrella-act old\"></div>\\n\\t\\t\\t\\t\\t\\t\\t\\t\\t<div class=\"estrella-act old\"></div>\\n\\t\\t\\t\\t\\t\\t\\t\\t\\t<div class=\"estrella old\"></div>\\n\\t\\t\\t\\t\\t\\t\\t\\t\\t<div class=\"estrella old\"></div>\\n\\t\\t\\t\\t\\t\\t\\t\\t\\t<div class=\"estrella old\"></div>\\n\\t\\t\\t\\t\\t            <span class=\"detalle-ch\">17.92 max. 49.00 </span>\\n\\t        \\n\\t        \\n\\t        </div>\\n\\t        \\n\\t        <a href=\"en/result/34/suzuki-celerio-%2B-2-airbags\" class=\"btn-mas\">See more</a>\\n\\n\\n\\n\\t\\t\\t<!-- ACLARACIÃ\\x93N -->\\n\\t               \\n\\t    \\n\\t    </div>   \\n\\t    \\n\\t    \\n\\t      \\n\\t    \\n\\t\\t\\t        <div class=\"fila-tit\">\\n\\t            \\t            <img class=\"img-marca\" src=\"data/marcas/1.jpg?33894\" width=\"65\"/>\\n\\t            \\t            <span class=\"tit-marca\">Toyota</span>\\n\\t        </div>            \\n\\t    \\t    <div class=\"fila \">\\n\\t    \\t<div class=\"colum colum-200\">\\n\\t        \\t<h3>Toyota Rav 4 + 3 Airbags</h3>\\n\\t        </div>\\n\\t        <div class=\"colum\">\\n\\t        December-2015\\t        </div>\\n\\t        \\n\\t        \\t        <div class=\"colum colum-240 adulto\">\\n\\t        \\t<div class=\"ico-1 old\"></div>\\n\\t            \\t\\t\\t\\t\\t<div class=\"estrella-act old\"></div>\\n\\t\\t\\t\\t\\t\\t\\t\\t\\t<div class=\"estrella-act old\"></div>\\n\\t\\t\\t\\t\\t\\t\\t\\t\\t<div class=\"estrella-act old\"></div>\\n\\t\\t\\t\\t\\t\\t\\t\\t\\t<div class=\"estrella-act old\"></div>\\n\\t\\t\\t\\t\\t\\t\\t\\t\\t<div class=\"estrella-act old\"></div>\\n\\t\\t\\t\\t\\t            <span class=\"detalle-ch\">16.41 max. 17.00 </span>\\n\\t        </div>\\n\\t        \\n\\t        <div class=\"colum colum-240 nino\">\\n\\t        \\t<div class=\"ico-2 old\"></div>\\n\\t            \\t\\t\\t\\t\\t<div class=\"estrella-act old\"></div>\\n\\t\\t\\t\\t\\t\\t\\t\\t\\t<div class=\"estrella-act old\"></div>\\n\\t\\t\\t\\t\\t\\t\\t\\t\\t<div class=\"estrella-act old\"></div>\\n\\t\\t\\t\\t\\t\\t\\t\\t\\t<div class=\"estrella-act old\"></div>\\n\\t\\t\\t\\t\\t\\t\\t\\t\\t<div class=\"estrella old\"></div>\\n\\t\\t\\t\\t\\t            <span class=\"detalle-ch\">36.57 max. 49.00 </span>\\n\\t        \\n\\t        \\n\\t        </div>\\n\\t        \\n\\t        <a href=\"en/result/73/toyota-rav-4-%2B-3-airbags\" class=\"btn-mas\">See more</a>\\n\\n\\n\\n\\t\\t\\t<!-- ACLARACIÃ\\x93N -->\\n\\t               \\n\\t    \\n\\t    </div>   \\n\\t    \\n\\t    \\n\\t      \\n\\t    \\n\\t\\t\\t    <div class=\"fila \">\\n\\t    \\t<div class=\"colum colum-200\">\\n\\t        \\t<h3>Toyota Hilux / SW4 / Fortuner + 3 Airbags</h3>\\n\\t        </div>\\n\\t        <div class=\"colum\">\\n\\t        December-2015\\t        </div>\\n\\t        \\n\\t        \\t        <div class=\"colum colum-240 adulto\">\\n\\t        \\t<div class=\"ico-1 old\"></div>\\n\\t            \\t\\t\\t\\t\\t<div class=\"estrella-act old\"></div>\\n\\t\\t\\t\\t\\t\\t\\t\\t\\t<div class=\"estrella-act old\"></div>\\n\\t\\t\\t\\t\\t\\t\\t\\t\\t<div class=\"estrella-act old\"></div>\\n\\t\\t\\t\\t\\t\\t\\t\\t\\t<div class=\"estrella-act old\"></div>\\n\\t\\t\\t\\t\\t\\t\\t\\t\\t<div class=\"estrella-act old\"></div>\\n\\t\\t\\t\\t\\t            <span class=\"detalle-ch\">15.71 max. 17.00 </span>\\n\\t        </div>\\n\\t        \\n\\t        <div class=\"colum colum-240 nino\">\\n\\t        \\t<div class=\"ico-2 old\"></div>\\n\\t            \\t\\t\\t\\t\\t<div class=\"estrella-act old\"></div>\\n\\t\\t\\t\\t\\t\\t\\t\\t\\t<div class=\"estrella-act old\"></div>\\n\\t\\t\\t\\t\\t\\t\\t\\t\\t<div class=\"estrella-act old\"></div>\\n\\t\\t\\t\\t\\t\\t\\t\\t\\t<div class=\"estrella-act old\"></div>\\n\\t\\t\\t\\t\\t\\t\\t\\t\\t<div class=\"estrella-act old\"></div>\\n\\t\\t\\t\\t\\t            <span class=\"detalle-ch\">44.25 max. 49.00 </span>\\n\\t        \\n\\t        \\n\\t        </div>\\n\\t        \\n\\t        <a href=\"en/result/74/toyota-hilux--sw4--fortuner-%2B-3-airbags\" class=\"btn-mas\">See more</a>\\n\\n\\n\\n\\t\\t\\t<!-- ACLARACIÃ\\x93N -->\\n\\t               \\n\\t    \\n\\t    </div>   \\n\\t    \\n\\t    \\n\\t      \\n\\t    \\n\\t\\t\\t    <div class=\"fila \">\\n\\t    \\t<div class=\"colum colum-200\">\\n\\t        \\t<h3>Toyota Corolla + 3 Airbags</h3>\\n\\t        </div>\\n\\t        <div class=\"colum\">\\n\\t        October-2014\\t        </div>\\n\\t        \\n\\t        \\t        <div class=\"colum colum-240 adulto\">\\n\\t        \\t<div class=\"ico-1 old\"></div>\\n\\t            \\t\\t\\t\\t\\t<div class=\"estrella-act old\"></div>\\n\\t\\t\\t\\t\\t\\t\\t\\t\\t<div class=\"estrella-act old\"></div>\\n\\t\\t\\t\\t\\t\\t\\t\\t\\t<div class=\"estrella-act old\"></div>\\n\\t\\t\\t\\t\\t\\t\\t\\t\\t<div class=\"estrella-act old\"></div>\\n\\t\\t\\t\\t\\t\\t\\t\\t\\t<div class=\"estrella-act old\"></div>\\n\\t\\t\\t\\t\\t            <span class=\"detalle-ch\">15.83 max. 17.00 </span>\\n\\t        </div>\\n\\t        \\n\\t        <div class=\"colum colum-240 nino\">\\n\\t        \\t<div class=\"ico-2 old\"></div>\\n\\t            \\t\\t\\t\\t\\t<div class=\"estrella-act old\"></div>\\n\\t\\t\\t\\t\\t\\t\\t\\t\\t<div class=\"estrella-act old\"></div>\\n\\t\\t\\t\\t\\t\\t\\t\\t\\t<div class=\"estrella-act old\"></div>\\n\\t\\t\\t\\t\\t\\t\\t\\t\\t<div class=\"estrella-act old\"></div>\\n\\t\\t\\t\\t\\t\\t\\t\\t\\t<div class=\"estrella old\"></div>\\n\\t\\t\\t\\t\\t            <span class=\"detalle-ch\">41.25 max. 49.00 </span>\\n\\t        \\n\\t        \\n\\t        </div>\\n\\t        \\n\\t        <a href=\"en/result/48/toyota-corolla-%2B-3-airbags\" class=\"btn-mas\">See more</a>\\n\\n\\n\\n\\t\\t\\t<!-- ACLARACIÃ\\x93N -->\\n\\t               \\n\\t    \\n\\t    </div>   \\n\\t    \\n\\t    \\n\\t      \\n\\t    \\n\\t\\t\\t    <div class=\"fila \">\\n\\t    \\t<div class=\"colum colum-200\">\\n\\t        \\t<h3>Toyota Etios + 2 Airbags</h3>\\n\\t        </div>\\n\\t        <div class=\"colum\">\\n\\t        October-2012\\t        </div>\\n\\t        \\n\\t        \\t        <div class=\"colum colum-240 adulto\">\\n\\t        \\t<div class=\"ico-1 old\"></div>\\n\\t            \\t\\t\\t\\t\\t<div class=\"estrella-act old\"></div>\\n\\t\\t\\t\\t\\t\\t\\t\\t\\t<div class=\"estrella-act old\"></div>\\n\\t\\t\\t\\t\\t\\t\\t\\t\\t<div class=\"estrella-act old\"></div>\\n\\t\\t\\t\\t\\t\\t\\t\\t\\t<div class=\"estrella-act old\"></div>\\n\\t\\t\\t\\t\\t\\t\\t\\t\\t<div class=\"estrella old\"></div>\\n\\t\\t\\t\\t\\t            <span class=\"detalle-ch\">12.87 max. 16.00 </span>\\n\\t        </div>\\n\\t        \\n\\t        <div class=\"colum colum-240 nino\">\\n\\t        \\t<div class=\"ico-2 old\"></div>\\n\\t            \\t\\t\\t\\t\\t<div class=\"estrella-act old\"></div>\\n\\t\\t\\t\\t\\t\\t\\t\\t\\t<div class=\"estrella-act old\"></div>\\n\\t\\t\\t\\t\\t\\t\\t\\t\\t<div class=\"estrella old\"></div>\\n\\t\\t\\t\\t\\t\\t\\t\\t\\t<div class=\"estrella old\"></div>\\n\\t\\t\\t\\t\\t\\t\\t\\t\\t<div class=\"estrella old\"></div>\\n\\t\\t\\t\\t\\t            <span class=\"detalle-ch\">17.38 max. 49.00 </span>\\n\\t        \\n\\t        \\n\\t        </div>\\n\\t        \\n\\t        <a href=\"en/result/27/toyota-etios-%2B-2-airbags\" class=\"btn-mas\">See more</a>\\n\\n\\n\\n\\t\\t\\t<!-- ACLARACIÃ\\x93N -->\\n\\t               \\n\\t    \\n\\t    </div>   \\n\\t    \\n\\t    \\n\\t      \\n\\t    \\n\\t\\t\\t    <div class=\"fila \">\\n\\t    \\t<div class=\"colum colum-200\">\\n\\t        \\t<h3>Toyota Corolla XEI + 2 Airbags</h3>\\n\\t        </div>\\n\\t        <div class=\"colum\">\\n\\t        August-2010\\t        </div>\\n\\t        \\n\\t        \\t        <div class=\"colum colum-240 adulto\">\\n\\t        \\t<div class=\"ico-1 old\"></div>\\n\\t            \\t\\t\\t\\t\\t<div class=\"estrella-act old\"></div>\\n\\t\\t\\t\\t\\t\\t\\t\\t\\t<div class=\"estrella-act old\"></div>\\n\\t\\t\\t\\t\\t\\t\\t\\t\\t<div class=\"estrella-act old\"></div>\\n\\t\\t\\t\\t\\t\\t\\t\\t\\t<div class=\"estrella-act old\"></div>\\n\\t\\t\\t\\t\\t\\t\\t\\t\\t<div class=\"estrella old\"></div>\\n\\t\\t\\t\\t\\t            <span class=\"detalle-ch\">13.60 max. 16.00 </span>\\n\\t        </div>\\n\\t        \\n\\t        <div class=\"colum colum-240 nino\">\\n\\t        \\t<div class=\"ico-2 old\"></div>\\n\\t            \\t\\t\\t\\t\\t<div class=\"estrella-act old\"></div>\\n\\t\\t\\t\\t\\t\\t\\t\\t\\t<div class=\"estrella old\"></div>\\n\\t\\t\\t\\t\\t\\t\\t\\t\\t<div class=\"estrella old\"></div>\\n\\t\\t\\t\\t\\t\\t\\t\\t\\t<div class=\"estrella old\"></div>\\n\\t\\t\\t\\t\\t\\t\\t\\t\\t<div class=\"estrella old\"></div>\\n\\t\\t\\t\\t\\t            <span class=\"detalle-ch\">12.68 max. 49.00 </span>\\n\\t        \\n\\t        \\n\\t        </div>\\n\\t        \\n\\t        <a href=\"en/result/1/toyota-corolla-xei-%2B-2-airbags\" class=\"btn-mas\">See more</a>\\n\\n\\n\\n\\t\\t\\t<!-- ACLARACIÃ\\x93N -->\\n\\t               \\n\\t    \\n\\t    </div>   \\n\\t    \\n\\t    \\n\\t      \\n\\t    \\n\\t\\t\\t        <div class=\"fila-tit\">\\n\\t            \\t            <img class=\"img-marca\" src=\"data/marcas/4.jpg?29996\" width=\"65\"/>\\n\\t            \\t            <span class=\"tit-marca\">Volkswagen</span>\\n\\t        </div>            \\n\\t    \\t    <div class=\"fila \">\\n\\t    \\t<div class=\"colum colum-200\">\\n\\t        \\t<h3>Volkswagen Fox + 2 Airbags</h3>\\n\\t        </div>\\n\\t        <div class=\"colum\">\\n\\t        December-2015\\t        </div>\\n\\t        \\n\\t        \\t        <div class=\"colum colum-240 adulto\">\\n\\t        \\t<div class=\"ico-1 old\"></div>\\n\\t            \\t\\t\\t\\t\\t<div class=\"estrella-act old\"></div>\\n\\t\\t\\t\\t\\t\\t\\t\\t\\t<div class=\"estrella-act old\"></div>\\n\\t\\t\\t\\t\\t\\t\\t\\t\\t<div class=\"estrella-act old\"></div>\\n\\t\\t\\t\\t\\t\\t\\t\\t\\t<div class=\"estrella-act old\"></div>\\n\\t\\t\\t\\t\\t\\t\\t\\t\\t<div class=\"estrella old\"></div>\\n\\t\\t\\t\\t\\t            <span class=\"detalle-ch\">11.34 max. 17.00 </span>\\n\\t        </div>\\n\\t        \\n\\t        <div class=\"colum colum-240 nino\">\\n\\t        \\t<div class=\"ico-2 old\"></div>\\n\\t            \\t\\t\\t\\t\\t<div class=\"estrella-act old\"></div>\\n\\t\\t\\t\\t\\t\\t\\t\\t\\t<div class=\"estrella-act old\"></div>\\n\\t\\t\\t\\t\\t\\t\\t\\t\\t<div class=\"estrella old\"></div>\\n\\t\\t\\t\\t\\t\\t\\t\\t\\t<div class=\"estrella old\"></div>\\n\\t\\t\\t\\t\\t\\t\\t\\t\\t<div class=\"estrella old\"></div>\\n\\t\\t\\t\\t\\t            <span class=\"detalle-ch\">21.23 max. 49.00 </span>\\n\\t        \\n\\t        \\n\\t        </div>\\n\\t        \\n\\t        <a href=\"en/result/72/volkswagen-fox-%2B-2-airbags\" class=\"btn-mas\">See more</a>\\n\\n\\n\\n\\t\\t\\t<!-- ACLARACIÃ\\x93N -->\\n\\t               \\n\\t    \\n\\t    </div>   \\n\\t    \\n\\t    \\n\\t      \\n\\t    \\n\\t\\t\\t    <div class=\"fila \">\\n\\t    \\t<div class=\"colum colum-200\">\\n\\t        \\t<h3>Volkswagen Vento / Polo SedÃ¡n + 2 Airbags</h3>\\n\\t        </div>\\n\\t        <div class=\"colum\">\\n\\t        November-2015\\t        </div>\\n\\t        \\n\\t        \\t        <div class=\"colum colum-240 adulto\">\\n\\t        \\t<div class=\"ico-1 old\"></div>\\n\\t            \\t\\t\\t\\t\\t<div class=\"estrella-act old\"></div>\\n\\t\\t\\t\\t\\t\\t\\t\\t\\t<div class=\"estrella-act old\"></div>\\n\\t\\t\\t\\t\\t\\t\\t\\t\\t<div class=\"estrella-act old\"></div>\\n\\t\\t\\t\\t\\t\\t\\t\\t\\t<div class=\"estrella-act old\"></div>\\n\\t\\t\\t\\t\\t\\t\\t\\t\\t<div class=\"estrella-act old\"></div>\\n\\t\\t\\t\\t\\t            <span class=\"detalle-ch\">14.73 max. 17.00 </span>\\n\\t        </div>\\n\\t        \\n\\t        <div class=\"colum colum-240 nino\">\\n\\t        \\t<div class=\"ico-2 old\"></div>\\n\\t            \\t\\t\\t\\t\\t<div class=\"estrella-act old\"></div>\\n\\t\\t\\t\\t\\t\\t\\t\\t\\t<div class=\"estrella-act old\"></div>\\n\\t\\t\\t\\t\\t\\t\\t\\t\\t<div class=\"estrella-act old\"></div>\\n\\t\\t\\t\\t\\t\\t\\t\\t\\t<div class=\"estrella old\"></div>\\n\\t\\t\\t\\t\\t\\t\\t\\t\\t<div class=\"estrella old\"></div>\\n\\t\\t\\t\\t\\t            <span class=\"detalle-ch\">34.16 max. 49.00 </span>\\n\\t        \\n\\t        \\n\\t        </div>\\n\\t        \\n\\t        <a href=\"en/result/64/volkswagen-vento--polo-seda-n-%2B-2-airbags\" class=\"btn-mas\">See more</a>\\n\\n\\n\\n\\t\\t\\t<!-- ACLARACIÃ\\x93N -->\\n\\t               \\n\\t    \\n\\t    </div>   \\n\\t    \\n\\t    \\n\\t      \\n\\t    \\n\\t\\t\\t    <div class=\"fila \">\\n\\t    \\t<div class=\"colum colum-200\">\\n\\t        \\t<h3>Volkswagen Golf + 7 Airbags</h3>\\n\\t        </div>\\n\\t        <div class=\"colum\">\\n\\t        October-2014\\t        </div>\\n\\t        \\n\\t        \\t        <div class=\"colum colum-240 adulto\">\\n\\t        \\t<div class=\"ico-1 old\"></div>\\n\\t            \\t\\t\\t\\t\\t<div class=\"estrella-act old\"></div>\\n\\t\\t\\t\\t\\t\\t\\t\\t\\t<div class=\"estrella-act old\"></div>\\n\\t\\t\\t\\t\\t\\t\\t\\t\\t<div class=\"estrella-act old\"></div>\\n\\t\\t\\t\\t\\t\\t\\t\\t\\t<div class=\"estrella-act old\"></div>\\n\\t\\t\\t\\t\\t\\t\\t\\t\\t<div class=\"estrella-act old\"></div>\\n\\t\\t\\t\\t\\t            <span class=\"detalle-ch\">16.56 max. 17.00 </span>\\n\\t        </div>\\n\\t        \\n\\t        <div class=\"colum colum-240 nino\">\\n\\t        \\t<div class=\"ico-2 old\"></div>\\n\\t            \\t\\t\\t\\t\\t<div class=\"estrella-act old\"></div>\\n\\t\\t\\t\\t\\t\\t\\t\\t\\t<div class=\"estrella-act old\"></div>\\n\\t\\t\\t\\t\\t\\t\\t\\t\\t<div class=\"estrella-act old\"></div>\\n\\t\\t\\t\\t\\t\\t\\t\\t\\t<div class=\"estrella-act old\"></div>\\n\\t\\t\\t\\t\\t\\t\\t\\t\\t<div class=\"estrella-act old\"></div>\\n\\t\\t\\t\\t\\t            <span class=\"detalle-ch\">44.30 max. 49.00 </span>\\n\\t        \\n\\t        \\n\\t        </div>\\n\\t        \\n\\t        <a href=\"en/result/49/volkswagen-golf-%2B-7-airbags\" class=\"btn-mas\">See more</a>\\n\\n\\n\\n\\t\\t\\t<!-- ACLARACIÃ\\x93N -->\\n\\t               \\n\\t    \\n\\t    </div>   \\n\\t    \\n\\t    \\n\\t      \\n\\t    \\n\\t\\t\\t    <div class=\"fila \">\\n\\t    \\t<div class=\"colum colum-200\">\\n\\t        \\t<h3>Volkswagen up! + 2 Airbags</h3>\\n\\t        </div>\\n\\t        <div class=\"colum\">\\n\\t        January-2014\\t        </div>\\n\\t        \\n\\t        \\t        <div class=\"colum colum-240 adulto\">\\n\\t        \\t<div class=\"ico-1 old\"></div>\\n\\t            \\t\\t\\t\\t\\t<div class=\"estrella-act old\"></div>\\n\\t\\t\\t\\t\\t\\t\\t\\t\\t<div class=\"estrella-act old\"></div>\\n\\t\\t\\t\\t\\t\\t\\t\\t\\t<div class=\"estrella-act old\"></div>\\n\\t\\t\\t\\t\\t\\t\\t\\t\\t<div class=\"estrella-act old\"></div>\\n\\t\\t\\t\\t\\t\\t\\t\\t\\t<div class=\"estrella-act old\"></div>\\n\\t\\t\\t\\t\\t            <span class=\"detalle-ch\">15.86 max. 17.00 </span>\\n\\t        </div>\\n\\t        \\n\\t        <div class=\"colum colum-240 nino\">\\n\\t        \\t<div class=\"ico-2 old\"></div>\\n\\t            \\t\\t\\t\\t\\t<div class=\"estrella-act old\"></div>\\n\\t\\t\\t\\t\\t\\t\\t\\t\\t<div class=\"estrella-act old\"></div>\\n\\t\\t\\t\\t\\t\\t\\t\\t\\t<div class=\"estrella-act old\"></div>\\n\\t\\t\\t\\t\\t\\t\\t\\t\\t<div class=\"estrella-act old\"></div>\\n\\t\\t\\t\\t\\t\\t\\t\\t\\t<div class=\"estrella old\"></div>\\n\\t\\t\\t\\t\\t            <span class=\"detalle-ch\">39.54 max. 49.00 </span>\\n\\t        \\n\\t        \\n\\t        </div>\\n\\t        \\n\\t        <a href=\"en/result/41/volkswagen-up-%2B-2-airbags\" class=\"btn-mas\">See more</a>\\n\\n\\n\\n\\t\\t\\t<!-- ACLARACIÃ\\x93N -->\\n\\t               \\n\\t    \\n\\t    </div>   \\n\\t    \\n\\t    \\n\\t      \\n\\t    \\n\\t\\t\\t    <div class=\"fila \">\\n\\t    \\t<div class=\"colum colum-200\">\\n\\t        \\t<h3>Volkswagen Jetta / Vento + 2 Airbags</h3>\\n\\t        </div>\\n\\t        <div class=\"colum\">\\n\\t        November-2013\\t        </div>\\n\\t        \\n\\t        \\t        <div class=\"colum colum-240 adulto\">\\n\\t        \\t<div class=\"ico-1 old\"></div>\\n\\t            \\t\\t\\t\\t\\t<div class=\"estrella-act old\"></div>\\n\\t\\t\\t\\t\\t\\t\\t\\t\\t<div class=\"estrella-act old\"></div>\\n\\t\\t\\t\\t\\t\\t\\t\\t\\t<div class=\"estrella-act old\"></div>\\n\\t\\t\\t\\t\\t\\t\\t\\t\\t<div class=\"estrella-act old\"></div>\\n\\t\\t\\t\\t\\t\\t\\t\\t\\t<div class=\"estrella-act old\"></div>\\n\\t\\t\\t\\t\\t            <span class=\"detalle-ch\">15.34 max. 17.00 </span>\\n\\t        </div>\\n\\t        \\n\\t        <div class=\"colum colum-240 nino\">\\n\\t        \\t<div class=\"ico-2 old\"></div>\\n\\t            \\t\\t\\t\\t\\t<div class=\"estrella-act old\"></div>\\n\\t\\t\\t\\t\\t\\t\\t\\t\\t<div class=\"estrella-act old\"></div>\\n\\t\\t\\t\\t\\t\\t\\t\\t\\t<div class=\"estrella-act old\"></div>\\n\\t\\t\\t\\t\\t\\t\\t\\t\\t<div class=\"estrella-act old\"></div>\\n\\t\\t\\t\\t\\t\\t\\t\\t\\t<div class=\"estrella old\"></div>\\n\\t\\t\\t\\t\\t            <span class=\"detalle-ch\">39.20 max. 49.00 </span>\\n\\t        \\n\\t        \\n\\t        </div>\\n\\t        \\n\\t        <a href=\"en/result/40/volkswagen-jetta--vento-%2B-2-airbags\" class=\"btn-mas\">See more</a>\\n\\n\\n\\n\\t\\t\\t<!-- ACLARACIÃ\\x93N -->\\n\\t               \\n\\t    \\n\\t    </div>   \\n\\t    \\n\\t    \\n\\t      \\n\\t    \\n\\t\\t\\t    <div class=\"fila \">\\n\\t    \\t<div class=\"colum colum-200\">\\n\\t        \\t<h3>Volkswagen ClÃ¡sico (Bora) + 2 Airbags</h3>\\n\\t        </div>\\n\\t        <div class=\"colum\">\\n\\t        August-2012\\t        </div>\\n\\t        \\n\\t        \\t        <div class=\"colum colum-240 adulto\">\\n\\t        \\t<div class=\"ico-1 old\"></div>\\n\\t            \\t\\t\\t\\t\\t<div class=\"estrella-act old\"></div>\\n\\t\\t\\t\\t\\t\\t\\t\\t\\t<div class=\"estrella-act old\"></div>\\n\\t\\t\\t\\t\\t\\t\\t\\t\\t<div class=\"estrella-act old\"></div>\\n\\t\\t\\t\\t\\t\\t\\t\\t\\t<div class=\"estrella old\"></div>\\n\\t\\t\\t\\t\\t\\t\\t\\t\\t<div class=\"estrella old\"></div>\\n\\t\\t\\t\\t\\t            <span class=\"detalle-ch\">10.27 max. 16.00 </span>\\n\\t        </div>\\n\\t        \\n\\t        <div class=\"colum colum-240 nino\">\\n\\t        \\t<div class=\"ico-2 old\"></div>\\n\\t            \\t\\t\\t\\t\\t<div class=\"estrella-act old\"></div>\\n\\t\\t\\t\\t\\t\\t\\t\\t\\t<div class=\"estrella-act old\"></div>\\n\\t\\t\\t\\t\\t\\t\\t\\t\\t<div class=\"estrella-act old\"></div>\\n\\t\\t\\t\\t\\t\\t\\t\\t\\t<div class=\"estrella old\"></div>\\n\\t\\t\\t\\t\\t\\t\\t\\t\\t<div class=\"estrella old\"></div>\\n\\t\\t\\t\\t\\t            <span class=\"detalle-ch\">35.82 max. 49.00 </span>\\n\\t        \\n\\t        \\n\\t        </div>\\n\\t        \\n\\t        <a href=\"en/result/24/volkswagen-cla-sico-bora-%2B-2-airbags\" class=\"btn-mas\">See more</a>\\n\\n\\n\\n\\t\\t\\t<!-- ACLARACIÃ\\x93N -->\\n\\t               \\n\\t    \\n\\t    </div>   \\n\\t    \\n\\t    \\n\\t      \\n\\t    \\n\\t\\t\\t    <div class=\"fila \">\\n\\t    \\t<div class=\"colum colum-200\">\\n\\t        \\t<h3>Volkswagen Polo + 2 Airbags</h3>\\n\\t        </div>\\n\\t        <div class=\"colum\">\\n\\t        August-2012\\t        </div>\\n\\t        \\n\\t        \\t        <div class=\"colum colum-240 adulto\">\\n\\t        \\t<div class=\"ico-1 old\"></div>\\n\\t            \\t\\t\\t\\t\\t<div class=\"estrella-act old\"></div>\\n\\t\\t\\t\\t\\t\\t\\t\\t\\t<div class=\"estrella-act old\"></div>\\n\\t\\t\\t\\t\\t\\t\\t\\t\\t<div class=\"estrella-act old\"></div>\\n\\t\\t\\t\\t\\t\\t\\t\\t\\t<div class=\"estrella-act old\"></div>\\n\\t\\t\\t\\t\\t\\t\\t\\t\\t<div class=\"estrella old\"></div>\\n\\t\\t\\t\\t\\t            <span class=\"detalle-ch\">11.34 max. 16.00 </span>\\n\\t        </div>\\n\\t        \\n\\t        <div class=\"colum colum-240 nino\">\\n\\t        \\t<div class=\"ico-2 old\"></div>\\n\\t            \\t\\t\\t\\t\\t<div class=\"estrella-act old\"></div>\\n\\t\\t\\t\\t\\t\\t\\t\\t\\t<div class=\"estrella-act old\"></div>\\n\\t\\t\\t\\t\\t\\t\\t\\t\\t<div class=\"estrella-act old\"></div>\\n\\t\\t\\t\\t\\t\\t\\t\\t\\t<div class=\"estrella old\"></div>\\n\\t\\t\\t\\t\\t\\t\\t\\t\\t<div class=\"estrella old\"></div>\\n\\t\\t\\t\\t\\t            <span class=\"detalle-ch\">36.95 max. 49.00 </span>\\n\\t        \\n\\t        \\n\\t        </div>\\n\\t        \\n\\t        <a href=\"en/result/25/volkswagen-polo-%2B-2-airbags\" class=\"btn-mas\">See more</a>\\n\\n\\n\\n\\t\\t\\t<!-- ACLARACIÃ\\x93N -->\\n\\t               \\n\\t    \\n\\t    </div>   \\n\\t    \\n\\t    \\n\\t      \\n\\t    \\n\\t\\t\\t    <div class=\"fila \">\\n\\t    \\t<div class=\"colum colum-200\">\\n\\t        \\t<h3>Volkswagen Gol Trend 1.6 + 2 Airbags</h3>\\n\\t        </div>\\n\\t        <div class=\"colum\">\\n\\t        August-2010\\t        </div>\\n\\t        \\n\\t        \\t        <div class=\"colum colum-240 adulto\">\\n\\t        \\t<div class=\"ico-1 old\"></div>\\n\\t            \\t\\t\\t\\t\\t<div class=\"estrella-act old\"></div>\\n\\t\\t\\t\\t\\t\\t\\t\\t\\t<div class=\"estrella-act old\"></div>\\n\\t\\t\\t\\t\\t\\t\\t\\t\\t<div class=\"estrella-act old\"></div>\\n\\t\\t\\t\\t\\t\\t\\t\\t\\t<div class=\"estrella old\"></div>\\n\\t\\t\\t\\t\\t\\t\\t\\t\\t<div class=\"estrella old\"></div>\\n\\t\\t\\t\\t\\t            <span class=\"detalle-ch\">10.01 max. 16.00 </span>\\n\\t        </div>\\n\\t        \\n\\t        <div class=\"colum colum-240 nino\">\\n\\t        \\t<div class=\"ico-2 old\"></div>\\n\\t            \\t\\t\\t\\t\\t<div class=\"estrella-act old\"></div>\\n\\t\\t\\t\\t\\t\\t\\t\\t\\t<div class=\"estrella-act old\"></div>\\n\\t\\t\\t\\t\\t\\t\\t\\t\\t<div class=\"estrella old\"></div>\\n\\t\\t\\t\\t\\t\\t\\t\\t\\t<div class=\"estrella old\"></div>\\n\\t\\t\\t\\t\\t\\t\\t\\t\\t<div class=\"estrella old\"></div>\\n\\t\\t\\t\\t\\t            <span class=\"detalle-ch\">21.16 max. 49.00 </span>\\n\\t        \\n\\t        \\n\\t        </div>\\n\\t        \\n\\t        <a href=\"en/result/4/volkswagen-gol-trend-16-%2B-2-airbags\" class=\"btn-mas\">See more</a>\\n\\n\\n\\n\\t\\t\\t<!-- ACLARACIÃ\\x93N -->\\n\\t               \\n\\t    \\n\\t    </div>   \\n\\t    \\n\\t    \\n\\t      \\n\\t    \\n\\t\\t\\t    <div class=\"fila \">\\n\\t    \\t<div class=\"colum colum-200\">\\n\\t        \\t<h3>Volkswagen Gol Trend 1.6 - NO Airbags</h3>\\n\\t        </div>\\n\\t        <div class=\"colum\">\\n\\t        August-2010\\t        </div>\\n\\t        \\n\\t        \\t        <div class=\"colum colum-240 adulto\">\\n\\t        \\t<div class=\"ico-1 old\"></div>\\n\\t            \\t\\t\\t\\t\\t<div class=\"estrella-act old\"></div>\\n\\t\\t\\t\\t\\t\\t\\t\\t\\t<div class=\"estrella old\"></div>\\n\\t\\t\\t\\t\\t\\t\\t\\t\\t<div class=\"estrella old\"></div>\\n\\t\\t\\t\\t\\t\\t\\t\\t\\t<div class=\"estrella old\"></div>\\n\\t\\t\\t\\t\\t\\t\\t\\t\\t<div class=\"estrella old\"></div>\\n\\t\\t\\t\\t\\t            <span class=\"detalle-ch\">5.75 max. 16.00 </span>\\n\\t        </div>\\n\\t        \\n\\t        <div class=\"colum colum-240 nino\">\\n\\t        \\t<div class=\"ico-2 old\"></div>\\n\\t            \\t\\t\\t\\t\\t<div class=\"estrella-act old\"></div>\\n\\t\\t\\t\\t\\t\\t\\t\\t\\t<div class=\"estrella-act old\"></div>\\n\\t\\t\\t\\t\\t\\t\\t\\t\\t<div class=\"estrella old\"></div>\\n\\t\\t\\t\\t\\t\\t\\t\\t\\t<div class=\"estrella old\"></div>\\n\\t\\t\\t\\t\\t\\t\\t\\t\\t<div class=\"estrella old\"></div>\\n\\t\\t\\t\\t\\t            <span class=\"detalle-ch\">18.89 max. 49.00 </span>\\n\\t        \\n\\t        \\n\\t        </div>\\n\\t        \\n\\t        <a href=\"en/result/7/volkswagen-gol-trend-16-no-airbags\" class=\"btn-mas\">See more</a>\\n\\n\\n\\n\\t\\t\\t<!-- ACLARACIÃ\\x93N -->\\n\\t               \\n\\t    \\n\\t    </div>   \\n\\t    \\n\\t    \\n\\t      \\n\\t    \\n\\t\\t\\n\\t\\t\\n\\t    <!-- FILA -->\\n\\n\\t    \\n\\t</div><!-- FIN TABLA -->\\n</div>\\n\\n\\t\\t</section>\\n\\n\\n\\n\\n    </div> <!--FIN COL-75 -->\\n   \\n\\t\\n    \\n    \\n\\n</div>\\n\\n\\n\\n<script>\\n\\t\\n\\t$(function(){\\n\\t\\t\\n\\n\\t//Dropdowns\\n\\t$(\\'#marca\\').change(function(){\\n\\t\\tvar car_brand = $(this).val();\\n\\t\\tvar clase = \\'car_brand_\\'+car_brand;\\n\\t\\t\\n\\t\\tif(car_brand!=\\'\\'){\\n\\t\\t\\t$(\\'#modelo item:gt(0)\\').css(\\'display\\',\\'none\\');\\n\\t\\t\\t$(\\'#modelo item.\\'+clase).removeAttr(\\'style\\');\\n\\t\\t\\tif(!$(\\'#modelo option:selected\\').hasClass(car_brand)){\\n\\t\\t\\t\\t$(\\'#modelo option:selected\\').removeProp(\\'selected\\',true);\\n\\t\\t\\t\\t$(\\'#modelo option:first-child\\').prop(\\'selected\\',true);\\n\\t\\t\\t}\\t\\t\\t\\t\\n\\t\\t}else{\\n\\t\\t\\t$(\\'#modelo option\\').removeAttr(\\'style\\');\\n\\t\\t}\\n\\t\\t\\n\\t});\\t\\n\\t\\n\\t$(\\'#marca\\').dropdown({\\n\\t\\tplaceholder: false,\\n\\t\\tonChange: function(value, text, $selectedItem) {\\n\\t\\t\\t  if(value!=\\'\\'){\\n\\t\\t\\t\\t  $(\\'#modelo .item\\').each(function(){\\n\\t\\t\\t\\t\\tif(!$(this).hasClass(\\'default\\')){\\n\\t\\t\\t\\t\\t\\t$(this).css(\\'display\\',\\'none\\');\\n\\t\\t\\t\\t\\t}\\n\\t\\t\\t\\t  });\\n\\t\\t\\t\\t  \\n\\t\\t\\t\\t  $(\\'#modelo .item.car_brand_\\'+value).removeAttr(\\'style\\');\\n\\t\\t\\t\\t  $(\\'#modelo\\').dropdown(\\'set selected\\',\\'\\');\\n\\t\\t\\t  }else{\\n\\t\\t\\t\\t  $(\\'#modelo .item\\').removeAttr(\\'style\\');\\n\\t\\t\\t\\t  $(\\'#modelo\\').dropdown(\\'set selected\\',\\'\\');\\t \\n\\t\\t\\t  }\\n\\t\\t}\\n\\t});\\n\\n\\t$(\\'#marca, #modelo\\').change(function(){\\n\\t\\tgetResults();\\n\\t});\\n\\t\\n\\n\\n\\t\\n\\n\\t\\n\\t\\n\\t//Raitings\\n\\tvar est = $(\\'#est\\');\\n\\tvar est_a = $(\\'#est_a\\');\\n\\tvar est_c = $(\\'#est_c\\');\\n\\tvar est_a20 = $(\\'#est_a20\\');\\n\\t\\n\\t\\n\\t$(\\'.ui.rating\\').rating({\\n\\t\\tinitialRating: 0,\\n\\t\\tmaxRating: 5,\\n\\t\\tclearable: true/*,\\n\\t\\tonRate: function(value){\\n\\t\\t\\tvar activar = $(this).closest(\\'.cont-chk-estrella\\').find(\\'.activador\\').prop(\\'checked\\',true);\\n\\t\\t}*/\\n\\n\\t  });\\n\\t  \\n\\t  $(\\'.ui.rating\\').rating(\\'setting\\',\\'onRate\\',function(value){\\n\\t\\t\\t$(this).closest(\\'.cont-chk-estrella\\').find(\\'.activador\\').prop(\\'checked\\',true);\\n\\t  });\\n\\t  \\n\\t  //$(\\'.activador\\').prop(\\'checked\\',false);\\n\\t  $(\\'.activador\\').click(\\n\\t  \\tfunction(){\\n\\t\\t\\tvar state = $(this).prop(\\'checked\\');\\n\\t\\t\\tvar stars = $(this).closest(\\'.cont-chk-estrella\\').find(\\'.ui.rating\\');\\n\\t\\t\\tif(!state){\\n\\t\\t\\t\\tstars.rating(\\'clear rating\\');\\n\\t\\t\\t\\t$(this).prop(\\'checked\\',false);\\n\\t\\t\\t}\\n\\t\\t\\t\\n\\t\\t}\\n\\t  );\\n\\t//--------\\n\\t\\n\\t$(\\'.ico-1,.ico-2\\').popup({inline:true, on: \\'hover\\', movePopup: false, hovereable: false, position : \\'top center\\'});\\n\\n\\t$(\\'.ico-uncheck-star\\').popup({inline:true, on: \\'hover\\', movePopup: false, hovereable: false, position : \\'top center\\'});\\n\\t\\t\\n\\t$(\\'.cont-chk-estrella input[type=\"checkbox\"]\\').click(\\n\\t\\tfunction(){\\n\\t\\t\\tvar valor = $(this).val();\\n\\t\\t\\tvar clase = \\'.\\'+$(this).attr(\\'class\\').replace(\\' check\\',\\'\\');\\n\\t\\t\\tvar cuantos = $(clase+\\':checked\\').length;\\n\\t\\t\\tif(cuantos>1 || valor!=1){\\n\\t\\t\\t\\tcuenta(clase,valor);\\n\\t\\t\\t}\\n\\t\\t}\\n\\t);\\n\\t\\n\\t$(\\'#todos\\').click(\\n\\t\\tfunction(){\\n\\t\\t\\tif($(this).prop(\\'checked\\')){\\n\\t\\t\\t\\t$(\\'.ano\\').prop(\\'checked\\',true);\\n\\t\\t\\t}else{\\n\\t\\t\\t\\t$(\\'.ano\\').prop(\\'checked\\',false);\\n\\t\\t\\t}\\n\\t\\t}\\n\\t);\\n\\t\\n\\t$(\\'.ano\\').click(\\n\\t\\tfunction(){\\n\\t\\t\\tvar total = $(\\'.ano\\').length;\\n\\t\\t\\tvar activos = checks();\\n\\t\\t\\tif(total==activos){\\n\\t\\t\\t\\t$(\\'#todos\\').prop(\\'checked\\',true);\\t\\n\\t\\t\\t}else{\\n\\t\\t\\t\\t$(\\'#todos\\').prop(\\'checked\\',false);\\n\\t\\t\\t}\\n\\t\\t}\\n\\t);\\t\\t\\n\\t\\n\\t\\n\\t$(\\'.botonera a\\').click(function(e){\\n\\t\\te.preventDefault();\\n\\n\\t\\tvar proto_class = $(this).hasClass(\\'a19\\') ? \\'.a19\\' : \\'.a15\\';\\n\\t\\tif($(this).hasClass(\\'activo\\')){\\n\\n\\t\\t\\t$(this).removeClass(\\'activo\\');\\n\\n\\t\\t}else{\\n\\t\\t\\tif($(this).hasClass(\\'btn-gris\\')){\\n\\n\\t\\t\\t\\t$(\\'.btn-gris\\' + proto_class).removeClass(\\'activo\\');\\n\\n\\t\\t\\t}else{\\n\\n\\t\\t\\t\\t$(\\'.btn-orden\\' + proto_class + \\' .orden\\').removeClass(\\'activo\\');\\n\\t\\t\\t}\\n\\n\\t\\t\\t$(this).addClass(\\'activo\\');\\n\\t\\t}\\n\\t\\t\\n\\t\\tgetResults();\\n\\t});\\n\\n\\t$(\\'.cont-ordenar .btn-orden-a20\\').click(function(e){\\n\\n\\t\\tif(!$(this).hasClass(\\'activo\\')){\\n\\n\\t\\t\\t$(\\'.cont-ordenar .btn-orden-a20\\').removeClass(\\'activo\\');\\n\\t\\t\\t$(\\'.cont-ordenar .btn-orden-a20 .orden\\').removeClass(\\'activo\\');\\n\\t\\t\\t$(this).addClass(\\'activo\\');\\n\\t\\t\\t$(this).find(\\'.orden\\').addClass(\\'activo\\');\\n\\t\\t}else{\\n\\n\\t\\t\\tif($(this).find(\\'.orden\\').hasClass(\\'asc\\')){\\n\\n\\t\\t\\t\\t$(this).find(\\'.orden\\').removeClass(\\'asc\\');\\n\\t\\t\\t\\t$(this).find(\\'.orden\\').addClass(\\'desc\\');\\n\\t\\t\\t\\t$(this).find(\\'.orden\\').attr(\\'data-orden\\', \\'desc\\')\\n\\t\\t\\t}else{\\n\\n\\t\\t\\t\\t$(this).find(\\'.orden\\').removeClass(\\'desc\\');\\n\\t\\t\\t\\t$(this).find(\\'.orden\\').addClass(\\'asc\\');\\n\\t\\t\\t\\t$(this).find(\\'.orden\\').attr(\\'data-orden\\', \\'asc\\')\\n\\t\\t\\t}\\n\\t\\t}\\n\\t\\t\\n\\t\\tgetResults();\\n\\t});\\n\\t\\n\\t$(\\'.ano, #todos, #act, #act_a, #act_c, #act_a20, #est, #est_a, #est_c, #est_a20\\').click(function(){\\n\\t\\tsetTimeout(function(){getResults();},200);\\n\\t});\\n\\t\\n\\t\\n\\n\\tvar buscador_timer_id;\\n\\n\\t$(\\'#buscador_txt\\').keyup(function(){\\n\\n\\t\\tif(buscador_timer_id){\\n\\t\\t\\tclearTimeout(buscador_timer_id);\\n\\t\\t}\\n\\n\\t\\tif(this.value.length > 2 || this.value.length == 0){\\n\\n\\t\\t\\tbuscador_timer_id = setTimeout(function(){\\n\\n\\t\\t\\t\\tgetResults();\\n\\t\\t\\t}, 500);\\n\\t\\t}\\n\\t});\\n\\n\\t/* acordeones */\\n\\t$(\\'.item-acordeon-r\\').click(function (){\\n\\n\\t\\tvar id = $(this).parent(\\'.acordeon\\').attr(\\'id\\');\\n\\t\\tvar protocolo = $(this).data(\\'protocolo\\');\\n\\n\\t\\tconsole.log(protocolo)\\n\\t\\t\\n\\t\\tif ($(this).hasClass(\\'activo\\')) {\\n\\n\\t\\t   $(this).removeClass(\\'activo\\');\\n\\t\\t   $(this).next().slideUp();\\n\\t\\t   $(this).next(\\'.content-r\\').removeClass(\\'activo\\');\\n\\t\\t   \\n\\t\\t} else {\\n\\t\\t\\t// $(\\'.item-acordeon-r\\').removeClass(\\'activo\\');\\n\\t\\t\\t// $(\\'.content-r\\').removeClass(\\'activo\\').slideUp();\\n\\n\\t\\t\\tvar acor = $(this);\\n\\n\\t\\t\\tsetTimeout(function(){\\n\\n\\t\\t\\t   acor.addClass(\\'activo\\');\\n\\t\\t\\t   acor.next().slideDown();\\n\\t\\t\\t   acor.next().addClass(\\'activo\\');  \\n\\n\\t\\t\\t   getResults();\\n\\t\\t\\t}, 200);\\n\\t\\t    \\n\\t\\t}\\n\\t});\\n\\n\\t//$(\\'.modelo_comp\\').dropdown();\\n\\t//---------\\n});\\n\\n\\nfunction cuenta(clase, valor){\\n\\t\\t$(clase).each(function(){\\n\\t\\t\\tif($(this).val()<=valor){\\n\\t\\t\\t\\t$(this).prop(\\'checked\\',\\'checked\\');\\n\\t\\t\\t}else{\\n\\t\\t\\t\\t$(this).removeProp(\\'checked\\');\\n\\t\\t\\t}\\n\\t\\t});\\n\\t}\\n\\t\\n\\tfunction checks(){\\n\\t\\tvar total = 0;\\n\\t\\t$(\\'.ano\\').each(function(){\\n\\t\\t\\tif($(this).prop(\\'checked\\')){\\n\\t\\t\\t\\ttotal++;\\n\\t\\t\\t}\\n\\t\\t});\\n\\t\\treturn total;\\n\\t}\\n\\n\\tfunction getResults(){\\n\\n\\t\\tvar protocolo = [];\\n\\n\\t\\t$(\\'.item-acordeon-r.activo\\').each(function(){\\n\\n\\t\\t\\tprotocolo.push($(this).data(\\'protocolo\\'));\\n\\t\\t});\\n\\n\\t\\tvar orden = [], por = [];\\n\\n\\t\\tprotocolo.forEach( function(proto, index) {\\n\\t\\t\\t\\n\\t\\t\\t$(\\'.item-acordeon-r[data-protocolo=\"\\'+proto+\\'\"]+div.content-r .btn-orden\\' + (proto == \\'a20\\' ? \\'-\\' + proto : \\'\\') + \\' .orden\\').each(function(index, el) {\\n\\n\\t\\t\\t\\tif($(this).hasClass(\\'activo\\')){\\n\\n\\t\\t\\t\\t\\torden[proto] = $(this).attr(\\'data-orden\\');\\n\\t\\t\\t\\t}\\n\\t\\t\\t});\\n\\t\\t\\t$(\\'.item-acordeon-r[data-protocolo=\"\\'+proto+\\'\"]+div.content-r \\' + (proto == \\'a20\\' ? \\'.btn-orden-a20\\' : \\'.btn-gris\\')).each(function(index, el) {\\n\\n\\t\\t\\t\\tif($(this).hasClass(\\'activo\\')){\\n\\n\\t\\t\\t\\t\\tpor[proto] = $(this).attr(\\'data-orden\\');\\n\\t\\t\\t\\t}\\n\\t\\t\\t});\\n\\t\\t});\\n\\n\\t\\tvar car_brand = $(\\'#marca\\').val();\\n\\t\\tvar model = $(\\'input[name=\"modelo\"]\\').val();\\n\\t\\tvar buscador_txt = $(\\'input[name=\"buscador_txt\"]\\').val();\\n\\t\\tvar ano = \\'\\';\\n\\t\\tvar est = \\'\\';\\n\\t\\t\\n\\t\\t//console.log(\\'--->\\'+$(\\'#todos\\').prop(\\'checked\\'));\\n\\t\\tif($(\\'#todos\\').prop(\\'checked\\')){\\n\\t\\t\\tano = \\'\\';\\n\\t\\t}else{\\n\\t\\t\\t$(\\'.ano\\').each(function(){\\n\\t\\t\\t\\tif($(this).prop(\\'checked\\')){\\n\\t\\t\\t\\t\\tano += $(this).val()+\\',\\';\\n\\t\\t\\t\\t}\\n\\t\\t\\t});\\n\\t\\t\\tano = ano.replace(/,\\\\s*$/, \"\");\\n\\t\\t}\\n\\n\\t\\tif($(\\'#act\\').is(\\':checked\\')){\\n\\t\\t\\test = $(\\'#est\\').rating(\\'get rating\\');\\n\\t\\t}\\n\\n\\t\\tprotocolo = protocolo.join(\\',\\');\\n\\t\\t// orden = orden.join(\\',\\');\\n\\t\\t// por = por.join(\\',\\');\\n\\n\\t\\t$.post(\\n\\t\\t\\t\\'get_res.php\\',\\n\\t\\t\\t{\\n\\t\\t\\t\\tlg: \\'en\\',\\n\\t\\t\\t\\torden_a20: orden[\\'a20\\'],\\n\\t\\t\\t\\torden_a19: orden[\\'a19\\'],\\n\\t\\t\\t\\torden_a15: orden[\\'a15\\'],\\n\\t\\t\\t\\tpor_a20: por[\\'a20\\'],\\n\\t\\t\\t\\tpor_a19: por[\\'a19\\'],\\n\\t\\t\\t\\tpor_a15: por[\\'a15\\'],\\n\\t\\t\\t\\tcar_brand: car_brand,\\n\\t\\t\\t\\tmodel: model,\\n\\t\\t\\t\\tano: ano,\\n\\t\\t\\t\\testrellas: est,\\n\\t\\t\\t\\tbuscador_txt:buscador_txt,\\n\\t\\t\\t\\tprotocolo: protocolo\\n\\t\\t\\t},\\n\\t\\t\\tfunction(response){\\n\\n\\t\\t\\t\\tfor (proto in response) {\\n\\n\\t\\t\\t\\t\\t$(\\'.caja-tabla-r\\' + \\'.\\' + proto).html(\\'\\');\\n\\t\\t\\t\\t\\tvar img_marca_old = \\'\\';\\n\\n\\t\\t\\t\\t\\tif(response[proto].success){\\n\\n\\t\\t\\t\\t\\t\\tresponse[proto].data.forEach( function(item, index) {\\n\\n\\t\\t\\t\\t\\t\\t\\tvar $div_header_marca = $(\\'<div class=\"fila fila-tit\"><img class=\"img-marca\" src=\"\\' + item.img_marca + \\'\" width=\"65\"><span class=\"tit-marca\">\\' + item.tit_marca + \\'</span></div>\\');\\n\\t\\t\\t\\t\\t\\t\\tif(img_marca_old != item.img_marca){\\n\\n\\t\\t\\t\\t\\t\\t\\t\\t$(\\'.caja-tabla-r\\' + \\'.\\' + proto).append($div_header_marca);\\n\\t\\t\\t\\t\\t\\t\\t\\timg_marca_old = item.img_marca;\\n\\t\\t\\t\\t\\t\\t\\t}\\n\\n\\t\\t\\t\\t\\t\\t\\tvar $div_fila = $(\\'<div class=\"fila \\' + (proto == \\'a20\\' ? \\'fila-2020\\' : \\'\\') + \\' \\' + (item.txt != \\'\\' ? \\'aclaracion\\' : \\'\\') + \\'\"></div>\\');\\n\\t\\t\\t\\t\\t\\t\\t$div_fila.append(\\'<div class=\"colum colum-200\"><h3>\\' + item.nombre + \\'</h3></div>\\');\\n\\t\\t\\t\\t\\t\\t\\t$div_fila.append(\\'<div class=\"colum\">\\' + item.fecha_autos + \\'</div>\\');\\n\\n\\t\\t\\t\\t\\t\\t\\tvar $div_col_1 = $(\\'<div class=\"colum \\' + (proto != \\'a20\\' ? \\'colum-240 adulto\\' : \\'\\') + \\'\"></div>\\');\\n\\t\\t\\t\\t\\t\\t\\tif(proto != \\'a20\\'){\\n\\t\\t\\t\\t\\t\\t\\t\\t$div_col_1.append(\\'<div class=\"ico-1 \\' + item.old_class + \\'\"></div>\\');\\n\\t\\t\\t\\t\\t\\t\\t}\\n\\t\\t\\t\\t\\t\\t\\tfor (var i = 1; i <= 5; i++) {\\n\\n\\t\\t\\t\\t\\t\\t\\t\\tstar_adult = parseInt(proto == \\'a20\\' ? item.a20_main_stars : item.star_adult);\\n\\t\\t\\t\\t\\t\\t\\t\\tact_class = i <= star_adult ? \\'-act\\' : \\'\\';\\n\\t\\t\\t\\t\\t\\t\\t\\t\\n\\t\\t\\t\\t\\t\\t\\t\\t$div_col_1.append(\\'<div class=\"estrella\\' + act_class + \\' \\' + item.old_class + \\'\"></div>\\');\\n\\t\\t\\t\\t\\t\\t\\t}\\n\\t\\t\\t\\t\\t\\t\\tif(proto != \\'a20\\'){\\n\\t\\t\\t\\t\\t\\t\\t\\t$div_col_1.append(\\'<span class=\"detalle-ch\">\\' + item.score_adult + \\' max. \\' + item.protocolo_a_max + \\' </span>\\');\\n\\t\\t\\t\\t\\t\\t\\t}\\n\\t\\t\\t\\t\\t\\t\\t$div_fila.append($div_col_1);\\n\\n\\t\\t\\t\\t\\t\\t\\tif(proto != \\'a20\\'){\\n\\t\\t\\t\\t\\t\\t\\t\\tvar $div_col_2 = $(\\'<div class=\"colum colum-240 nino\"><div class=\"ico-2 \\' + item.old_class + \\'\"></div></div></div>\\');\\n\\t\\t\\t\\t\\t\\t\\t\\tfor (var i = 1; i <= 5; i++) {\\n\\n\\t\\t\\t\\t\\t\\t\\t\\t\\tstar_child = parseInt(proto == \\'a20\\' ? item.a20_main_stars : item.star_child);\\n\\t\\t\\t\\t\\t\\t\\t\\t\\tact_class = i <= star_child ? \\'-act\\' : \\'\\';\\n\\t\\t\\t\\t\\t\\t\\t\\t\\t\\n\\t\\t\\t\\t\\t\\t\\t\\t\\t$div_col_2.append(\\'<div class=\"estrella\\' + act_class + \\' \\' + item.old_class + \\'\"></div>\\');\\n\\t\\t\\t\\t\\t\\t\\t\\t}\\n\\t\\t\\t\\t\\t\\t\\t\\t$div_col_2.append(\\'<span class=\"detalle-ch\">\\' + item.score_child + \\' max. \\' + item.protocolo_c_max + \\' </span>\\');\\n\\t\\t\\t\\t\\t\\t\\t}else{\\n\\n\\t\\t\\t\\t\\t\\t\\t\\tvar $div_col_2 = $(\\'<div class=\"colum\"></div>\\');\\n\\t\\t\\t\\t\\t\\t\\t\\t$div_col_2.append(\\'<div class=\"porcentaje adulto\">\\' + item.a20_percentage_a + \\'%</div><div class=\"porcentaje nino\">\\' + item.a20_percentage_c + \\'%</div><div class=\"porcentaje usuarios\">\\' + item.a20_percentage_p + \\'%</div><div class=\"porcentaje asistentes\">\\' + item.a20_percentage_s + \\'%</div>\\');\\n\\t\\t\\t\\t\\t\\t\\t}\\n\\n\\t\\t\\t\\t\\t\\t\\t$div_fila.append($div_col_2);\\n\\n\\t\\t\\t\\t\\t\\t\\t$div_fila.append(\\'<a href=\"\\' + item.link + \\'\" class=\"btn-mas\">\\' + item.txt_ver_mas + \\'</a>\\');\\n\\n\\t\\t\\t\\t\\t\\t\\tif(item.txt != \\'\\'){\\n\\n\\t\\t\\t\\t\\t\\t\\t\\t$div_fila.append(\\'<div class=\"caja-aclaracion-resultados\"><p>\\' + item.txt + \\'</p></div>\\');\\n\\t\\t\\t\\t\\t\\t\\t}\\n\\n\\t\\t\\t\\t\\t\\t\\t$(\\'.caja-tabla-r\\' + \\'.\\' + proto).append($div_fila);\\n\\t\\t\\t\\t\\t\\t});\\n\\n\\t\\t\\t\\t\\t}else{\\n\\n\\t\\t\\t\\t\\t\\t$(\\'.caja-tabla-r\\' + \\'.\\' + proto).append(response[proto].msg);\\n\\t\\t\\t\\t\\t}\\n\\n\\t\\t\\t\\t\\t$(\\'.caja-tabla-r\\' + \\'.\\' + proto).slideDown();\\n\\t\\t\\t\\t\\t$(\\'.caja-tabla-r\\' + \\'.\\' + proto).addClass(\\'activo\\');  \\n\\t\\t\\t\\t\\t$(\\'.item-acordeon-r[data-protocolo=\"\\'+proto+\\'\"]\\').addClass(\\'activo\\');  \\n\\t\\t\\t    }\\n\\t\\t\\t},\\n\\t\\t\\t\\'json\\'\\n\\t\\t);\\n\\t}\\n\\n\\n</script>\\n\\n\\n    </main>\\r\\n\\r\\n\\r\\n\\r\\n\\r\\n\\r\\n\\r\\n\\r\\n\\r\\n    <!-- FOOTER -->\\r\\n    <footer class=\"footer\">\\r\\n        <div class=\"caja-logo-pie\">\\r\\n            <div class=\"center\">\\r\\n                <div class=\"lineas-footer\"></div>\\r\\n                <img class=\"img-1\" src=\"img/logo-pie-1.png\" />\\r\\n                <img src=\"img/logo-pie-2.png\" />\\r\\n            </div>\\r\\n        </div>\\r\\n\\r\\n        <div class=\"pie\">\\r\\n            <div class=\"center\">\\r\\n\\r\\n                <div class=\"caja-plugin\">\\r\\n                    <a class=\"twitter-timeline\" href=\"https://twitter.com/LatinNCAP\" data-widget-id=\"606879647087886337\">Tweets por el @LatinNCAP.</a>\\r\\n                    <script>\\r\\n                        ! function(d, s, id) {\\r\\n                            var js, fjs = d.getElementsByTagName(s)[0],\\r\\n                                p = /^http:/.test(d.location) ? \\'http\\' : \\'https\\';\\r\\n                            if (!d.getElementById(id)) {\\r\\n                                js = d.createElement(s);\\r\\n                                js.id = id;\\r\\n                                js.src = p + \"://platform.twitter.com/widgets.js\";\\r\\n                                fjs.parentNode.insertBefore(js, fjs);\\r\\n                            }\\r\\n                        }(document, \"script\", \"twitter-wjs\");\\r\\n                    </script>\\r\\n                </div>\\r\\n\\r\\n                <div class=\"caja-plugin\">\\r\\n                    <div class=\"fb-page\" data-href=\"https://www.facebook.com/vehiculosmasseguros/\" data-tabs=\"timeline\" data-width=\"690\" data-height=\"246\" data-small-header=\"true\" data-adapt-container-width=\"true\" data-hide-cover=\"false\" data-show-facepile=\"false\">\\r\\n                        <div class=\"fb-xfbml-parse-ignore\">\\r\\n                            <blockquote cite=\"https://www.facebook.com/vehiculosmasseguros/\">\\r\\n                                <a href=\"https://www.facebook.com/vehiculosmasseguros/\">Latin NCAP</a>\\r\\n                            </blockquote>\\r\\n                        </div>\\r\\n                    </div>\\r\\n                </div>\\r\\n\\r\\n                <div class=\"col-20\">\\r\\n                    <a href=\"inc_mailchimp_2.php\" class=\"btn-suscribir fbx\"><span class=\"ico-suscribir\">SUSCRIBE TO NEWSLETTER</span></a>\\r\\n\\r\\n                    <img class=\"logo-pie\" src=\"img/logo-pie.png\" />\\r\\n\\r\\n                    <span class=\"dir\">JoaquÃ\\xadn NuÃ±ez 2719 Of. 210.<br />CP 11300. Montevideo, Uruguay</span>\\r\\n                    <span class=\"tel\">+598 2716 8749</span>\\r\\n                    <span class=\"correo\"><a href=\"mailto:secretaria@latinncap.com\">secretaria@latinncap.com</a></span>\\r\\n                </div>\\r\\n            </div>\\r\\n\\r\\n            <div class=\"pie-logos\">\\r\\n                <a href=\"http://www.iadb.org/es/banco-interamericano-de-desarrollo,2837.html\" target=\"_blank\"><img src=\"img/bid.jpg\" /></a>\\r\\n                <a href=\"http://www.bloomberg.org/\" target=\"_blank\"><img src=\"img/bloomberg-philantropies.jpg\" /></a>\\r\\n                <a href=\"http://www.fiafoundation.org/\" target=\"_blank\"><img src=\"img/foundation.png\" /></a>\\r\\n                <a href=\"http://www.globalncap.org/\" target=\"_blank\"><img src=\"img/global-ncap.jpg?2\" /></a>\\r\\n                <a href=\"http://www.international-testing.org/\" target=\"_blank\"><img src=\"img/icrt.jpg\" /></a>\\r\\n            </div>\\r\\n\\r\\n        </div>\\r\\n\\r\\n    </footer>\\r\\n\\r\\n\\r\\n\\r\\n\\r\\n</body>\\r\\n\\r\\n</html>\\r\\n\\r\\n\\r\\n'"
      ]
     },
     "execution_count": 8,
     "metadata": {},
     "output_type": "execute_result"
    }
   ],
   "source": [
    "Webpage_contents\n",
    "    \n",
    "    \n"
   ]
  },
  {
   "cell_type": "code",
   "execution_count": 9,
   "id": "9d66fe4e",
   "metadata": {},
   "outputs": [
    {
     "data": {
      "text/plain": [
       "'\\r\\n<!DOCTYPE html PUBLIC \"-//W3C//DTD XHTML 1.0 Transitional//EN\" \"http://www.w3.org/TR/xhtml1/DTD/xhtml1-transitional.dtd\">\\r\\n<html xmlns=\"http://www.w3.org/1999/xhtml\">\\r\\n\\r\\n<head>\\r\\n    <meta http-equiv=\"Content-Type\" content=\"text/html; charset=utf-8\" />\\n<title>LATIN NCAP</title>\\n<base href=\"https://www.latinncap.com/\"/>\\n<link rel=\"shortcut icon\" href=\"favicon.png?1101\">\\n<link rel=\"apple-touch-icon\" href=\"apple-touch-icon-76x76.png?2581\" />\\n<link rel=\"apple-touch-icon\" href=\"apple-touch-icon-120x120.png?4543\" />\\n<link rel=\"apple-touch-icon\" href=\"apple-touch-icon-152x152.png?6276\" />\\n\\n<meta name=\"Description\" content=\"Latin NCAP is an independent assessment program for new vehicles in Latin America and the Caribbean\"> \\n<meta name=\"Keywords\" content=\"Latin NCAP, Latinncap, NCAP,New Car Assessment Programme for Latin America and the Caribbean, car safety ratings, car star rating, safety assessment for cars, crash test dummy,  crash test dummies, new car, new safe car, new vehicle, new saf'"
      ]
     },
     "execution_count": 9,
     "metadata": {},
     "output_type": "execute_result"
    }
   ],
   "source": [
    "Webpage_contents[:1000]\n"
   ]
  },
  {
   "cell_type": "code",
   "execution_count": 10,
   "id": "e888fcb0",
   "metadata": {},
   "outputs": [],
   "source": [
    "!pip install beautifulsoup4 --upgrade --quiet"
   ]
  },
  {
   "cell_type": "code",
   "execution_count": 11,
   "id": "2a35f233",
   "metadata": {},
   "outputs": [],
   "source": [
    "from bs4 import BeautifulSoup\n"
   ]
  },
  {
   "cell_type": "code",
   "execution_count": 12,
   "id": "6e914cf9",
   "metadata": {},
   "outputs": [],
   "source": [
    "doc = BeautifulSoup(Webpage_contents, 'html.parser')"
   ]
  },
  {
   "cell_type": "markdown",
   "id": "ce381e37",
   "metadata": {},
   "source": [
    "The format of data ---> Brand , Model , Date , Stars , Protection of Grown ups Occupant , Protection of Child Occupant,\n",
    "Protection of Pedestrain , vulnerable users , Safety assist systems"
   ]
  },
  {
   "cell_type": "markdown",
   "id": "c588afcb",
   "metadata": {},
   "source": [
    "# BRANDS COLUMN"
   ]
  },
  {
   "cell_type": "code",
   "execution_count": 13,
   "id": "2c3b08ba",
   "metadata": {},
   "outputs": [],
   "source": [
    "selection_class = \"tit-marca\"\n",
    "Brand_tags = doc.find_all('span',{'class': selection_class}) "
   ]
  },
  {
   "cell_type": "code",
   "execution_count": 14,
   "id": "e557bb08",
   "metadata": {},
   "outputs": [
    {
     "data": {
      "text/plain": [
       "44"
      ]
     },
     "execution_count": 14,
     "metadata": {},
     "output_type": "execute_result"
    }
   ],
   "source": [
    "len(Brand_tags)"
   ]
  },
  {
   "cell_type": "code",
   "execution_count": 15,
   "id": "7ade1af2",
   "metadata": {},
   "outputs": [
    {
     "data": {
      "text/plain": [
       "[<span class=\"tit-marca\">Fiat</span>,\n",
       " <span class=\"tit-marca\">Ford</span>,\n",
       " <span class=\"tit-marca\">Great Wall Motors</span>,\n",
       " <span class=\"tit-marca\">Hyundai</span>,\n",
       " <span class=\"tit-marca\">Kia</span>,\n",
       " <span class=\"tit-marca\">Peugeot</span>,\n",
       " <span class=\"tit-marca\">Renault</span>,\n",
       " <span class=\"tit-marca\">Suzuki</span>,\n",
       " <span class=\"tit-marca\">Toyota</span>,\n",
       " <span class=\"tit-marca\">Volkswagen</span>]"
      ]
     },
     "execution_count": 15,
     "metadata": {},
     "output_type": "execute_result"
    }
   ],
   "source": [
    "Brand_tags[:10]"
   ]
  },
  {
   "cell_type": "code",
   "execution_count": 16,
   "id": "d5814c99",
   "metadata": {},
   "outputs": [
    {
     "data": {
      "text/plain": [
       "['Fiat',\n",
       " 'Ford',\n",
       " 'Great Wall Motors',\n",
       " 'Hyundai',\n",
       " 'Kia',\n",
       " 'Peugeot',\n",
       " 'Renault',\n",
       " 'Suzuki',\n",
       " 'Toyota',\n",
       " 'Volkswagen',\n",
       " 'BYD',\n",
       " 'Chery',\n",
       " 'Chevrolet',\n",
       " 'Fiat',\n",
       " 'Ford',\n",
       " 'Hyundai',\n",
       " 'Kia',\n",
       " 'Mazda',\n",
       " 'Mitsubishi',\n",
       " 'Nissan',\n",
       " 'Peugeot',\n",
       " 'Renault',\n",
       " 'Seat',\n",
       " 'Toyota',\n",
       " 'Volkswagen',\n",
       " 'Chery',\n",
       " 'Chevrolet',\n",
       " 'Citroen',\n",
       " 'Fiat',\n",
       " 'Ford',\n",
       " 'Geely',\n",
       " 'Honda',\n",
       " 'Hyundai',\n",
       " 'JAC',\n",
       " 'Jeep',\n",
       " 'Lifan',\n",
       " 'Mitsubishi',\n",
       " 'Nissan',\n",
       " 'Peugeot',\n",
       " 'Renault',\n",
       " 'Seat',\n",
       " 'Suzuki',\n",
       " 'Toyota',\n",
       " 'Volkswagen']"
      ]
     },
     "execution_count": 16,
     "metadata": {},
     "output_type": "execute_result"
    }
   ],
   "source": [
    "Brand_titles = []\n",
    "\n",
    "for tag in Brand_tags:\n",
    "    Brand_titles.append(tag.text)\n",
    "(Brand_titles)"
   ]
  },
  {
   "cell_type": "code",
   "execution_count": 17,
   "id": "02e78117",
   "metadata": {},
   "outputs": [
    {
     "data": {
      "text/plain": [
       "44"
      ]
     },
     "execution_count": 17,
     "metadata": {},
     "output_type": "execute_result"
    }
   ],
   "source": [
    "len(Brand_titles)"
   ]
  },
  {
   "cell_type": "markdown",
   "id": "bfc900ce",
   "metadata": {},
   "source": [
    "# MODELS COLUMN"
   ]
  },
  {
   "cell_type": "code",
   "execution_count": 18,
   "id": "7cd219e4",
   "metadata": {},
   "outputs": [],
   "source": [
    "Model_tags = doc.find_all('h3',class_ = False,id = False)"
   ]
  },
  {
   "cell_type": "code",
   "execution_count": 19,
   "id": "5e9ca84c",
   "metadata": {},
   "outputs": [
    {
     "data": {
      "text/plain": [
       "148"
      ]
     },
     "execution_count": 19,
     "metadata": {},
     "output_type": "execute_result"
    }
   ],
   "source": [
    "len(Model_tags)"
   ]
  },
  {
   "cell_type": "code",
   "execution_count": 20,
   "id": "9948299b",
   "metadata": {},
   "outputs": [
    {
     "data": {
      "text/plain": [
       "[<h3>Fiat Argo / Cronos + 2 Airbags</h3>,\n",
       " <h3>Ford Ka + 2 Airbags</h3>,\n",
       " <h3>Great Wall Motors Wingle 5 + 2 Airbags</h3>,\n",
       " <h3>Hyundai Accent + 1 Airbag</h3>,\n",
       " <h3>Hyundai Tucson + 2 Airbags</h3>,\n",
       " <h3>Hyundai HB20 + 2 Airbags</h3>,\n",
       " <h3>Kia Sportage + 2 Airbags</h3>,\n",
       " <h3>Kia Picanto / Morning + 1 Airbag</h3>,\n",
       " <h3>Peugeot 208 + 4 Airbags</h3>,\n",
       " <h3>Renault Duster + 2 Airbags</h3>]"
      ]
     },
     "execution_count": 20,
     "metadata": {},
     "output_type": "execute_result"
    }
   ],
   "source": [
    "Model_tags[:10]"
   ]
  },
  {
   "cell_type": "code",
   "execution_count": 21,
   "id": "d6216615",
   "metadata": {},
   "outputs": [
    {
     "data": {
      "text/plain": [
       "148"
      ]
     },
     "execution_count": 21,
     "metadata": {},
     "output_type": "execute_result"
    }
   ],
   "source": [
    "Model_titles = []\n",
    "\n",
    "for tag in Model_tags:\n",
    "    Model_titles.append(tag.text)\n",
    "len(Model_titles)"
   ]
  },
  {
   "cell_type": "markdown",
   "id": "4ab2576c",
   "metadata": {},
   "source": [
    "# DATES COLUMN"
   ]
  },
  {
   "cell_type": "code",
   "execution_count": 22,
   "id": "212f2bb8",
   "metadata": {},
   "outputs": [],
   "source": [
    "Date_class = \"colum colum-fecha\" \n",
    "Date_tags = doc.find_all('div',{'class': Date_class})"
   ]
  },
  {
   "cell_type": "code",
   "execution_count": 23,
   "id": "2c26369e",
   "metadata": {},
   "outputs": [
    {
     "data": {
      "text/plain": [
       "[<div class=\"colum colum-fecha\">\n",
       " \t        December-2021\t        </div>,\n",
       " <div class=\"colum colum-fecha\">\n",
       " \t        December-2020\t        </div>,\n",
       " <div class=\"colum colum-fecha\">\n",
       " \t        December-2021\t        </div>,\n",
       " <div class=\"colum colum-fecha\">\n",
       " \t        December-2021\t        </div>,\n",
       " <div class=\"colum colum-fecha\">\n",
       " \t        December-2021\t        </div>,\n",
       " <div class=\"colum colum-fecha\">\n",
       " \t        December-2020\t        </div>,\n",
       " <div class=\"colum colum-fecha\">\n",
       " \t        December-2021\t        </div>,\n",
       " <div class=\"colum colum-fecha\">\n",
       " \t        October-2020\t        </div>,\n",
       " <div class=\"colum colum-fecha\">\n",
       " \t        December-2021\t        </div>,\n",
       " <div class=\"colum colum-fecha\">\n",
       " \t        August-2021\t        </div>]"
      ]
     },
     "execution_count": 23,
     "metadata": {},
     "output_type": "execute_result"
    }
   ],
   "source": [
    "Date_tags[:10]"
   ]
  },
  {
   "cell_type": "code",
   "execution_count": 24,
   "id": "325b8399",
   "metadata": {},
   "outputs": [
    {
     "data": {
      "text/plain": [
       "79"
      ]
     },
     "execution_count": 24,
     "metadata": {},
     "output_type": "execute_result"
    }
   ],
   "source": [
    "Date_titles = []\n",
    "\n",
    "for tag in Date_tags:\n",
    "    Date_titles.append(tag.text)\n",
    "len(Date_titles)"
   ]
  },
  {
   "cell_type": "code",
   "execution_count": 25,
   "id": "a72b0041",
   "metadata": {},
   "outputs": [
    {
     "data": {
      "text/plain": [
       "'        December-2021\\t        '"
      ]
     },
     "execution_count": 25,
     "metadata": {},
     "output_type": "execute_result"
    }
   ],
   "source": [
    "char = '\\n\\t'\n",
    "result = [ele.replace(char, '') for ele in Date_titles]\n",
    "result[0] "
   ]
  },
  {
   "cell_type": "code",
   "execution_count": 26,
   "id": "11fd161d",
   "metadata": {},
   "outputs": [
    {
     "data": {
      "text/plain": [
       "'        December-2020\\t        '"
      ]
     },
     "execution_count": 26,
     "metadata": {},
     "output_type": "execute_result"
    }
   ],
   "source": [
    "result[1]"
   ]
  },
  {
   "cell_type": "code",
   "execution_count": 27,
   "id": "39239285",
   "metadata": {},
   "outputs": [
    {
     "data": {
      "text/plain": [
       "'        November-2019\\t        '"
      ]
     },
     "execution_count": 27,
     "metadata": {},
     "output_type": "execute_result"
    }
   ],
   "source": [
    "result[45]"
   ]
  },
  {
   "cell_type": "code",
   "execution_count": 28,
   "id": "1aaa21d0",
   "metadata": {},
   "outputs": [
    {
     "data": {
      "text/plain": [
       "'        December-2021        '"
      ]
     },
     "execution_count": 28,
     "metadata": {},
     "output_type": "execute_result"
    }
   ],
   "source": [
    "char = '\\t'\n",
    "result = [ele.replace(char, '') for ele in result]\n",
    "result[0] "
   ]
  },
  {
   "cell_type": "markdown",
   "id": "5cdcef4c",
   "metadata": {},
   "source": [
    "# GROWN_UPS COLUMN"
   ]
  },
  {
   "cell_type": "code",
   "execution_count": 29,
   "id": "3157d364",
   "metadata": {},
   "outputs": [],
   "source": [
    "Grown_ups_class = \"porcentaje adulto\"\n",
    "Grown_ups_tags = doc.find_all('div',{'class': Grown_ups_class})"
   ]
  },
  {
   "cell_type": "code",
   "execution_count": 30,
   "id": "3118a40d",
   "metadata": {},
   "outputs": [
    {
     "data": {
      "text/plain": [
       "[<div class=\"porcentaje adulto\">24%</div>,\n",
       " <div class=\"porcentaje adulto\">34%</div>,\n",
       " <div class=\"porcentaje adulto\">9%</div>,\n",
       " <div class=\"porcentaje adulto\">9%</div>,\n",
       " <div class=\"porcentaje adulto\">51%</div>,\n",
       " <div class=\"porcentaje adulto\">19%</div>,\n",
       " <div class=\"porcentaje adulto\">48%</div>,\n",
       " <div class=\"porcentaje adulto\">0%</div>,\n",
       " <div class=\"porcentaje adulto\">52%</div>,\n",
       " <div class=\"porcentaje adulto\">29%</div>]"
      ]
     },
     "execution_count": 30,
     "metadata": {},
     "output_type": "execute_result"
    }
   ],
   "source": [
    "Grown_ups_tags[:10]"
   ]
  },
  {
   "cell_type": "code",
   "execution_count": 31,
   "id": "6f4600cf",
   "metadata": {},
   "outputs": [
    {
     "data": {
      "text/plain": [
       "['24%',\n",
       " '34%',\n",
       " '9%',\n",
       " '9%',\n",
       " '51%',\n",
       " '19%',\n",
       " '48%',\n",
       " '0%',\n",
       " '52%',\n",
       " '29%',\n",
       " '20%',\n",
       " '16%',\n",
       " '41%',\n",
       " '90%']"
      ]
     },
     "execution_count": 31,
     "metadata": {},
     "output_type": "execute_result"
    }
   ],
   "source": [
    "Grown_ups_titles = []\n",
    "for tag in Grown_ups_tags:\n",
    "    Grown_ups_titles.append(tag.text)\n",
    "Grown_ups_titles"
   ]
  },
  {
   "cell_type": "code",
   "execution_count": 32,
   "id": "c6e3ad97",
   "metadata": {},
   "outputs": [
    {
     "data": {
      "text/plain": [
       "14"
      ]
     },
     "execution_count": 32,
     "metadata": {},
     "output_type": "execute_result"
    }
   ],
   "source": [
    "len(Grown_ups_titles)"
   ]
  },
  {
   "cell_type": "code",
   "execution_count": 33,
   "id": "c8d33e03",
   "metadata": {},
   "outputs": [],
   "source": [
    "Child_class = 'porcentaje nino'\n",
    "Child_tags = doc.find_all('div',{'class': Child_class})"
   ]
  },
  {
   "cell_type": "code",
   "execution_count": 34,
   "id": "e1df9465",
   "metadata": {},
   "outputs": [
    {
     "data": {
      "text/plain": [
       "[<div class=\"porcentaje nino\">10%</div>,\n",
       " <div class=\"porcentaje nino\">9%</div>,\n",
       " <div class=\"porcentaje nino\">0%</div>,\n",
       " <div class=\"porcentaje nino\">13%</div>,\n",
       " <div class=\"porcentaje nino\">4%</div>,\n",
       " <div class=\"porcentaje nino\">10%</div>,\n",
       " <div class=\"porcentaje nino\">15%</div>,\n",
       " <div class=\"porcentaje nino\">29%</div>,\n",
       " <div class=\"porcentaje nino\">55%</div>,\n",
       " <div class=\"porcentaje nino\">23%</div>]"
      ]
     },
     "execution_count": 34,
     "metadata": {},
     "output_type": "execute_result"
    }
   ],
   "source": [
    "Child_tags[:10]"
   ]
  },
  {
   "cell_type": "code",
   "execution_count": 35,
   "id": "91f2249e",
   "metadata": {},
   "outputs": [
    {
     "data": {
      "text/plain": [
       "['10%',\n",
       " '9%',\n",
       " '0%',\n",
       " '13%',\n",
       " '4%',\n",
       " '10%',\n",
       " '15%',\n",
       " '29%',\n",
       " '55%',\n",
       " '23%',\n",
       " '17%',\n",
       " '0%',\n",
       " '64%',\n",
       " '90%']"
      ]
     },
     "execution_count": 35,
     "metadata": {},
     "output_type": "execute_result"
    }
   ],
   "source": [
    "Child_titles = []\n",
    "for tag in Child_tags:\n",
    "    Child_titles.append(tag.text)\n",
    "Child_titles"
   ]
  },
  {
   "cell_type": "code",
   "execution_count": 36,
   "id": "5d24e6c9",
   "metadata": {},
   "outputs": [
    {
     "data": {
      "text/plain": [
       "14"
      ]
     },
     "execution_count": 36,
     "metadata": {},
     "output_type": "execute_result"
    }
   ],
   "source": [
    "len(Child_titles)"
   ]
  },
  {
   "cell_type": "code",
   "execution_count": 37,
   "id": "6aa211f7",
   "metadata": {},
   "outputs": [],
   "source": [
    "Pedestrian_class = \"porcentaje usuarios\"\n",
    "Pedestrian_tags = doc.find_all('div',{'class': Pedestrian_class})\n"
   ]
  },
  {
   "cell_type": "code",
   "execution_count": 38,
   "id": "26336bc5",
   "metadata": {},
   "outputs": [
    {
     "data": {
      "text/plain": [
       "[<div class=\"porcentaje usuarios\">37%</div>,\n",
       " <div class=\"porcentaje usuarios\">50%</div>,\n",
       " <div class=\"porcentaje usuarios\">19%</div>,\n",
       " <div class=\"porcentaje usuarios\">53%</div>,\n",
       " <div class=\"porcentaje usuarios\">50%</div>,\n",
       " <div class=\"porcentaje usuarios\">43%</div>,\n",
       " <div class=\"porcentaje usuarios\">58%</div>,\n",
       " <div class=\"porcentaje usuarios\">51%</div>,\n",
       " <div class=\"porcentaje usuarios\">54%</div>,\n",
       " <div class=\"porcentaje usuarios\">51%</div>]"
      ]
     },
     "execution_count": 38,
     "metadata": {},
     "output_type": "execute_result"
    }
   ],
   "source": [
    "Pedestrian_tags[:10]"
   ]
  },
  {
   "cell_type": "code",
   "execution_count": 39,
   "id": "de9e2533",
   "metadata": {},
   "outputs": [
    {
     "data": {
      "text/plain": [
       "['37%',\n",
       " '50%',\n",
       " '19%',\n",
       " '53%',\n",
       " '50%',\n",
       " '43%',\n",
       " '58%',\n",
       " '51%',\n",
       " '54%',\n",
       " '51%',\n",
       " '64%',\n",
       " '66%',\n",
       " '62%',\n",
       " '61%']"
      ]
     },
     "execution_count": 39,
     "metadata": {},
     "output_type": "execute_result"
    }
   ],
   "source": [
    "Pedestrian_titles = []\n",
    "for tag in Pedestrian_tags:\n",
    "    Pedestrian_titles.append(tag.text)\n",
    "Pedestrian_titles"
   ]
  },
  {
   "cell_type": "code",
   "execution_count": 40,
   "id": "0779905a",
   "metadata": {},
   "outputs": [
    {
     "data": {
      "text/plain": [
       "14"
      ]
     },
     "execution_count": 40,
     "metadata": {},
     "output_type": "execute_result"
    }
   ],
   "source": [
    "len(Pedestrian_titles)"
   ]
  },
  {
   "cell_type": "markdown",
   "id": "97c119fa",
   "metadata": {},
   "source": [
    "# SAFETY COLUMN"
   ]
  },
  {
   "cell_type": "code",
   "execution_count": 41,
   "id": "30c686b8",
   "metadata": {},
   "outputs": [],
   "source": [
    "Safety_class = \"porcentaje asistentes\"\n",
    "Safety_tags = doc.find_all('div',{'class': Safety_class})"
   ]
  },
  {
   "cell_type": "code",
   "execution_count": 42,
   "id": "c2534aeb",
   "metadata": {},
   "outputs": [
    {
     "data": {
      "text/plain": [
       "[<div class=\"porcentaje asistentes\">7%</div>,\n",
       " <div class=\"porcentaje asistentes\">7%</div>,\n",
       " <div class=\"porcentaje asistentes\">0%</div>,\n",
       " <div class=\"porcentaje asistentes\">7%</div>,\n",
       " <div class=\"porcentaje asistentes\">7%</div>,\n",
       " <div class=\"porcentaje asistentes\">14%</div>,\n",
       " <div class=\"porcentaje asistentes\">7%</div>,\n",
       " <div class=\"porcentaje asistentes\">7%</div>,\n",
       " <div class=\"porcentaje asistentes\">56%</div>,\n",
       " <div class=\"porcentaje asistentes\">35%</div>]"
      ]
     },
     "execution_count": 42,
     "metadata": {},
     "output_type": "execute_result"
    }
   ],
   "source": [
    "Safety_tags[:10]"
   ]
  },
  {
   "cell_type": "code",
   "execution_count": 43,
   "id": "6a32458d",
   "metadata": {},
   "outputs": [
    {
     "data": {
      "text/plain": [
       "['7%',\n",
       " '7%',\n",
       " '0%',\n",
       " '7%',\n",
       " '7%',\n",
       " '14%',\n",
       " '7%',\n",
       " '7%',\n",
       " '56%',\n",
       " '35%',\n",
       " '7%',\n",
       " '7%',\n",
       " '42%',\n",
       " '85%']"
      ]
     },
     "execution_count": 43,
     "metadata": {},
     "output_type": "execute_result"
    }
   ],
   "source": [
    "Safety_titles = []\n",
    "for tag in Safety_tags:\n",
    "    Safety_titles.append(tag.text)\n",
    "Safety_titles"
   ]
  },
  {
   "cell_type": "code",
   "execution_count": 44,
   "id": "e275218a",
   "metadata": {},
   "outputs": [
    {
     "data": {
      "text/plain": [
       "14"
      ]
     },
     "execution_count": 44,
     "metadata": {},
     "output_type": "execute_result"
    }
   ],
   "source": [
    "len(Safety_titles)"
   ]
  },
  {
   "cell_type": "code",
   "execution_count": 45,
   "id": "6d6f0313",
   "metadata": {},
   "outputs": [],
   "source": [
    "!pip install pandas --quiet"
   ]
  },
  {
   "cell_type": "code",
   "execution_count": 46,
   "id": "c431b2be",
   "metadata": {},
   "outputs": [],
   "source": [
    "import pandas as pd"
   ]
  },
  {
   "cell_type": "code",
   "execution_count": 47,
   "id": "b59b7c51",
   "metadata": {},
   "outputs": [],
   "source": [
    "NCAP_dict = {\n",
    "    \n",
    "    'Model': Model_titles[:14],\n",
    "    'Date': result[:14],\n",
    "    'Grown ups': Grown_ups_titles,\n",
    "    'Child': Child_titles,\n",
    "    'Pedestrian':Pedestrian_titles,\n",
    "    'Safety': Safety_titles}"
   ]
  },
  {
   "cell_type": "code",
   "execution_count": 48,
   "id": "9367326c",
   "metadata": {},
   "outputs": [
    {
     "data": {
      "text/html": [
       "<div>\n",
       "<style scoped>\n",
       "    .dataframe tbody tr th:only-of-type {\n",
       "        vertical-align: middle;\n",
       "    }\n",
       "\n",
       "    .dataframe tbody tr th {\n",
       "        vertical-align: top;\n",
       "    }\n",
       "\n",
       "    .dataframe thead th {\n",
       "        text-align: right;\n",
       "    }\n",
       "</style>\n",
       "<table border=\"1\" class=\"dataframe\">\n",
       "  <thead>\n",
       "    <tr style=\"text-align: right;\">\n",
       "      <th></th>\n",
       "      <th>Model</th>\n",
       "      <th>Date</th>\n",
       "      <th>Grown ups</th>\n",
       "      <th>Child</th>\n",
       "      <th>Pedestrian</th>\n",
       "      <th>Safety</th>\n",
       "    </tr>\n",
       "  </thead>\n",
       "  <tbody>\n",
       "    <tr>\n",
       "      <th>0</th>\n",
       "      <td>Fiat Argo / Cronos + 2 Airbags</td>\n",
       "      <td>December-2021</td>\n",
       "      <td>24%</td>\n",
       "      <td>10%</td>\n",
       "      <td>37%</td>\n",
       "      <td>7%</td>\n",
       "    </tr>\n",
       "    <tr>\n",
       "      <th>1</th>\n",
       "      <td>Ford Ka + 2 Airbags</td>\n",
       "      <td>December-2020</td>\n",
       "      <td>34%</td>\n",
       "      <td>9%</td>\n",
       "      <td>50%</td>\n",
       "      <td>7%</td>\n",
       "    </tr>\n",
       "    <tr>\n",
       "      <th>2</th>\n",
       "      <td>Great Wall Motors Wingle 5 + 2 Airbags</td>\n",
       "      <td>December-2021</td>\n",
       "      <td>9%</td>\n",
       "      <td>0%</td>\n",
       "      <td>19%</td>\n",
       "      <td>0%</td>\n",
       "    </tr>\n",
       "    <tr>\n",
       "      <th>3</th>\n",
       "      <td>Hyundai Accent + 1 Airbag</td>\n",
       "      <td>December-2021</td>\n",
       "      <td>9%</td>\n",
       "      <td>13%</td>\n",
       "      <td>53%</td>\n",
       "      <td>7%</td>\n",
       "    </tr>\n",
       "    <tr>\n",
       "      <th>4</th>\n",
       "      <td>Hyundai Tucson + 2 Airbags</td>\n",
       "      <td>December-2021</td>\n",
       "      <td>51%</td>\n",
       "      <td>4%</td>\n",
       "      <td>50%</td>\n",
       "      <td>7%</td>\n",
       "    </tr>\n",
       "    <tr>\n",
       "      <th>5</th>\n",
       "      <td>Hyundai HB20 + 2 Airbags</td>\n",
       "      <td>December-2020</td>\n",
       "      <td>19%</td>\n",
       "      <td>10%</td>\n",
       "      <td>43%</td>\n",
       "      <td>14%</td>\n",
       "    </tr>\n",
       "    <tr>\n",
       "      <th>6</th>\n",
       "      <td>Kia Sportage + 2 Airbags</td>\n",
       "      <td>December-2021</td>\n",
       "      <td>48%</td>\n",
       "      <td>15%</td>\n",
       "      <td>58%</td>\n",
       "      <td>7%</td>\n",
       "    </tr>\n",
       "    <tr>\n",
       "      <th>7</th>\n",
       "      <td>Kia Picanto / Morning + 1 Airbag</td>\n",
       "      <td>October-2020</td>\n",
       "      <td>0%</td>\n",
       "      <td>29%</td>\n",
       "      <td>51%</td>\n",
       "      <td>7%</td>\n",
       "    </tr>\n",
       "    <tr>\n",
       "      <th>8</th>\n",
       "      <td>Peugeot 208 + 4 Airbags</td>\n",
       "      <td>December-2021</td>\n",
       "      <td>52%</td>\n",
       "      <td>55%</td>\n",
       "      <td>54%</td>\n",
       "      <td>56%</td>\n",
       "    </tr>\n",
       "    <tr>\n",
       "      <th>9</th>\n",
       "      <td>Renault Duster + 2 Airbags</td>\n",
       "      <td>August-2021</td>\n",
       "      <td>29%</td>\n",
       "      <td>23%</td>\n",
       "      <td>51%</td>\n",
       "      <td>35%</td>\n",
       "    </tr>\n",
       "    <tr>\n",
       "      <th>10</th>\n",
       "      <td>Suzuki Baleno + 2 Airbags</td>\n",
       "      <td>October-2021</td>\n",
       "      <td>20%</td>\n",
       "      <td>17%</td>\n",
       "      <td>64%</td>\n",
       "      <td>7%</td>\n",
       "    </tr>\n",
       "    <tr>\n",
       "      <th>11</th>\n",
       "      <td>Suzuki Swift + 2 Airbags</td>\n",
       "      <td>August-2021</td>\n",
       "      <td>16%</td>\n",
       "      <td>0%</td>\n",
       "      <td>66%</td>\n",
       "      <td>7%</td>\n",
       "    </tr>\n",
       "    <tr>\n",
       "      <th>12</th>\n",
       "      <td>Toyota Yaris + 2 Airbags</td>\n",
       "      <td>October-2021</td>\n",
       "      <td>41%</td>\n",
       "      <td>64%</td>\n",
       "      <td>62%</td>\n",
       "      <td>42%</td>\n",
       "    </tr>\n",
       "    <tr>\n",
       "      <th>13</th>\n",
       "      <td>Volkswagen Taos + 6 Airbags</td>\n",
       "      <td>December-2021</td>\n",
       "      <td>90%</td>\n",
       "      <td>90%</td>\n",
       "      <td>61%</td>\n",
       "      <td>85%</td>\n",
       "    </tr>\n",
       "  </tbody>\n",
       "</table>\n",
       "</div>"
      ],
      "text/plain": [
       "                                     Model                           Date  \\\n",
       "0           Fiat Argo / Cronos + 2 Airbags          December-2021           \n",
       "1                      Ford Ka + 2 Airbags          December-2020           \n",
       "2   Great Wall Motors Wingle 5 + 2 Airbags          December-2021           \n",
       "3                Hyundai Accent + 1 Airbag          December-2021           \n",
       "4               Hyundai Tucson + 2 Airbags          December-2021           \n",
       "5                 Hyundai HB20 + 2 Airbags          December-2020           \n",
       "6                 Kia Sportage + 2 Airbags          December-2021           \n",
       "7         Kia Picanto / Morning + 1 Airbag           October-2020           \n",
       "8                  Peugeot 208 + 4 Airbags          December-2021           \n",
       "9               Renault Duster + 2 Airbags            August-2021           \n",
       "10               Suzuki Baleno + 2 Airbags           October-2021           \n",
       "11                Suzuki Swift + 2 Airbags            August-2021           \n",
       "12                Toyota Yaris + 2 Airbags           October-2021           \n",
       "13             Volkswagen Taos + 6 Airbags          December-2021           \n",
       "\n",
       "   Grown ups Child Pedestrian Safety  \n",
       "0        24%   10%        37%     7%  \n",
       "1        34%    9%        50%     7%  \n",
       "2         9%    0%        19%     0%  \n",
       "3         9%   13%        53%     7%  \n",
       "4        51%    4%        50%     7%  \n",
       "5        19%   10%        43%    14%  \n",
       "6        48%   15%        58%     7%  \n",
       "7         0%   29%        51%     7%  \n",
       "8        52%   55%        54%    56%  \n",
       "9        29%   23%        51%    35%  \n",
       "10       20%   17%        64%     7%  \n",
       "11       16%    0%        66%     7%  \n",
       "12       41%   64%        62%    42%  \n",
       "13       90%   90%        61%    85%  "
      ]
     },
     "execution_count": 48,
     "metadata": {},
     "output_type": "execute_result"
    }
   ],
   "source": [
    "NCAP_df = pd.DataFrame(NCAP_dict)\n",
    "NCAP_df"
   ]
  },
  {
   "cell_type": "code",
   "execution_count": 49,
   "id": "2a822234",
   "metadata": {},
   "outputs": [],
   "source": [
    "driver_class = \"colum colum-240 adulto\"\n",
    "Grown_ups_occupant = doc.find_all('div',{'class': driver_class})"
   ]
  },
  {
   "cell_type": "code",
   "execution_count": 50,
   "id": "60d5fdbf",
   "metadata": {},
   "outputs": [
    {
     "data": {
      "text/plain": [
       "134"
      ]
     },
     "execution_count": 50,
     "metadata": {},
     "output_type": "execute_result"
    }
   ],
   "source": [
    "len(Grown_ups_occupant)"
   ]
  },
  {
   "cell_type": "code",
   "execution_count": 51,
   "id": "60d27d80",
   "metadata": {},
   "outputs": [
    {
     "data": {
      "text/plain": [
       "134"
      ]
     },
     "execution_count": 51,
     "metadata": {},
     "output_type": "execute_result"
    }
   ],
   "source": [
    "Driversafety_titles = []\n",
    "\n",
    "for tag in Grown_ups_occupant:\n",
    "    Driversafety_titles.append(tag.text)\n",
    "len(Driversafety_titles)"
   ]
  },
  {
   "cell_type": "code",
   "execution_count": 52,
   "id": "ae322f04",
   "metadata": {},
   "outputs": [
    {
     "data": {
      "text/plain": [
       "'0.00 max. 34.00 '"
      ]
     },
     "execution_count": 52,
     "metadata": {},
     "output_type": "execute_result"
    }
   ],
   "source": [
    "char = '\\n'\n",
    "result1 = [ele.replace(char, '') for ele in Driversafety_titles]\n",
    "result1[0]"
   ]
  },
  {
   "cell_type": "code",
   "execution_count": 53,
   "id": "9c47250d",
   "metadata": {},
   "outputs": [
    {
     "data": {
      "text/plain": [
       "'28.90 max. 34.00 '"
      ]
     },
     "execution_count": 53,
     "metadata": {},
     "output_type": "execute_result"
    }
   ],
   "source": [
    "char = '\\n'\n",
    "result1 = [ele.replace(char, '') for ele in Driversafety_titles]\n",
    "result1[3]"
   ]
  },
  {
   "cell_type": "code",
   "execution_count": 54,
   "id": "c1eb4906",
   "metadata": {},
   "outputs": [
    {
     "data": {
      "text/plain": [
       "'\\n\\n\\n\\n\\n\\n\\n12.65 max. 49.00 \\n'"
      ]
     },
     "execution_count": 54,
     "metadata": {},
     "output_type": "execute_result"
    }
   ],
   "source": [
    "Child_class = \"colum colum-240 nino\"\n",
    "Child_occupant = doc.find_all('div',{'class': Child_class})\n",
    "Child_occupant[0].text"
   ]
  },
  {
   "cell_type": "code",
   "execution_count": 55,
   "id": "d76eaaee",
   "metadata": {},
   "outputs": [
    {
     "data": {
      "text/plain": [
       "134"
      ]
     },
     "execution_count": 55,
     "metadata": {},
     "output_type": "execute_result"
    }
   ],
   "source": [
    "Childsafety_titles = []\n",
    "\n",
    "for tag in Child_occupant:\n",
    "    Childsafety_titles.append(tag.text)\n",
    "len(Childsafety_titles)"
   ]
  },
  {
   "cell_type": "code",
   "execution_count": 56,
   "id": "10c75d07",
   "metadata": {},
   "outputs": [
    {
     "data": {
      "text/plain": [
       "'12.65 max. 49.00 '"
      ]
     },
     "execution_count": 56,
     "metadata": {},
     "output_type": "execute_result"
    }
   ],
   "source": [
    "char = '\\n'\n",
    "result2 = [ele.replace(char, '') for ele in Childsafety_titles]\n",
    "result2[0]"
   ]
  },
  {
   "cell_type": "code",
   "execution_count": 57,
   "id": "5f13690d",
   "metadata": {},
   "outputs": [
    {
     "data": {
      "text/plain": [
       "'44.33 max. 49.00 '"
      ]
     },
     "execution_count": 57,
     "metadata": {},
     "output_type": "execute_result"
    }
   ],
   "source": [
    "char = '\\n'\n",
    "result2 = [ele.replace(char, '') for ele in Childsafety_titles]\n",
    "result2[3]"
   ]
  },
  {
   "cell_type": "code",
   "execution_count": 58,
   "id": "455bf664",
   "metadata": {},
   "outputs": [
    {
     "data": {
      "text/plain": [
       "'13.28 max. 49.00 '"
      ]
     },
     "execution_count": 58,
     "metadata": {},
     "output_type": "execute_result"
    }
   ],
   "source": [
    "char = '\\n'\n",
    "result2 = [ele.replace(char, '') for ele in Childsafety_titles]\n",
    "result2[10]"
   ]
  },
  {
   "cell_type": "code",
   "execution_count": 59,
   "id": "023dcad4",
   "metadata": {},
   "outputs": [],
   "source": [
    "NCAP1_dict = {'Model': Model_titles[14:],\n",
    "              'Grown_ups_occupant': result1,\n",
    "              'Child occupant': result2}"
   ]
  },
  {
   "cell_type": "code",
   "execution_count": 60,
   "id": "f73f8878",
   "metadata": {},
   "outputs": [
    {
     "data": {
      "text/html": [
       "<div>\n",
       "<style scoped>\n",
       "    .dataframe tbody tr th:only-of-type {\n",
       "        vertical-align: middle;\n",
       "    }\n",
       "\n",
       "    .dataframe tbody tr th {\n",
       "        vertical-align: top;\n",
       "    }\n",
       "\n",
       "    .dataframe thead th {\n",
       "        text-align: right;\n",
       "    }\n",
       "</style>\n",
       "<table border=\"1\" class=\"dataframe\">\n",
       "  <thead>\n",
       "    <tr style=\"text-align: right;\">\n",
       "      <th></th>\n",
       "      <th>Model</th>\n",
       "      <th>Grown_ups_occupant</th>\n",
       "      <th>Child occupant</th>\n",
       "    </tr>\n",
       "  </thead>\n",
       "  <tbody>\n",
       "    <tr>\n",
       "      <th>0</th>\n",
       "      <td>BYD F0 - NO Airbags</td>\n",
       "      <td>0.00 max. 34.00</td>\n",
       "      <td>12.65 max. 49.00</td>\n",
       "    </tr>\n",
       "    <tr>\n",
       "      <th>1</th>\n",
       "      <td>Chery Tiggo 3 + 2 Airbags</td>\n",
       "      <td>0.00 max. 34.00</td>\n",
       "      <td>10.21 max. 49.00</td>\n",
       "    </tr>\n",
       "    <tr>\n",
       "      <th>2</th>\n",
       "      <td>Chevrolet New Aveo + 2 Airbags (from May 2019)...</td>\n",
       "      <td>23.76 max. 34.00</td>\n",
       "      <td>37.02 max. 49.00</td>\n",
       "    </tr>\n",
       "    <tr>\n",
       "      <th>3</th>\n",
       "      <td>Chevrolet New Onix Hatchback + 6 Airbags</td>\n",
       "      <td>28.90 max. 34.00</td>\n",
       "      <td>44.33 max. 49.00</td>\n",
       "    </tr>\n",
       "    <tr>\n",
       "      <th>4</th>\n",
       "      <td>Chevrolet New Onix Plus + 6 Airbags</td>\n",
       "      <td>28.34 max. 34.00</td>\n",
       "      <td>42.33 max. 49.00</td>\n",
       "    </tr>\n",
       "    <tr>\n",
       "      <th>...</th>\n",
       "      <td>...</td>\n",
       "      <td>...</td>\n",
       "      <td>...</td>\n",
       "    </tr>\n",
       "    <tr>\n",
       "      <th>129</th>\n",
       "      <td>Volkswagen Jetta / Vento + 2 Airbags</td>\n",
       "      <td>15.34 max. 17.00</td>\n",
       "      <td>39.20 max. 49.00</td>\n",
       "    </tr>\n",
       "    <tr>\n",
       "      <th>130</th>\n",
       "      <td>Volkswagen ClÃ¡sico (Bora) + 2 Airbags</td>\n",
       "      <td>10.27 max. 16.00</td>\n",
       "      <td>35.82 max. 49.00</td>\n",
       "    </tr>\n",
       "    <tr>\n",
       "      <th>131</th>\n",
       "      <td>Volkswagen Polo + 2 Airbags</td>\n",
       "      <td>11.34 max. 16.00</td>\n",
       "      <td>36.95 max. 49.00</td>\n",
       "    </tr>\n",
       "    <tr>\n",
       "      <th>132</th>\n",
       "      <td>Volkswagen Gol Trend 1.6 + 2 Airbags</td>\n",
       "      <td>10.01 max. 16.00</td>\n",
       "      <td>21.16 max. 49.00</td>\n",
       "    </tr>\n",
       "    <tr>\n",
       "      <th>133</th>\n",
       "      <td>Volkswagen Gol Trend 1.6 - NO Airbags</td>\n",
       "      <td>5.75 max. 16.00</td>\n",
       "      <td>18.89 max. 49.00</td>\n",
       "    </tr>\n",
       "  </tbody>\n",
       "</table>\n",
       "<p>134 rows × 3 columns</p>\n",
       "</div>"
      ],
      "text/plain": [
       "                                                 Model Grown_ups_occupant  \\\n",
       "0                                  BYD F0 - NO Airbags   0.00 max. 34.00    \n",
       "1                            Chery Tiggo 3 + 2 Airbags   0.00 max. 34.00    \n",
       "2    Chevrolet New Aveo + 2 Airbags (from May 2019)...  23.76 max. 34.00    \n",
       "3             Chevrolet New Onix Hatchback + 6 Airbags  28.90 max. 34.00    \n",
       "4                  Chevrolet New Onix Plus + 6 Airbags  28.34 max. 34.00    \n",
       "..                                                 ...                ...   \n",
       "129               Volkswagen Jetta / Vento + 2 Airbags  15.34 max. 17.00    \n",
       "130             Volkswagen ClÃ¡sico (Bora) + 2 Airbags  10.27 max. 16.00    \n",
       "131                        Volkswagen Polo + 2 Airbags  11.34 max. 16.00    \n",
       "132               Volkswagen Gol Trend 1.6 + 2 Airbags  10.01 max. 16.00    \n",
       "133              Volkswagen Gol Trend 1.6 - NO Airbags   5.75 max. 16.00    \n",
       "\n",
       "        Child occupant  \n",
       "0    12.65 max. 49.00   \n",
       "1    10.21 max. 49.00   \n",
       "2    37.02 max. 49.00   \n",
       "3    44.33 max. 49.00   \n",
       "4    42.33 max. 49.00   \n",
       "..                 ...  \n",
       "129  39.20 max. 49.00   \n",
       "130  35.82 max. 49.00   \n",
       "131  36.95 max. 49.00   \n",
       "132  21.16 max. 49.00   \n",
       "133  18.89 max. 49.00   \n",
       "\n",
       "[134 rows x 3 columns]"
      ]
     },
     "execution_count": 60,
     "metadata": {},
     "output_type": "execute_result"
    }
   ],
   "source": [
    "NCAP1_df = pd.DataFrame(NCAP1_dict)\n",
    "NCAP1_df"
   ]
  },
  {
   "cell_type": "code",
   "execution_count": 61,
   "id": "2523d0b7",
   "metadata": {},
   "outputs": [
    {
     "data": {
      "text/html": [
       "<div>\n",
       "<style scoped>\n",
       "    .dataframe tbody tr th:only-of-type {\n",
       "        vertical-align: middle;\n",
       "    }\n",
       "\n",
       "    .dataframe tbody tr th {\n",
       "        vertical-align: top;\n",
       "    }\n",
       "\n",
       "    .dataframe thead th {\n",
       "        text-align: right;\n",
       "    }\n",
       "</style>\n",
       "<table border=\"1\" class=\"dataframe\">\n",
       "  <thead>\n",
       "    <tr style=\"text-align: right;\">\n",
       "      <th></th>\n",
       "      <th>Model</th>\n",
       "      <th>Grown_ups_occupant</th>\n",
       "      <th>Child occupant</th>\n",
       "    </tr>\n",
       "  </thead>\n",
       "  <tbody>\n",
       "    <tr>\n",
       "      <th>0</th>\n",
       "      <td>BYD F0 - NO Airbags</td>\n",
       "      <td>0.00 max. 34.00</td>\n",
       "      <td>12.65 max. 49.00</td>\n",
       "    </tr>\n",
       "    <tr>\n",
       "      <th>1</th>\n",
       "      <td>Chery Tiggo 3 + 2 Airbags</td>\n",
       "      <td>0.00 max. 34.00</td>\n",
       "      <td>10.21 max. 49.00</td>\n",
       "    </tr>\n",
       "    <tr>\n",
       "      <th>2</th>\n",
       "      <td>Chevrolet New Aveo + 2 Airbags (from May 2019)...</td>\n",
       "      <td>23.76 max. 34.00</td>\n",
       "      <td>37.02 max. 49.00</td>\n",
       "    </tr>\n",
       "    <tr>\n",
       "      <th>3</th>\n",
       "      <td>Chevrolet New Onix Hatchback + 6 Airbags</td>\n",
       "      <td>28.90 max. 34.00</td>\n",
       "      <td>44.33 max. 49.00</td>\n",
       "    </tr>\n",
       "    <tr>\n",
       "      <th>4</th>\n",
       "      <td>Chevrolet New Onix Plus + 6 Airbags</td>\n",
       "      <td>28.34 max. 34.00</td>\n",
       "      <td>42.33 max. 49.00</td>\n",
       "    </tr>\n",
       "    <tr>\n",
       "      <th>5</th>\n",
       "      <td>Chevrolet Cruze + 6 Airbags (from 21/05/2019) ...</td>\n",
       "      <td>30.23 max. 34.00</td>\n",
       "      <td>39.83 max. 49.00</td>\n",
       "    </tr>\n",
       "    <tr>\n",
       "      <th>6</th>\n",
       "      <td>Chevrolet New Aveo + 2 Airbags</td>\n",
       "      <td>23.76 max. 34.00</td>\n",
       "      <td>37.02 max. 49.00</td>\n",
       "    </tr>\n",
       "    <tr>\n",
       "      <th>7</th>\n",
       "      <td>Chevrolet Cruze + 4 Airbags</td>\n",
       "      <td>30.23 max. 34.00</td>\n",
       "      <td>38.75 max. 49.00</td>\n",
       "    </tr>\n",
       "    <tr>\n",
       "      <th>8</th>\n",
       "      <td>Chevrolet Onix/Prisma + 2 Airbags (from 15/01/...</td>\n",
       "      <td>20.24 max. 34.00</td>\n",
       "      <td>32.59 max. 49.00</td>\n",
       "    </tr>\n",
       "    <tr>\n",
       "      <th>9</th>\n",
       "      <td>Chevrolet Aveo + 2 Airbags</td>\n",
       "      <td>17.49 max. 34.00</td>\n",
       "      <td>30.11 max. 49.00</td>\n",
       "    </tr>\n",
       "    <tr>\n",
       "      <th>10</th>\n",
       "      <td>Chevrolet N300 (passengers) - NO Airbags</td>\n",
       "      <td>11.92 max. 34.00</td>\n",
       "      <td>13.28 max. 49.00</td>\n",
       "    </tr>\n",
       "  </tbody>\n",
       "</table>\n",
       "</div>"
      ],
      "text/plain": [
       "                                                Model Grown_ups_occupant  \\\n",
       "0                                 BYD F0 - NO Airbags   0.00 max. 34.00    \n",
       "1                           Chery Tiggo 3 + 2 Airbags   0.00 max. 34.00    \n",
       "2   Chevrolet New Aveo + 2 Airbags (from May 2019)...  23.76 max. 34.00    \n",
       "3            Chevrolet New Onix Hatchback + 6 Airbags  28.90 max. 34.00    \n",
       "4                 Chevrolet New Onix Plus + 6 Airbags  28.34 max. 34.00    \n",
       "5   Chevrolet Cruze + 6 Airbags (from 21/05/2019) ...  30.23 max. 34.00    \n",
       "6                      Chevrolet New Aveo + 2 Airbags  23.76 max. 34.00    \n",
       "7                         Chevrolet Cruze + 4 Airbags  30.23 max. 34.00    \n",
       "8   Chevrolet Onix/Prisma + 2 Airbags (from 15/01/...  20.24 max. 34.00    \n",
       "9                          Chevrolet Aveo + 2 Airbags  17.49 max. 34.00    \n",
       "10           Chevrolet N300 (passengers) - NO Airbags  11.92 max. 34.00    \n",
       "\n",
       "       Child occupant  \n",
       "0   12.65 max. 49.00   \n",
       "1   10.21 max. 49.00   \n",
       "2   37.02 max. 49.00   \n",
       "3   44.33 max. 49.00   \n",
       "4   42.33 max. 49.00   \n",
       "5   39.83 max. 49.00   \n",
       "6   37.02 max. 49.00   \n",
       "7   38.75 max. 49.00   \n",
       "8   32.59 max. 49.00   \n",
       "9   30.11 max. 49.00   \n",
       "10  13.28 max. 49.00   "
      ]
     },
     "execution_count": 61,
     "metadata": {},
     "output_type": "execute_result"
    }
   ],
   "source": [
    "NCAP1_df.head(11)"
   ]
  },
  {
   "cell_type": "code",
   "execution_count": 67,
   "id": "49c65a8e",
   "metadata": {},
   "outputs": [
    {
     "data": {
      "text/html": [
       "<div>\n",
       "<style scoped>\n",
       "    .dataframe tbody tr th:only-of-type {\n",
       "        vertical-align: middle;\n",
       "    }\n",
       "\n",
       "    .dataframe tbody tr th {\n",
       "        vertical-align: top;\n",
       "    }\n",
       "\n",
       "    .dataframe thead th {\n",
       "        text-align: right;\n",
       "    }\n",
       "</style>\n",
       "<table border=\"1\" class=\"dataframe\">\n",
       "  <thead>\n",
       "    <tr style=\"text-align: right;\">\n",
       "      <th></th>\n",
       "      <th>Model</th>\n",
       "      <th>Grown_ups_occupant</th>\n",
       "      <th>Child occupant</th>\n",
       "    </tr>\n",
       "  </thead>\n",
       "  <tbody>\n",
       "    <tr>\n",
       "      <th>0</th>\n",
       "      <td>BYD F0 - NO Airbags</td>\n",
       "      <td>0.00 max. 34.00</td>\n",
       "      <td>12.65 max. 49.00</td>\n",
       "    </tr>\n",
       "    <tr>\n",
       "      <th>1</th>\n",
       "      <td>Chery Tiggo 3 + 2 Airbags</td>\n",
       "      <td>0.00 max. 34.00</td>\n",
       "      <td>10.21 max. 49.00</td>\n",
       "    </tr>\n",
       "    <tr>\n",
       "      <th>2</th>\n",
       "      <td>Chevrolet New Aveo + 2 Airbags (from May 2019)...</td>\n",
       "      <td>23.76 max. 34.00</td>\n",
       "      <td>37.02 max. 49.00</td>\n",
       "    </tr>\n",
       "    <tr>\n",
       "      <th>3</th>\n",
       "      <td>Chevrolet New Onix Hatchback + 6 Airbags</td>\n",
       "      <td>28.90 max. 34.00</td>\n",
       "      <td>44.33 max. 49.00</td>\n",
       "    </tr>\n",
       "    <tr>\n",
       "      <th>4</th>\n",
       "      <td>Chevrolet New Onix Plus + 6 Airbags</td>\n",
       "      <td>28.34 max. 34.00</td>\n",
       "      <td>42.33 max. 49.00</td>\n",
       "    </tr>\n",
       "    <tr>\n",
       "      <th>...</th>\n",
       "      <td>...</td>\n",
       "      <td>...</td>\n",
       "      <td>...</td>\n",
       "    </tr>\n",
       "    <tr>\n",
       "      <th>129</th>\n",
       "      <td>Volkswagen Jetta / Vento + 2 Airbags</td>\n",
       "      <td>15.34 max. 17.00</td>\n",
       "      <td>39.20 max. 49.00</td>\n",
       "    </tr>\n",
       "    <tr>\n",
       "      <th>130</th>\n",
       "      <td>Volkswagen ClÃ¡sico (Bora) + 2 Airbags</td>\n",
       "      <td>10.27 max. 16.00</td>\n",
       "      <td>35.82 max. 49.00</td>\n",
       "    </tr>\n",
       "    <tr>\n",
       "      <th>131</th>\n",
       "      <td>Volkswagen Polo + 2 Airbags</td>\n",
       "      <td>11.34 max. 16.00</td>\n",
       "      <td>36.95 max. 49.00</td>\n",
       "    </tr>\n",
       "    <tr>\n",
       "      <th>132</th>\n",
       "      <td>Volkswagen Gol Trend 1.6 + 2 Airbags</td>\n",
       "      <td>10.01 max. 16.00</td>\n",
       "      <td>21.16 max. 49.00</td>\n",
       "    </tr>\n",
       "    <tr>\n",
       "      <th>133</th>\n",
       "      <td>Volkswagen Gol Trend 1.6 - NO Airbags</td>\n",
       "      <td>5.75 max. 16.00</td>\n",
       "      <td>18.89 max. 49.00</td>\n",
       "    </tr>\n",
       "  </tbody>\n",
       "</table>\n",
       "<p>134 rows × 3 columns</p>\n",
       "</div>"
      ],
      "text/plain": [
       "                                                 Model Grown_ups_occupant  \\\n",
       "0                                  BYD F0 - NO Airbags   0.00 max. 34.00    \n",
       "1                            Chery Tiggo 3 + 2 Airbags   0.00 max. 34.00    \n",
       "2    Chevrolet New Aveo + 2 Airbags (from May 2019)...  23.76 max. 34.00    \n",
       "3             Chevrolet New Onix Hatchback + 6 Airbags  28.90 max. 34.00    \n",
       "4                  Chevrolet New Onix Plus + 6 Airbags  28.34 max. 34.00    \n",
       "..                                                 ...                ...   \n",
       "129               Volkswagen Jetta / Vento + 2 Airbags  15.34 max. 17.00    \n",
       "130             Volkswagen ClÃ¡sico (Bora) + 2 Airbags  10.27 max. 16.00    \n",
       "131                        Volkswagen Polo + 2 Airbags  11.34 max. 16.00    \n",
       "132               Volkswagen Gol Trend 1.6 + 2 Airbags  10.01 max. 16.00    \n",
       "133              Volkswagen Gol Trend 1.6 - NO Airbags   5.75 max. 16.00    \n",
       "\n",
       "        Child occupant  \n",
       "0    12.65 max. 49.00   \n",
       "1    10.21 max. 49.00   \n",
       "2    37.02 max. 49.00   \n",
       "3    44.33 max. 49.00   \n",
       "4    42.33 max. 49.00   \n",
       "..                 ...  \n",
       "129  39.20 max. 49.00   \n",
       "130  35.82 max. 49.00   \n",
       "131  36.95 max. 49.00   \n",
       "132  21.16 max. 49.00   \n",
       "133  18.89 max. 49.00   \n",
       "\n",
       "[134 rows x 3 columns]"
      ]
     },
     "execution_count": 67,
     "metadata": {},
     "output_type": "execute_result"
    }
   ],
   "source": [
    "Data = pd.DataFrame(NCAP1_dict)\n",
    "Data"
   ]
  },
  {
   "cell_type": "code",
   "execution_count": 68,
   "id": "ea61b30a",
   "metadata": {},
   "outputs": [
    {
     "data": {
      "text/html": [
       "<div>\n",
       "<style scoped>\n",
       "    .dataframe tbody tr th:only-of-type {\n",
       "        vertical-align: middle;\n",
       "    }\n",
       "\n",
       "    .dataframe tbody tr th {\n",
       "        vertical-align: top;\n",
       "    }\n",
       "\n",
       "    .dataframe thead th {\n",
       "        text-align: right;\n",
       "    }\n",
       "</style>\n",
       "<table border=\"1\" class=\"dataframe\">\n",
       "  <thead>\n",
       "    <tr style=\"text-align: right;\">\n",
       "      <th></th>\n",
       "      <th>Model</th>\n",
       "      <th>Grown_ups_occupant</th>\n",
       "      <th>Child occupant</th>\n",
       "    </tr>\n",
       "  </thead>\n",
       "  <tbody>\n",
       "    <tr>\n",
       "      <th>count</th>\n",
       "      <td>134</td>\n",
       "      <td>134</td>\n",
       "      <td>134</td>\n",
       "    </tr>\n",
       "    <tr>\n",
       "      <th>unique</th>\n",
       "      <td>128</td>\n",
       "      <td>113</td>\n",
       "      <td>125</td>\n",
       "    </tr>\n",
       "    <tr>\n",
       "      <th>top</th>\n",
       "      <td>Nissan March + 2 Airbags</td>\n",
       "      <td>0.00 max. 34.00</td>\n",
       "      <td>43.00 max. 49.00</td>\n",
       "    </tr>\n",
       "    <tr>\n",
       "      <th>freq</th>\n",
       "      <td>3</td>\n",
       "      <td>8</td>\n",
       "      <td>3</td>\n",
       "    </tr>\n",
       "  </tbody>\n",
       "</table>\n",
       "</div>"
      ],
      "text/plain": [
       "                           Model Grown_ups_occupant     Child occupant\n",
       "count                        134                134                134\n",
       "unique                       128                113                125\n",
       "top     Nissan March + 2 Airbags   0.00 max. 34.00   43.00 max. 49.00 \n",
       "freq                           3                  8                  3"
      ]
     },
     "execution_count": 68,
     "metadata": {},
     "output_type": "execute_result"
    }
   ],
   "source": [
    "Data.describe()"
   ]
  },
  {
   "cell_type": "code",
   "execution_count": 69,
   "id": "223ee1cc",
   "metadata": {},
   "outputs": [
    {
     "data": {
      "text/html": [
       "<div>\n",
       "<style scoped>\n",
       "    .dataframe tbody tr th:only-of-type {\n",
       "        vertical-align: middle;\n",
       "    }\n",
       "\n",
       "    .dataframe tbody tr th {\n",
       "        vertical-align: top;\n",
       "    }\n",
       "\n",
       "    .dataframe thead th {\n",
       "        text-align: right;\n",
       "    }\n",
       "</style>\n",
       "<table border=\"1\" class=\"dataframe\">\n",
       "  <thead>\n",
       "    <tr style=\"text-align: right;\">\n",
       "      <th></th>\n",
       "      <th>Model</th>\n",
       "      <th>Date</th>\n",
       "      <th>Grown ups</th>\n",
       "      <th>Child</th>\n",
       "      <th>Pedestrian</th>\n",
       "      <th>Safety</th>\n",
       "    </tr>\n",
       "  </thead>\n",
       "  <tbody>\n",
       "    <tr>\n",
       "      <th>count</th>\n",
       "      <td>14</td>\n",
       "      <td>14</td>\n",
       "      <td>14</td>\n",
       "      <td>14</td>\n",
       "      <td>14</td>\n",
       "      <td>14</td>\n",
       "    </tr>\n",
       "    <tr>\n",
       "      <th>unique</th>\n",
       "      <td>14</td>\n",
       "      <td>5</td>\n",
       "      <td>13</td>\n",
       "      <td>12</td>\n",
       "      <td>12</td>\n",
       "      <td>7</td>\n",
       "    </tr>\n",
       "    <tr>\n",
       "      <th>top</th>\n",
       "      <td>Suzuki Baleno + 2 Airbags</td>\n",
       "      <td>December-2021</td>\n",
       "      <td>9%</td>\n",
       "      <td>10%</td>\n",
       "      <td>51%</td>\n",
       "      <td>7%</td>\n",
       "    </tr>\n",
       "    <tr>\n",
       "      <th>freq</th>\n",
       "      <td>1</td>\n",
       "      <td>7</td>\n",
       "      <td>2</td>\n",
       "      <td>2</td>\n",
       "      <td>2</td>\n",
       "      <td>8</td>\n",
       "    </tr>\n",
       "  </tbody>\n",
       "</table>\n",
       "</div>"
      ],
      "text/plain": [
       "                            Model                           Date Grown ups  \\\n",
       "count                          14                             14        14   \n",
       "unique                         14                              5        13   \n",
       "top     Suzuki Baleno + 2 Airbags          December-2021                9%   \n",
       "freq                            1                              7         2   \n",
       "\n",
       "       Child Pedestrian Safety  \n",
       "count     14         14     14  \n",
       "unique    12         12      7  \n",
       "top      10%        51%     7%  \n",
       "freq       2          2      8  "
      ]
     },
     "execution_count": 69,
     "metadata": {},
     "output_type": "execute_result"
    }
   ],
   "source": [
    "NCAP_df.describe()"
   ]
  },
  {
   "cell_type": "code",
   "execution_count": null,
   "id": "7e8ed821",
   "metadata": {},
   "outputs": [],
   "source": []
  }
 ],
 "metadata": {
  "kernelspec": {
   "display_name": "Python 3 (ipykernel)",
   "language": "python",
   "name": "python3"
  },
  "language_info": {
   "codemirror_mode": {
    "name": "ipython",
    "version": 3
   },
   "file_extension": ".py",
   "mimetype": "text/x-python",
   "name": "python",
   "nbconvert_exporter": "python",
   "pygments_lexer": "ipython3",
   "version": "3.7.0"
  }
 },
 "nbformat": 4,
 "nbformat_minor": 5
}
