{
 "cells": [
  {
   "cell_type": "markdown",
   "id": "3570730f",
   "metadata": {},
   "source": [
    "# Scraping_Safest_Cars_Latin_NCAP"
   ]
  },
  {
   "cell_type": "code",
   "execution_count": 1,
   "id": "71c5a417",
   "metadata": {},
   "outputs": [],
   "source": [
    "!pip install requests --upgrade --quiet\n"
   ]
  },
  {
   "cell_type": "code",
   "execution_count": 2,
   "id": "4bb167c2",
   "metadata": {},
   "outputs": [],
   "source": [
    "import requests"
   ]
  },
  {
   "cell_type": "code",
   "execution_count": 3,
   "id": "c39305b0",
   "metadata": {},
   "outputs": [],
   "source": [
    "Latin_NCAP_url = 'https://www.latinncap.com/en/results'"
   ]
  },
  {
   "cell_type": "code",
   "execution_count": 4,
   "id": "388852fa",
   "metadata": {},
   "outputs": [],
   "source": [
    "response = requests.get(Latin_NCAP_url)"
   ]
  },
  {
   "cell_type": "code",
   "execution_count": 5,
   "id": "a3fe6d38",
   "metadata": {},
   "outputs": [
    {
     "data": {
      "text/plain": [
       "200"
      ]
     },
     "execution_count": 5,
     "metadata": {},
     "output_type": "execute_result"
    }
   ],
   "source": [
    "response.status_code"
   ]
  },
  {
   "cell_type": "code",
   "execution_count": 6,
   "id": "338ec347",
   "metadata": {},
   "outputs": [
    {
     "data": {
      "text/plain": [
       "236875"
      ]
     },
     "execution_count": 6,
     "metadata": {},
     "output_type": "execute_result"
    }
   ],
   "source": [
    "len(response.text)"
   ]
  },
  {
   "cell_type": "code",
   "execution_count": 7,
   "id": "8e22478a",
   "metadata": {},
   "outputs": [],
   "source": [
    "Webpage_contents = response.text"
   ]
  },
  {
   "cell_type": "code",
   "execution_count": 8,
   "id": "22a9b6f9",
   "metadata": {},
   "outputs": [
    {
     "data": {
      "text/plain": [
       "'\\r\\n<!DOCTYPE html PUBLIC \"-//W3C//DTD XHTML 1.0 Transitional//EN\" \"http://www.w3.org/TR/xhtml1/DTD/xhtml1-transitional.dtd\">\\r\\n<html xmlns=\"http://www.w3.org/1999/xhtml\">\\r\\n\\r\\n<head>\\r\\n    <meta http-equiv=\"Content-Type\" content=\"text/html; charset=utf-8\" />\\n<title>LATIN NCAP</title>\\n<base href=\"https://www.latinncap.com/\"/>\\n<link rel=\"shortcut icon\" href=\"favicon.png?1101\">\\n<link rel=\"apple-touch-icon\" href=\"apple-touch-icon-76x76.png?2581\" />\\n<link rel=\"apple-touch-icon\" href=\"apple-touch-icon-120x120.png?4543\" />\\n<link rel=\"apple-touch-icon\" href=\"apple-touch-icon-152x152.png?6276\" />\\n\\n<meta name=\"Description\" content=\"Latin NCAP is an independent assessment program for new vehicles in Latin America and the Caribbean\"> \\n<meta name=\"Keywords\" content=\"Latin NCAP, Latinncap, NCAP,New Car Assessment Programme for Latin America and the Caribbean, car safety ratings, car star rating, safety assessment for cars, crash test dummy,  crash test dummies, new car, new safe car, new vehicle, new saf'"
      ]
     },
     "execution_count": 8,
     "metadata": {},
     "output_type": "execute_result"
    }
   ],
   "source": [
    "Webpage_contents[:1000]\n"
   ]
  },
  {
   "cell_type": "code",
   "execution_count": 9,
   "id": "6ffd5375",
   "metadata": {},
   "outputs": [],
   "source": [
    "!pip install beautifulsoup4 --upgrade --quiet"
   ]
  },
  {
   "cell_type": "code",
   "execution_count": 10,
   "id": "bbc85914",
   "metadata": {},
   "outputs": [],
   "source": [
    "from bs4 import BeautifulSoup\n"
   ]
  },
  {
   "cell_type": "code",
   "execution_count": 11,
   "id": "82750f5e",
   "metadata": {},
   "outputs": [],
   "source": [
    "doc = BeautifulSoup(Webpage_contents, 'html.parser')"
   ]
  },
  {
   "cell_type": "markdown",
   "id": "6f558b1a",
   "metadata": {},
   "source": [
    "The format of data ---> Brand , Model , Date , Stars , Protection of Grown ups Occupant , Protection of Child Occupant,\n",
    "Protection of Pedestrain , vulnerable users , Safety assist systems"
   ]
  },
  {
   "cell_type": "markdown",
   "id": "1e241da4",
   "metadata": {},
   "source": [
    "# BRANDS COLUMN"
   ]
  },
  {
   "cell_type": "code",
   "execution_count": 12,
   "id": "88ef31d7",
   "metadata": {},
   "outputs": [],
   "source": [
    "selection_class = \"tit-marca\"\n",
    "Brand_tags = doc.find_all('span',{'class': selection_class}) "
   ]
  },
  {
   "cell_type": "code",
   "execution_count": 13,
   "id": "9f3d6ef8",
   "metadata": {},
   "outputs": [
    {
     "data": {
      "text/plain": [
       "44"
      ]
     },
     "execution_count": 13,
     "metadata": {},
     "output_type": "execute_result"
    }
   ],
   "source": [
    "len(Brand_tags)"
   ]
  },
  {
   "cell_type": "code",
   "execution_count": 14,
   "id": "fec7c461",
   "metadata": {},
   "outputs": [
    {
     "data": {
      "text/plain": [
       "[<span class=\"tit-marca\">Fiat</span>,\n",
       " <span class=\"tit-marca\">Ford</span>,\n",
       " <span class=\"tit-marca\">Great Wall Motors</span>,\n",
       " <span class=\"tit-marca\">Hyundai</span>,\n",
       " <span class=\"tit-marca\">Kia</span>,\n",
       " <span class=\"tit-marca\">Peugeot</span>,\n",
       " <span class=\"tit-marca\">Renault</span>,\n",
       " <span class=\"tit-marca\">Suzuki</span>,\n",
       " <span class=\"tit-marca\">Toyota</span>,\n",
       " <span class=\"tit-marca\">Volkswagen</span>]"
      ]
     },
     "execution_count": 14,
     "metadata": {},
     "output_type": "execute_result"
    }
   ],
   "source": [
    "Brand_tags[:10]"
   ]
  },
  {
   "cell_type": "code",
   "execution_count": 15,
   "id": "32424d23",
   "metadata": {},
   "outputs": [
    {
     "data": {
      "text/plain": [
       "['Fiat',\n",
       " 'Ford',\n",
       " 'Great Wall Motors',\n",
       " 'Hyundai',\n",
       " 'Kia',\n",
       " 'Peugeot',\n",
       " 'Renault',\n",
       " 'Suzuki',\n",
       " 'Toyota',\n",
       " 'Volkswagen',\n",
       " 'BYD',\n",
       " 'Chery',\n",
       " 'Chevrolet',\n",
       " 'Fiat',\n",
       " 'Ford',\n",
       " 'Hyundai',\n",
       " 'Kia',\n",
       " 'Mazda',\n",
       " 'Mitsubishi',\n",
       " 'Nissan',\n",
       " 'Peugeot',\n",
       " 'Renault',\n",
       " 'Seat',\n",
       " 'Toyota',\n",
       " 'Volkswagen',\n",
       " 'Chery',\n",
       " 'Chevrolet',\n",
       " 'Citroen',\n",
       " 'Fiat',\n",
       " 'Ford',\n",
       " 'Geely',\n",
       " 'Honda',\n",
       " 'Hyundai',\n",
       " 'JAC',\n",
       " 'Jeep',\n",
       " 'Lifan',\n",
       " 'Mitsubishi',\n",
       " 'Nissan',\n",
       " 'Peugeot',\n",
       " 'Renault',\n",
       " 'Seat',\n",
       " 'Suzuki',\n",
       " 'Toyota',\n",
       " 'Volkswagen']"
      ]
     },
     "execution_count": 15,
     "metadata": {},
     "output_type": "execute_result"
    }
   ],
   "source": [
    "Brand_titles = []\n",
    "\n",
    "for tag in Brand_tags:\n",
    "    Brand_titles.append(tag.text)\n",
    "(Brand_titles)"
   ]
  },
  {
   "cell_type": "code",
   "execution_count": 16,
   "id": "79a81f27",
   "metadata": {},
   "outputs": [
    {
     "data": {
      "text/plain": [
       "44"
      ]
     },
     "execution_count": 16,
     "metadata": {},
     "output_type": "execute_result"
    }
   ],
   "source": [
    "len(Brand_titles)"
   ]
  },
  {
   "cell_type": "markdown",
   "id": "7c43a1c6",
   "metadata": {},
   "source": [
    "# MODELS COLUMN"
   ]
  },
  {
   "cell_type": "code",
   "execution_count": 17,
   "id": "a8f620f1",
   "metadata": {},
   "outputs": [],
   "source": [
    "Model_tags = doc.find_all('h3',class_ = False,id = False)"
   ]
  },
  {
   "cell_type": "code",
   "execution_count": 18,
   "id": "be373a61",
   "metadata": {},
   "outputs": [
    {
     "data": {
      "text/plain": [
       "148"
      ]
     },
     "execution_count": 18,
     "metadata": {},
     "output_type": "execute_result"
    }
   ],
   "source": [
    "len(Model_tags)"
   ]
  },
  {
   "cell_type": "code",
   "execution_count": 19,
   "id": "cd5663cf",
   "metadata": {},
   "outputs": [
    {
     "data": {
      "text/plain": [
       "[<h3>Fiat Argo / Cronos + 2 Airbags</h3>,\n",
       " <h3>Ford Ka + 2 Airbags</h3>,\n",
       " <h3>Great Wall Motors Wingle 5 + 2 Airbags</h3>,\n",
       " <h3>Hyundai Accent + 1 Airbag</h3>,\n",
       " <h3>Hyundai Tucson + 2 Airbags</h3>,\n",
       " <h3>Hyundai HB20 + 2 Airbags</h3>,\n",
       " <h3>Kia Sportage + 2 Airbags</h3>,\n",
       " <h3>Kia Picanto / Morning + 1 Airbag</h3>,\n",
       " <h3>Peugeot 208 + 4 Airbags</h3>,\n",
       " <h3>Renault Duster + 2 Airbags</h3>]"
      ]
     },
     "execution_count": 19,
     "metadata": {},
     "output_type": "execute_result"
    }
   ],
   "source": [
    "Model_tags[:10]"
   ]
  },
  {
   "cell_type": "code",
   "execution_count": 20,
   "id": "f30d4ca9",
   "metadata": {},
   "outputs": [
    {
     "data": {
      "text/plain": [
       "148"
      ]
     },
     "execution_count": 20,
     "metadata": {},
     "output_type": "execute_result"
    }
   ],
   "source": [
    "Model_titles = []\n",
    "\n",
    "for tag in Model_tags:\n",
    "    Model_titles.append(tag.text)\n",
    "len(Model_titles)"
   ]
  },
  {
   "cell_type": "markdown",
   "id": "f5a91fda",
   "metadata": {},
   "source": [
    "# DATES COLUMN"
   ]
  },
  {
   "cell_type": "code",
   "execution_count": 21,
   "id": "a2c02c1c",
   "metadata": {},
   "outputs": [],
   "source": [
    "Date_class = \"colum colum-fecha\" \n",
    "Date_tags = doc.find_all('div',{'class': Date_class})"
   ]
  },
  {
   "cell_type": "code",
   "execution_count": 22,
   "id": "bbe907d4",
   "metadata": {},
   "outputs": [
    {
     "data": {
      "text/plain": [
       "[<div class=\"colum colum-fecha\">\n",
       " \t        December-2021\t        </div>,\n",
       " <div class=\"colum colum-fecha\">\n",
       " \t        December-2020\t        </div>,\n",
       " <div class=\"colum colum-fecha\">\n",
       " \t        December-2021\t        </div>,\n",
       " <div class=\"colum colum-fecha\">\n",
       " \t        December-2021\t        </div>,\n",
       " <div class=\"colum colum-fecha\">\n",
       " \t        December-2021\t        </div>,\n",
       " <div class=\"colum colum-fecha\">\n",
       " \t        December-2020\t        </div>,\n",
       " <div class=\"colum colum-fecha\">\n",
       " \t        December-2021\t        </div>,\n",
       " <div class=\"colum colum-fecha\">\n",
       " \t        October-2020\t        </div>,\n",
       " <div class=\"colum colum-fecha\">\n",
       " \t        December-2021\t        </div>,\n",
       " <div class=\"colum colum-fecha\">\n",
       " \t        August-2021\t        </div>]"
      ]
     },
     "execution_count": 22,
     "metadata": {},
     "output_type": "execute_result"
    }
   ],
   "source": [
    "Date_tags[:10]"
   ]
  },
  {
   "cell_type": "code",
   "execution_count": 23,
   "id": "3b61e2c7",
   "metadata": {},
   "outputs": [
    {
     "data": {
      "text/plain": [
       "79"
      ]
     },
     "execution_count": 23,
     "metadata": {},
     "output_type": "execute_result"
    }
   ],
   "source": [
    "Date_titles = []\n",
    "\n",
    "for tag in Date_tags:\n",
    "    Date_titles.append(tag.text)\n",
    "len(Date_titles)"
   ]
  },
  {
   "cell_type": "code",
   "execution_count": 24,
   "id": "f6bd07c5",
   "metadata": {},
   "outputs": [
    {
     "data": {
      "text/plain": [
       "'        December-2021\\t        '"
      ]
     },
     "execution_count": 24,
     "metadata": {},
     "output_type": "execute_result"
    }
   ],
   "source": [
    "char = '\\n\\t'\n",
    "result = [ele.replace(char, '') for ele in Date_titles]\n",
    "result[0] "
   ]
  },
  {
   "cell_type": "code",
   "execution_count": 25,
   "id": "f3e36ff6",
   "metadata": {},
   "outputs": [
    {
     "data": {
      "text/plain": [
       "'        December-2020\\t        '"
      ]
     },
     "execution_count": 25,
     "metadata": {},
     "output_type": "execute_result"
    }
   ],
   "source": [
    "result[1]"
   ]
  },
  {
   "cell_type": "code",
   "execution_count": 26,
   "id": "56f6d200",
   "metadata": {},
   "outputs": [
    {
     "data": {
      "text/plain": [
       "'        November-2019\\t        '"
      ]
     },
     "execution_count": 26,
     "metadata": {},
     "output_type": "execute_result"
    }
   ],
   "source": [
    "result[45]"
   ]
  },
  {
   "cell_type": "code",
   "execution_count": 27,
   "id": "4e2e6cdd",
   "metadata": {},
   "outputs": [
    {
     "data": {
      "text/plain": [
       "'        December-2021        '"
      ]
     },
     "execution_count": 27,
     "metadata": {},
     "output_type": "execute_result"
    }
   ],
   "source": [
    "char = '\\t'\n",
    "result = [ele.replace(char, '') for ele in result]\n",
    "result[0] "
   ]
  },
  {
   "cell_type": "markdown",
   "id": "a49653c9",
   "metadata": {},
   "source": [
    "# GROWN_UPS COLUMN"
   ]
  },
  {
   "cell_type": "code",
   "execution_count": 28,
   "id": "d6bd5a93",
   "metadata": {},
   "outputs": [],
   "source": [
    "Grown_ups_class = \"porcentaje adulto\"\n",
    "Grown_ups_tags = doc.find_all('div',{'class': Grown_ups_class})"
   ]
  },
  {
   "cell_type": "code",
   "execution_count": 29,
   "id": "69f01e0e",
   "metadata": {},
   "outputs": [
    {
     "data": {
      "text/plain": [
       "[<div class=\"porcentaje adulto\">24%</div>,\n",
       " <div class=\"porcentaje adulto\">34%</div>,\n",
       " <div class=\"porcentaje adulto\">9%</div>,\n",
       " <div class=\"porcentaje adulto\">9%</div>,\n",
       " <div class=\"porcentaje adulto\">51%</div>,\n",
       " <div class=\"porcentaje adulto\">19%</div>,\n",
       " <div class=\"porcentaje adulto\">48%</div>,\n",
       " <div class=\"porcentaje adulto\">0%</div>,\n",
       " <div class=\"porcentaje adulto\">52%</div>,\n",
       " <div class=\"porcentaje adulto\">29%</div>]"
      ]
     },
     "execution_count": 29,
     "metadata": {},
     "output_type": "execute_result"
    }
   ],
   "source": [
    "Grown_ups_tags[:10]"
   ]
  },
  {
   "cell_type": "code",
   "execution_count": 30,
   "id": "ead67407",
   "metadata": {},
   "outputs": [
    {
     "data": {
      "text/plain": [
       "['24%',\n",
       " '34%',\n",
       " '9%',\n",
       " '9%',\n",
       " '51%',\n",
       " '19%',\n",
       " '48%',\n",
       " '0%',\n",
       " '52%',\n",
       " '29%',\n",
       " '20%',\n",
       " '16%',\n",
       " '41%',\n",
       " '90%']"
      ]
     },
     "execution_count": 30,
     "metadata": {},
     "output_type": "execute_result"
    }
   ],
   "source": [
    "Grown_ups_titles = []\n",
    "for tag in Grown_ups_tags:\n",
    "    Grown_ups_titles.append(tag.text)\n",
    "Grown_ups_titles"
   ]
  },
  {
   "cell_type": "code",
   "execution_count": 31,
   "id": "ae1f76b1",
   "metadata": {},
   "outputs": [
    {
     "data": {
      "text/plain": [
       "14"
      ]
     },
     "execution_count": 31,
     "metadata": {},
     "output_type": "execute_result"
    }
   ],
   "source": [
    "len(Grown_ups_titles)"
   ]
  },
  {
   "cell_type": "code",
   "execution_count": 32,
   "id": "8926ad82",
   "metadata": {},
   "outputs": [],
   "source": [
    "Child_class = 'porcentaje nino'\n",
    "Child_tags = doc.find_all('div',{'class': Child_class})"
   ]
  },
  {
   "cell_type": "code",
   "execution_count": 33,
   "id": "c2c1045e",
   "metadata": {},
   "outputs": [
    {
     "data": {
      "text/plain": [
       "[<div class=\"porcentaje nino\">10%</div>,\n",
       " <div class=\"porcentaje nino\">9%</div>,\n",
       " <div class=\"porcentaje nino\">0%</div>,\n",
       " <div class=\"porcentaje nino\">13%</div>,\n",
       " <div class=\"porcentaje nino\">4%</div>,\n",
       " <div class=\"porcentaje nino\">10%</div>,\n",
       " <div class=\"porcentaje nino\">15%</div>,\n",
       " <div class=\"porcentaje nino\">29%</div>,\n",
       " <div class=\"porcentaje nino\">55%</div>,\n",
       " <div class=\"porcentaje nino\">23%</div>]"
      ]
     },
     "execution_count": 33,
     "metadata": {},
     "output_type": "execute_result"
    }
   ],
   "source": [
    "Child_tags[:10]"
   ]
  },
  {
   "cell_type": "code",
   "execution_count": 34,
   "id": "58ef341e",
   "metadata": {},
   "outputs": [
    {
     "data": {
      "text/plain": [
       "['10%',\n",
       " '9%',\n",
       " '0%',\n",
       " '13%',\n",
       " '4%',\n",
       " '10%',\n",
       " '15%',\n",
       " '29%',\n",
       " '55%',\n",
       " '23%',\n",
       " '17%',\n",
       " '0%',\n",
       " '64%',\n",
       " '90%']"
      ]
     },
     "execution_count": 34,
     "metadata": {},
     "output_type": "execute_result"
    }
   ],
   "source": [
    "Child_titles = []\n",
    "for tag in Child_tags:\n",
    "    Child_titles.append(tag.text)\n",
    "Child_titles"
   ]
  },
  {
   "cell_type": "code",
   "execution_count": 35,
   "id": "e60092b6",
   "metadata": {},
   "outputs": [
    {
     "data": {
      "text/plain": [
       "14"
      ]
     },
     "execution_count": 35,
     "metadata": {},
     "output_type": "execute_result"
    }
   ],
   "source": [
    "len(Child_titles)"
   ]
  },
  {
   "cell_type": "code",
   "execution_count": 36,
   "id": "df2c1f0d",
   "metadata": {},
   "outputs": [],
   "source": [
    "Pedestrian_class = \"porcentaje usuarios\"\n",
    "Pedestrian_tags = doc.find_all('div',{'class': Pedestrian_class})\n"
   ]
  },
  {
   "cell_type": "code",
   "execution_count": 37,
   "id": "5d2ca20b",
   "metadata": {},
   "outputs": [
    {
     "data": {
      "text/plain": [
       "[<div class=\"porcentaje usuarios\">37%</div>,\n",
       " <div class=\"porcentaje usuarios\">50%</div>,\n",
       " <div class=\"porcentaje usuarios\">19%</div>,\n",
       " <div class=\"porcentaje usuarios\">53%</div>,\n",
       " <div class=\"porcentaje usuarios\">50%</div>,\n",
       " <div class=\"porcentaje usuarios\">43%</div>,\n",
       " <div class=\"porcentaje usuarios\">58%</div>,\n",
       " <div class=\"porcentaje usuarios\">51%</div>,\n",
       " <div class=\"porcentaje usuarios\">54%</div>,\n",
       " <div class=\"porcentaje usuarios\">51%</div>]"
      ]
     },
     "execution_count": 37,
     "metadata": {},
     "output_type": "execute_result"
    }
   ],
   "source": [
    "Pedestrian_tags[:10]"
   ]
  },
  {
   "cell_type": "code",
   "execution_count": 38,
   "id": "7b27da1c",
   "metadata": {},
   "outputs": [
    {
     "data": {
      "text/plain": [
       "['37%',\n",
       " '50%',\n",
       " '19%',\n",
       " '53%',\n",
       " '50%',\n",
       " '43%',\n",
       " '58%',\n",
       " '51%',\n",
       " '54%',\n",
       " '51%',\n",
       " '64%',\n",
       " '66%',\n",
       " '62%',\n",
       " '61%']"
      ]
     },
     "execution_count": 38,
     "metadata": {},
     "output_type": "execute_result"
    }
   ],
   "source": [
    "Pedestrian_titles = []\n",
    "for tag in Pedestrian_tags:\n",
    "    Pedestrian_titles.append(tag.text)\n",
    "Pedestrian_titles"
   ]
  },
  {
   "cell_type": "code",
   "execution_count": 39,
   "id": "6e183ce0",
   "metadata": {},
   "outputs": [
    {
     "data": {
      "text/plain": [
       "14"
      ]
     },
     "execution_count": 39,
     "metadata": {},
     "output_type": "execute_result"
    }
   ],
   "source": [
    "len(Pedestrian_titles)"
   ]
  },
  {
   "cell_type": "markdown",
   "id": "b727be74",
   "metadata": {},
   "source": [
    "# SAFETY COLUMN"
   ]
  },
  {
   "cell_type": "code",
   "execution_count": 40,
   "id": "04bef72c",
   "metadata": {},
   "outputs": [],
   "source": [
    "Safety_class = \"porcentaje asistentes\"\n",
    "Safety_tags = doc.find_all('div',{'class': Safety_class})"
   ]
  },
  {
   "cell_type": "code",
   "execution_count": 41,
   "id": "4e447445",
   "metadata": {},
   "outputs": [
    {
     "data": {
      "text/plain": [
       "[<div class=\"porcentaje asistentes\">7%</div>,\n",
       " <div class=\"porcentaje asistentes\">7%</div>,\n",
       " <div class=\"porcentaje asistentes\">0%</div>,\n",
       " <div class=\"porcentaje asistentes\">7%</div>,\n",
       " <div class=\"porcentaje asistentes\">7%</div>,\n",
       " <div class=\"porcentaje asistentes\">14%</div>,\n",
       " <div class=\"porcentaje asistentes\">7%</div>,\n",
       " <div class=\"porcentaje asistentes\">7%</div>,\n",
       " <div class=\"porcentaje asistentes\">56%</div>,\n",
       " <div class=\"porcentaje asistentes\">35%</div>]"
      ]
     },
     "execution_count": 41,
     "metadata": {},
     "output_type": "execute_result"
    }
   ],
   "source": [
    "Safety_tags[:10]"
   ]
  },
  {
   "cell_type": "code",
   "execution_count": 42,
   "id": "3cf173b6",
   "metadata": {},
   "outputs": [
    {
     "data": {
      "text/plain": [
       "['7%',\n",
       " '7%',\n",
       " '0%',\n",
       " '7%',\n",
       " '7%',\n",
       " '14%',\n",
       " '7%',\n",
       " '7%',\n",
       " '56%',\n",
       " '35%',\n",
       " '7%',\n",
       " '7%',\n",
       " '42%',\n",
       " '85%']"
      ]
     },
     "execution_count": 42,
     "metadata": {},
     "output_type": "execute_result"
    }
   ],
   "source": [
    "Safety_titles = []\n",
    "for tag in Safety_tags:\n",
    "    Safety_titles.append(tag.text)\n",
    "Safety_titles"
   ]
  },
  {
   "cell_type": "code",
   "execution_count": 43,
   "id": "7852db2e",
   "metadata": {},
   "outputs": [
    {
     "data": {
      "text/plain": [
       "14"
      ]
     },
     "execution_count": 43,
     "metadata": {},
     "output_type": "execute_result"
    }
   ],
   "source": [
    "len(Safety_titles)"
   ]
  },
  {
   "cell_type": "code",
   "execution_count": 44,
   "id": "0db828e3",
   "metadata": {},
   "outputs": [],
   "source": [
    "!pip install pandas --quiet"
   ]
  },
  {
   "cell_type": "code",
   "execution_count": 45,
   "id": "71dc9526",
   "metadata": {},
   "outputs": [],
   "source": [
    "import pandas as pd"
   ]
  },
  {
   "cell_type": "code",
   "execution_count": 46,
   "id": "1351f3bd",
   "metadata": {},
   "outputs": [],
   "source": [
    "NCAP_dict = {\n",
    "    \n",
    "    'Model': Model_titles[:14],\n",
    "    'Date': result[:14],\n",
    "    'Grown ups': Grown_ups_titles,\n",
    "    'Child': Child_titles,\n",
    "    'Pedestrian':Pedestrian_titles,\n",
    "    'Safety': Safety_titles}"
   ]
  },
  {
   "cell_type": "code",
   "execution_count": 47,
   "id": "605df4c8",
   "metadata": {},
   "outputs": [
    {
     "data": {
      "text/html": [
       "<div>\n",
       "<style scoped>\n",
       "    .dataframe tbody tr th:only-of-type {\n",
       "        vertical-align: middle;\n",
       "    }\n",
       "\n",
       "    .dataframe tbody tr th {\n",
       "        vertical-align: top;\n",
       "    }\n",
       "\n",
       "    .dataframe thead th {\n",
       "        text-align: right;\n",
       "    }\n",
       "</style>\n",
       "<table border=\"1\" class=\"dataframe\">\n",
       "  <thead>\n",
       "    <tr style=\"text-align: right;\">\n",
       "      <th></th>\n",
       "      <th>Model</th>\n",
       "      <th>Date</th>\n",
       "      <th>Grown ups</th>\n",
       "      <th>Child</th>\n",
       "      <th>Pedestrian</th>\n",
       "      <th>Safety</th>\n",
       "    </tr>\n",
       "  </thead>\n",
       "  <tbody>\n",
       "    <tr>\n",
       "      <th>0</th>\n",
       "      <td>Fiat Argo / Cronos + 2 Airbags</td>\n",
       "      <td>December-2021</td>\n",
       "      <td>24%</td>\n",
       "      <td>10%</td>\n",
       "      <td>37%</td>\n",
       "      <td>7%</td>\n",
       "    </tr>\n",
       "    <tr>\n",
       "      <th>1</th>\n",
       "      <td>Ford Ka + 2 Airbags</td>\n",
       "      <td>December-2020</td>\n",
       "      <td>34%</td>\n",
       "      <td>9%</td>\n",
       "      <td>50%</td>\n",
       "      <td>7%</td>\n",
       "    </tr>\n",
       "    <tr>\n",
       "      <th>2</th>\n",
       "      <td>Great Wall Motors Wingle 5 + 2 Airbags</td>\n",
       "      <td>December-2021</td>\n",
       "      <td>9%</td>\n",
       "      <td>0%</td>\n",
       "      <td>19%</td>\n",
       "      <td>0%</td>\n",
       "    </tr>\n",
       "    <tr>\n",
       "      <th>3</th>\n",
       "      <td>Hyundai Accent + 1 Airbag</td>\n",
       "      <td>December-2021</td>\n",
       "      <td>9%</td>\n",
       "      <td>13%</td>\n",
       "      <td>53%</td>\n",
       "      <td>7%</td>\n",
       "    </tr>\n",
       "    <tr>\n",
       "      <th>4</th>\n",
       "      <td>Hyundai Tucson + 2 Airbags</td>\n",
       "      <td>December-2021</td>\n",
       "      <td>51%</td>\n",
       "      <td>4%</td>\n",
       "      <td>50%</td>\n",
       "      <td>7%</td>\n",
       "    </tr>\n",
       "    <tr>\n",
       "      <th>5</th>\n",
       "      <td>Hyundai HB20 + 2 Airbags</td>\n",
       "      <td>December-2020</td>\n",
       "      <td>19%</td>\n",
       "      <td>10%</td>\n",
       "      <td>43%</td>\n",
       "      <td>14%</td>\n",
       "    </tr>\n",
       "    <tr>\n",
       "      <th>6</th>\n",
       "      <td>Kia Sportage + 2 Airbags</td>\n",
       "      <td>December-2021</td>\n",
       "      <td>48%</td>\n",
       "      <td>15%</td>\n",
       "      <td>58%</td>\n",
       "      <td>7%</td>\n",
       "    </tr>\n",
       "    <tr>\n",
       "      <th>7</th>\n",
       "      <td>Kia Picanto / Morning + 1 Airbag</td>\n",
       "      <td>October-2020</td>\n",
       "      <td>0%</td>\n",
       "      <td>29%</td>\n",
       "      <td>51%</td>\n",
       "      <td>7%</td>\n",
       "    </tr>\n",
       "    <tr>\n",
       "      <th>8</th>\n",
       "      <td>Peugeot 208 + 4 Airbags</td>\n",
       "      <td>December-2021</td>\n",
       "      <td>52%</td>\n",
       "      <td>55%</td>\n",
       "      <td>54%</td>\n",
       "      <td>56%</td>\n",
       "    </tr>\n",
       "    <tr>\n",
       "      <th>9</th>\n",
       "      <td>Renault Duster + 2 Airbags</td>\n",
       "      <td>August-2021</td>\n",
       "      <td>29%</td>\n",
       "      <td>23%</td>\n",
       "      <td>51%</td>\n",
       "      <td>35%</td>\n",
       "    </tr>\n",
       "    <tr>\n",
       "      <th>10</th>\n",
       "      <td>Suzuki Baleno + 2 Airbags</td>\n",
       "      <td>October-2021</td>\n",
       "      <td>20%</td>\n",
       "      <td>17%</td>\n",
       "      <td>64%</td>\n",
       "      <td>7%</td>\n",
       "    </tr>\n",
       "    <tr>\n",
       "      <th>11</th>\n",
       "      <td>Suzuki Swift + 2 Airbags</td>\n",
       "      <td>August-2021</td>\n",
       "      <td>16%</td>\n",
       "      <td>0%</td>\n",
       "      <td>66%</td>\n",
       "      <td>7%</td>\n",
       "    </tr>\n",
       "    <tr>\n",
       "      <th>12</th>\n",
       "      <td>Toyota Yaris + 2 Airbags</td>\n",
       "      <td>October-2021</td>\n",
       "      <td>41%</td>\n",
       "      <td>64%</td>\n",
       "      <td>62%</td>\n",
       "      <td>42%</td>\n",
       "    </tr>\n",
       "    <tr>\n",
       "      <th>13</th>\n",
       "      <td>Volkswagen Taos + 6 Airbags</td>\n",
       "      <td>December-2021</td>\n",
       "      <td>90%</td>\n",
       "      <td>90%</td>\n",
       "      <td>61%</td>\n",
       "      <td>85%</td>\n",
       "    </tr>\n",
       "  </tbody>\n",
       "</table>\n",
       "</div>"
      ],
      "text/plain": [
       "                                     Model                           Date  \\\n",
       "0           Fiat Argo / Cronos + 2 Airbags          December-2021           \n",
       "1                      Ford Ka + 2 Airbags          December-2020           \n",
       "2   Great Wall Motors Wingle 5 + 2 Airbags          December-2021           \n",
       "3                Hyundai Accent + 1 Airbag          December-2021           \n",
       "4               Hyundai Tucson + 2 Airbags          December-2021           \n",
       "5                 Hyundai HB20 + 2 Airbags          December-2020           \n",
       "6                 Kia Sportage + 2 Airbags          December-2021           \n",
       "7         Kia Picanto / Morning + 1 Airbag           October-2020           \n",
       "8                  Peugeot 208 + 4 Airbags          December-2021           \n",
       "9               Renault Duster + 2 Airbags            August-2021           \n",
       "10               Suzuki Baleno + 2 Airbags           October-2021           \n",
       "11                Suzuki Swift + 2 Airbags            August-2021           \n",
       "12                Toyota Yaris + 2 Airbags           October-2021           \n",
       "13             Volkswagen Taos + 6 Airbags          December-2021           \n",
       "\n",
       "   Grown ups Child Pedestrian Safety  \n",
       "0        24%   10%        37%     7%  \n",
       "1        34%    9%        50%     7%  \n",
       "2         9%    0%        19%     0%  \n",
       "3         9%   13%        53%     7%  \n",
       "4        51%    4%        50%     7%  \n",
       "5        19%   10%        43%    14%  \n",
       "6        48%   15%        58%     7%  \n",
       "7         0%   29%        51%     7%  \n",
       "8        52%   55%        54%    56%  \n",
       "9        29%   23%        51%    35%  \n",
       "10       20%   17%        64%     7%  \n",
       "11       16%    0%        66%     7%  \n",
       "12       41%   64%        62%    42%  \n",
       "13       90%   90%        61%    85%  "
      ]
     },
     "execution_count": 47,
     "metadata": {},
     "output_type": "execute_result"
    }
   ],
   "source": [
    "NCAP_df = pd.DataFrame(NCAP_dict)\n",
    "NCAP_df"
   ]
  },
  {
   "cell_type": "code",
   "execution_count": 48,
   "id": "c5b1b892",
   "metadata": {},
   "outputs": [],
   "source": [
    "driver_class = \"colum colum-240 adulto\"\n",
    "Grown_ups_occupant = doc.find_all('div',{'class': driver_class})"
   ]
  },
  {
   "cell_type": "code",
   "execution_count": 49,
   "id": "4827f704",
   "metadata": {},
   "outputs": [
    {
     "data": {
      "text/plain": [
       "134"
      ]
     },
     "execution_count": 49,
     "metadata": {},
     "output_type": "execute_result"
    }
   ],
   "source": [
    "len(Grown_ups_occupant)"
   ]
  },
  {
   "cell_type": "code",
   "execution_count": 50,
   "id": "fa4588f8",
   "metadata": {},
   "outputs": [
    {
     "data": {
      "text/plain": [
       "134"
      ]
     },
     "execution_count": 50,
     "metadata": {},
     "output_type": "execute_result"
    }
   ],
   "source": [
    "Driversafety_titles = []\n",
    "\n",
    "for tag in Grown_ups_occupant:\n",
    "    Driversafety_titles.append(tag.text)\n",
    "len(Driversafety_titles)"
   ]
  },
  {
   "cell_type": "code",
   "execution_count": 51,
   "id": "3e58c40a",
   "metadata": {},
   "outputs": [
    {
     "data": {
      "text/plain": [
       "'0.00 max. 34.00 '"
      ]
     },
     "execution_count": 51,
     "metadata": {},
     "output_type": "execute_result"
    }
   ],
   "source": [
    "char = '\\n'\n",
    "result1 = [ele.replace(char, '') for ele in Driversafety_titles]\n",
    "result1[0]"
   ]
  },
  {
   "cell_type": "code",
   "execution_count": 52,
   "id": "65a527a8",
   "metadata": {},
   "outputs": [
    {
     "data": {
      "text/plain": [
       "'28.90 max. 34.00 '"
      ]
     },
     "execution_count": 52,
     "metadata": {},
     "output_type": "execute_result"
    }
   ],
   "source": [
    "char = '\\n'\n",
    "result1 = [ele.replace(char, '') for ele in Driversafety_titles]\n",
    "result1[3]"
   ]
  },
  {
   "cell_type": "code",
   "execution_count": 53,
   "id": "a54f9a8a",
   "metadata": {},
   "outputs": [
    {
     "data": {
      "text/plain": [
       "'\\n\\n\\n\\n\\n\\n\\n12.65 max. 49.00 \\n'"
      ]
     },
     "execution_count": 53,
     "metadata": {},
     "output_type": "execute_result"
    }
   ],
   "source": [
    "Child_class = \"colum colum-240 nino\"\n",
    "Child_occupant = doc.find_all('div',{'class': Child_class})\n",
    "Child_occupant[0].text"
   ]
  },
  {
   "cell_type": "code",
   "execution_count": 54,
   "id": "3c78a777",
   "metadata": {},
   "outputs": [
    {
     "data": {
      "text/plain": [
       "134"
      ]
     },
     "execution_count": 54,
     "metadata": {},
     "output_type": "execute_result"
    }
   ],
   "source": [
    "Childsafety_titles = []\n",
    "\n",
    "for tag in Child_occupant:\n",
    "    Childsafety_titles.append(tag.text)\n",
    "len(Childsafety_titles)"
   ]
  },
  {
   "cell_type": "code",
   "execution_count": 55,
   "id": "8e908e57",
   "metadata": {},
   "outputs": [
    {
     "data": {
      "text/plain": [
       "'12.65 max. 49.00 '"
      ]
     },
     "execution_count": 55,
     "metadata": {},
     "output_type": "execute_result"
    }
   ],
   "source": [
    "char = '\\n'\n",
    "result2 = [ele.replace(char, '') for ele in Childsafety_titles]\n",
    "result2[0]"
   ]
  },
  {
   "cell_type": "code",
   "execution_count": 56,
   "id": "c553696d",
   "metadata": {},
   "outputs": [
    {
     "data": {
      "text/plain": [
       "'44.33 max. 49.00 '"
      ]
     },
     "execution_count": 56,
     "metadata": {},
     "output_type": "execute_result"
    }
   ],
   "source": [
    "char = '\\n'\n",
    "result2 = [ele.replace(char, '') for ele in Childsafety_titles]\n",
    "result2[3]"
   ]
  },
  {
   "cell_type": "code",
   "execution_count": 57,
   "id": "72256bcf",
   "metadata": {},
   "outputs": [
    {
     "data": {
      "text/plain": [
       "'13.28 max. 49.00 '"
      ]
     },
     "execution_count": 57,
     "metadata": {},
     "output_type": "execute_result"
    }
   ],
   "source": [
    "char = '\\n'\n",
    "result2 = [ele.replace(char, '') for ele in Childsafety_titles]\n",
    "result2[10]"
   ]
  },
  {
   "cell_type": "code",
   "execution_count": 58,
   "id": "637938d6",
   "metadata": {},
   "outputs": [],
   "source": [
    "NCAP1_dict = {'Model': Model_titles[14:],\n",
    "              'Grown_ups_occupant': result1,\n",
    "              'Child occupant': result2}"
   ]
  },
  {
   "cell_type": "code",
   "execution_count": 59,
   "id": "8a24972b",
   "metadata": {},
   "outputs": [
    {
     "data": {
      "text/html": [
       "<div>\n",
       "<style scoped>\n",
       "    .dataframe tbody tr th:only-of-type {\n",
       "        vertical-align: middle;\n",
       "    }\n",
       "\n",
       "    .dataframe tbody tr th {\n",
       "        vertical-align: top;\n",
       "    }\n",
       "\n",
       "    .dataframe thead th {\n",
       "        text-align: right;\n",
       "    }\n",
       "</style>\n",
       "<table border=\"1\" class=\"dataframe\">\n",
       "  <thead>\n",
       "    <tr style=\"text-align: right;\">\n",
       "      <th></th>\n",
       "      <th>Model</th>\n",
       "      <th>Grown_ups_occupant</th>\n",
       "      <th>Child occupant</th>\n",
       "    </tr>\n",
       "  </thead>\n",
       "  <tbody>\n",
       "    <tr>\n",
       "      <th>0</th>\n",
       "      <td>BYD F0 - NO Airbags</td>\n",
       "      <td>0.00 max. 34.00</td>\n",
       "      <td>12.65 max. 49.00</td>\n",
       "    </tr>\n",
       "    <tr>\n",
       "      <th>1</th>\n",
       "      <td>Chery Tiggo 3 + 2 Airbags</td>\n",
       "      <td>0.00 max. 34.00</td>\n",
       "      <td>10.21 max. 49.00</td>\n",
       "    </tr>\n",
       "    <tr>\n",
       "      <th>2</th>\n",
       "      <td>Chevrolet New Aveo + 2 Airbags (from May 2019)...</td>\n",
       "      <td>23.76 max. 34.00</td>\n",
       "      <td>37.02 max. 49.00</td>\n",
       "    </tr>\n",
       "    <tr>\n",
       "      <th>3</th>\n",
       "      <td>Chevrolet New Onix Hatchback + 6 Airbags</td>\n",
       "      <td>28.90 max. 34.00</td>\n",
       "      <td>44.33 max. 49.00</td>\n",
       "    </tr>\n",
       "    <tr>\n",
       "      <th>4</th>\n",
       "      <td>Chevrolet New Onix Plus + 6 Airbags</td>\n",
       "      <td>28.34 max. 34.00</td>\n",
       "      <td>42.33 max. 49.00</td>\n",
       "    </tr>\n",
       "    <tr>\n",
       "      <th>...</th>\n",
       "      <td>...</td>\n",
       "      <td>...</td>\n",
       "      <td>...</td>\n",
       "    </tr>\n",
       "    <tr>\n",
       "      <th>129</th>\n",
       "      <td>Volkswagen Jetta / Vento + 2 Airbags</td>\n",
       "      <td>15.34 max. 17.00</td>\n",
       "      <td>39.20 max. 49.00</td>\n",
       "    </tr>\n",
       "    <tr>\n",
       "      <th>130</th>\n",
       "      <td>Volkswagen ClÃ¡sico (Bora) + 2 Airbags</td>\n",
       "      <td>10.27 max. 16.00</td>\n",
       "      <td>35.82 max. 49.00</td>\n",
       "    </tr>\n",
       "    <tr>\n",
       "      <th>131</th>\n",
       "      <td>Volkswagen Polo + 2 Airbags</td>\n",
       "      <td>11.34 max. 16.00</td>\n",
       "      <td>36.95 max. 49.00</td>\n",
       "    </tr>\n",
       "    <tr>\n",
       "      <th>132</th>\n",
       "      <td>Volkswagen Gol Trend 1.6 + 2 Airbags</td>\n",
       "      <td>10.01 max. 16.00</td>\n",
       "      <td>21.16 max. 49.00</td>\n",
       "    </tr>\n",
       "    <tr>\n",
       "      <th>133</th>\n",
       "      <td>Volkswagen Gol Trend 1.6 - NO Airbags</td>\n",
       "      <td>5.75 max. 16.00</td>\n",
       "      <td>18.89 max. 49.00</td>\n",
       "    </tr>\n",
       "  </tbody>\n",
       "</table>\n",
       "<p>134 rows × 3 columns</p>\n",
       "</div>"
      ],
      "text/plain": [
       "                                                 Model Grown_ups_occupant  \\\n",
       "0                                  BYD F0 - NO Airbags   0.00 max. 34.00    \n",
       "1                            Chery Tiggo 3 + 2 Airbags   0.00 max. 34.00    \n",
       "2    Chevrolet New Aveo + 2 Airbags (from May 2019)...  23.76 max. 34.00    \n",
       "3             Chevrolet New Onix Hatchback + 6 Airbags  28.90 max. 34.00    \n",
       "4                  Chevrolet New Onix Plus + 6 Airbags  28.34 max. 34.00    \n",
       "..                                                 ...                ...   \n",
       "129               Volkswagen Jetta / Vento + 2 Airbags  15.34 max. 17.00    \n",
       "130             Volkswagen ClÃ¡sico (Bora) + 2 Airbags  10.27 max. 16.00    \n",
       "131                        Volkswagen Polo + 2 Airbags  11.34 max. 16.00    \n",
       "132               Volkswagen Gol Trend 1.6 + 2 Airbags  10.01 max. 16.00    \n",
       "133              Volkswagen Gol Trend 1.6 - NO Airbags   5.75 max. 16.00    \n",
       "\n",
       "        Child occupant  \n",
       "0    12.65 max. 49.00   \n",
       "1    10.21 max. 49.00   \n",
       "2    37.02 max. 49.00   \n",
       "3    44.33 max. 49.00   \n",
       "4    42.33 max. 49.00   \n",
       "..                 ...  \n",
       "129  39.20 max. 49.00   \n",
       "130  35.82 max. 49.00   \n",
       "131  36.95 max. 49.00   \n",
       "132  21.16 max. 49.00   \n",
       "133  18.89 max. 49.00   \n",
       "\n",
       "[134 rows x 3 columns]"
      ]
     },
     "execution_count": 59,
     "metadata": {},
     "output_type": "execute_result"
    }
   ],
   "source": [
    "NCAP1_df = pd.DataFrame(NCAP1_dict)\n",
    "NCAP1_df"
   ]
  },
  {
   "cell_type": "code",
   "execution_count": 60,
   "id": "fc304cf1",
   "metadata": {},
   "outputs": [
    {
     "data": {
      "text/html": [
       "<div>\n",
       "<style scoped>\n",
       "    .dataframe tbody tr th:only-of-type {\n",
       "        vertical-align: middle;\n",
       "    }\n",
       "\n",
       "    .dataframe tbody tr th {\n",
       "        vertical-align: top;\n",
       "    }\n",
       "\n",
       "    .dataframe thead th {\n",
       "        text-align: right;\n",
       "    }\n",
       "</style>\n",
       "<table border=\"1\" class=\"dataframe\">\n",
       "  <thead>\n",
       "    <tr style=\"text-align: right;\">\n",
       "      <th></th>\n",
       "      <th>Model</th>\n",
       "      <th>Grown_ups_occupant</th>\n",
       "      <th>Child occupant</th>\n",
       "    </tr>\n",
       "  </thead>\n",
       "  <tbody>\n",
       "    <tr>\n",
       "      <th>0</th>\n",
       "      <td>BYD F0 - NO Airbags</td>\n",
       "      <td>0.00 max. 34.00</td>\n",
       "      <td>12.65 max. 49.00</td>\n",
       "    </tr>\n",
       "    <tr>\n",
       "      <th>1</th>\n",
       "      <td>Chery Tiggo 3 + 2 Airbags</td>\n",
       "      <td>0.00 max. 34.00</td>\n",
       "      <td>10.21 max. 49.00</td>\n",
       "    </tr>\n",
       "    <tr>\n",
       "      <th>2</th>\n",
       "      <td>Chevrolet New Aveo + 2 Airbags (from May 2019)...</td>\n",
       "      <td>23.76 max. 34.00</td>\n",
       "      <td>37.02 max. 49.00</td>\n",
       "    </tr>\n",
       "    <tr>\n",
       "      <th>3</th>\n",
       "      <td>Chevrolet New Onix Hatchback + 6 Airbags</td>\n",
       "      <td>28.90 max. 34.00</td>\n",
       "      <td>44.33 max. 49.00</td>\n",
       "    </tr>\n",
       "    <tr>\n",
       "      <th>4</th>\n",
       "      <td>Chevrolet New Onix Plus + 6 Airbags</td>\n",
       "      <td>28.34 max. 34.00</td>\n",
       "      <td>42.33 max. 49.00</td>\n",
       "    </tr>\n",
       "    <tr>\n",
       "      <th>5</th>\n",
       "      <td>Chevrolet Cruze + 6 Airbags (from 21/05/2019) ...</td>\n",
       "      <td>30.23 max. 34.00</td>\n",
       "      <td>39.83 max. 49.00</td>\n",
       "    </tr>\n",
       "    <tr>\n",
       "      <th>6</th>\n",
       "      <td>Chevrolet New Aveo + 2 Airbags</td>\n",
       "      <td>23.76 max. 34.00</td>\n",
       "      <td>37.02 max. 49.00</td>\n",
       "    </tr>\n",
       "    <tr>\n",
       "      <th>7</th>\n",
       "      <td>Chevrolet Cruze + 4 Airbags</td>\n",
       "      <td>30.23 max. 34.00</td>\n",
       "      <td>38.75 max. 49.00</td>\n",
       "    </tr>\n",
       "    <tr>\n",
       "      <th>8</th>\n",
       "      <td>Chevrolet Onix/Prisma + 2 Airbags (from 15/01/...</td>\n",
       "      <td>20.24 max. 34.00</td>\n",
       "      <td>32.59 max. 49.00</td>\n",
       "    </tr>\n",
       "    <tr>\n",
       "      <th>9</th>\n",
       "      <td>Chevrolet Aveo + 2 Airbags</td>\n",
       "      <td>17.49 max. 34.00</td>\n",
       "      <td>30.11 max. 49.00</td>\n",
       "    </tr>\n",
       "    <tr>\n",
       "      <th>10</th>\n",
       "      <td>Chevrolet N300 (passengers) - NO Airbags</td>\n",
       "      <td>11.92 max. 34.00</td>\n",
       "      <td>13.28 max. 49.00</td>\n",
       "    </tr>\n",
       "  </tbody>\n",
       "</table>\n",
       "</div>"
      ],
      "text/plain": [
       "                                                Model Grown_ups_occupant  \\\n",
       "0                                 BYD F0 - NO Airbags   0.00 max. 34.00    \n",
       "1                           Chery Tiggo 3 + 2 Airbags   0.00 max. 34.00    \n",
       "2   Chevrolet New Aveo + 2 Airbags (from May 2019)...  23.76 max. 34.00    \n",
       "3            Chevrolet New Onix Hatchback + 6 Airbags  28.90 max. 34.00    \n",
       "4                 Chevrolet New Onix Plus + 6 Airbags  28.34 max. 34.00    \n",
       "5   Chevrolet Cruze + 6 Airbags (from 21/05/2019) ...  30.23 max. 34.00    \n",
       "6                      Chevrolet New Aveo + 2 Airbags  23.76 max. 34.00    \n",
       "7                         Chevrolet Cruze + 4 Airbags  30.23 max. 34.00    \n",
       "8   Chevrolet Onix/Prisma + 2 Airbags (from 15/01/...  20.24 max. 34.00    \n",
       "9                          Chevrolet Aveo + 2 Airbags  17.49 max. 34.00    \n",
       "10           Chevrolet N300 (passengers) - NO Airbags  11.92 max. 34.00    \n",
       "\n",
       "       Child occupant  \n",
       "0   12.65 max. 49.00   \n",
       "1   10.21 max. 49.00   \n",
       "2   37.02 max. 49.00   \n",
       "3   44.33 max. 49.00   \n",
       "4   42.33 max. 49.00   \n",
       "5   39.83 max. 49.00   \n",
       "6   37.02 max. 49.00   \n",
       "7   38.75 max. 49.00   \n",
       "8   32.59 max. 49.00   \n",
       "9   30.11 max. 49.00   \n",
       "10  13.28 max. 49.00   "
      ]
     },
     "execution_count": 60,
     "metadata": {},
     "output_type": "execute_result"
    }
   ],
   "source": [
    "NCAP1_df.head(11)"
   ]
  },
  {
   "cell_type": "code",
   "execution_count": 61,
   "id": "eef806c1",
   "metadata": {},
   "outputs": [
    {
     "data": {
      "text/html": [
       "<div>\n",
       "<style scoped>\n",
       "    .dataframe tbody tr th:only-of-type {\n",
       "        vertical-align: middle;\n",
       "    }\n",
       "\n",
       "    .dataframe tbody tr th {\n",
       "        vertical-align: top;\n",
       "    }\n",
       "\n",
       "    .dataframe thead th {\n",
       "        text-align: right;\n",
       "    }\n",
       "</style>\n",
       "<table border=\"1\" class=\"dataframe\">\n",
       "  <thead>\n",
       "    <tr style=\"text-align: right;\">\n",
       "      <th></th>\n",
       "      <th>Model</th>\n",
       "      <th>Grown_ups_occupant</th>\n",
       "      <th>Child occupant</th>\n",
       "    </tr>\n",
       "  </thead>\n",
       "  <tbody>\n",
       "    <tr>\n",
       "      <th>0</th>\n",
       "      <td>BYD F0 - NO Airbags</td>\n",
       "      <td>0.00 max. 34.00</td>\n",
       "      <td>12.65 max. 49.00</td>\n",
       "    </tr>\n",
       "    <tr>\n",
       "      <th>1</th>\n",
       "      <td>Chery Tiggo 3 + 2 Airbags</td>\n",
       "      <td>0.00 max. 34.00</td>\n",
       "      <td>10.21 max. 49.00</td>\n",
       "    </tr>\n",
       "    <tr>\n",
       "      <th>2</th>\n",
       "      <td>Chevrolet New Aveo + 2 Airbags (from May 2019)...</td>\n",
       "      <td>23.76 max. 34.00</td>\n",
       "      <td>37.02 max. 49.00</td>\n",
       "    </tr>\n",
       "    <tr>\n",
       "      <th>3</th>\n",
       "      <td>Chevrolet New Onix Hatchback + 6 Airbags</td>\n",
       "      <td>28.90 max. 34.00</td>\n",
       "      <td>44.33 max. 49.00</td>\n",
       "    </tr>\n",
       "    <tr>\n",
       "      <th>4</th>\n",
       "      <td>Chevrolet New Onix Plus + 6 Airbags</td>\n",
       "      <td>28.34 max. 34.00</td>\n",
       "      <td>42.33 max. 49.00</td>\n",
       "    </tr>\n",
       "    <tr>\n",
       "      <th>...</th>\n",
       "      <td>...</td>\n",
       "      <td>...</td>\n",
       "      <td>...</td>\n",
       "    </tr>\n",
       "    <tr>\n",
       "      <th>129</th>\n",
       "      <td>Volkswagen Jetta / Vento + 2 Airbags</td>\n",
       "      <td>15.34 max. 17.00</td>\n",
       "      <td>39.20 max. 49.00</td>\n",
       "    </tr>\n",
       "    <tr>\n",
       "      <th>130</th>\n",
       "      <td>Volkswagen ClÃ¡sico (Bora) + 2 Airbags</td>\n",
       "      <td>10.27 max. 16.00</td>\n",
       "      <td>35.82 max. 49.00</td>\n",
       "    </tr>\n",
       "    <tr>\n",
       "      <th>131</th>\n",
       "      <td>Volkswagen Polo + 2 Airbags</td>\n",
       "      <td>11.34 max. 16.00</td>\n",
       "      <td>36.95 max. 49.00</td>\n",
       "    </tr>\n",
       "    <tr>\n",
       "      <th>132</th>\n",
       "      <td>Volkswagen Gol Trend 1.6 + 2 Airbags</td>\n",
       "      <td>10.01 max. 16.00</td>\n",
       "      <td>21.16 max. 49.00</td>\n",
       "    </tr>\n",
       "    <tr>\n",
       "      <th>133</th>\n",
       "      <td>Volkswagen Gol Trend 1.6 - NO Airbags</td>\n",
       "      <td>5.75 max. 16.00</td>\n",
       "      <td>18.89 max. 49.00</td>\n",
       "    </tr>\n",
       "  </tbody>\n",
       "</table>\n",
       "<p>134 rows × 3 columns</p>\n",
       "</div>"
      ],
      "text/plain": [
       "                                                 Model Grown_ups_occupant  \\\n",
       "0                                  BYD F0 - NO Airbags   0.00 max. 34.00    \n",
       "1                            Chery Tiggo 3 + 2 Airbags   0.00 max. 34.00    \n",
       "2    Chevrolet New Aveo + 2 Airbags (from May 2019)...  23.76 max. 34.00    \n",
       "3             Chevrolet New Onix Hatchback + 6 Airbags  28.90 max. 34.00    \n",
       "4                  Chevrolet New Onix Plus + 6 Airbags  28.34 max. 34.00    \n",
       "..                                                 ...                ...   \n",
       "129               Volkswagen Jetta / Vento + 2 Airbags  15.34 max. 17.00    \n",
       "130             Volkswagen ClÃ¡sico (Bora) + 2 Airbags  10.27 max. 16.00    \n",
       "131                        Volkswagen Polo + 2 Airbags  11.34 max. 16.00    \n",
       "132               Volkswagen Gol Trend 1.6 + 2 Airbags  10.01 max. 16.00    \n",
       "133              Volkswagen Gol Trend 1.6 - NO Airbags   5.75 max. 16.00    \n",
       "\n",
       "        Child occupant  \n",
       "0    12.65 max. 49.00   \n",
       "1    10.21 max. 49.00   \n",
       "2    37.02 max. 49.00   \n",
       "3    44.33 max. 49.00   \n",
       "4    42.33 max. 49.00   \n",
       "..                 ...  \n",
       "129  39.20 max. 49.00   \n",
       "130  35.82 max. 49.00   \n",
       "131  36.95 max. 49.00   \n",
       "132  21.16 max. 49.00   \n",
       "133  18.89 max. 49.00   \n",
       "\n",
       "[134 rows x 3 columns]"
      ]
     },
     "execution_count": 61,
     "metadata": {},
     "output_type": "execute_result"
    }
   ],
   "source": [
    "Data = pd.DataFrame(NCAP1_dict)\n",
    "Data"
   ]
  },
  {
   "cell_type": "code",
   "execution_count": 62,
   "id": "4a77b476",
   "metadata": {},
   "outputs": [
    {
     "data": {
      "text/html": [
       "<div>\n",
       "<style scoped>\n",
       "    .dataframe tbody tr th:only-of-type {\n",
       "        vertical-align: middle;\n",
       "    }\n",
       "\n",
       "    .dataframe tbody tr th {\n",
       "        vertical-align: top;\n",
       "    }\n",
       "\n",
       "    .dataframe thead th {\n",
       "        text-align: right;\n",
       "    }\n",
       "</style>\n",
       "<table border=\"1\" class=\"dataframe\">\n",
       "  <thead>\n",
       "    <tr style=\"text-align: right;\">\n",
       "      <th></th>\n",
       "      <th>Model</th>\n",
       "      <th>Grown_ups_occupant</th>\n",
       "      <th>Child occupant</th>\n",
       "    </tr>\n",
       "  </thead>\n",
       "  <tbody>\n",
       "    <tr>\n",
       "      <th>count</th>\n",
       "      <td>134</td>\n",
       "      <td>134</td>\n",
       "      <td>134</td>\n",
       "    </tr>\n",
       "    <tr>\n",
       "      <th>unique</th>\n",
       "      <td>128</td>\n",
       "      <td>113</td>\n",
       "      <td>125</td>\n",
       "    </tr>\n",
       "    <tr>\n",
       "      <th>top</th>\n",
       "      <td>Nissan March + 2 Airbags</td>\n",
       "      <td>0.00 max. 34.00</td>\n",
       "      <td>43.00 max. 49.00</td>\n",
       "    </tr>\n",
       "    <tr>\n",
       "      <th>freq</th>\n",
       "      <td>3</td>\n",
       "      <td>8</td>\n",
       "      <td>3</td>\n",
       "    </tr>\n",
       "  </tbody>\n",
       "</table>\n",
       "</div>"
      ],
      "text/plain": [
       "                           Model Grown_ups_occupant     Child occupant\n",
       "count                        134                134                134\n",
       "unique                       128                113                125\n",
       "top     Nissan March + 2 Airbags   0.00 max. 34.00   43.00 max. 49.00 \n",
       "freq                           3                  8                  3"
      ]
     },
     "execution_count": 62,
     "metadata": {},
     "output_type": "execute_result"
    }
   ],
   "source": [
    "Data.describe()"
   ]
  },
  {
   "cell_type": "code",
   "execution_count": 63,
   "id": "5b91c807",
   "metadata": {},
   "outputs": [
    {
     "data": {
      "text/html": [
       "<div>\n",
       "<style scoped>\n",
       "    .dataframe tbody tr th:only-of-type {\n",
       "        vertical-align: middle;\n",
       "    }\n",
       "\n",
       "    .dataframe tbody tr th {\n",
       "        vertical-align: top;\n",
       "    }\n",
       "\n",
       "    .dataframe thead th {\n",
       "        text-align: right;\n",
       "    }\n",
       "</style>\n",
       "<table border=\"1\" class=\"dataframe\">\n",
       "  <thead>\n",
       "    <tr style=\"text-align: right;\">\n",
       "      <th></th>\n",
       "      <th>Model</th>\n",
       "      <th>Date</th>\n",
       "      <th>Grown ups</th>\n",
       "      <th>Child</th>\n",
       "      <th>Pedestrian</th>\n",
       "      <th>Safety</th>\n",
       "    </tr>\n",
       "  </thead>\n",
       "  <tbody>\n",
       "    <tr>\n",
       "      <th>count</th>\n",
       "      <td>14</td>\n",
       "      <td>14</td>\n",
       "      <td>14</td>\n",
       "      <td>14</td>\n",
       "      <td>14</td>\n",
       "      <td>14</td>\n",
       "    </tr>\n",
       "    <tr>\n",
       "      <th>unique</th>\n",
       "      <td>14</td>\n",
       "      <td>5</td>\n",
       "      <td>13</td>\n",
       "      <td>12</td>\n",
       "      <td>12</td>\n",
       "      <td>7</td>\n",
       "    </tr>\n",
       "    <tr>\n",
       "      <th>top</th>\n",
       "      <td>Kia Sportage + 2 Airbags</td>\n",
       "      <td>December-2021</td>\n",
       "      <td>9%</td>\n",
       "      <td>0%</td>\n",
       "      <td>50%</td>\n",
       "      <td>7%</td>\n",
       "    </tr>\n",
       "    <tr>\n",
       "      <th>freq</th>\n",
       "      <td>1</td>\n",
       "      <td>7</td>\n",
       "      <td>2</td>\n",
       "      <td>2</td>\n",
       "      <td>2</td>\n",
       "      <td>8</td>\n",
       "    </tr>\n",
       "  </tbody>\n",
       "</table>\n",
       "</div>"
      ],
      "text/plain": [
       "                           Model                           Date Grown ups  \\\n",
       "count                         14                             14        14   \n",
       "unique                        14                              5        13   \n",
       "top     Kia Sportage + 2 Airbags          December-2021                9%   \n",
       "freq                           1                              7         2   \n",
       "\n",
       "       Child Pedestrian Safety  \n",
       "count     14         14     14  \n",
       "unique    12         12      7  \n",
       "top       0%        50%     7%  \n",
       "freq       2          2      8  "
      ]
     },
     "execution_count": 63,
     "metadata": {},
     "output_type": "execute_result"
    }
   ],
   "source": [
    "NCAP_df.describe()"
   ]
  },
  {
   "cell_type": "code",
   "execution_count": null,
   "id": "dd1ebcce",
   "metadata": {},
   "outputs": [],
   "source": []
  }
 ],
 "metadata": {
  "kernelspec": {
   "display_name": "Python 3 (ipykernel)",
   "language": "python",
   "name": "python3"
  },
  "language_info": {
   "codemirror_mode": {
    "name": "ipython",
    "version": 3
   },
   "file_extension": ".py",
   "mimetype": "text/x-python",
   "name": "python",
   "nbconvert_exporter": "python",
   "pygments_lexer": "ipython3",
   "version": "3.7.0"
  }
 },
 "nbformat": 4,
 "nbformat_minor": 5
}
